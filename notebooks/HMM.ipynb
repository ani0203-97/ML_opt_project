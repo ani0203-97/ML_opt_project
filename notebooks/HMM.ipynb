{
 "cells": [
  {
   "cell_type": "code",
   "execution_count": 13,
   "id": "2a23ff01",
   "metadata": {},
   "outputs": [],
   "source": [
    "using Random\n",
    "using Statistics\n",
    "using DataFrames\n",
    "using CSV\n",
    "using Plots\n",
    "using JuMP, Gurobi\n",
    "using GLMNet\n",
    "using MLBase\n",
    "using Pkg\n",
    "using Distributions\n",
    "using HMMBase\n",
    "using BenchmarkTools\n",
    "using Distances\n",
    "using EvalMetrics\n",
    "using LinearAlgebra"
   ]
  },
  {
   "cell_type": "code",
   "execution_count": 14,
   "id": "bc633441",
   "metadata": {},
   "outputs": [
    {
     "name": "stderr",
     "output_type": "stream",
     "text": [
      "\u001b[32m\u001b[1m   Resolving\u001b[22m\u001b[39m package versions...\n",
      "\u001b[32m\u001b[1m  No Changes\u001b[22m\u001b[39m to `~/.julia/environments/v1.6/Project.toml`\n",
      "\u001b[32m\u001b[1m  No Changes\u001b[22m\u001b[39m to `~/.julia/environments/v1.6/Manifest.toml`\n"
     ]
    }
   ],
   "source": [
    "using Pkg\n",
    "Pkg.add(\"EvalMetrics\")"
   ]
  },
  {
   "cell_type": "code",
   "execution_count": 15,
   "id": "0dd3d563",
   "metadata": {},
   "outputs": [
    {
     "name": "stdout",
     "output_type": "stream",
     "text": [
      "Academic license - for non-commercial use only - expires 2022-09-11\n"
     ]
    }
   ],
   "source": [
    "gurobi_env = Gurobi.Env() ; "
   ]
  },
  {
   "cell_type": "code",
   "execution_count": 16,
   "id": "74e9da50",
   "metadata": {},
   "outputs": [
    {
     "data": {
      "text/latex": [
       "$$ \\begin{alignat*}{1}\\text{feasibility}\\\\\n",
       "\\text{Subject to} \\quad\\end{alignat*}\n",
       " $$"
      ],
      "text/plain": [
       "A JuMP Model\n",
       "Feasibility problem with:\n",
       "Variables: 0\n",
       "Model mode: AUTOMATIC\n",
       "CachingOptimizer state: EMPTY_OPTIMIZER\n",
       "Solver name: Gurobi"
      ]
     },
     "execution_count": 16,
     "metadata": {},
     "output_type": "execute_result"
    }
   ],
   "source": [
    "model = Model(with_optimizer(Gurobi.Optimizer, gurobi_env))"
   ]
  },
  {
   "cell_type": "code",
   "execution_count": 17,
   "id": "2e4b9d36",
   "metadata": {},
   "outputs": [
    {
     "data": {
      "text/plain": [
       "MersenneTwister(15095)"
      ]
     },
     "execution_count": 17,
     "metadata": {},
     "output_type": "execute_result"
    }
   ],
   "source": [
    "Random.seed!(15095)"
   ]
  },
  {
   "cell_type": "code",
   "execution_count": 18,
   "id": "2b92c045",
   "metadata": {},
   "outputs": [],
   "source": [
    "## Define size of problem \n",
    "m = 10 ; #Number of states"
   ]
  },
  {
   "cell_type": "markdown",
   "id": "4c9d990b",
   "metadata": {},
   "source": [
    "### Define True HMM parameters and emission distributions"
   ]
  },
  {
   "cell_type": "code",
   "execution_count": 19,
   "id": "ce87e46d",
   "metadata": {},
   "outputs": [],
   "source": [
    "# Define True probabilities matrix\n",
    "pi_true = rand(Float64, m) ; \n",
    "pi_true = (pi_true)./(sum(pi_true)) ;  # So that initial probabilities sum to 1\n",
    "\n",
    "#Define State transition probabilities\n",
    "\n",
    "A_true = rand(Float64, (m,m)) ; \n",
    "for i =1:m\n",
    "   A_true[i,:]  = A_true[i,:]/(sum(A_true[i,:])) ;\n",
    "end"
   ]
  },
  {
   "cell_type": "code",
   "execution_count": 20,
   "id": "76b65758",
   "metadata": {},
   "outputs": [
    {
     "name": "stdout",
     "output_type": "stream",
     "text": [
      "True probabilities: \n"
     ]
    },
    {
     "data": {
      "text/plain": [
       "10-element Vector{Float64}:\n",
       " 0.07486090994046252\n",
       " 0.06630907995099644\n",
       " 0.04635497490858906\n",
       " 0.12989977210234596\n",
       " 0.07946431674890926\n",
       " 0.007701590683127249\n",
       " 0.03216603198044118\n",
       " 0.22843504422317773\n",
       " 0.2659854323941368\n",
       " 0.06882284706781369"
      ]
     },
     "execution_count": 20,
     "metadata": {},
     "output_type": "execute_result"
    }
   ],
   "source": [
    "println(\"True probabilities: \")\n",
    "pi_true"
   ]
  },
  {
   "cell_type": "code",
   "execution_count": 21,
   "id": "b3a1559b",
   "metadata": {},
   "outputs": [
    {
     "name": "stdout",
     "output_type": "stream",
     "text": [
      "State transition probabilities: \n"
     ]
    },
    {
     "data": {
      "text/plain": [
       "10×10 Matrix{Float64}:\n",
       " 0.0752931   0.1341      0.0197698  …  0.0199917  0.116939   0.131136\n",
       " 0.0850281   0.00812193  0.110777      0.140611   0.160813   0.102774\n",
       " 0.118604    0.0305247   0.0441062     0.0406136  0.0577275  0.11217\n",
       " 0.00860176  0.133947    0.124884      0.13774    0.108742   0.0446017\n",
       " 0.114674    0.100397    0.0918971     0.131533   0.127359   0.0111749\n",
       " 0.03043     0.148723    0.100613   …  0.0977629  0.14696    0.0136002\n",
       " 0.0678053   0.0963498   0.161962      0.0260425  0.137581   0.0375044\n",
       " 0.184826    0.00294772  0.125397      0.194892   0.0573867  0.0430482\n",
       " 0.135083    0.00606615  0.176531      0.0378103  0.0582549  0.194518\n",
       " 0.105152    0.0999984   0.0828344     0.0766694  0.173632   0.148507"
      ]
     },
     "execution_count": 21,
     "metadata": {},
     "output_type": "execute_result"
    }
   ],
   "source": [
    "println(\"State transition probabilities: \")\n",
    "A_true"
   ]
  },
  {
   "cell_type": "code",
   "execution_count": 22,
   "id": "0490a6c7",
   "metadata": {},
   "outputs": [],
   "source": [
    "k = 2 ;\n",
    "\n",
    "emission_dists = [Normal(0,1) , Normal(1*k,1) , Normal(2*k,1), Normal(3*k,1), Normal(4*k,1)\n",
    "                , Normal(5*k,1), Normal(6*k,1), Normal(7*k,1), Normal(8*k,1), Normal(9*k,1) ] ; "
   ]
  },
  {
   "cell_type": "code",
   "execution_count": 23,
   "id": "a8d646a4",
   "metadata": {},
   "outputs": [],
   "source": [
    "hmm = HMM(pi_true , A_true, emission_dists) ; "
   ]
  },
  {
   "cell_type": "markdown",
   "id": "3eadec28",
   "metadata": {},
   "source": [
    "#### Generate multiple sequences"
   ]
  },
  {
   "cell_type": "code",
   "execution_count": 24,
   "id": "4cdf55c4",
   "metadata": {},
   "outputs": [],
   "source": [
    "## Generate one sequence of 1000 timesteps\n",
    "seq_length = 1000 ; \n",
    "num_sequences = 20 ; \n",
    "\n",
    "\n",
    "S = zeros((num_sequences, seq_length)) ; \n",
    "X = zeros((num_sequences, seq_length)) ; \n",
    "\n",
    "for i =1:num_sequences\n",
    "    S[i,:] , X[i,:] = rand(hmm, seq_length, seq = true) ; \n",
    "end\n"
   ]
  },
  {
   "cell_type": "markdown",
   "id": "8d0d598d",
   "metadata": {},
   "source": [
    "### Define EM algorithm initializations and hyperparameters"
   ]
  },
  {
   "cell_type": "code",
   "execution_count": 25,
   "id": "ef59cc92",
   "metadata": {},
   "outputs": [],
   "source": [
    "## Initialize guesses\n",
    "\n",
    "pi_init = rand(Float64, m) ;  \n",
    "pi_init = (pi_init)./(sum(pi_init)) ;  # So that initial probabilities sum to 1\n",
    "\n",
    "\n",
    "#Define State transition probabilities\n",
    "\n",
    "A_init = rand(Float64, (m,m)) ; \n",
    "for i =1:m\n",
    "   A_init[i,:]  = A_init[i,:]/(sum(A_init[i,:])) ;\n",
    "end\n",
    "\n",
    "\n",
    "#Initial guess for robust delta(X)\n",
    "delta_X_init = zeros(size(X)) ; "
   ]
  },
  {
   "cell_type": "code",
   "execution_count": 26,
   "id": "2a28383a",
   "metadata": {},
   "outputs": [
    {
     "name": "stdout",
     "output_type": "stream",
     "text": [
      "Initial probabilities: \n"
     ]
    },
    {
     "data": {
      "text/plain": [
       "10-element Vector{Float64}:\n",
       " 0.09337126311566676\n",
       " 0.13008960499648123\n",
       " 0.0903743031576442\n",
       " 0.0368527173717776\n",
       " 0.13669754313436053\n",
       " 0.12923806151185907\n",
       " 0.11316055276641604\n",
       " 0.056188388928618625\n",
       " 0.07585790846187433\n",
       " 0.1381696565553015"
      ]
     },
     "execution_count": 26,
     "metadata": {},
     "output_type": "execute_result"
    }
   ],
   "source": [
    "println(\"Initial probabilities: \")\n",
    "pi_init"
   ]
  },
  {
   "cell_type": "code",
   "execution_count": 27,
   "id": "dc68d176",
   "metadata": {},
   "outputs": [
    {
     "name": "stdout",
     "output_type": "stream",
     "text": [
      "State transition probabilities: \n"
     ]
    },
    {
     "data": {
      "text/plain": [
       "10×10 Matrix{Float64}:\n",
       " 0.119182   0.0916132  0.145215    …  0.0452275   0.151424    0.120948\n",
       " 0.192092   0.0640587  0.00398755     0.036053    0.125179    0.0894101\n",
       " 0.140599   0.0378444  0.203763       0.199694    0.00892771  0.142407\n",
       " 0.0438746  0.0858752  0.15924        0.0845655   0.0858255   0.131774\n",
       " 0.110856   0.135899   0.160083       0.0711038   0.0407293   0.150869\n",
       " 0.115175   0.0554857  0.0432153   …  0.149235    0.089961    0.116349\n",
       " 0.185008   0.125405   0.0715968      0.151615    0.0904685   0.00362629\n",
       " 0.106545   0.0842589  0.117221       0.123764    0.121444    0.108599\n",
       " 0.120168   0.0522632  0.146165       0.00783045  0.106014    0.14683\n",
       " 0.16063    0.0921704  0.0609777      0.136268    0.024164    0.0335079"
      ]
     },
     "execution_count": 27,
     "metadata": {},
     "output_type": "execute_result"
    }
   ],
   "source": [
    "println(\"State transition probabilities: \")\n",
    "A_init"
   ]
  },
  {
   "cell_type": "code",
   "execution_count": 28,
   "id": "a43e5d0d",
   "metadata": {},
   "outputs": [],
   "source": [
    "## Define hyperparameters for algo\n",
    "\n",
    "r = 0.05 ; # Radius of uncertainty set to be used\n",
    "num_iters = 100 ; "
   ]
  },
  {
   "cell_type": "markdown",
   "id": "f66bd2a3",
   "metadata": {},
   "source": [
    "### Define EM algorithm functions"
   ]
  },
  {
   "cell_type": "code",
   "execution_count": 29,
   "id": "bb0f2206",
   "metadata": {},
   "outputs": [
    {
     "data": {
      "text/plain": [
       "baum_welch (generic function with 1 method)"
      ]
     },
     "execution_count": 29,
     "metadata": {},
     "output_type": "execute_result"
    }
   ],
   "source": [
    "## Start EM algorithm for multiple sequence training\n",
    "\n",
    "function baum_welch(X, pi_init, A_init, delta_X_init, emission_dists, num_iters)\n",
    "\n",
    "    pi_current = pi_init ; \n",
    "    A_current = A_init ; \n",
    "    delta_X_current = delta_X_init ; \n",
    "\n",
    "\n",
    "    ll_tracker = [] ; \n",
    "    ll_last = -1e+8 ;\n",
    "\n",
    "    for iter=1:num_iters\n",
    "\n",
    "        if (iter%10==0)\n",
    "            print(\"Running iteration number: \") ; \n",
    "            println(iter) ; \n",
    "        end\n",
    "\n",
    "        ## E-step - Compute α and β given current pi, A and delta_X\n",
    "\n",
    "        # For current iteration define HMM with current guesses of pi, A and delta_X \n",
    "\n",
    "        # Emission distribution is assumed to be known\n",
    "        hmm_current = HMM(pi_current , A_current, emission_dists) ; \n",
    "\n",
    "        # Using current estimate of worst possible delta_X to get α and β\n",
    "\n",
    "        alpha_current = zeros((size(X,1) , size(X,2), m)) ;  #alpha indexed as alpha[seq_num,t,i]\n",
    "        beta_current = zeros((size(X,1) , size(X,2), m)) ;  #beta[seq_num,t,i]\n",
    "\n",
    "\n",
    "        # Run forward-backward algorithm on all the sequences\n",
    "        for seq_num=1:size(X,1)    \n",
    "            alpha_current[seq_num,:,:], ll = forward(hmm_current, (X[seq_num,:]+delta_X_current[seq_num,:])) ;\n",
    "            beta_current[seq_num,:,:], ll = backward(hmm_current, (X[seq_num,:]+delta_X_current[seq_num,:])) ;\n",
    "        end\n",
    "\n",
    "\n",
    "        ## Multiply in sigma and -1 for ease in later computations\n",
    "\n",
    "        alpha_sigma_current = zeros(size(alpha_current)) ; \n",
    "        for i=1:m\n",
    "             alpha_sigma_current[:,:,i] = -(alpha_current[:,:,i])/(2*(emission_dists[i].σ)^2) ; \n",
    "        end\n",
    "\n",
    "\n",
    "        ##Track log-likelihood - of current parameters guess with the actual data \n",
    "\n",
    "        ll_tr = 0 \n",
    "        for seq_num=1:size(X,1)\n",
    "            alp_discard, ll_temp = forward(hmm_current, (X[seq_num,:]) ) ;\n",
    "            ll_tr = ll_tr + ll_temp\n",
    "        end\n",
    "\n",
    "        ll_tr = (1/size(X,1))*ll_tr ; \n",
    "\n",
    "        append!(ll_tracker, ll_tr) ; \n",
    "        print(\"Current log-likelihood: \") ; \n",
    "        println(ll_tr) ; \n",
    "\n",
    "#         if ((ll_tr - ll_last) < 1e-3)\n",
    "#              return pi_current, A_current\n",
    "#         end\n",
    "        \n",
    "        ll_last = ll_tr ; \n",
    "        \n",
    "        ## Define new quantities γ_ij(t) and ξ_ij(t) for each sequence\n",
    "\n",
    "        gamma_current = zeros((size(X,1), size(X,2) , m)) ; ## Indexed as γ[seq_num,t,i]\n",
    "        eta_current = zeros((size(X,1) , size(X,2)-1, m, m)) ;  # Indexed as ξ[seq_num,t,i,j]\n",
    "\n",
    "        # Fill in gamma vals\n",
    "        gamma_current = alpha_current.*beta_current ; \n",
    "\n",
    "        for seq_num=1:size(X,1)\n",
    "            for t=1:size(X,2)        \n",
    "                gamma_current[seq_num, t, :] = gamma_current[seq_num, t, :]./(sum(gamma_current[seq_num, t, :])) ;             \n",
    "            end\n",
    "        end\n",
    "\n",
    "        ## FIll in eta vals\n",
    "\n",
    "        for seq_num=1:size(X,1)\n",
    "            for i=1:m\n",
    "                for j=1:m\n",
    "                    for t=1:size(X,2)-1\n",
    "                        eta_current[seq_num,t,i,j] = alpha_current[seq_num,t,i]*A_current[i,j]*(pdf( emission_dists[j], (X[seq_num,t+1]+delta_X_current[seq_num,t+1]) ))*beta_current[seq_num, t+1,j]\n",
    "                    end\n",
    "                end\n",
    "            end\n",
    "        end\n",
    "\n",
    "        for seq_num=1:size(X,1)\n",
    "            for t=1:size(X,2)-1\n",
    "                 eta_current[seq_num,t,:,:] = eta_current[seq_num, t,:,:]/sum(eta_current[seq_num,t,:,:])  ;  \n",
    "            end\n",
    "        end\n",
    "\n",
    "    #     println(\"Computed necessary vals\")\n",
    "    #     println(size(eta_current))\n",
    "\n",
    "        ## Update parameter values \n",
    "\n",
    "        pi_next = zeros(size(pi_init)) ; \n",
    "        A_next = zeros(size(A_init)) ; \n",
    "\n",
    "        for seq_num=1:size(X,1)\n",
    "            pi_next = pi_next + gamma_current[seq_num, 1, :]\n",
    "        end\n",
    "        pi_next = pi_next./(size(X,1)) ; \n",
    "\n",
    "        for i=1:m\n",
    "            for j=1:m        \n",
    "                A_next[i,j] = sum(eta_current[:,:,i,j])/sum(gamma_current[:,1:size(X,2)-1,i]) ;                      \n",
    "            end\n",
    "        end\n",
    "\n",
    "\n",
    "        pi_current = pi_next ; \n",
    "        A_current = A_next ; \n",
    "\n",
    "    #     println(\"One loop over\")\n",
    "\n",
    "    end\n",
    "    return pi_current, A_current, ll_tracker\n",
    "end"
   ]
  },
  {
   "cell_type": "code",
   "execution_count": 163,
   "id": "2316e751",
   "metadata": {},
   "outputs": [
    {
     "data": {
      "text/plain": [
       "robust_baum_welch (generic function with 1 method)"
      ]
     },
     "execution_count": 163,
     "metadata": {},
     "output_type": "execute_result"
    }
   ],
   "source": [
    "## Start EM algorithm for multiple sequence training\n",
    "\n",
    "function robust_baum_welch(X, pi_init, A_init, delta_X_init, emission_dists, num_iters, r)\n",
    "\n",
    "    pi_current = pi_init ; \n",
    "    A_current = A_init ; \n",
    "    delta_X_current = delta_X_init ; \n",
    "\n",
    "\n",
    "    ll_tracker = [] ; \n",
    "    \n",
    "    \n",
    "    ll_last = -1e+8 ; \n",
    "\n",
    "    for iter=1:num_iters\n",
    "\n",
    "        if (iter%10==0)\n",
    "            print(\"Running iteration number: \") ; \n",
    "            println(iter) ; \n",
    "        end\n",
    "\n",
    "        ## E-step - Compute α and β given current pi, A and delta_X\n",
    "\n",
    "        # For current iteration define HMM with current guesses of pi, A and delta_X \n",
    "\n",
    "        # Emission distribution is assumed to be known\n",
    "        hmm_current = HMM(pi_current , A_current, emission_dists) ; \n",
    "\n",
    "        # Using current estimate of worst possible delta_X to get α and β\n",
    "\n",
    "        alpha_current = zeros((size(X,1) , size(X,2), m)) ;  #alpha indexed as alpha[seq_num,t,i]\n",
    "        beta_current = zeros((size(X,1) , size(X,2), m)) ;  #beta[seq_num,t,i]\n",
    "\n",
    "\n",
    "        # Run forward-backward algorithm on all the sequences\n",
    "        for seq_num=1:size(X,1)    \n",
    "            alpha_current[seq_num,:,:], ll = forward(hmm_current, (X[seq_num,:]+delta_X_current[seq_num,:])) ;\n",
    "            beta_current[seq_num,:,:], ll = backward(hmm_current, (X[seq_num,:]+delta_X_current[seq_num,:])) ;\n",
    "        end\n",
    "\n",
    "\n",
    "        ## Multiply in sigma and -1 for ease in later computations\n",
    "\n",
    "        alpha_sigma_current = zeros(size(alpha_current)) ; \n",
    "        for i=1:m\n",
    "             alpha_sigma_current[:,:,i] = -(alpha_current[:,:,i])/(2*(emission_dists[i].σ)^2) ; \n",
    "        end\n",
    "\n",
    "\n",
    "        ##Track log-likelihood - of current parameters guess with the actual data \n",
    "\n",
    "        ll_tr = 0 \n",
    "        for seq_num=1:size(X,1)\n",
    "            alp_discard, ll_temp = forward(hmm_current, (X[seq_num,:]) ) ;\n",
    "            ll_tr = ll_tr + ll_temp\n",
    "        end\n",
    "\n",
    "        ll_tr = (1/size(X,1))*ll_tr ; \n",
    "    \n",
    "        \n",
    "        append!(ll_tracker, ll_tr) ; \n",
    "        #print(\"Current log-likelihood: \") ; \n",
    "        #println(ll_tr) ; \n",
    "        #print(ll_last) ; \n",
    "    \n",
    "        \n",
    "#         if ((ll_tr - ll_last) < 1e-3)\n",
    "#              return pi_current, A_current\n",
    "#         end\n",
    "\n",
    "\n",
    "        \n",
    "        ll_last = ll_tr ; \n",
    "\n",
    "        ## M-step 1: Solve inner minimization problem to get best value of delta_X\n",
    "        ## Do this by solving minimization problem for each sequence one after another - It's the same thing for \n",
    "        ## Each sequence and they do no interact in any way!\n",
    "        for seq_num=1:size(X,1)\n",
    "\n",
    "            # Build model\n",
    "            model = Model(with_optimizer(Gurobi.Optimizer, gurobi_env, NonConvex = 2)) ; \n",
    "            set_optimizer_attribute(model, \"OutputFlag\", 0) ;\n",
    "\n",
    "            # Insert variables\n",
    "\n",
    "            #delta_x variables\n",
    "            @variable(model,delta_X[t=1:size(X,2)]) ; # If multivariate change this line\n",
    "            @variable(model,diff[t=1:size(X,2), i=1:m]) ;  # If multivariate change this line\n",
    "\n",
    "            #Insert constraints - For 1-D it is the same to use 1-norm or 2-norm will use linear constraints\n",
    "\n",
    "            @constraint(model,[i=1:size(X,2)], delta_X[i] <= r ) ;\n",
    "            @constraint(model,[i=1:size(X,2)], delta_X[i] >= -r ) ;\n",
    "            @constraint(model,[t=1:size(X,2), i=1:m], diff[t,i] == (X[seq_num, t] + delta_X[t] - emission_dists[i].μ )) ;\n",
    "\n",
    "\n",
    "            #Objective\n",
    "            @objective(model,Min, sum(alpha_sigma_current[seq_num,:,:].*beta_current[seq_num,:,:].*(diff.^2))) ;\n",
    "\n",
    "            # Optimize\n",
    "            optimize!(model)\n",
    "\n",
    "            delta_X_current[seq_num, :] = value.(delta_X) ;       \n",
    "        end\n",
    "\n",
    "        #println(\"Model optimization done!\")\n",
    "\n",
    "\n",
    "\n",
    "        ## M-step 2: Replace X by X+delta_X_current - Solve for pi_new, A_new\n",
    "\n",
    "        ## Re-compute α and β based on new delta? Not sure if to do or not - Can try both and \n",
    "        #see which gives good results\n",
    "\n",
    "        alpha_current = zeros((size(X,1) , size(X,2), m)) ;  #alpha indexed as alpha[seq_num,t,i]\n",
    "        beta_current = zeros((size(X,1) , size(X,2), m)) ;  #beta[seq_num,t,i]\n",
    "\n",
    "        # Run forward-backward algorithm on all the sequences\n",
    "        for seq_num=1:size(X,1)    \n",
    "            alpha_current[seq_num,:,:], ll = forward(hmm_current, (X[seq_num,:]+delta_X_current[seq_num,:])) ;\n",
    "            beta_current[seq_num,:,:], ll = backward(hmm_current, (X[seq_num,:]+delta_X_current[seq_num,:])) ;\n",
    "        end\n",
    "\n",
    "\n",
    "        ## Define new quantities γ_ij(t) and ξ_ij(t) for each sequence\n",
    "\n",
    "        gamma_current = zeros((size(X,1), size(X,2) , m)) ; ## Indexed as γ[seq_num,t,i]\n",
    "        eta_current = zeros((size(X,1) , size(X,2)-1, m, m)) ;  # Indexed as ξ[seq_num,t,i,j]\n",
    "\n",
    "        # Fill in gamma vals\n",
    "        gamma_current = alpha_current.*beta_current ; \n",
    "\n",
    "        for seq_num=1:size(X,1)\n",
    "            for t=1:size(X,2)        \n",
    "                gamma_current[seq_num, t, :] = gamma_current[seq_num, t, :]./(sum(gamma_current[seq_num, t, :])) ;             \n",
    "            end\n",
    "        end\n",
    "\n",
    "        ## FIll in eta vals\n",
    "\n",
    "        for seq_num=1:size(X,1)\n",
    "            for i=1:m\n",
    "                for j=1:m\n",
    "                    for t=1:size(X,2)-1\n",
    "                        eta_current[seq_num,t,i,j] = alpha_current[seq_num,t,i]*A_current[i,j]*(pdf( emission_dists[j], (X[seq_num,t+1]+delta_X_current[seq_num,t+1]) ))*beta_current[seq_num, t+1,j]\n",
    "                    end\n",
    "                end\n",
    "            end\n",
    "        end\n",
    "\n",
    "        for seq_num=1:size(X,1)\n",
    "            for t=1:size(X,2)-1\n",
    "                 eta_current[seq_num,t,:,:] = eta_current[seq_num, t,:,:]/sum(eta_current[seq_num,t,:,:])  ;  \n",
    "            end\n",
    "        end\n",
    "\n",
    "    #     println(\"Computed necessary vals\")\n",
    "    #     println(size(eta_current))\n",
    "\n",
    "        ## Update parameter values \n",
    "\n",
    "        pi_next = zeros(size(pi_init)) ; \n",
    "        A_next = zeros(size(A_init)) ; \n",
    "\n",
    "        for seq_num=1:size(X,1)\n",
    "            pi_next = pi_next + gamma_current[seq_num, 1, :]\n",
    "        end\n",
    "        pi_next = pi_next./(size(X,1)) ; \n",
    "\n",
    "        for i=1:m\n",
    "            for j=1:m        \n",
    "                A_next[i,j] = sum(eta_current[:,:,i,j])/sum(gamma_current[:,1:size(X,2)-1,i]) ;                      \n",
    "            end\n",
    "        end\n",
    "\n",
    "\n",
    "        pi_current = pi_next ; \n",
    "        A_current = A_next ; \n",
    "\n",
    "    #     println(\"One loop over\")\n",
    "\n",
    "    end\n",
    "    return pi_current, A_current, ll_tracker\n",
    "end\n",
    "\n"
   ]
  },
  {
   "cell_type": "code",
   "execution_count": 208,
   "id": "174d5643",
   "metadata": {},
   "outputs": [
    {
     "data": {
      "text/plain": [
       "optimistic_baum_welch (generic function with 1 method)"
      ]
     },
     "execution_count": 208,
     "metadata": {},
     "output_type": "execute_result"
    }
   ],
   "source": [
    "## Start EM algorithm for multiple sequence training\n",
    "\n",
    "function optimistic_baum_welch(X, pi_init, A_init, delta_X_init, emission_dists, num_iters, r)\n",
    "\n",
    "    pi_current = pi_init ; \n",
    "    A_current = A_init ; \n",
    "    delta_X_current = delta_X_init ; \n",
    "\n",
    "\n",
    "    ll_tracker = [] ; \n",
    "    \n",
    "    \n",
    "    ll_last = -1e+8 ; \n",
    "\n",
    "    for iter=1:num_iters\n",
    "\n",
    "        if (iter%10==0)\n",
    "            print(\"Running iteration number: \") ; \n",
    "            println(iter) ; \n",
    "        end\n",
    "\n",
    "        ## E-step - Compute α and β given current pi, A and delta_X\n",
    "\n",
    "        # For current iteration define HMM with current guesses of pi, A and delta_X \n",
    "\n",
    "        # Emission distribution is assumed to be known\n",
    "        hmm_current = HMM(pi_current , A_current, emission_dists) ; \n",
    "\n",
    "        # Using current estimate of worst possible delta_X to get α and β\n",
    "\n",
    "        alpha_current = zeros((size(X,1) , size(X,2), m)) ;  #alpha indexed as alpha[seq_num,t,i]\n",
    "        beta_current = zeros((size(X,1) , size(X,2), m)) ;  #beta[seq_num,t,i]\n",
    "\n",
    "\n",
    "        # Run forward-backward algorithm on all the sequences\n",
    "        for seq_num=1:size(X,1)    \n",
    "            alpha_current[seq_num,:,:], ll = forward(hmm_current, (X[seq_num,:]+delta_X_current[seq_num,:])) ;\n",
    "            beta_current[seq_num,:,:], ll = backward(hmm_current, (X[seq_num,:]+delta_X_current[seq_num,:])) ;\n",
    "        end\n",
    "\n",
    "\n",
    "        ## Multiply in sigma and -1 for ease in later computations\n",
    "\n",
    "        alpha_sigma_current = zeros(size(alpha_current)) ; \n",
    "        for i=1:m\n",
    "             alpha_sigma_current[:,:,i] = -(alpha_current[:,:,i])/(2*(emission_dists[i].σ)^2) ; \n",
    "        end\n",
    "\n",
    "\n",
    "        ##Track log-likelihood - of current parameters guess with the actual data \n",
    "\n",
    "        ll_tr = 0 \n",
    "        for seq_num=1:size(X,1)\n",
    "            alp_discard, ll_temp = forward(hmm_current, (X[seq_num,:]) ) ;\n",
    "            ll_tr = ll_tr + ll_temp\n",
    "        end\n",
    "\n",
    "        ll_tr = (1/size(X,1))*ll_tr ; \n",
    "    \n",
    "        \n",
    "        append!(ll_tracker, ll_tr) ; \n",
    "#         print(\"Current log-likelihood: \") ; \n",
    "#         println(ll_tr) ; \n",
    "        #print(ll_last) ; \n",
    "    \n",
    "        \n",
    "#         if ((ll_tr - ll_last) < 1e-3)\n",
    "#              return pi_current, A_current\n",
    "#         end\n",
    "\n",
    "\n",
    "        \n",
    "        ll_last = ll_tr ; \n",
    "\n",
    "        ## M-step 1: Solve inner minimization problem to get best value of delta_X\n",
    "        ## Do this by solving minimization problem for each sequence one after another - It's the same thing for \n",
    "        ## Each sequence and they do no interact in any way!\n",
    "        for seq_num=1:size(X,1)\n",
    "\n",
    "            # Build model\n",
    "            model = Model(with_optimizer(Gurobi.Optimizer, gurobi_env)) ; \n",
    "            set_optimizer_attribute(model, \"OutputFlag\", 0) ;\n",
    "\n",
    "            # Insert variables\n",
    "\n",
    "            #delta_x variables\n",
    "            @variable(model,delta_X[t=1:size(X,2)]) ; # If multivariate change this line\n",
    "            @variable(model,diff[t=1:size(X,2), i=1:m]) ;  # If multivariate change this line\n",
    "\n",
    "            #Insert constraints - For 1-D it is the same to use 1-norm or 2-norm will use linear constraints\n",
    "\n",
    "            @constraint(model,[i=1:size(X,2)], delta_X[i] <= r ) ;\n",
    "            @constraint(model,[i=1:size(X,2)], delta_X[i] >= -r ) ;\n",
    "            @constraint(model,[t=1:size(X,2), i=1:m], diff[t,i] == (X[seq_num, t] + delta_X[t] - emission_dists[i].μ )) ;\n",
    "\n",
    "\n",
    "            #Objective\n",
    "            @objective(model,Max, sum(alpha_sigma_current[seq_num,:,:].*beta_current[seq_num,:,:].*(diff.^2))) ;\n",
    "\n",
    "            # Optimize\n",
    "            optimize!(model)\n",
    "\n",
    "            delta_X_current[seq_num, :] = value.(delta_X) ;       \n",
    "        end\n",
    "\n",
    "        #println(\"Model optimization done!\")\n",
    "\n",
    "\n",
    "\n",
    "        ## M-step 2: Replace X by X+delta_X_current - Solve for pi_new, A_new\n",
    "\n",
    "        ## Re-compute α and β based on new delta? Not sure if to do or not - Can try both and \n",
    "        #see which gives good results\n",
    "\n",
    "        alpha_current = zeros((size(X,1) , size(X,2), m)) ;  #alpha indexed as alpha[seq_num,t,i]\n",
    "        beta_current = zeros((size(X,1) , size(X,2), m)) ;  #beta[seq_num,t,i]\n",
    "\n",
    "        # Run forward-backward algorithm on all the sequences\n",
    "        for seq_num=1:size(X,1)    \n",
    "            alpha_current[seq_num,:,:], ll = forward(hmm_current, (X[seq_num,:]+delta_X_current[seq_num,:])) ;\n",
    "            beta_current[seq_num,:,:], ll = backward(hmm_current, (X[seq_num,:]+delta_X_current[seq_num,:])) ;\n",
    "        end\n",
    "\n",
    "\n",
    "        ## Define new quantities γ_ij(t) and ξ_ij(t) for each sequence\n",
    "\n",
    "        gamma_current = zeros((size(X,1), size(X,2) , m)) ; ## Indexed as γ[seq_num,t,i]\n",
    "        eta_current = zeros((size(X,1) , size(X,2)-1, m, m)) ;  # Indexed as ξ[seq_num,t,i,j]\n",
    "\n",
    "        # Fill in gamma vals\n",
    "        gamma_current = alpha_current.*beta_current ; \n",
    "\n",
    "        for seq_num=1:size(X,1)\n",
    "            for t=1:size(X,2)        \n",
    "                gamma_current[seq_num, t, :] = gamma_current[seq_num, t, :]./(sum(gamma_current[seq_num, t, :])) ;             \n",
    "            end\n",
    "        end\n",
    "\n",
    "        ## FIll in eta vals\n",
    "\n",
    "        for seq_num=1:size(X,1)\n",
    "            for i=1:m\n",
    "                for j=1:m\n",
    "                    for t=1:size(X,2)-1\n",
    "                        eta_current[seq_num,t,i,j] = alpha_current[seq_num,t,i]*A_current[i,j]*(pdf( emission_dists[j], (X[seq_num,t+1]+delta_X_current[seq_num,t+1]) ))*beta_current[seq_num, t+1,j]\n",
    "                    end\n",
    "                end\n",
    "            end\n",
    "        end\n",
    "\n",
    "        for seq_num=1:size(X,1)\n",
    "            for t=1:size(X,2)-1\n",
    "                 eta_current[seq_num,t,:,:] = eta_current[seq_num, t,:,:]/sum(eta_current[seq_num,t,:,:])  ;  \n",
    "            end\n",
    "        end\n",
    "\n",
    "    #     println(\"Computed necessary vals\")\n",
    "    #     println(size(eta_current))\n",
    "\n",
    "        ## Update parameter values \n",
    "\n",
    "        pi_next = zeros(size(pi_init)) ; \n",
    "        A_next = zeros(size(A_init)) ; \n",
    "\n",
    "        for seq_num=1:size(X,1)\n",
    "            pi_next = pi_next + gamma_current[seq_num, 1, :]\n",
    "        end\n",
    "        pi_next = pi_next./(size(X,1)) ; \n",
    "\n",
    "        for i=1:m\n",
    "            for j=1:m        \n",
    "                A_next[i,j] = sum(eta_current[:,:,i,j])/sum(gamma_current[:,1:size(X,2)-1,i]) ;                      \n",
    "            end\n",
    "        end\n",
    "\n",
    "\n",
    "        pi_current = pi_next ; \n",
    "        A_current = A_next ; \n",
    "\n",
    "    #     println(\"One loop over\")\n",
    "\n",
    "    end\n",
    "    return pi_current, A_current, ll_tracker\n",
    "end\n",
    "\n",
    "\n"
   ]
  },
  {
   "cell_type": "code",
   "execution_count": 33,
   "id": "862d2243",
   "metadata": {},
   "outputs": [
    {
     "data": {
      "text/plain": [
       "40"
      ]
     },
     "execution_count": 33,
     "metadata": {},
     "output_type": "execute_result"
    }
   ],
   "source": [
    "num_iters = 40"
   ]
  },
  {
   "cell_type": "code",
   "execution_count": 45,
   "id": "b6318695",
   "metadata": {
    "scrolled": true
   },
   "outputs": [
    {
     "name": "stdout",
     "output_type": "stream",
     "text": [
      "Current log-likelihood: -3119.846310717446\n",
      "Current log-likelihood: -3043.3314971862455\n",
      "Current log-likelihood: -3025.0196638652615\n",
      "Current log-likelihood: -3016.5316267114526\n",
      "Current log-likelihood: -3011.9098513592953\n",
      "Current log-likelihood: -3009.1290409987164\n",
      "Current log-likelihood: -3007.3017245468673\n",
      "Current log-likelihood: -3006.0266230853003\n",
      "Current log-likelihood: -3005.0815573690506\n",
      "Running iteration number: 10\n",
      "Current log-likelihood: -3004.376257969454\n",
      "Current log-likelihood: -3003.818543147768\n",
      "Current log-likelihood: -3003.380147009155\n",
      "Current log-likelihood: -3003.0298696746904\n",
      "Current log-likelihood: -3002.748430705276\n",
      "Current log-likelihood: -3002.518165037167\n",
      "Current log-likelihood: -3002.331453969042\n",
      "Current log-likelihood: -3002.175789068484\n",
      "Current log-likelihood: -3002.0478157174216\n",
      "Current log-likelihood: -3001.9395792967134\n",
      "Running iteration number: 20\n",
      "Current log-likelihood: -3001.849907739719\n",
      "Current log-likelihood: -3001.7728359445555\n",
      "Current log-likelihood: -3001.708456885841\n",
      "Current log-likelihood: -3001.651657194934\n",
      "Current log-likelihood: -3001.605054400899\n",
      "Current log-likelihood: -3001.562948143986\n"
     ]
    },
    {
     "data": {
      "text/plain": [
       "([0.04999926679916111, 1.638469724915356e-6, 4.149325203445562e-7, 0.13163449017264878, 0.0974023009864676, 0.06817860224822266, 0.017047836274403073, 0.1824371890449663, 0.31681750153453236, 0.13648075953735286], [0.07924420129100972 0.12405305958230471 … 0.11197431683084959 0.11055682481982165; 0.07554368413800505 0.03773410407278053 … 0.17932643427374376 0.09160622481802054; … ; 0.14232834957099583 0.010064460574151293 … 0.06962234954508903 0.1861526097799557; 0.11383566714179431 0.11567120183719239 … 0.14267012356907194 0.14716774330895901], Any[-3119.846310717446, -3043.3314971862455, -3025.0196638652615, -3016.5316267114526, -3011.9098513592953, -3009.1290409987164, -3007.3017245468673, -3006.0266230853003, -3005.0815573690506, -3004.376257969454  …  -3002.331453969042, -3002.175789068484, -3002.0478157174216, -3001.9395792967134, -3001.849907739719, -3001.7728359445555, -3001.708456885841, -3001.651657194934, -3001.605054400899, -3001.562948143986])"
      ]
     },
     "execution_count": 45,
     "metadata": {},
     "output_type": "execute_result"
    }
   ],
   "source": [
    "Pr,Ar,Lr = robust_baum_welch(X, pi_init, A_init, delta_X_init, emission_dists, num_iters, r)"
   ]
  },
  {
   "cell_type": "code",
   "execution_count": 46,
   "id": "c915e94c",
   "metadata": {
    "scrolled": true
   },
   "outputs": [
    {
     "name": "stdout",
     "output_type": "stream",
     "text": [
      "Current log-likelihood: -3119.846310717446\n",
      "Current log-likelihood: -3047.894016980942\n",
      "Current log-likelihood: -3029.25027010739\n",
      "Current log-likelihood: -3020.324945560498\n",
      "Current log-likelihood: -3015.160878736591\n",
      "Current log-likelihood: -3011.882997815117\n",
      "Current log-likelihood: -3009.6588408221232\n",
      "Current log-likelihood: -3008.065868850079\n",
      "Current log-likelihood: -3006.8743527316974\n",
      "Running iteration number: 10\n",
      "Current log-likelihood: -3005.9520269675154\n",
      "Current log-likelihood: -3005.2187617283316\n",
      "Current log-likelihood: -3004.623895794936\n",
      "Current log-likelihood: -3004.134118142398\n",
      "Current log-likelihood: -3003.7265822860045\n",
      "Current log-likelihood: -3003.384885109477\n",
      "Current log-likelihood: -3003.0967261835995\n",
      "Current log-likelihood: -3002.8525571407245\n",
      "Current log-likelihood: -3002.6447909444246\n",
      "Current log-likelihood: -3002.467313329636\n",
      "Running iteration number: 20\n",
      "Current log-likelihood: -3002.315155035734\n",
      "Current log-likelihood: -3002.1842538731266\n",
      "Current log-likelihood: -3002.0712727861487\n",
      "Current log-likelihood: -3001.973457269165\n",
      "Current log-likelihood: -3001.888522719645\n",
      "Current log-likelihood: -3001.814565308771\n"
     ]
    },
    {
     "data": {
      "text/plain": [
       "([0.04999568205446603, 5.286763677615778e-6, 5.360940410866922e-7, 0.13305117573763853, 0.09602068838515536, 0.0669978338047627, 0.02097302831809614, 0.17812519281428124, 0.31889572770933056, 0.1359348483185508], [0.07999749828001716 0.12218553443337389 … 0.11075978758026889 0.11063944276004924; 0.07392344615715823 0.041387711275657144 … 0.18276442502275636 0.09164884762105018; … ; 0.14332905543699068 0.01051383121211251 … 0.07099195319506556 0.18557077434923727; 0.113233334691821 0.11604489026739885 … 0.14195992133856497 0.1474178744668163], Any[-3119.846310717446, -3047.894016980942, -3029.25027010739, -3020.324945560498, -3015.160878736591, -3011.882997815117, -3009.6588408221232, -3008.065868850079, -3006.8743527316974, -3005.9520269675154  …  -3003.0967261835995, -3002.8525571407245, -3002.6447909444246, -3002.467313329636, -3002.315155035734, -3002.1842538731266, -3002.0712727861487, -3001.973457269165, -3001.888522719645, -3001.814565308771])"
      ]
     },
     "execution_count": 46,
     "metadata": {},
     "output_type": "execute_result"
    }
   ],
   "source": [
    "P,A,L = baum_welch(X, pi_init, A_init, delta_X_init, emission_dists, num_iters)"
   ]
  },
  {
   "cell_type": "code",
   "execution_count": 47,
   "id": "cd03da7c",
   "metadata": {
    "scrolled": true
   },
   "outputs": [
    {
     "name": "stdout",
     "output_type": "stream",
     "text": [
      "Current log-likelihood: -3119.846310717446\n",
      "Current log-likelihood: -3048.536195394002\n",
      "Current log-likelihood: -3029.4149217472714\n",
      "Current log-likelihood: -3020.051303970967\n",
      "Current log-likelihood: -3014.522335898313\n",
      "Current log-likelihood: -3010.918399674008\n",
      "Current log-likelihood: -3008.44131758833\n",
      "Current log-likelihood: -3006.6732154123747\n",
      "Current log-likelihood: -3005.371496093181\n",
      "Running iteration number: 10\n",
      "Current log-likelihood: -3004.3934167182615\n",
      "Current log-likelihood: -3003.6475495874042\n",
      "Current log-likelihood: -3003.0727021066004\n",
      "Current log-likelihood: -3002.627431644043\n",
      "Current log-likelihood: -3002.2805359241534\n",
      "Current log-likelihood: -3002.011750265858\n",
      "Current log-likelihood: -3001.804883890498\n",
      "Current log-likelihood: -3001.6459663011988\n",
      "Current log-likelihood: -3001.524572911736\n",
      "Current log-likelihood: -3001.432212243448\n",
      "Running iteration number: 20\n",
      "Current log-likelihood: -3001.3615659647003\n",
      "Current log-likelihood: -3001.3070841624312\n",
      "Current log-likelihood: -3001.264209243957\n",
      "Current log-likelihood: -3001.2300269257707\n",
      "Current log-likelihood: -3001.2022754823383\n",
      "Current log-likelihood: -3001.1792665017924\n"
     ]
    },
    {
     "data": {
      "text/plain": [
       "([0.05000034812586559, 5.81007040338891e-8, 1.3125983261493437e-10, 0.15533826592949765, 0.07214781758980288, 0.07308367266561888, 0.0011789360424729251, 0.17820890863501918, 0.3402449772105788, 0.12979701556918033], [0.07071251355629296 0.1440277046509251 … 0.1195081280033512 0.10922514214934044; 0.07915598796593278 0.0296665173330697 … 0.20589755047607586 0.07784980948879335; … ; 0.1416347071165104 0.0025983971483578895 … 0.06294684562227956 0.1996155705111687; 0.10850290386265489 0.12756822903906695 … 0.1557850160158796 0.1418984028238894], Any[-3119.846310717446, -3048.536195394002, -3029.4149217472714, -3020.051303970967, -3014.522335898313, -3010.918399674008, -3008.44131758833, -3006.6732154123747, -3005.371496093181, -3004.3934167182615  …  -3001.804883890498, -3001.6459663011988, -3001.524572911736, -3001.432212243448, -3001.3615659647003, -3001.3070841624312, -3001.264209243957, -3001.2300269257707, -3001.2022754823383, -3001.1792665017924])"
      ]
     },
     "execution_count": 47,
     "metadata": {},
     "output_type": "execute_result"
    }
   ],
   "source": [
    "Po,Ao,Lo = optimistic_baum_welch(X, pi_init, A_init, delta_X_init, emission_dists, num_iters, r)"
   ]
  },
  {
   "cell_type": "code",
   "execution_count": 34,
   "id": "8b7f8019",
   "metadata": {},
   "outputs": [
    {
     "data": {
      "text/plain": [
       "eval_param_ests (generic function with 1 method)"
      ]
     },
     "execution_count": 34,
     "metadata": {},
     "output_type": "execute_result"
    }
   ],
   "source": [
    "## Get KL divergence between pi_true and pi_est\n",
    "## Get KL divergence between each row of A_true with corresponding row of A_est\n",
    "## Get average KL divergence across all rows of A_true with A_est\n",
    "\n",
    "# D(true||estimate)\n",
    "\n",
    "function eval_param_ests(A_true, pi_true, A_est, pi_est)\n",
    "    pi_kl1 = kldivergence(pi_true , pi_est) ; \n",
    "    pi_kl2 = kldivergence(pi_est, pi_true) ; \n",
    "    \n",
    "    A_kl1 = zeros(size(A_true, 1)) ; \n",
    "    A_kl2 = zeros(size(A_true, 1)) ; \n",
    "    \n",
    "    for i=1:size(A_true, 1)\n",
    "        A_kl1[i] = kldivergence(A_true[i,:], A_est[i,:])\n",
    "        A_kl2[i] = kldivergence(A_est[i,:], A_true[i,:])\n",
    "    end\n",
    "    \n",
    "    return pi_kl1, pi_kl2, sum(A_kl1)/size(A_true,1), sum(A_kl2)/size(A_true,1)\n",
    "    \n",
    "    \n",
    "end\n",
    "\n",
    "\n"
   ]
  },
  {
   "cell_type": "code",
   "execution_count": 35,
   "id": "9b951317",
   "metadata": {},
   "outputs": [
    {
     "data": {
      "text/plain": [
       "conf_matrix (generic function with 1 method)"
      ]
     },
     "execution_count": 35,
     "metadata": {},
     "output_type": "execute_result"
    }
   ],
   "source": [
    "function conf_matrix(target_vec, pred_vec, m)\n",
    "    conf_mat = zeros((m,m))\n",
    "    for i=1:size(target_vec,1)\n",
    "         conf_mat[Int(target_vec[i]), Int(pred_vec[i])] = conf_mat[Int(target_vec[i]), Int(pred_vec[i])] + 1 ;\n",
    "    end\n",
    "    return conf_mat\n",
    "end"
   ]
  },
  {
   "cell_type": "code",
   "execution_count": 36,
   "id": "812ceb38",
   "metadata": {},
   "outputs": [
    {
     "data": {
      "text/plain": [
       "eval_state_ests (generic function with 1 method)"
      ]
     },
     "execution_count": 36,
     "metadata": {},
     "output_type": "execute_result"
    }
   ],
   "source": [
    "## Write function to --> \n",
    "#Inputs - X, S_true, pi, A \n",
    "# Estimate S given pi, A --> \n",
    "# Output confusion matrix based on true states and guessed states\n",
    "## Output Estimated state matrix and confusion matrix\n",
    "\n",
    "function eval_state_ests(X, S_true, pi, A, emission_dists)\n",
    "    hmm_est = HMM(pi , A, emission_dists)\n",
    "    S_est = zeros(size(S_true)) ; \n",
    "    conf_mat = zeros(size(A)) ; \n",
    "    \n",
    "    for i=1:size(X,1)\n",
    "        S_est[i,:] = viterbi(hmm_est, X[i,:]) ;\n",
    "        conf_mat = conf_mat + conf_matrix(S_true[i,:] , S_est[i,:] , size(A,1))\n",
    "    end\n",
    "    \n",
    "    return S_est, conf_mat\n",
    "\n",
    "end\n",
    "\n"
   ]
  },
  {
   "cell_type": "markdown",
   "id": "b195065c",
   "metadata": {},
   "source": [
    "1. We have\n",
    "    1. Evaluate parameter estimates against true parameters\n",
    "    2. Decode HMM using all sets of parameters - and get accuracy of decoded states with respect to the true states\n",
    "    \n",
    "2. Data we have\n",
    "    1. Train data - 10 sequences \n",
    "        1. S_true, X_orig = Generated using pi_true and A_true\n",
    "        2. X_orig + Noise (zero mean variance = [0,0.01, 0.1, 1])\n",
    "    2. Test data - 1 sequence\n",
    "        1. X_orig_test = Generated using pi_true and A_true\n",
    "        2. X_orig + Noise (zero mean variance = [0,0.01, 0.1, 1])\n",
    "        \n",
    "3. Experiments to do - For each train data set of sequences\n",
    "    1. Do parameter estimation using\n",
    "        1. Regular EM\n",
    "        2. Robust EM with varying r\n",
    "        3. Optimistic EM with varying r\n",
    "        \n",
    "    2. Evaluation:\n",
    "        1. Compare estimated paramaters wrt true parameters\n",
    "        2. Decode train sequence - with true parameters\n",
    "        3. Decode train sequence with all the estimated parameters\n",
    "            1. Compare each with true sequence\n",
    "        4. Decode test sequence - with true parameters\n",
    "        5. Decode test sequence with all the estimated parameters\n",
    "            1. Compare each with test sequence\n",
    "\n"
   ]
  },
  {
   "cell_type": "markdown",
   "id": "956821d6",
   "metadata": {},
   "source": [
    "## Some preliminary tests"
   ]
  },
  {
   "cell_type": "code",
   "execution_count": 99,
   "id": "909b4216",
   "metadata": {},
   "outputs": [],
   "source": [
    "A_T = [0.29778560911054225 0.13544487012366083 0.3604481008164021 0.13238372924911454 0.07393769070028032; 0.056989124095932445 0.09324406686115916 0.40251043012728044 0.11816783668377405 0.3290885422318539; 0.13927226693759806 0.27970224273576827 0.19746392245773273 0.1845472458602735 0.19901432200862743; 0.21693169962458078 0.2182901076722709 0.1921400612288617 0.24465165790282975 0.1279864735714569; 0.18454532108327124 0.05632159948828856 0.26480731721188605 0.23413707374892295 0.2601886884676312]\n",
    "pi_T = [0.20787184793908514, 0.23893628208513792, 0.26064943402664353, 0.022544860169927333, 0.2699975757792061] ; "
   ]
  },
  {
   "cell_type": "code",
   "execution_count": null,
   "id": "45fe709b",
   "metadata": {},
   "outputs": [],
   "source": []
  },
  {
   "cell_type": "markdown",
   "id": "a371ee40",
   "metadata": {},
   "source": [
    "### Noise = 0.1"
   ]
  },
  {
   "cell_type": "code",
   "execution_count": 95,
   "id": "58a271a1",
   "metadata": {},
   "outputs": [],
   "source": [
    "## Read in some data\n",
    "X_no = Matrix(DataFrame(CSV.read(\"Saved_Params/r-0.0_noise-0.1_X.csv\", DataFrame))) ; \n",
    "\n",
    "A_em = Matrix(DataFrame(CSV.read(\"Saved_Params/r-0.0_noise-0.1_A.csv\", DataFrame))) ; \n",
    "pi_em = Matrix(DataFrame(CSV.read(\"Saved_Params/r-0.0_noise-0.1_pi.csv\", DataFrame)))[:,1] ; \n",
    "\n",
    "\n",
    "A_rob1 = Matrix(DataFrame(CSV.read(\"Saved_Params/r-0.01_noise-0.1_A.csv\", DataFrame))) ; \n",
    "pi_rob1 = Matrix(DataFrame(CSV.read(\"Saved_Params/r-0.01_noise-0.1_pi.csv\", DataFrame)))[:,1] ; \n",
    "\n",
    "\n",
    "A_rob2 = Matrix(DataFrame(CSV.read(\"Saved_Params/r-0.1_noise-0.1_A.csv\", DataFrame))) ; \n",
    "pi_rob2 = Matrix(DataFrame(CSV.read(\"Saved_Params/r-0.1_noise-0.1_pi.csv\", DataFrame)))[:,1] ; \n",
    "\n",
    "A_rob3 = Matrix(DataFrame(CSV.read(\"Saved_Params/r-0.5_noise-0.1_A.csv\", DataFrame))) ; \n",
    "pi_rob3 = Matrix(DataFrame(CSV.read(\"Saved_Params/r-0.5_noise-0.1_pi.csv\", DataFrame)))[:,1] ; \n",
    "\n",
    "#### Optimitic #######\n",
    "\n",
    "A_opt1 = Matrix(DataFrame(CSV.read(\"Optimistic/r-0.01_noise-0.1_A.csv\", DataFrame))) ; \n",
    "pi_opt1 = Matrix(DataFrame(CSV.read(\"Optimistic/r-0.01_noise-0.1_pi.csv\", DataFrame)))[:,1] ; \n",
    "\n",
    "A_opt2 = Matrix(DataFrame(CSV.read(\"Optimistic/r-0.1_noise-0.1_A.csv\", DataFrame))) ; \n",
    "pi_opt2 = Matrix(DataFrame(CSV.read(\"Optimistic/r-0.1_noise-0.1_pi.csv\", DataFrame)))[:,1] ; \n",
    "\n",
    "A_opt3 = Matrix(DataFrame(CSV.read(\"Optimistic/r-0.5_noise-0.1_A.csv\", DataFrame))) ; \n",
    "pi_opt3 = Matrix(DataFrame(CSV.read(\"Optimistic/r-0.5_noise-0.1_pi.csv\", DataFrame)))[:,1] ; \n",
    "\n",
    "\n",
    "\n",
    "\n"
   ]
  },
  {
   "cell_type": "code",
   "execution_count": 100,
   "id": "5a6ea47e",
   "metadata": {},
   "outputs": [
    {
     "name": "stdout",
     "output_type": "stream",
     "text": [
      "kl(pi_true||pi_est) , kl(pi_est||pi_true) , mean(kl(A_true[r]||A_est[r])) , mean(kl(A_est[r]||A_true[r]))\n",
      "Regular EM\n",
      "(5.248430558516643, 0.5822538512665225, 0.015141032754393388, 0.01511053453507279)\n",
      "Robust EM, r=0.01\n",
      "(2.9570333914737774, 0.5651818326443931, 0.012450430298211147, 0.012568038257414215)\n",
      "Robust EM, r=0.1\n",
      "(1.9788317340361168, 0.5676172007577037, 0.012758425144230173, 0.01329178164587209)\n",
      "Robust EM, r=0.5\n",
      "(0.1605903982100942, 0.14818417872220918, 0.020720844893010737, 0.021705775092624176)\n",
      "Optimistic EM, r=0.01\n",
      "(5.35685835657805, 0.5871680727324844, 0.014687989404237883, 0.014674302668690308)\n",
      "Optimistic EM, r=0.1\n",
      "(1.508149698351731, 0.5376516037304485, 0.012689297647659682, 0.013298266673163186)\n",
      "Optimistic EM, r=0.5\n",
      "(0.17666814281593385, 0.168000051495044, 0.02451128515187821, 0.025160254889958607)\n"
     ]
    }
   ],
   "source": [
    "println(\"kl(pi_true||pi_est) , kl(pi_est||pi_true) , mean(kl(A_true[r]||A_est[r])) , mean(kl(A_est[r]||A_true[r]))\")\n",
    "\n",
    "println(\"Regular EM\")\n",
    "println(eval_param_ests(A_T, pi_T, A_em, pi_em)) ; \n",
    "\n",
    "println(\"Robust EM, r=0.01\")\n",
    "println(eval_param_ests(A_T, pi_T, A_rob1, pi_rob1)) ; \n",
    "\n",
    "println(\"Robust EM, r=0.1\")\n",
    "println(eval_param_ests(A_T, pi_T, A_rob2, pi_rob2)) ; \n",
    "\n",
    "println(\"Robust EM, r=0.5\")\n",
    "println(eval_param_ests(A_T, pi_T, A_rob3, pi_rob3)) ; \n",
    "\n",
    "\n",
    "println(\"Optimistic EM, r=0.01\")\n",
    "println(eval_param_ests(A_T, pi_T, A_opt1, pi_opt1)) ; \n",
    "println(\"Optimistic EM, r=0.1\")\n",
    "println(eval_param_ests(A_T, pi_T, A_opt2, pi_opt2)) ; \n",
    "println(\"Optimistic EM, r=0.5\")\n",
    "println(eval_param_ests(A_T, pi_T, A_opt3, pi_opt3)) ; \n"
   ]
  },
  {
   "cell_type": "code",
   "execution_count": 102,
   "id": "deab67f3",
   "metadata": {},
   "outputs": [],
   "source": [
    "S = Matrix(DataFrame(CSV.read(\"Saved_Params/true_s.csv\", DataFrame))) ; "
   ]
  },
  {
   "cell_type": "code",
   "execution_count": 103,
   "id": "125a322c",
   "metadata": {},
   "outputs": [],
   "source": [
    "S_best, conf_mat_best = eval_state_ests(X_noisy, S, pi_true, A_true, emission_dists[1:5]) ; \n",
    "\n",
    "S_em, conf_mat_em = eval_state_ests(X_noisy, S, pi_em, A_em, emission_dists[1:5]) ; \n",
    "\n",
    "S_rob1, conf_mat_rob1 = eval_state_ests(X_noisy, S, pi_rob1, A_rob1, emission_dists[1:5]) ; \n",
    "S_rob2, conf_mat_rob2 = eval_state_ests(X_noisy, S, pi_rob1, A_rob2, emission_dists[1:5]) ; \n",
    "S_rob3, conf_mat_rob3 = eval_state_ests(X_noisy, S, pi_rob1, A_rob3, emission_dists[1:5]) ; \n",
    "\n",
    "S_opt1, conf_mat_opt1 = eval_state_ests(X_noisy, S, pi_opt1, A_opt1, emission_dists[1:5]) ; \n",
    "S_opt2, conf_mat_opt2 = eval_state_ests(X_noisy, S, pi_opt1, A_opt2, emission_dists[1:5]) ; \n",
    "S_opt3, conf_mat_opt3 = eval_state_ests(X_noisy, S, pi_opt1, A_opt3, emission_dists[1:5]) ; \n"
   ]
  },
  {
   "cell_type": "code",
   "execution_count": 105,
   "id": "7e731957",
   "metadata": {},
   "outputs": [
    {
     "name": "stdout",
     "output_type": "stream",
     "text": [
      "State decoding accuracy: True parameters\n",
      "0.7754\n",
      "State decoding accuracy: EM parameters\n",
      "0.7654\n",
      "State decoding accuracy: Robust EM parameters: r=0.01\n",
      "0.7656\n",
      "State decoding accuracy: Robust EM parameters: r=0.1\n",
      "0.7698\n",
      "State decoding accuracy: Robust EM parameters: r=0.5\n",
      "0.7716\n",
      "State decoding accuracy: Optimistic EM parameters: r=0.01\n",
      "0.7664\n",
      "State decoding accuracy: Optimistic EM parameters: r=0.1\n",
      "0.7702\n",
      "State decoding accuracy: Optimistic EM parameters: r=0.5\n",
      "0.7736\n"
     ]
    }
   ],
   "source": [
    "println(\"State decoding accuracy: True parameters\")\n",
    "println(tr(conf_mat_best)/sum(conf_mat_best)) ; \n",
    "\n",
    "println(\"State decoding accuracy: EM parameters\")\n",
    "println(tr(conf_mat_em)/sum(conf_mat_em)) ; \n",
    "\n",
    "println(\"State decoding accuracy: Robust EM parameters: r=0.01\")\n",
    "println(tr(conf_mat_rob1)/sum(conf_mat_rob1)) ; \n",
    "\n",
    "println(\"State decoding accuracy: Robust EM parameters: r=0.1\")\n",
    "println(tr(conf_mat_rob2)/sum(conf_mat_rob2)) ;\n",
    "\n",
    "println(\"State decoding accuracy: Robust EM parameters: r=0.5\")\n",
    "println(tr(conf_mat_rob3)/sum(conf_mat_rob3)) ;\n",
    "\n",
    "\n",
    "\n",
    "\n",
    "\n",
    "\n",
    "println(\"State decoding accuracy: Optimistic EM parameters: r=0.01\")\n",
    "println(tr(conf_mat_opt1)/sum(conf_mat_opt1)) ;\n",
    "\n",
    "println(\"State decoding accuracy: Optimistic EM parameters: r=0.1\")\n",
    "println(tr(conf_mat_opt2)/sum(conf_mat_opt2)) ;\n",
    "\n",
    "println(\"State decoding accuracy: Optimistic EM parameters: r=0.5\")\n",
    "println(tr(conf_mat_opt3)/sum(conf_mat_opt3)) ;\n",
    "\n",
    "\n"
   ]
  },
  {
   "cell_type": "markdown",
   "id": "1850cd63",
   "metadata": {},
   "source": [
    "## Noise = 0.7"
   ]
  },
  {
   "cell_type": "code",
   "execution_count": 107,
   "id": "96aed68b",
   "metadata": {},
   "outputs": [],
   "source": [
    "## Read in some data\n",
    "X_noisy = Matrix(DataFrame(CSV.read(\"Saved_Params/r-0.0_noise-0.7_X.csv\", DataFrame))) ; \n",
    "\n",
    "A_em = Matrix(DataFrame(CSV.read(\"Saved_Params/r-0.0_noise-0.7_A.csv\", DataFrame))) ; \n",
    "pi_em = Matrix(DataFrame(CSV.read(\"Saved_Params/r-0.0_noise-0.7_pi.csv\", DataFrame)))[:,1] ; \n",
    "\n",
    "A_rob1 = Matrix(DataFrame(CSV.read(\"Saved_Params/r-0.01_noise-0.7_A.csv\", DataFrame))) ; \n",
    "pi_rob1 = Matrix(DataFrame(CSV.read(\"Saved_Params/r-0.01_noise-0.7_pi.csv\", DataFrame)))[:,1] ; \n",
    "\n",
    "# A_rob2 = Matrix(DataFrame(CSV.read(\"Saved_Params/r-0.05_noise-0.1_A.csv\", DataFrame))) ; \n",
    "# pi_rob2 = Matrix(DataFrame(CSV.read(\"Saved_Params/r-0.05_noise-0.1_pi.csv\", DataFrame))) ; \n",
    "\n",
    "A_rob2 = Matrix(DataFrame(CSV.read(\"Saved_Params/r-0.1_noise-0.7_A.csv\", DataFrame))) ; \n",
    "pi_rob2 = Matrix(DataFrame(CSV.read(\"Saved_Params/r-0.1_noise-0.7_pi.csv\", DataFrame)))[:,1] ; \n",
    "\n",
    "A_rob3 = Matrix(DataFrame(CSV.read(\"Saved_Params/r-0.5_noise-0.7_A.csv\", DataFrame))) ; \n",
    "pi_rob3 = Matrix(DataFrame(CSV.read(\"Saved_Params/r-0.5_noise-0.7_pi.csv\", DataFrame)))[:,1] ; \n",
    "\n",
    "\n",
    "#### Optimitic #######\n",
    "\n",
    "# A_opt1 = Matrix(DataFrame(CSV.read(\"Optimistic/r-0.01_noise-0.7_A.csv\", DataFrame))) ; \n",
    "# pi_opt1 = Matrix(DataFrame(CSV.read(\"Optimistic/r-0.01_noise-0.7_pi.csv\", DataFrame)))[:,1] ; \n",
    "\n",
    "# A_opt2 = Matrix(DataFrame(CSV.read(\"Optimistic/r-0.1_noise-0.7_A.csv\", DataFrame))) ; \n",
    "# pi_opt2 = Matrix(DataFrame(CSV.read(\"Optimistic/r-0.1_noise-0.7_pi.csv\", DataFrame)))[:,1] ; \n",
    "\n",
    "# A_opt3 = Matrix(DataFrame(CSV.read(\"Optimistic/r-0.5_noise-0.7_A.csv\", DataFrame))) ; \n",
    "# pi_opt3 = Matrix(DataFrame(CSV.read(\"Optimistic/r-0.5_noise-0.7_pi.csv\", DataFrame)))[:,1] ; "
   ]
  },
  {
   "cell_type": "code",
   "execution_count": 108,
   "id": "524c810d",
   "metadata": {},
   "outputs": [
    {
     "name": "stdout",
     "output_type": "stream",
     "text": [
      "(5.423886309162033, 0.5919909946242267, 0.015600450758373952, 0.015475872467457191)\n",
      "(5.559623317582888, 0.5831380010542034, 0.014329824729135448, 0.014369921399612831)\n",
      "(2.2625889560819163, 0.5671114254546932, 0.013023400559441723, 0.01373907429779827)\n",
      "(0.1808608921462077, 0.17200390792376674, 0.022539224086353834, 0.023463808153433154)\n"
     ]
    }
   ],
   "source": [
    "println(eval_param_ests(A_true, pi_true, A_em, pi_em)) ; \n",
    "println(eval_param_ests(A_true, pi_true, A_rob1, pi_rob1)) ; \n",
    "println(eval_param_ests(A_true, pi_true, A_rob2, pi_rob2)) ; \n",
    "println(eval_param_ests(A_true, pi_true, A_rob3, pi_rob3)) ; "
   ]
  },
  {
   "cell_type": "code",
   "execution_count": 109,
   "id": "486a85ba",
   "metadata": {},
   "outputs": [],
   "source": [
    "S = Matrix(DataFrame(CSV.read(\"Saved_Params/true_s.csv\", DataFrame))) ; "
   ]
  },
  {
   "cell_type": "code",
   "execution_count": 110,
   "id": "b0fe2dc8",
   "metadata": {},
   "outputs": [],
   "source": [
    "S_best, conf_mat_best = eval_state_ests(X_noisy, S, pi_true, A_true, emission_dists[1:5]) ; \n",
    "S_em, conf_mat_em = eval_state_ests(X_noisy, S, pi_em, A_em, emission_dists[1:5]) ; \n",
    "S_rob1, conf_mat_rob1 = eval_state_ests(X_noisy, S, pi_rob1, A_rob1, emission_dists[1:5]) ; \n",
    "S_rob2, conf_mat_rob2 = eval_state_ests(X_noisy, S, pi_rob1, A_rob2, emission_dists[1:5]) ; \n",
    "S_rob3, conf_mat_rob3 = eval_state_ests(X_noisy, S, pi_rob1, A_rob3, emission_dists[1:5]) ; "
   ]
  },
  {
   "cell_type": "code",
   "execution_count": 111,
   "id": "2add88e9",
   "metadata": {},
   "outputs": [
    {
     "name": "stdout",
     "output_type": "stream",
     "text": [
      "0.7748\n",
      "0.7644\n",
      "0.765\n",
      "0.771\n",
      "0.774\n"
     ]
    }
   ],
   "source": [
    "println(tr(conf_mat_best)/sum(conf_mat_best)) ; \n",
    "println(tr(conf_mat_em)/sum(conf_mat_em)) ; \n",
    "println(tr(conf_mat_rob1)/sum(conf_mat_rob1)) ; \n",
    "println(tr(conf_mat_rob2)/sum(conf_mat_rob2)) ;\n",
    "println(tr(conf_mat_rob3)/sum(conf_mat_rob3)) ;"
   ]
  },
  {
   "cell_type": "markdown",
   "id": "bd835ef8",
   "metadata": {},
   "source": [
    "### Generate data for a particular noise"
   ]
  },
  {
   "cell_type": "code",
   "execution_count": 113,
   "id": "ad378ae9",
   "metadata": {},
   "outputs": [],
   "source": [
    "## Define size of problem \n",
    "m = 5 ; #Number of states"
   ]
  },
  {
   "cell_type": "code",
   "execution_count": 114,
   "id": "ea9eacf5",
   "metadata": {},
   "outputs": [],
   "source": [
    "# Define True probabilities matrix\n",
    "pi_true = rand(Float64, m) ; \n",
    "pi_true = (pi_true)./(sum(pi_true)) ;  # So that initial probabilities sum to 1\n",
    "\n",
    "#Define State transition probabilities\n",
    "\n",
    "A_true = rand(Float64, (m,m)) ; \n",
    "for i =1:m\n",
    "   A_true[i,:]  = A_true[i,:]/(sum(A_true[i,:])) ;\n",
    "end"
   ]
  },
  {
   "cell_type": "code",
   "execution_count": 115,
   "id": "c848a671",
   "metadata": {},
   "outputs": [],
   "source": [
    "hmm = HMM(pi_true , A_true, emission_dists[1:m]) ; "
   ]
  },
  {
   "cell_type": "code",
   "execution_count": 117,
   "id": "b3cb75df",
   "metadata": {},
   "outputs": [],
   "source": [
    "## Generate one sequence of 1000 timesteps\n",
    "seq_length = 500 ; \n",
    "num_sequences = 10 ; \n",
    "\n",
    "\n",
    "S = zeros((num_sequences, seq_length)) ; \n",
    "X = zeros((num_sequences, seq_length)) ; \n",
    "\n",
    "for i =1:num_sequences\n",
    "    S[i,:] , X[i,:] = rand(hmm, seq_length, seq = true) ; \n",
    "end\n",
    "\n"
   ]
  },
  {
   "cell_type": "code",
   "execution_count": 118,
   "id": "993b1aab",
   "metadata": {},
   "outputs": [],
   "source": [
    "## Initialize guesses\n",
    "\n",
    "pi_init = rand(Float64, m) ;  \n",
    "pi_init = (pi_init)./(sum(pi_init)) ;  # So that initial probabilities sum to 1\n",
    "\n",
    "\n",
    "#Define State transition probabilities\n",
    "\n",
    "A_init = rand(Float64, (m,m)) ; \n",
    "for i =1:m\n",
    "   A_init[i,:]  = A_init[i,:]/(sum(A_init[i,:])) ;\n",
    "end\n",
    "\n",
    "\n",
    "#Initial guess for robust delta(X)\n",
    "delta_X_init = zeros(size(X)) ; "
   ]
  },
  {
   "cell_type": "code",
   "execution_count": 119,
   "id": "50c506ad",
   "metadata": {},
   "outputs": [],
   "source": [
    "X_true = X ; \n",
    "S_true = S ; \n",
    "\n",
    "## Number of noisy data matrices to make \n",
    "\n",
    "n_noisy = 10 ; \n",
    "vars = [0.1*(k) for k=1:10] ;  ## Set of variances to be used to generate data\n",
    "\n",
    "## Define X_noisy\n",
    "\n",
    "X_noisy = zeros((n_noisy , size(X,1) , size(X,2))) ; \n",
    "\n",
    "for i=1:n_noisy\n",
    "     X_noisy[i,:,:] = X_true + rand(Normal(0,vars[i]) , size(X)) ; \n",
    "end"
   ]
  },
  {
   "cell_type": "code",
   "execution_count": 121,
   "id": "a785a8f1",
   "metadata": {},
   "outputs": [],
   "source": [
    "num_iters = 100 ; "
   ]
  },
  {
   "cell_type": "code",
   "execution_count": 122,
   "id": "3749b9f6",
   "metadata": {},
   "outputs": [],
   "source": [
    "## Run robust for al Rs\n",
    "\n",
    "rs = [0 , 0.01 , 0.02 , 0.05 , 0.1 , 0.5] ; "
   ]
  },
  {
   "cell_type": "code",
   "execution_count": 130,
   "id": "3155feda",
   "metadata": {},
   "outputs": [
    {
     "data": {
      "text/plain": [
       "5-element Vector{Normal{Float64}}:\n",
       " Normal{Float64}(μ=0.0, σ=1.0)\n",
       " Normal{Float64}(μ=2.0, σ=1.0)\n",
       " Normal{Float64}(μ=4.0, σ=1.0)\n",
       " Normal{Float64}(μ=6.0, σ=1.0)\n",
       " Normal{Float64}(μ=8.0, σ=1.0)"
      ]
     },
     "execution_count": 130,
     "metadata": {},
     "output_type": "execute_result"
    }
   ],
   "source": [
    "emission_dists = emission_dists[1:m]"
   ]
  },
  {
   "cell_type": "code",
   "execution_count": 131,
   "id": "ecbff95c",
   "metadata": {},
   "outputs": [
    {
     "name": "stdout",
     "output_type": "stream",
     "text": [
      "Current log-likelihood: -1262.0228788073364\n",
      "Current log-likelihood: -1213.7971980959446\n",
      "Current log-likelihood: -1204.787773298469\n",
      "Current log-likelihood: -1201.2002256518351\n",
      "Current log-likelihood: -1199.191138081634\n",
      "Current log-likelihood: -1197.987781274697\n",
      "Current log-likelihood: -1197.2506362466802\n",
      "Current log-likelihood: -1196.7914178872236\n",
      "Current log-likelihood: -1196.5003482879063\n",
      "Running iteration number: 10\n",
      "Current log-likelihood: -1196.312052802312\n",
      "Current log-likelihood: -1196.187030781945\n",
      "Current log-likelihood: -1196.1011634047961\n",
      "Current log-likelihood: -1196.0396145369807\n",
      "Current log-likelihood: -1195.993210355323\n",
      "Current log-likelihood: -1195.9562574011804\n",
      "Current log-likelihood: -1195.9252145543053\n",
      "Current log-likelihood: -1195.8978798504706\n",
      "Current log-likelihood: -1195.8728904436302\n",
      "Current log-likelihood: -1195.8494137719574\n",
      "Running iteration number: 20\n",
      "Current log-likelihood: -1195.8269555765808\n",
      "Current log-likelihood: -1195.8052393024311\n",
      "Current log-likelihood: -1195.784129097762\n",
      "Current log-likelihood: -1195.7635795075441\n",
      "Current log-likelihood: -1195.7436016541922\n",
      "Current log-likelihood: -1195.7242398129754\n",
      "Current log-likelihood: -1195.7055547943226\n",
      "Current log-likelihood: -1195.687612041801\n",
      "Current log-likelihood: -1195.6704732182268\n",
      "Current log-likelihood: -1195.6541905231848\n",
      "Running iteration number: 30\n",
      "Current log-likelihood: -1195.6388032205746\n",
      "Current log-likelihood: -1195.624335959187\n",
      "Current log-likelihood: -1195.610798511087\n",
      "Current log-likelihood: -1195.5981865740048\n",
      "Current log-likelihood: -1195.5864833076532\n",
      "Current log-likelihood: -1195.5756613090248\n",
      "Current log-likelihood: -1195.5656847783846\n",
      "Current log-likelihood: -1195.556511681453\n",
      "Current log-likelihood: -1195.5480957682173\n",
      "Current log-likelihood: -1195.5403883596439\n",
      "Running iteration number: 40\n",
      "Current log-likelihood: -1195.5333398566295\n"
     ]
    },
    {
     "data": {
      "text/plain": [
       "([0.3874984615246423, 0.15539161505559101, 0.15405882866428194, 0.11319365884193451, 0.18985743591355012], [0.27771178363001353 0.1430466838015737 … 0.136577928667776 0.027534568139484468; 0.04814323313773499 0.29952957472782776 … 0.09293111016588014 0.2466667879983022; … ; 0.24139080695529594 0.08624756191693336 … 0.39623064963266164 0.25628198829741555; 0.22845765711128976 0.08263586731967593 … 0.28449580632712407 0.26832477910011815], Any[-1262.0228788073364, -1213.7971980959446, -1204.787773298469, -1201.2002256518351, -1199.191138081634, -1197.987781274697, -1197.2506362466802, -1196.7914178872236, -1196.5003482879063, -1196.312052802312  …  -1195.624335959187, -1195.610798511087, -1195.5981865740048, -1195.5864833076532, -1195.5756613090248, -1195.5656847783846, -1195.556511681453, -1195.5480957682173, -1195.5403883596439, -1195.5333398566295])"
      ]
     },
     "execution_count": 131,
     "metadata": {},
     "output_type": "execute_result"
    }
   ],
   "source": [
    "r = rs[1]\n",
    "P1,A1,L1 = robust_baum_welch(X_noisy[1,:,:], pi_init, A_init, delta_X_init, emission_dists, num_iters, r)"
   ]
  },
  {
   "cell_type": "code",
   "execution_count": 132,
   "id": "cb64b60a",
   "metadata": {},
   "outputs": [
    {
     "name": "stdout",
     "output_type": "stream",
     "text": [
      "Current log-likelihood: -1262.0228788073364\n",
      "Current log-likelihood: -1213.6176666316512\n",
      "Current log-likelihood: -1204.6719062569955\n",
      "Current log-likelihood: -1201.1248092991661\n",
      "Current log-likelihood: -1199.147193126363\n",
      "Current log-likelihood: -1197.9672652993959\n",
      "Current log-likelihood: -1197.2488109598548\n",
      "Current log-likelihood: -1196.8029506290493\n",
      "Current log-likelihood: -1196.5209334928395\n",
      "Running iteration number: 10\n",
      "Current log-likelihood: -1196.338628239522\n",
      "Current log-likelihood: -1196.2173643993233\n",
      "Current log-likelihood: -1196.133147617658\n",
      "Current log-likelihood: -1196.0716962672252\n",
      "Current log-likelihood: -1196.0246348297258\n",
      "Current log-likelihood: -1195.986234853625\n",
      "Current log-likelihood: -1195.9533929769595\n",
      "Current log-likelihood: -1195.9241661348112\n",
      "Current log-likelihood: -1195.8972861969758\n",
      "Current log-likelihood: -1195.8719730823648\n",
      "Running iteration number: 20\n",
      "Current log-likelihood: -1195.8479215321381\n",
      "Current log-likelihood: -1195.8247903632719\n",
      "Current log-likelihood: -1195.8025904288154\n",
      "Current log-likelihood: -1195.7812128341245\n",
      "Current log-likelihood: -1195.7607109563876\n",
      "Current log-likelihood: -1195.741065163558\n",
      "Current log-likelihood: -1195.7224049723247\n",
      "Current log-likelihood: -1195.7047371794301\n",
      "Current log-likelihood: -1195.688095594366\n",
      "Current log-likelihood: -1195.6724370331845\n",
      "Running iteration number: 30\n",
      "Current log-likelihood: -1195.657783442395\n",
      "Current log-likelihood: -1195.644136241763\n",
      "Current log-likelihood: -1195.6314563481753\n",
      "Current log-likelihood: -1195.6197106941015\n",
      "Current log-likelihood: -1195.6088385641676\n",
      "Current log-likelihood: -1195.5988131564613\n",
      "Current log-likelihood: -1195.5895883051305\n",
      "Current log-likelihood: -1195.5810922109256\n",
      "Current log-likelihood: -1195.5733052100688\n",
      "Current log-likelihood: -1195.566154368118\n",
      "Running iteration number: 40\n",
      "Current log-likelihood: -1195.5595702827086\n"
     ]
    },
    {
     "data": {
      "text/plain": [
       "([0.3876561349404759, 0.15020292379098205, 0.16546448546494474, 0.10589441208556208, 0.19078204371803523], [0.2755981757497423 0.14810093561163337 … 0.13742381304405613 0.02824391311991814; 0.05321506584094624 0.2931895644684675 … 0.09820159690223484 0.24469307648787225; … ; 0.24026937843385623 0.08612293401745398 … 0.3909301579305598 0.2594098732949721; 0.2278039417516746 0.08397671892094362 … 0.2824998277374918 0.26952069664831596], Any[-1262.0228788073364, -1213.6176666316512, -1204.6719062569955, -1201.1248092991661, -1199.147193126363, -1197.9672652993959, -1197.2488109598548, -1196.8029506290493, -1196.5209334928395, -1196.338628239522  …  -1195.644136241763, -1195.6314563481753, -1195.6197106941015, -1195.6088385641676, -1195.5988131564613, -1195.5895883051305, -1195.5810922109256, -1195.5733052100688, -1195.566154368118, -1195.5595702827086])"
      ]
     },
     "execution_count": 132,
     "metadata": {},
     "output_type": "execute_result"
    }
   ],
   "source": [
    "r = rs[2]\n",
    "P2,A2,L2 = robust_baum_welch(X_noisy[1,:,:], pi_init, A_init, delta_X_init, emission_dists, num_iters, r)"
   ]
  },
  {
   "cell_type": "code",
   "execution_count": 133,
   "id": "c6dddfed",
   "metadata": {},
   "outputs": [
    {
     "name": "stdout",
     "output_type": "stream",
     "text": [
      "Current log-likelihood: -1264.5048179600192\n",
      "Current log-likelihood: -1215.336589269575\n",
      "Current log-likelihood: -1206.8741979922859\n",
      "Current log-likelihood: -1203.6054543310715\n",
      "Current log-likelihood: -1201.800017035471\n",
      "Current log-likelihood: -1200.7287897599986\n",
      "Current log-likelihood: -1200.0769030042354\n",
      "Current log-likelihood: -1199.6713617474923\n",
      "Current log-likelihood: -1199.4120480456618\n",
      "Running iteration number: 10\n",
      "Current log-likelihood: -1199.2410838216824\n",
      "Current log-likelihood: -1199.1252418025695\n",
      "Current log-likelihood: -1199.0425385091983\n",
      "Current log-likelihood: -1198.9809199109409\n",
      "Current log-likelihood: -1198.9318473810374\n",
      "Current log-likelihood: -1198.8906457508208\n",
      "Current log-likelihood: -1198.8545125010512\n",
      "Current log-likelihood: -1198.8218440230917\n",
      "Current log-likelihood: -1198.7912910436887\n",
      "Current log-likelihood: -1198.7626974877348\n",
      "Running iteration number: 20\n",
      "Current log-likelihood: -1198.7354247869787\n",
      "Current log-likelihood: -1198.709851826561\n",
      "Current log-likelihood: -1198.6853469760167\n",
      "Current log-likelihood: -1198.662580161135\n",
      "Current log-likelihood: -1198.6408426532446\n",
      "Current log-likelihood: -1198.620848823796\n",
      "Current log-likelihood: -1198.6018943548386\n",
      "Current log-likelihood: -1198.584662047551\n",
      "Current log-likelihood: -1198.5684536192357\n",
      "Current log-likelihood: -1198.5537499162745\n",
      "Running iteration number: 30\n",
      "Current log-likelihood: -1198.5402234020441\n",
      "Current log-likelihood: -1198.527791048098\n",
      "Current log-likelihood: -1198.5164007143667\n",
      "Current log-likelihood: -1198.505876545827\n",
      "Current log-likelihood: -1198.4963026336522\n",
      "Current log-likelihood: -1198.4875208841675\n",
      "Current log-likelihood: -1198.4794257782276\n",
      "Current log-likelihood: -1198.4720672123165\n",
      "Current log-likelihood: -1198.4651712113248\n",
      "Current log-likelihood: -1198.4589295649337\n",
      "Running iteration number: 40\n",
      "Current log-likelihood: -1198.4529737823807\n"
     ]
    },
    {
     "data": {
      "text/plain": [
       "([0.3850350187392988, 0.17615050630403487, 0.0864978595776429, 0.16930817710899498, 0.1830084382700285], [0.27216301180307 0.15989323326659807 … 0.1357538110222012 0.03167251125101489; 0.05948658638165161 0.2761999784911234 … 0.11238465088888042 0.24384348861921906; … ; 0.23768478635406878 0.08511530470504465 … 0.38969220910687885 0.2626729517397567; 0.2273209978458464 0.08448205296606956 … 0.2664436810656727 0.27987162258165826], Any[-1264.5048179600192, -1215.336589269575, -1206.8741979922859, -1203.6054543310715, -1201.800017035471, -1200.7287897599986, -1200.0769030042354, -1199.6713617474923, -1199.4120480456618, -1199.2410838216824  …  -1198.527791048098, -1198.5164007143667, -1198.505876545827, -1198.4963026336522, -1198.4875208841675, -1198.4794257782276, -1198.4720672123165, -1198.4651712113248, -1198.4589295649337, -1198.4529737823807])"
      ]
     },
     "execution_count": 133,
     "metadata": {},
     "output_type": "execute_result"
    }
   ],
   "source": [
    "r = rs[3]\n",
    "P3,A3,L3 = robust_baum_welch(X_noisy[2,:,:], pi_init, A_init, delta_X_init, emission_dists, num_iters, r)"
   ]
  },
  {
   "cell_type": "code",
   "execution_count": 134,
   "id": "b9ff976d",
   "metadata": {},
   "outputs": [
    {
     "name": "stdout",
     "output_type": "stream",
     "text": [
      "Current log-likelihood: -1262.0228788073364\n",
      "Current log-likelihood: -1212.8965479630203\n",
      "Current log-likelihood: -1204.305377803103\n",
      "Current log-likelihood: -1200.9650871987285\n",
      "Current log-likelihood: -1199.1013780215374\n",
      "Current log-likelihood: -1198.0189109504652\n",
      "Current log-likelihood: -1197.3805687200393\n",
      "Current log-likelihood: -1196.9961698305267\n",
      "Current log-likelihood: -1196.757329307\n",
      "Running iteration number: 10\n",
      "Current log-likelihood: -1196.6048849540423\n",
      "Current log-likelihood: -1196.503689213341\n",
      "Current log-likelihood: -1196.428477507765\n",
      "Current log-likelihood: -1196.3736822178569\n",
      "Current log-likelihood: -1196.32817645639\n",
      "Current log-likelihood: -1196.2921782697656\n",
      "Current log-likelihood: -1196.259543408679\n",
      "Current log-likelihood: -1196.2316466795216\n",
      "Current log-likelihood: -1196.205322256411\n",
      "Current log-likelihood: -1196.1817871009805\n",
      "Running iteration number: 20\n",
      "Current log-likelihood: -1196.1592957268101\n",
      "Current log-likelihood: -1196.13853913335\n",
      "Current log-likelihood: -1196.1192281629185\n",
      "Current log-likelihood: -1196.1012664147056\n",
      "Current log-likelihood: -1196.08400620145\n",
      "Current log-likelihood: -1196.068701973081\n",
      "Current log-likelihood: -1196.054085120853\n",
      "Current log-likelihood: -1196.040698602909\n",
      "Current log-likelihood: -1196.028230042153\n",
      "Current log-likelihood: -1196.0167829692887\n",
      "Running iteration number: 30\n",
      "Current log-likelihood: -1196.0055433389387\n",
      "Current log-likelihood: -1195.9956716810018\n",
      "Current log-likelihood: -1195.9856001958922\n",
      "Current log-likelihood: -1195.9769294930102\n",
      "Current log-likelihood: -1195.9674027027384\n",
      "Current log-likelihood: -1195.9600714480155\n",
      "Current log-likelihood: -1195.951791400994\n",
      "Current log-likelihood: -1195.945634455931\n",
      "Current log-likelihood: -1195.9379986723577\n",
      "Current log-likelihood: -1195.9323792518762\n",
      "Running iteration number: 40\n",
      "Current log-likelihood: -1195.9251521906517\n"
     ]
    },
    {
     "data": {
      "text/plain": [
       "([0.3855163451568694, 0.15311305892863186, 0.17220185989231385, 0.09791178551018409, 0.1912569505120009], [0.2674051352934947 0.16698115686765153 … 0.14236685012785255 0.031197431638016238; 0.07248110892429288 0.27247338577110364 … 0.11340899285552927 0.23807933610652518; … ; 0.23640575976893377 0.08630322486070972 … 0.3678101437842431 0.2709297109928373; 0.22501071509118048 0.08900705395128751 … 0.27742407849213563 0.2720728500953354], Any[-1262.0228788073364, -1212.8965479630203, -1204.305377803103, -1200.9650871987285, -1199.1013780215374, -1198.0189109504652, -1197.3805687200393, -1196.9961698305267, -1196.757329307, -1196.6048849540423  …  -1195.9956716810018, -1195.9856001958922, -1195.9769294930102, -1195.9674027027384, -1195.9600714480155, -1195.951791400994, -1195.945634455931, -1195.9379986723577, -1195.9323792518762, -1195.9251521906517])"
      ]
     },
     "execution_count": 134,
     "metadata": {},
     "output_type": "execute_result"
    }
   ],
   "source": [
    "r = rs[4]\n",
    "P4,A4,L4 = robust_baum_welch(X_noisy[1,:,:], pi_init, A_init, delta_X_init, emission_dists, num_iters, r)"
   ]
  },
  {
   "cell_type": "code",
   "execution_count": 135,
   "id": "e53c57cf",
   "metadata": {},
   "outputs": [
    {
     "name": "stdout",
     "output_type": "stream",
     "text": [
      "Current log-likelihood: -1262.0228788073364\n",
      "Current log-likelihood: -1211.9874934716331\n",
      "Current log-likelihood: -1204.1147239262016\n",
      "Current log-likelihood: -1200.9538392621762\n",
      "Current log-likelihood: -1199.2149399171537\n",
      "Current log-likelihood: -1198.324303891555\n",
      "Current log-likelihood: -1197.7504285437838\n",
      "Current log-likelihood: -1197.5056775713997\n",
      "Current log-likelihood: -1197.2893411087184\n",
      "Running iteration number: 10\n",
      "Current log-likelihood: -1197.2197938133384\n",
      "Current log-likelihood: -1197.1103455525147\n",
      "Current log-likelihood: -1197.0939382838355\n",
      "Current log-likelihood: -1197.0260894020357\n",
      "Current log-likelihood: -1197.0289314764777\n",
      "Current log-likelihood: -1196.9754514607964\n",
      "Current log-likelihood: -1196.9860374572618\n",
      "Current log-likelihood: -1196.9402185752156\n",
      "Current log-likelihood: -1196.9577459577413\n",
      "Current log-likelihood: -1196.9157414401743\n",
      "Running iteration number: 20\n",
      "Current log-likelihood: -1196.9363459026451\n",
      "Current log-likelihood: -1196.8965099183818\n",
      "Current log-likelihood: -1196.9197748348715\n",
      "Current log-likelihood: -1196.8804594794644\n",
      "Current log-likelihood: -1196.9044479053998\n",
      "Current log-likelihood: -1196.8643000046761\n",
      "Current log-likelihood: -1196.8900453281774\n",
      "Current log-likelihood: -1196.848011798568\n",
      "Current log-likelihood: -1196.8748102598079\n",
      "Current log-likelihood: -1196.83177780027\n",
      "Running iteration number: 30\n",
      "Current log-likelihood: -1196.8588723792852\n",
      "Current log-likelihood: -1196.816202636028\n",
      "Current log-likelihood: -1196.8436850783296\n",
      "Current log-likelihood: -1196.8012838294894\n",
      "Current log-likelihood: -1196.827097078535\n",
      "Current log-likelihood: -1196.7854972143148\n",
      "Current log-likelihood: -1196.813643579142\n",
      "Current log-likelihood: -1196.7720461823792\n",
      "Current log-likelihood: -1196.8005462340477\n",
      "Current log-likelihood: -1196.7598944803822\n",
      "Running iteration number: 40\n",
      "Current log-likelihood: -1196.7885805857707\n"
     ]
    },
    {
     "data": {
      "text/plain": [
       "([0.38220876455532027, 0.1536579553707387, 0.17469916632596016, 0.0980151977317295, 0.19141891601625144], [0.2592694019408065 0.1845350255279405 … 0.15044216690205459 0.03484968384841653; 0.09291671691975775 0.25304864532724053 … 0.12460875281592405 0.23486127764339582; … ; 0.231619409544859 0.08574786954840047 … 0.34626228968440875 0.2783017245704549; 0.22213997870094532 0.09585409704637571 … 0.2773344576132754 0.26658626202276875], Any[-1262.0228788073364, -1211.9874934716331, -1204.1147239262016, -1200.9538392621762, -1199.2149399171537, -1198.324303891555, -1197.7504285437838, -1197.5056775713997, -1197.2893411087184, -1197.2197938133384  …  -1196.816202636028, -1196.8436850783296, -1196.8012838294894, -1196.827097078535, -1196.7854972143148, -1196.813643579142, -1196.7720461823792, -1196.8005462340477, -1196.7598944803822, -1196.7885805857707])"
      ]
     },
     "execution_count": 135,
     "metadata": {},
     "output_type": "execute_result"
    }
   ],
   "source": [
    "#num_iters = 50 ; \n",
    "\n",
    "r = rs[5]\n",
    "P5,A5,L5 = robust_baum_welch(X_noisy[1,:,:], pi_init, A_init, delta_X_init, emission_dists, num_iters, r)"
   ]
  },
  {
   "cell_type": "code",
   "execution_count": 136,
   "id": "e1e61f19",
   "metadata": {},
   "outputs": [
    {
     "name": "stdout",
     "output_type": "stream",
     "text": [
      "Current log-likelihood: -1264.5048179600192\n",
      "Current log-likelihood: -1216.533948716448\n",
      "Current log-likelihood: -1207.6970568348409\n",
      "Current log-likelihood: -1204.2131087276678\n",
      "Current log-likelihood: -1202.2433535713792\n",
      "Current log-likelihood: -1201.0458805277192\n",
      "Current log-likelihood: -1200.300169239294\n",
      "Current log-likelihood: -1199.8255211741723\n",
      "Current log-likelihood: -1199.5173508684177\n",
      "Running iteration number: 10\n",
      "Current log-likelihood: -1199.3143520880133\n",
      "Current log-likelihood: -1199.1785372570366\n",
      "Current log-likelihood: -1199.0860062671843\n",
      "Current log-likelihood: -1199.0213275375233\n"
     ]
    },
    {
     "ename": "LoadError",
     "evalue": "Result index of attribute MathOptInterface.VariablePrimal(1) out of bounds. There are currently 0 solution(s) in the model.",
     "output_type": "error",
     "traceback": [
      "Result index of attribute MathOptInterface.VariablePrimal(1) out of bounds. There are currently 0 solution(s) in the model.",
      "",
      "Stacktrace:",
      "  [1] check_result_index_bounds",
      "    @ /Users/iai/builds/InterpretableAI/SystemImage/SysImgBuilder/.julia/packages/MathOptInterface/YDdD3/src/attributes.jl:139 [inlined]",
      "  [2] get(model::Gurobi.Optimizer, attr::MathOptInterface.VariablePrimal, x::MathOptInterface.VariableIndex)",
      "    @ Gurobi ~/.julia/packages/Gurobi/BAtIN/src/MOI_wrapper/MOI_wrapper.jl:2852",
      "  [3] get(b::MathOptInterface.Bridges.LazyBridgeOptimizer{Gurobi.Optimizer}, attr::MathOptInterface.VariablePrimal, index::MathOptInterface.VariableIndex)",
      "    @ MathOptInterface.Bridges /Users/iai/builds/InterpretableAI/SystemImage/SysImgBuilder/.julia/packages/MathOptInterface/YDdD3/src/Bridges/bridge_optimizer.jl:1039",
      "  [4] get(model::MathOptInterface.Utilities.CachingOptimizer{MathOptInterface.AbstractOptimizer, MathOptInterface.Utilities.UniversalFallback{MathOptInterface.Utilities.GenericModel{Float64, MathOptInterface.Utilities.ModelFunctionConstraints{Float64}}}}, attr::MathOptInterface.VariablePrimal, index::MathOptInterface.VariableIndex)",
      "    @ MathOptInterface.Utilities /Applications/Julia-1.6.app/Contents/Resources/julia/lib/julia/sys.dylib:-1",
      "  [5] _moi_get_result(::MathOptInterface.Utilities.CachingOptimizer{MathOptInterface.AbstractOptimizer, MathOptInterface.Utilities.UniversalFallback{MathOptInterface.Utilities.GenericModel{Float64, MathOptInterface.Utilities.ModelFunctionConstraints{Float64}}}}, ::MathOptInterface.VariablePrimal, ::Vararg{Any, N} where N)",
      "    @ JuMP /Users/iai/builds/InterpretableAI/SystemImage/SysImgBuilder/.julia/packages/JuMP/qhoVb/src/JuMP.jl:848",
      "  [6] get(model::Model, attr::MathOptInterface.VariablePrimal, v::VariableRef)",
      "    @ JuMP /Applications/Julia-1.6.app/Contents/Resources/julia/lib/julia/sys.dylib:-1",
      "  [7] value(v::VariableRef; result::Int64)",
      "    @ JuMP /Applications/Julia-1.6.app/Contents/Resources/julia/lib/julia/sys.dylib:-1",
      "  [8] value",
      "    @ /Users/iai/builds/InterpretableAI/SystemImage/SysImgBuilder/.julia/packages/JuMP/qhoVb/src/variables.jl:767 [inlined]",
      "  [9] _broadcast_getindex_evalf",
      "    @ ./broadcast.jl:648 [inlined]",
      " [10] _broadcast_getindex",
      "    @ ./broadcast.jl:621 [inlined]",
      " [11] getindex",
      "    @ ./broadcast.jl:575 [inlined]",
      " [12] macro expansion",
      "    @ ./broadcast.jl:984 [inlined]",
      " [13] macro expansion",
      "    @ ./simdloop.jl:77 [inlined]",
      " [14] copyto!",
      "    @ ./broadcast.jl:983 [inlined]",
      " [15] copyto!",
      "    @ ./broadcast.jl:936 [inlined]",
      " [16] copy",
      "    @ ./broadcast.jl:908 [inlined]",
      " [17] materialize",
      "    @ ./broadcast.jl:883 [inlined]",
      " [18] optimistic_baum_welch(X::Matrix{Float64}, pi_init::Vector{Float64}, A_init::Matrix{Float64}, delta_X_init::Matrix{Float64}, emission_dists::Vector{Normal{Float64}}, num_iters::Int64, r::Float64)",
      "    @ Main ./In[31]:103",
      " [19] top-level scope",
      "    @ In[136]:4",
      " [20] eval",
      "    @ ./boot.jl:360 [inlined]",
      " [21] include_string(mapexpr::typeof(REPL.softscope), mod::Module, code::String, filename::String)",
      "    @ Base ./loading.jl:1116"
     ]
    }
   ],
   "source": [
    "num_iterats = 50 ; \n",
    "\n",
    "r = 0.04\n",
    "P6,A6,L6 = optimistic_baum_welch(X_noisy[2,:,:], pi_init, A_init, delta_X_init, emission_dists, num_iters, r)"
   ]
  },
  {
   "cell_type": "code",
   "execution_count": null,
   "id": "a79be0eb",
   "metadata": {},
   "outputs": [],
   "source": []
  },
  {
   "cell_type": "code",
   "execution_count": null,
   "id": "cafaeb25",
   "metadata": {},
   "outputs": [],
   "source": []
  },
  {
   "cell_type": "code",
   "execution_count": 137,
   "id": "ee234c7a",
   "metadata": {},
   "outputs": [
    {
     "name": "stdout",
     "output_type": "stream",
     "text": [
      "kl(pi_true||pi_est) , kl(pi_est||pi_true) , mean(kl(A_true[r]||A_est[r])) , mean(kl(A_est[r]||A_true[r]))\n",
      "Regular EM\n",
      "(0.17810841717569853, 0.1831414756645721, 0.019493059050943302, 0.020212099178684516)\n",
      "Robust EM, r=0.01\n",
      "(0.18845969112749134, 0.19107734238950097, 0.01782267833790045, 0.01986754187967069)\n",
      "Robust EM, r=0.02\n",
      "(0.16820788018679084, 0.17537748022194677, 0.015749493902503454, 0.02019731002236568)\n",
      "Robust EM, r=0.05\n",
      "(0.18781841272445648, 0.19167235317908274, 0.01724598704764091, 0.024474673553270054)\n",
      "Robust EM, r=0.1\n",
      "(0.18660908553426292, 0.19071173175231743, 0.0241116118043684, 0.03915158779919461)\n"
     ]
    }
   ],
   "source": [
    "println(\"kl(pi_true||pi_est) , kl(pi_est||pi_true) , mean(kl(A_true[r]||A_est[r])) , mean(kl(A_est[r]||A_true[r]))\")\n",
    "\n",
    "println(\"Regular EM\")\n",
    "println(eval_param_ests(A_true, pi_true, A1, P1)) ; \n",
    "\n",
    "println(\"Robust EM, r=0.01\")\n",
    "println(eval_param_ests(A_true, pi_true, A2, P2)) ; \n",
    "\n",
    "println(\"Robust EM, r=0.02\")\n",
    "println(eval_param_ests(A_true, pi_true, A3, P3)) ; \n",
    "\n",
    "println(\"Robust EM, r=0.05\")\n",
    "println(eval_param_ests(A_true, pi_true, A4, P4)) ; \n",
    "\n",
    "println(\"Robust EM, r=0.1\")\n",
    "println(eval_param_ests(A_true, pi_true, A5, P5)) ; \n",
    "\n",
    "# println(\"Optimistic EM, r=0.04\")\n",
    "# println(eval_param_ests(A_true, pi_true, A6, P6)) ; \n",
    "\n",
    "\n"
   ]
  },
  {
   "cell_type": "code",
   "execution_count": 138,
   "id": "b88464bd",
   "metadata": {},
   "outputs": [],
   "source": [
    "S_best, conf_mat_best = eval_state_ests(X_noisy[1,:,:], S, pi_true, A_true, emission_dists) ; \n",
    "\n",
    "#S_em, conf_mat_em = eval_state_ests(X_noisy[2,:,:], S, pi_em, A_em, emission_dists[1:5]) ; \n",
    "\n",
    "S_rob1, conf_mat_rob1 = eval_state_ests(X_noisy[1,:,:], S, P1, A1, emission_dists) ; \n",
    "S_rob2, conf_mat_rob2 = eval_state_ests(X_noisy[1,:,:], S, P2, A2, emission_dists) ; \n",
    "S_rob3, conf_mat_rob3 = eval_state_ests(X_noisy[1,:,:], S, P3, A3, emission_dists) ; \n",
    "S_rob4, conf_mat_rob4 = eval_state_ests(X_noisy[1,:,:], S, P4, A4, emission_dists) ; \n",
    "S_rob5, conf_mat_rob5 = eval_state_ests(X_noisy[1,:,:], S, P5, A5, emission_dists) ; \n",
    "\n",
    "#S_opt1, conf_mat_opt1 = eval_state_ests(X_noisy[2,:,:], S, P6, A6, emission_dists) ; "
   ]
  },
  {
   "cell_type": "code",
   "execution_count": 139,
   "id": "d6d3c80f",
   "metadata": {},
   "outputs": [
    {
     "name": "stdout",
     "output_type": "stream",
     "text": [
      "0.7898\n",
      "0.7892\n",
      "0.7898\n",
      "0.7912\n",
      "0.7912\n",
      "0.7934\n"
     ]
    }
   ],
   "source": [
    "println(tr(conf_mat_best)/sum(conf_mat_best)) ; \n",
    "println(tr(conf_mat_rob1)/sum(conf_mat_rob1)) ; \n",
    "println(tr(conf_mat_rob2)/sum(conf_mat_rob2)) ;\n",
    "println(tr(conf_mat_rob3)/sum(conf_mat_rob3)) ;\n",
    "println(tr(conf_mat_rob4)/sum(conf_mat_rob4)) ;\n",
    "println(tr(conf_mat_rob5)/sum(conf_mat_rob5)) ;\n",
    "#println(tr(conf_mat_opt1)/sum(conf_mat_opt1)) ;"
   ]
  },
  {
   "cell_type": "markdown",
   "id": "11d8550a",
   "metadata": {},
   "source": [
    "# MAIN EXPERIMENT"
   ]
  },
  {
   "cell_type": "code",
   "execution_count": 164,
   "id": "a8d04a24",
   "metadata": {},
   "outputs": [],
   "source": [
    "num_iterations  = 50 ; \n",
    "A_ests = zeros((size(vars, 1) , size(rs,1) , size(A_true,1) , size(A_true,2))) ; \n",
    "pi_ests = zeros((size(vars, 1) , size(rs,1) , size(pi_true,1) )) ; \n",
    "ll_ests = zeros((size(vars, 1) , size(rs,1) , num_iters )) ; "
   ]
  },
  {
   "cell_type": "code",
   "execution_count": 165,
   "id": "80671bfb",
   "metadata": {},
   "outputs": [],
   "source": [
    "delta_X_initial = zeros(size(X)) ; "
   ]
  },
  {
   "cell_type": "code",
   "execution_count": 169,
   "id": "f140b84b",
   "metadata": {},
   "outputs": [
    {
     "data": {
      "text/plain": [
       "10"
      ]
     },
     "execution_count": 169,
     "metadata": {},
     "output_type": "execute_result"
    }
   ],
   "source": [
    "size(vars, 1)"
   ]
  },
  {
   "cell_type": "code",
   "execution_count": 170,
   "id": "0a894ecc",
   "metadata": {},
   "outputs": [
    {
     "name": "stdout",
     "output_type": "stream",
     "text": [
      "Noise variance: 0.1\n",
      "Uncertainty set size: 0.0\n",
      "Running iteration number: 10\n",
      "Running iteration number: 20\n",
      "Running iteration number: 30\n",
      "Running iteration number: 40\n",
      "Running iteration number: 50\n",
      "Noise variance: 0.1\n",
      "Uncertainty set size: 0.01\n",
      "Running iteration number: 10\n",
      "Running iteration number: 20\n",
      "Running iteration number: 30\n",
      "Running iteration number: 40\n",
      "Running iteration number: 50\n",
      "Noise variance: 0.1\n",
      "Uncertainty set size: 0.02\n",
      "Running iteration number: 10\n",
      "Running iteration number: 20\n",
      "Running iteration number: 30\n",
      "Running iteration number: 40\n",
      "Running iteration number: 50\n",
      "Noise variance: 0.1\n",
      "Uncertainty set size: 0.05\n",
      "Running iteration number: 10\n",
      "Running iteration number: 20\n",
      "Running iteration number: 30\n",
      "Running iteration number: 40\n",
      "Running iteration number: 50\n",
      "Noise variance: 0.1\n",
      "Uncertainty set size: 0.1\n",
      "Running iteration number: 10\n",
      "Running iteration number: 20\n",
      "Running iteration number: 30\n",
      "Running iteration number: 40\n",
      "Running iteration number: 50\n",
      "Noise variance: 0.1\n",
      "Uncertainty set size: 0.5\n",
      "Running iteration number: 10\n",
      "Running iteration number: 20\n",
      "Running iteration number: 30\n",
      "Running iteration number: 40\n",
      "Running iteration number: 50\n",
      "Noise variance: 0.2\n",
      "Uncertainty set size: 0.0\n",
      "Running iteration number: 10\n",
      "Running iteration number: 20\n",
      "Running iteration number: 30\n",
      "Running iteration number: 40\n",
      "Running iteration number: 50\n",
      "Noise variance: 0.2\n",
      "Uncertainty set size: 0.01\n",
      "Running iteration number: 10\n",
      "Running iteration number: 20\n",
      "Running iteration number: 30\n",
      "Running iteration number: 40\n",
      "Running iteration number: 50\n",
      "Noise variance: 0.2\n",
      "Uncertainty set size: 0.02\n",
      "Running iteration number: 10\n",
      "Running iteration number: 20\n",
      "Running iteration number: 30\n",
      "Running iteration number: 40\n",
      "Running iteration number: 50\n",
      "Noise variance: 0.2\n",
      "Uncertainty set size: 0.05\n",
      "Running iteration number: 10\n",
      "Running iteration number: 20\n",
      "Running iteration number: 30\n",
      "Running iteration number: 40\n",
      "Running iteration number: 50\n",
      "Noise variance: 0.2\n",
      "Uncertainty set size: 0.1\n",
      "Running iteration number: 10\n",
      "Running iteration number: 20\n",
      "Running iteration number: 30\n",
      "Running iteration number: 40\n",
      "Running iteration number: 50\n",
      "Noise variance: 0.2\n",
      "Uncertainty set size: 0.5\n",
      "Running iteration number: 10\n",
      "Running iteration number: 20\n",
      "Running iteration number: 30\n",
      "Running iteration number: 40\n",
      "Running iteration number: 50\n",
      "Noise variance: 0.30000000000000004\n",
      "Uncertainty set size: 0.0\n",
      "Running iteration number: 10\n",
      "Running iteration number: 20\n",
      "Running iteration number: 30\n",
      "Running iteration number: 40\n",
      "Running iteration number: 50\n",
      "Noise variance: 0.30000000000000004\n",
      "Uncertainty set size: 0.01\n",
      "Running iteration number: 10\n",
      "Running iteration number: 20\n",
      "Running iteration number: 30\n",
      "Running iteration number: 40\n",
      "Running iteration number: 50\n",
      "Noise variance: 0.30000000000000004\n",
      "Uncertainty set size: 0.02\n",
      "Running iteration number: 10\n",
      "Running iteration number: 20\n",
      "Running iteration number: 30\n",
      "Running iteration number: 40\n",
      "Running iteration number: 50\n",
      "Noise variance: 0.30000000000000004\n",
      "Uncertainty set size: 0.05\n",
      "Running iteration number: 10\n",
      "Running iteration number: 20\n",
      "Running iteration number: 30\n",
      "Running iteration number: 40\n",
      "Running iteration number: 50\n",
      "Noise variance: 0.30000000000000004\n",
      "Uncertainty set size: 0.1\n",
      "Running iteration number: 10\n",
      "Running iteration number: 20\n",
      "Running iteration number: 30\n",
      "Running iteration number: 40\n",
      "Running iteration number: 50\n",
      "Noise variance: 0.30000000000000004\n",
      "Uncertainty set size: 0.5\n",
      "Running iteration number: 10\n",
      "Running iteration number: 20\n",
      "Running iteration number: 30\n",
      "Running iteration number: 40\n",
      "Running iteration number: 50\n",
      "Noise variance: 0.4\n",
      "Uncertainty set size: 0.0\n",
      "Running iteration number: 10\n",
      "Running iteration number: 20\n",
      "Running iteration number: 30\n",
      "Running iteration number: 40\n",
      "Running iteration number: 50\n",
      "Noise variance: 0.4\n",
      "Uncertainty set size: 0.01\n",
      "Running iteration number: 10\n",
      "Running iteration number: 20\n",
      "Running iteration number: 30\n",
      "Running iteration number: 40\n",
      "Running iteration number: 50\n",
      "Noise variance: 0.4\n",
      "Uncertainty set size: 0.02\n",
      "Running iteration number: 10\n",
      "Running iteration number: 20\n",
      "Running iteration number: 30\n",
      "Running iteration number: 40\n",
      "Running iteration number: 50\n",
      "Noise variance: 0.4\n",
      "Uncertainty set size: 0.05\n",
      "Running iteration number: 10\n",
      "Running iteration number: 20\n",
      "Running iteration number: 30\n",
      "Running iteration number: 40\n",
      "Running iteration number: 50\n",
      "Noise variance: 0.4\n",
      "Uncertainty set size: 0.1\n",
      "Running iteration number: 10\n",
      "Running iteration number: 20\n",
      "Running iteration number: 30\n",
      "Running iteration number: 40\n",
      "Running iteration number: 50\n",
      "Noise variance: 0.4\n",
      "Uncertainty set size: 0.5\n",
      "Running iteration number: 10\n",
      "Running iteration number: 20\n",
      "Running iteration number: 30\n",
      "Running iteration number: 40\n",
      "Running iteration number: 50\n",
      "Noise variance: 0.5\n",
      "Uncertainty set size: 0.0\n",
      "Running iteration number: 10\n",
      "Running iteration number: 20\n",
      "Running iteration number: 30\n",
      "Running iteration number: 40\n",
      "Running iteration number: 50\n",
      "Noise variance: 0.5\n",
      "Uncertainty set size: 0.01\n",
      "Running iteration number: 10\n",
      "Running iteration number: 20\n",
      "Running iteration number: 30\n",
      "Running iteration number: 40\n",
      "Running iteration number: 50\n",
      "Noise variance: 0.5\n",
      "Uncertainty set size: 0.02\n",
      "Running iteration number: 10\n",
      "Running iteration number: 20\n",
      "Running iteration number: 30\n",
      "Running iteration number: 40\n",
      "Running iteration number: 50\n",
      "Noise variance: 0.5\n",
      "Uncertainty set size: 0.05\n",
      "Running iteration number: 10\n",
      "Running iteration number: 20\n",
      "Running iteration number: 30\n",
      "Running iteration number: 40\n",
      "Running iteration number: 50\n",
      "Noise variance: 0.5\n",
      "Uncertainty set size: 0.1\n",
      "Running iteration number: 10\n",
      "Running iteration number: 20\n",
      "Running iteration number: 30\n",
      "Running iteration number: 40\n",
      "Running iteration number: 50\n",
      "Noise variance: 0.5\n",
      "Uncertainty set size: 0.5\n",
      "Running iteration number: 10\n",
      "Running iteration number: 20\n",
      "Running iteration number: 30\n",
      "Running iteration number: 40\n",
      "Running iteration number: 50\n"
     ]
    }
   ],
   "source": [
    "for i=1:5\n",
    "    for j=1:size(rs,1)\n",
    "        print(\"Noise variance: \")\n",
    "        println(vars[i]) \n",
    "        print(\"Uncertainty set size: \")\n",
    "        println(rs[j]) \n",
    "        delta_X_initial = zeros(size(X)) ; \n",
    "        Ptemp,Atemp,Ltemp = robust_baum_welch(X_noisy[i,:,:], pi_init, A_init, delta_X_initial, emission_dists, num_iterations, rs[j])\n",
    "        A_ests[i,j,:,:] = Atemp ; \n",
    "        pi_ests[i,j,:] = Ptemp ; \n",
    "        ll_ests[i,j,:] = Ltemp ; \n",
    "    end\n",
    "end"
   ]
  },
  {
   "cell_type": "code",
   "execution_count": 171,
   "id": "b48fc82e",
   "metadata": {},
   "outputs": [
    {
     "name": "stdout",
     "output_type": "stream",
     "text": [
      "Noise variance: 0.5\n",
      "Uncertainty set size: 0.0\n",
      "Running iteration number: 10\n",
      "Running iteration number: 20\n",
      "Running iteration number: 30\n",
      "Running iteration number: 40\n",
      "Running iteration number: 50\n",
      "Noise variance: 0.5\n",
      "Uncertainty set size: 0.01\n",
      "Running iteration number: 10\n",
      "Running iteration number: 20\n",
      "Running iteration number: 30\n",
      "Running iteration number: 40\n",
      "Running iteration number: 50\n",
      "Noise variance: 0.5\n",
      "Uncertainty set size: 0.02\n",
      "Running iteration number: 10\n",
      "Running iteration number: 20\n",
      "Running iteration number: 30\n",
      "Running iteration number: 40\n",
      "Running iteration number: 50\n",
      "Noise variance: 0.5\n",
      "Uncertainty set size: 0.05\n",
      "Running iteration number: 10\n",
      "Running iteration number: 20\n",
      "Running iteration number: 30\n",
      "Running iteration number: 40\n",
      "Running iteration number: 50\n",
      "Noise variance: 0.5\n",
      "Uncertainty set size: 0.1\n",
      "Running iteration number: 10\n",
      "Running iteration number: 20\n",
      "Running iteration number: 30\n",
      "Running iteration number: 40\n",
      "Running iteration number: 50\n",
      "Noise variance: 0.5\n",
      "Uncertainty set size: 0.5\n",
      "Running iteration number: 10\n",
      "Running iteration number: 20\n",
      "Running iteration number: 30\n",
      "Running iteration number: 40\n",
      "Running iteration number: 50\n",
      "Noise variance: 0.6000000000000001\n",
      "Uncertainty set size: 0.0\n",
      "Running iteration number: 10\n",
      "Running iteration number: 20\n",
      "Running iteration number: 30\n",
      "Running iteration number: 40\n",
      "Running iteration number: 50\n",
      "Noise variance: 0.6000000000000001\n",
      "Uncertainty set size: 0.01\n",
      "Running iteration number: 10\n",
      "Running iteration number: 20\n",
      "Running iteration number: 30\n",
      "Running iteration number: 40\n",
      "Running iteration number: 50\n",
      "Noise variance: 0.6000000000000001\n",
      "Uncertainty set size: 0.02\n",
      "Running iteration number: 10\n",
      "Running iteration number: 20\n",
      "Running iteration number: 30\n",
      "Running iteration number: 40\n",
      "Running iteration number: 50\n",
      "Noise variance: 0.6000000000000001\n",
      "Uncertainty set size: 0.05\n",
      "Running iteration number: 10\n",
      "Running iteration number: 20\n",
      "Running iteration number: 30\n",
      "Running iteration number: 40\n",
      "Running iteration number: 50\n",
      "Noise variance: 0.6000000000000001\n",
      "Uncertainty set size: 0.1\n",
      "Running iteration number: 10\n",
      "Running iteration number: 20\n",
      "Running iteration number: 30\n",
      "Running iteration number: 40\n",
      "Running iteration number: 50\n",
      "Noise variance: 0.6000000000000001\n",
      "Uncertainty set size: 0.5\n",
      "Running iteration number: 10\n",
      "Running iteration number: 20\n",
      "Running iteration number: 30\n",
      "Running iteration number: 40\n",
      "Running iteration number: 50\n",
      "Noise variance: 0.7000000000000001\n",
      "Uncertainty set size: 0.0\n",
      "Running iteration number: 10\n",
      "Running iteration number: 20\n",
      "Running iteration number: 30\n",
      "Running iteration number: 40\n",
      "Running iteration number: 50\n",
      "Noise variance: 0.7000000000000001\n",
      "Uncertainty set size: 0.01\n",
      "Running iteration number: 10\n",
      "Running iteration number: 20\n",
      "Running iteration number: 30\n",
      "Running iteration number: 40\n",
      "Running iteration number: 50\n",
      "Noise variance: 0.7000000000000001\n",
      "Uncertainty set size: 0.02\n",
      "Running iteration number: 10\n",
      "Running iteration number: 20\n",
      "Running iteration number: 30\n",
      "Running iteration number: 40\n",
      "Running iteration number: 50\n",
      "Noise variance: 0.7000000000000001\n",
      "Uncertainty set size: 0.05\n",
      "Running iteration number: 10\n",
      "Running iteration number: 20\n",
      "Running iteration number: 30\n",
      "Running iteration number: 40\n",
      "Running iteration number: 50\n",
      "Noise variance: 0.7000000000000001\n",
      "Uncertainty set size: 0.1\n",
      "Running iteration number: 10\n",
      "Running iteration number: 20\n",
      "Running iteration number: 30\n",
      "Running iteration number: 40\n",
      "Running iteration number: 50\n",
      "Noise variance: 0.7000000000000001\n",
      "Uncertainty set size: 0.5\n",
      "Running iteration number: 10\n",
      "Running iteration number: 20\n",
      "Running iteration number: 30\n",
      "Running iteration number: 40\n",
      "Running iteration number: 50\n",
      "Noise variance: 0.8\n",
      "Uncertainty set size: 0.0\n",
      "Running iteration number: 10\n",
      "Running iteration number: 20\n",
      "Running iteration number: 30\n",
      "Running iteration number: 40\n",
      "Running iteration number: 50\n",
      "Noise variance: 0.8\n",
      "Uncertainty set size: 0.01\n",
      "Running iteration number: 10\n",
      "Running iteration number: 20\n",
      "Running iteration number: 30\n",
      "Running iteration number: 40\n",
      "Running iteration number: 50\n",
      "Noise variance: 0.8\n",
      "Uncertainty set size: 0.02\n",
      "Running iteration number: 10\n",
      "Running iteration number: 20\n",
      "Running iteration number: 30\n",
      "Running iteration number: 40\n",
      "Running iteration number: 50\n",
      "Noise variance: 0.8\n",
      "Uncertainty set size: 0.05\n",
      "Running iteration number: 10\n",
      "Running iteration number: 20\n",
      "Running iteration number: 30\n",
      "Running iteration number: 40\n",
      "Running iteration number: 50\n",
      "Noise variance: 0.8\n",
      "Uncertainty set size: 0.1\n",
      "Running iteration number: 10\n",
      "Running iteration number: 20\n",
      "Running iteration number: 30\n",
      "Running iteration number: 40\n",
      "Running iteration number: 50\n",
      "Noise variance: 0.8\n",
      "Uncertainty set size: 0.5\n",
      "Running iteration number: 10\n",
      "Running iteration number: 20\n",
      "Running iteration number: 30\n",
      "Running iteration number: 40\n",
      "Running iteration number: 50\n",
      "Noise variance: 0.9\n",
      "Uncertainty set size: 0.0\n",
      "Running iteration number: 10\n",
      "Running iteration number: 20\n",
      "Running iteration number: 30\n",
      "Running iteration number: 40\n",
      "Running iteration number: 50\n",
      "Noise variance: 0.9\n",
      "Uncertainty set size: 0.01\n",
      "Running iteration number: 10\n",
      "Running iteration number: 20\n",
      "Running iteration number: 30\n",
      "Running iteration number: 40\n",
      "Running iteration number: 50\n",
      "Noise variance: 0.9\n",
      "Uncertainty set size: 0.02\n",
      "Running iteration number: 10\n",
      "Running iteration number: 20\n",
      "Running iteration number: 30\n",
      "Running iteration number: 40\n",
      "Running iteration number: 50\n",
      "Noise variance: 0.9\n",
      "Uncertainty set size: 0.05\n",
      "Running iteration number: 10\n",
      "Running iteration number: 20\n",
      "Running iteration number: 30\n",
      "Running iteration number: 40\n",
      "Running iteration number: 50\n",
      "Noise variance: 0.9\n",
      "Uncertainty set size: 0.1\n",
      "Running iteration number: 10\n",
      "Running iteration number: 20\n",
      "Running iteration number: 30\n",
      "Running iteration number: 40\n",
      "Running iteration number: 50\n",
      "Noise variance: 0.9\n",
      "Uncertainty set size: 0.5\n",
      "Running iteration number: 10\n",
      "Running iteration number: 20\n",
      "Running iteration number: 30\n",
      "Running iteration number: 40\n",
      "Running iteration number: 50\n",
      "Noise variance: 1.0\n",
      "Uncertainty set size: 0.0\n",
      "Running iteration number: 10\n",
      "Running iteration number: 20\n",
      "Running iteration number: 30\n",
      "Running iteration number: 40\n",
      "Running iteration number: 50\n",
      "Noise variance: 1.0\n",
      "Uncertainty set size: 0.01\n",
      "Running iteration number: 10\n",
      "Running iteration number: 20\n",
      "Running iteration number: 30\n",
      "Running iteration number: 40\n",
      "Running iteration number: 50\n",
      "Noise variance: 1.0\n",
      "Uncertainty set size: 0.02\n",
      "Running iteration number: 10\n",
      "Running iteration number: 20\n",
      "Running iteration number: 30\n",
      "Running iteration number: 40\n",
      "Running iteration number: 50\n",
      "Noise variance: 1.0\n",
      "Uncertainty set size: 0.05\n",
      "Running iteration number: 10\n",
      "Running iteration number: 20\n",
      "Running iteration number: 30\n",
      "Running iteration number: 40\n",
      "Running iteration number: 50\n",
      "Noise variance: 1.0\n",
      "Uncertainty set size: 0.1\n",
      "Running iteration number: 10\n",
      "Running iteration number: 20\n",
      "Running iteration number: 30\n",
      "Running iteration number: 40\n",
      "Running iteration number: 50\n",
      "Noise variance: 1.0\n",
      "Uncertainty set size: 0.5\n",
      "Running iteration number: 10\n",
      "Running iteration number: 20\n",
      "Running iteration number: 30\n",
      "Running iteration number: 40\n",
      "Running iteration number: 50\n"
     ]
    }
   ],
   "source": [
    "for i=6:10\n",
    "    for j=1:size(rs,1)\n",
    "        print(\"Noise variance: \")\n",
    "        println(vars[i]) \n",
    "        print(\"Uncertainty set size: \")\n",
    "        println(rs[j]) \n",
    "        delta_X_initial = zeros(size(X)) ; \n",
    "        Ptemp,Atemp,Ltemp = robust_baum_welch(X_noisy[i,:,:], pi_init, A_init, delta_X_initial, emission_dists, num_iterations, rs[j])\n",
    "        A_ests[i,j,:,:] = Atemp ; \n",
    "        pi_ests[i,j,:] = Ptemp ; \n",
    "        ll_ests[i,j,:] = Ltemp ; \n",
    "    end\n",
    "end"
   ]
  },
  {
   "cell_type": "markdown",
   "id": "36ea1f06",
   "metadata": {},
   "source": [
    "## Generate Test datasett"
   ]
  },
  {
   "cell_type": "code",
   "execution_count": 235,
   "id": "253b94f5",
   "metadata": {},
   "outputs": [],
   "source": [
    "## Generate one sequence of 1000 timesteps\n",
    "seq_length = 500 ; \n",
    "num_sequences = 5 ; \n",
    "\n",
    "\n",
    "S_test = zeros((num_sequences, seq_length)) ; \n",
    "X_test = zeros((num_sequences, seq_length)) ; \n",
    "\n",
    "for i =1:num_sequences\n",
    "    S_test[i,:] , X_test[i,:] = rand(hmm, seq_length, seq = true) ; \n",
    "end"
   ]
  },
  {
   "cell_type": "code",
   "execution_count": 236,
   "id": "43d78d31",
   "metadata": {},
   "outputs": [],
   "source": [
    "\n",
    "\n",
    "## Number of noisy data matrices to make \n",
    "\n",
    "n_noisy = 10 ; \n",
    "vars = [0.1*(k) for k=1:10] ;  ## Set of variances to be used to generate data\n",
    "\n",
    "## Define X_noisy\n",
    "\n",
    "X_noisy_test = zeros((n_noisy , size(X_test,1) , size(X_test,2))) ; \n",
    "\n",
    "for i=1:n_noisy\n",
    "     X_noisy_test[i,:,:] = X_test + rand(Normal(0,vars[i]) , size(X_test)) ; \n",
    "end"
   ]
  },
  {
   "cell_type": "code",
   "execution_count": null,
   "id": "0895032d",
   "metadata": {},
   "outputs": [],
   "source": []
  },
  {
   "cell_type": "code",
   "execution_count": null,
   "id": "d255c5ee",
   "metadata": {},
   "outputs": [],
   "source": []
  },
  {
   "cell_type": "code",
   "execution_count": 184,
   "id": "4f6c977c",
   "metadata": {
    "scrolled": true
   },
   "outputs": [
    {
     "data": {
      "text/plain": [
       "6"
      ]
     },
     "execution_count": 184,
     "metadata": {},
     "output_type": "execute_result"
    }
   ],
   "source": [
    "size(rs,1)"
   ]
  },
  {
   "cell_type": "code",
   "execution_count": 187,
   "id": "45425437",
   "metadata": {},
   "outputs": [
    {
     "data": {
      "text/plain": [
       "10×6 Matrix{Float64}:\n",
       " 0.0  0.0  0.0  0.0  0.0  0.0\n",
       " 0.0  0.0  0.0  0.0  0.0  0.0\n",
       " 0.0  0.0  0.0  0.0  0.0  0.0\n",
       " 0.0  0.0  0.0  0.0  0.0  0.0\n",
       " 0.0  0.0  0.0  0.0  0.0  0.0\n",
       " 0.0  0.0  0.0  0.0  0.0  0.0\n",
       " 0.0  0.0  0.0  0.0  0.0  0.0\n",
       " 0.0  0.0  0.0  0.0  0.0  0.0\n",
       " 0.0  0.0  0.0  0.0  0.0  0.0\n",
       " 0.0  0.0  0.0  0.0  0.0  0.0"
      ]
     },
     "execution_count": 187,
     "metadata": {},
     "output_type": "execute_result"
    },
    {
     "name": "stderr",
     "output_type": "stream",
     "text": [
      "WARNING: both BenchmarkTools and Distributions export \"params\"; uses of it in module Main must be qualified\n"
     ]
    }
   ],
   "source": [
    "param_ests_evals = zeros((10,6)) ; "
   ]
  },
  {
   "cell_type": "code",
   "execution_count": 188,
   "id": "2d608822",
   "metadata": {},
   "outputs": [
    {
     "name": "stdout",
     "output_type": "stream",
     "text": [
      "A KL divergence for (noise, r) = 0.1  0.0\n",
      "0.01593993470856665\n",
      "A KL divergence for (noise, r) = 0.1  0.01\n",
      "0.014568204962766146\n",
      "A KL divergence for (noise, r) = 0.1  0.02\n",
      "0.01383623488404583\n",
      "A KL divergence for (noise, r) = 0.1  0.05\n",
      "0.015112638896340758\n",
      "A KL divergence for (noise, r) = 0.1  0.1\n",
      "0.022917697366717543\n",
      "A KL divergence for (noise, r) = 0.1  0.5\n",
      "0.043329036331262095\n",
      "A KL divergence for (noise, r) = 0.2  0.0\n",
      "0.014663971565164729\n",
      "A KL divergence for (noise, r) = 0.2  0.01\n",
      "0.013737078309063008\n",
      "A KL divergence for (noise, r) = 0.2  0.02\n",
      "0.013404813601453413\n",
      "A KL divergence for (noise, r) = 0.2  0.05\n",
      "0.015447908966090967\n",
      "A KL divergence for (noise, r) = 0.2  0.1\n",
      "0.024514957259593413\n",
      "A KL divergence for (noise, r) = 0.2  0.5\n",
      "0.04613770894154165\n",
      "A KL divergence for (noise, r) = 0.30000000000000004  0.0\n",
      "0.017340054213081928\n",
      "A KL divergence for (noise, r) = 0.30000000000000004  0.01\n",
      "0.01730922635579147\n",
      "A KL divergence for (noise, r) = 0.30000000000000004  0.02\n",
      "0.017850379895229886\n",
      "A KL divergence for (noise, r) = 0.30000000000000004  0.05\n",
      "0.02181034129323368\n",
      "A KL divergence for (noise, r) = 0.30000000000000004  0.1\n",
      "0.030761783299188956\n",
      "A KL divergence for (noise, r) = 0.30000000000000004  0.5\n",
      "0.06641458312228501\n",
      "A KL divergence for (noise, r) = 0.4  0.0\n",
      "0.014850036015548481\n",
      "A KL divergence for (noise, r) = 0.4  0.01\n",
      "0.014932088055106343\n",
      "A KL divergence for (noise, r) = 0.4  0.02\n",
      "0.015551604475871412\n",
      "A KL divergence for (noise, r) = 0.4  0.05\n",
      "0.020447472372821993\n",
      "A KL divergence for (noise, r) = 0.4  0.1\n",
      "0.032282709622534635\n",
      "A KL divergence for (noise, r) = 0.4  0.5\n",
      "0.058492351517765176\n",
      "A KL divergence for (noise, r) = 0.5  0.0\n",
      "0.020977102413381736\n",
      "A KL divergence for (noise, r) = 0.5  0.01\n",
      "0.020596380356415027\n",
      "A KL divergence for (noise, r) = 0.5  0.02\n",
      "0.02080020318714047\n",
      "A KL divergence for (noise, r) = 0.5  0.05\n",
      "0.02483521506518384\n",
      "A KL divergence for (noise, r) = 0.5  0.1\n",
      "0.036670409229279166\n",
      "A KL divergence for (noise, r) = 0.5  0.5\n",
      "0.05811633031898881\n",
      "A KL divergence for (noise, r) = 0.6000000000000001  0.0\n",
      "0.03948226919625723\n",
      "A KL divergence for (noise, r) = 0.6000000000000001  0.01\n",
      "0.04066125814150522\n",
      "A KL divergence for (noise, r) = 0.6000000000000001  0.02\n",
      "0.04224517295954262\n",
      "A KL divergence for (noise, r) = 0.6000000000000001  0.05\n",
      "0.04827584365856545\n",
      "A KL divergence for (noise, r) = 0.6000000000000001  0.1\n",
      "0.05754448835382882\n",
      "A KL divergence for (noise, r) = 0.6000000000000001  0.5\n",
      "0.0707120118719165\n",
      "A KL divergence for (noise, r) = 0.7000000000000001  0.0\n",
      "0.0814133654871726\n",
      "A KL divergence for (noise, r) = 0.7000000000000001  0.01\n",
      "0.07849294422210565\n",
      "A KL divergence for (noise, r) = 0.7000000000000001  0.02\n",
      "0.07632337836777202\n",
      "A KL divergence for (noise, r) = 0.7000000000000001  0.05\n",
      "0.07496150904128296\n",
      "A KL divergence for (noise, r) = 0.7000000000000001  0.1\n",
      "0.07799119963572872\n",
      "A KL divergence for (noise, r) = 0.7000000000000001  0.5\n",
      "0.07905761256739055\n",
      "A KL divergence for (noise, r) = 0.8  0.0\n",
      "0.09293460487160485\n",
      "A KL divergence for (noise, r) = 0.8  0.01\n",
      "0.08840078997364353\n",
      "A KL divergence for (noise, r) = 0.8  0.02\n",
      "0.08519781446677985\n",
      "A KL divergence for (noise, r) = 0.8  0.05\n",
      "0.08194612174753473\n",
      "A KL divergence for (noise, r) = 0.8  0.1\n",
      "0.08216911428822504\n",
      "A KL divergence for (noise, r) = 0.8  0.5\n",
      "0.10503509538756098\n",
      "A KL divergence for (noise, r) = 0.9  0.0\n",
      "0.056149876525406595\n",
      "A KL divergence for (noise, r) = 0.9  0.01\n",
      "0.059305307902550855\n",
      "A KL divergence for (noise, r) = 0.9  0.02\n",
      "0.0625182803141718\n",
      "A KL divergence for (noise, r) = 0.9  0.05\n",
      "0.07110339913530019\n",
      "A KL divergence for (noise, r) = 0.9  0.1\n",
      "0.08280775415377559\n",
      "A KL divergence for (noise, r) = 0.9  0.5\n",
      "0.08751275459318462\n",
      "A KL divergence for (noise, r) = 1.0  0.0\n",
      "0.08648012228757355\n",
      "A KL divergence for (noise, r) = 1.0  0.01\n",
      "0.08607424882880124\n",
      "A KL divergence for (noise, r) = 1.0  0.02\n",
      "0.08612708104682268\n",
      "A KL divergence for (noise, r) = 1.0  0.05\n",
      "0.08783224815374036\n",
      "A KL divergence for (noise, r) = 1.0  0.1\n",
      "0.0949469990585298\n",
      "A KL divergence for (noise, r) = 1.0  0.5\n",
      "0.0917069845577422\n"
     ]
    }
   ],
   "source": [
    "for i=1:10\n",
    "    for j=1:size(rs,1)\n",
    "        print(\"A KL divergence for (noise, r) = \")\n",
    "        println(vars[i], \"  \" ,rs[j])\n",
    "        println(eval_param_ests(A_true, pi_true, A_ests[i,j,:,:], pi_ests[i,j,:])[3])\n",
    "        param_ests_evals[i,j] = eval_param_ests(A_true, pi_true, A_ests[i,j,:,:], pi_ests[i,j,:])[3]\n",
    "    end\n",
    "end"
   ]
  },
  {
   "cell_type": "code",
   "execution_count": 189,
   "id": "97f7d563",
   "metadata": {},
   "outputs": [
    {
     "data": {
      "text/plain": [
       "10×6 Matrix{Float64}:\n",
       " 0.0159399  0.0145682  0.0138362  0.0151126  0.0229177  0.043329\n",
       " 0.014664   0.0137371  0.0134048  0.0154479  0.024515   0.0461377\n",
       " 0.0173401  0.0173092  0.0178504  0.0218103  0.0307618  0.0664146\n",
       " 0.01485    0.0149321  0.0155516  0.0204475  0.0322827  0.0584924\n",
       " 0.0209771  0.0205964  0.0208002  0.0248352  0.0366704  0.0581163\n",
       " 0.0394823  0.0406613  0.0422452  0.0482758  0.0575445  0.070712\n",
       " 0.0814134  0.0784929  0.0763234  0.0749615  0.0779912  0.0790576\n",
       " 0.0929346  0.0884008  0.0851978  0.0819461  0.0821691  0.105035\n",
       " 0.0561499  0.0593053  0.0625183  0.0711034  0.0828078  0.0875128\n",
       " 0.0864801  0.0860742  0.0861271  0.0878322  0.094947   0.091707"
      ]
     },
     "execution_count": 189,
     "metadata": {},
     "output_type": "execute_result"
    }
   ],
   "source": [
    "param_ests_evals"
   ]
  },
  {
   "cell_type": "code",
   "execution_count": 201,
   "id": "52f87870",
   "metadata": {},
   "outputs": [],
   "source": [
    "state_ests_evals = zeros((10,6)) ; "
   ]
  },
  {
   "cell_type": "code",
   "execution_count": 202,
   "id": "66d8ddef",
   "metadata": {},
   "outputs": [
    {
     "name": "stdout",
     "output_type": "stream",
     "text": [
      "A KL divergence for (noise, r) = 0.1  0.0\n",
      "0.79\n",
      "A KL divergence for (noise, r) = 0.1  0.01\n",
      "0.79\n",
      "A KL divergence for (noise, r) = 0.1  0.02\n",
      "0.7904\n",
      "A KL divergence for (noise, r) = 0.1  0.05\n",
      "0.7898\n",
      "A KL divergence for (noise, r) = 0.1  0.1\n",
      "0.7944\n",
      "A KL divergence for (noise, r) = 0.1  0.5\n",
      "0.7906\n",
      "A KL divergence for (noise, r) = 0.2  0.0\n",
      "0.7902\n",
      "A KL divergence for (noise, r) = 0.2  0.01\n",
      "0.7892\n",
      "A KL divergence for (noise, r) = 0.2  0.02\n",
      "0.7896\n",
      "A KL divergence for (noise, r) = 0.2  0.05\n",
      "0.7892\n",
      "A KL divergence for (noise, r) = 0.2  0.1\n",
      "0.7858\n",
      "A KL divergence for (noise, r) = 0.2  0.5\n",
      "0.7816\n",
      "A KL divergence for (noise, r) = 0.30000000000000004  0.0\n",
      "0.7816\n",
      "A KL divergence for (noise, r) = 0.30000000000000004  0.01\n",
      "0.7818\n",
      "A KL divergence for (noise, r) = 0.30000000000000004  0.02\n",
      "0.7808\n",
      "A KL divergence for (noise, r) = 0.30000000000000004  0.05\n",
      "0.7752\n",
      "A KL divergence for (noise, r) = 0.30000000000000004  0.1\n",
      "0.7772\n",
      "A KL divergence for (noise, r) = 0.30000000000000004  0.5\n",
      "0.7772\n",
      "A KL divergence for (noise, r) = 0.4  0.0\n",
      "0.7678\n",
      "A KL divergence for (noise, r) = 0.4  0.01\n",
      "0.767\n",
      "A KL divergence for (noise, r) = 0.4  0.02\n",
      "0.7662\n",
      "A KL divergence for (noise, r) = 0.4  0.05\n",
      "0.7672\n",
      "A KL divergence for (noise, r) = 0.4  0.1\n",
      "0.7668\n",
      "A KL divergence for (noise, r) = 0.4  0.5\n",
      "0.7612\n",
      "A KL divergence for (noise, r) = 0.5  0.0\n",
      "0.747\n",
      "A KL divergence for (noise, r) = 0.5  0.01\n",
      "0.7478\n",
      "A KL divergence for (noise, r) = 0.5  0.02\n",
      "0.7476\n",
      "A KL divergence for (noise, r) = 0.5  0.05\n",
      "0.7472\n",
      "A KL divergence for (noise, r) = 0.5  0.1\n",
      "0.7456\n",
      "A KL divergence for (noise, r) = 0.5  0.5\n",
      "0.7398\n",
      "A KL divergence for (noise, r) = 0.6000000000000001  0.0\n",
      "0.7402\n",
      "A KL divergence for (noise, r) = 0.6000000000000001  0.01\n",
      "0.7402\n",
      "A KL divergence for (noise, r) = 0.6000000000000001  0.02\n",
      "0.738\n",
      "A KL divergence for (noise, r) = 0.6000000000000001  0.05\n",
      "0.7364\n",
      "A KL divergence for (noise, r) = 0.6000000000000001  0.1\n",
      "0.7316\n",
      "A KL divergence for (noise, r) = 0.6000000000000001  0.5\n",
      "0.7338\n",
      "A KL divergence for (noise, r) = 0.7000000000000001  0.0\n",
      "0.7196\n",
      "A KL divergence for (noise, r) = 0.7000000000000001  0.01\n",
      "0.7192\n",
      "A KL divergence for (noise, r) = 0.7000000000000001  0.02\n",
      "0.7172\n",
      "A KL divergence for (noise, r) = 0.7000000000000001  0.05\n",
      "0.7108\n",
      "A KL divergence for (noise, r) = 0.7000000000000001  0.1\n",
      "0.7046\n",
      "A KL divergence for (noise, r) = 0.7000000000000001  0.5\n",
      "0.7128\n",
      "A KL divergence for (noise, r) = 0.8  0.0\n",
      "0.6998\n",
      "A KL divergence for (noise, r) = 0.8  0.01\n",
      "0.6974\n",
      "A KL divergence for (noise, r) = 0.8  0.02\n",
      "0.6962\n",
      "A KL divergence for (noise, r) = 0.8  0.05\n",
      "0.6936\n",
      "A KL divergence for (noise, r) = 0.8  0.1\n",
      "0.6896\n",
      "A KL divergence for (noise, r) = 0.8  0.5\n",
      "0.6958\n",
      "A KL divergence for (noise, r) = 0.9  0.0\n",
      "0.6876\n",
      "A KL divergence for (noise, r) = 0.9  0.01\n",
      "0.6852\n",
      "A KL divergence for (noise, r) = 0.9  0.02\n",
      "0.6842\n",
      "A KL divergence for (noise, r) = 0.9  0.05\n",
      "0.6776\n",
      "A KL divergence for (noise, r) = 0.9  0.1\n",
      "0.6732\n",
      "A KL divergence for (noise, r) = 0.9  0.5\n",
      "0.682\n",
      "A KL divergence for (noise, r) = 1.0  0.0\n",
      "0.6496\n",
      "A KL divergence for (noise, r) = 1.0  0.01\n",
      "0.6476\n",
      "A KL divergence for (noise, r) = 1.0  0.02\n",
      "0.6472\n",
      "A KL divergence for (noise, r) = 1.0  0.05\n",
      "0.6438\n",
      "A KL divergence for (noise, r) = 1.0  0.1\n",
      "0.6428\n",
      "A KL divergence for (noise, r) = 1.0  0.5\n",
      "0.6496\n"
     ]
    }
   ],
   "source": [
    "for i=1:10\n",
    "    for j=1:size(rs,1)\n",
    "        print(\"A KL divergence for (noise, r) = \")\n",
    "        println(vars[i], \"  \" ,rs[j])\n",
    "        k = eval_state_ests(X_noisy[i,:,:], S, pi_ests[i,j,:], A_ests[i,j,:,:], emission_dists)[2]\n",
    "        println(tr(k)/sum(k))\n",
    "        state_ests_evals[i,j] = tr(k)/sum(k) ; \n",
    "    end\n",
    "end"
   ]
  },
  {
   "cell_type": "code",
   "execution_count": 238,
   "id": "fbf359ee",
   "metadata": {},
   "outputs": [],
   "source": [
    "test_data_state_ests_evals = zeros((10,6)) ; "
   ]
  },
  {
   "cell_type": "code",
   "execution_count": 239,
   "id": "fc3e59d2",
   "metadata": {},
   "outputs": [
    {
     "name": "stdout",
     "output_type": "stream",
     "text": [
      "State accuracy for test data (noise, r) = 0.1  0.0\n",
      "0.8304\n",
      "State accuracy for test data (noise, r) = 0.1  0.01\n",
      "0.8316\n",
      "State accuracy for test data (noise, r) = 0.1  0.02\n",
      "0.8296\n",
      "State accuracy for test data (noise, r) = 0.1  0.05\n",
      "0.8264\n",
      "State accuracy for test data (noise, r) = 0.1  0.1\n",
      "0.8264\n",
      "State accuracy for test data (noise, r) = 0.1  0.5\n",
      "0.8156\n",
      "State accuracy for test data (noise, r) = 0.2  0.0\n",
      "0.822\n",
      "State accuracy for test data (noise, r) = 0.2  0.01\n",
      "0.8224\n",
      "State accuracy for test data (noise, r) = 0.2  0.02\n",
      "0.822\n",
      "State accuracy for test data (noise, r) = 0.2  0.05\n",
      "0.8192\n",
      "State accuracy for test data (noise, r) = 0.2  0.1\n",
      "0.8176\n",
      "State accuracy for test data (noise, r) = 0.2  0.5\n",
      "0.804\n",
      "State accuracy for test data (noise, r) = 0.30000000000000004  0.0\n",
      "0.8152\n",
      "State accuracy for test data (noise, r) = 0.30000000000000004  0.01\n",
      "0.8156\n",
      "State accuracy for test data (noise, r) = 0.30000000000000004  0.02\n",
      "0.8136\n",
      "State accuracy for test data (noise, r) = 0.30000000000000004  0.05\n",
      "0.8088\n",
      "State accuracy for test data (noise, r) = 0.30000000000000004  0.1\n",
      "0.8072\n",
      "State accuracy for test data (noise, r) = 0.30000000000000004  0.5\n",
      "0.7976\n",
      "State accuracy for test data (noise, r) = 0.4  0.0\n",
      "0.792\n",
      "State accuracy for test data (noise, r) = 0.4  0.01\n",
      "0.7928\n",
      "State accuracy for test data (noise, r) = 0.4  0.02\n",
      "0.796\n",
      "State accuracy for test data (noise, r) = 0.4  0.05\n",
      "0.7928\n",
      "State accuracy for test data (noise, r) = 0.4  0.1\n",
      "0.7908\n",
      "State accuracy for test data (noise, r) = 0.4  0.5\n",
      "0.7916\n",
      "State accuracy for test data (noise, r) = 0.5  0.0\n",
      "0.7692\n",
      "State accuracy for test data (noise, r) = 0.5  0.01\n",
      "0.7712\n",
      "State accuracy for test data (noise, r) = 0.5  0.02\n",
      "0.7732\n",
      "State accuracy for test data (noise, r) = 0.5  0.05\n",
      "0.7712\n",
      "State accuracy for test data (noise, r) = 0.5  0.1\n",
      "0.7704\n",
      "State accuracy for test data (noise, r) = 0.5  0.5\n",
      "0.762\n",
      "State accuracy for test data (noise, r) = 0.6000000000000001  0.0\n",
      "0.7644\n",
      "State accuracy for test data (noise, r) = 0.6000000000000001  0.01\n",
      "0.7628\n",
      "State accuracy for test data (noise, r) = 0.6000000000000001  0.02\n",
      "0.7612\n",
      "State accuracy for test data (noise, r) = 0.6000000000000001  0.05\n",
      "0.7576\n",
      "State accuracy for test data (noise, r) = 0.6000000000000001  0.1\n",
      "0.752\n",
      "State accuracy for test data (noise, r) = 0.6000000000000001  0.5\n",
      "0.754\n",
      "State accuracy for test data (noise, r) = 0.7000000000000001  0.0\n",
      "0.7376\n",
      "State accuracy for test data (noise, r) = 0.7000000000000001  0.01\n",
      "0.7372\n",
      "State accuracy for test data (noise, r) = 0.7000000000000001  0.02\n",
      "0.7356\n",
      "State accuracy for test data (noise, r) = 0.7000000000000001  0.05\n",
      "0.7308\n",
      "State accuracy for test data (noise, r) = 0.7000000000000001  0.1\n",
      "0.7268\n",
      "State accuracy for test data (noise, r) = 0.7000000000000001  0.5\n",
      "0.7376\n",
      "State accuracy for test data (noise, r) = 0.8  0.0\n",
      "0.73\n",
      "State accuracy for test data (noise, r) = 0.8  0.01\n",
      "0.7288\n",
      "State accuracy for test data (noise, r) = 0.8  0.02\n",
      "0.7268\n",
      "State accuracy for test data (noise, r) = 0.8  0.05\n",
      "0.7236\n",
      "State accuracy for test data (noise, r) = 0.8  0.1\n",
      "0.7212\n",
      "State accuracy for test data (noise, r) = 0.8  0.5\n",
      "0.7256\n",
      "State accuracy for test data (noise, r) = 0.9  0.0\n",
      "0.6964\n",
      "State accuracy for test data (noise, r) = 0.9  0.01\n",
      "0.6948\n",
      "State accuracy for test data (noise, r) = 0.9  0.02\n",
      "0.694\n",
      "State accuracy for test data (noise, r) = 0.9  0.05\n",
      "0.686\n",
      "State accuracy for test data (noise, r) = 0.9  0.1\n",
      "0.6812\n",
      "State accuracy for test data (noise, r) = 0.9  0.5\n",
      "0.69\n",
      "State accuracy for test data (noise, r) = 1.0  0.0\n",
      "0.6752\n",
      "State accuracy for test data (noise, r) = 1.0  0.01\n",
      "0.6756\n",
      "State accuracy for test data (noise, r) = 1.0  0.02\n",
      "0.6748\n",
      "State accuracy for test data (noise, r) = 1.0  0.05\n",
      "0.6684\n",
      "State accuracy for test data (noise, r) = 1.0  0.1\n",
      "0.6672\n",
      "State accuracy for test data (noise, r) = 1.0  0.5\n",
      "0.6752\n"
     ]
    }
   ],
   "source": [
    "for i=1:10\n",
    "    for j=1:size(rs,1)\n",
    "        print(\"State accuracy for test data (noise, r) = \")\n",
    "        println(vars[i], \"  \" ,rs[j])\n",
    "        k = eval_state_ests(X_noisy_test[i,:,:], S_test, pi_ests[i,j,:], A_ests[i,j,:,:], emission_dists)[2]\n",
    "        println(tr(k)/sum(k))\n",
    "        test_data_state_ests_evals[i,j] = tr(k)/sum(k) ; \n",
    "    end\n",
    "end"
   ]
  },
  {
   "cell_type": "code",
   "execution_count": 241,
   "id": "4e86b1a5",
   "metadata": {},
   "outputs": [
    {
     "data": {
      "text/plain": [
       "10×6 Matrix{Float64}:\n",
       " 0.8304  0.8316  0.8296  0.8264  0.8264  0.8156\n",
       " 0.822   0.8224  0.822   0.8192  0.8176  0.804\n",
       " 0.8152  0.8156  0.8136  0.8088  0.8072  0.7976\n",
       " 0.792   0.7928  0.796   0.7928  0.7908  0.7916\n",
       " 0.7692  0.7712  0.7732  0.7712  0.7704  0.762\n",
       " 0.7644  0.7628  0.7612  0.7576  0.752   0.754\n",
       " 0.7376  0.7372  0.7356  0.7308  0.7268  0.7376\n",
       " 0.73    0.7288  0.7268  0.7236  0.7212  0.7256\n",
       " 0.6964  0.6948  0.694   0.686   0.6812  0.69\n",
       " 0.6752  0.6756  0.6748  0.6684  0.6672  0.6752"
      ]
     },
     "execution_count": 241,
     "metadata": {},
     "output_type": "execute_result"
    }
   ],
   "source": [
    "test_data_state_ests_evals"
   ]
  },
  {
   "cell_type": "markdown",
   "id": "c5927f48",
   "metadata": {},
   "source": [
    "## OPTIMISTIC EXPERIMENTS"
   ]
  },
  {
   "cell_type": "code",
   "execution_count": 204,
   "id": "eee2cdc0",
   "metadata": {},
   "outputs": [],
   "source": [
    "num_iterations  = 50 ; \n",
    "A_opt_ests = zeros((size(vars, 1) , size(rs,1) , size(A_true,1) , size(A_true,2))) ; \n",
    "pi_opt_ests = zeros((size(vars, 1) , size(rs,1) , size(pi_true,1) )) ; \n",
    "ll_opt_ests = zeros((size(vars, 1) , size(rs,1) , num_iters )) ; "
   ]
  },
  {
   "cell_type": "code",
   "execution_count": 205,
   "id": "7f13edd5",
   "metadata": {},
   "outputs": [],
   "source": [
    "delta_X_initial = zeros(size(X)) ; "
   ]
  },
  {
   "cell_type": "code",
   "execution_count": 206,
   "id": "1b7bcb4f",
   "metadata": {},
   "outputs": [
    {
     "data": {
      "text/plain": [
       "10"
      ]
     },
     "execution_count": 206,
     "metadata": {},
     "output_type": "execute_result"
    }
   ],
   "source": [
    "size(vars, 1)"
   ]
  },
  {
   "cell_type": "code",
   "execution_count": 209,
   "id": "264e89df",
   "metadata": {},
   "outputs": [
    {
     "name": "stdout",
     "output_type": "stream",
     "text": [
      "Noise variance: 0.1\n",
      "Uncertainty set size: 0.0\n",
      "Running iteration number: 10\n",
      "Running iteration number: 20\n",
      "Running iteration number: 30\n",
      "Running iteration number: 40\n",
      "Running iteration number: 50\n",
      "Noise variance: 0.1\n",
      "Uncertainty set size: 0.01\n",
      "Running iteration number: 10\n",
      "Running iteration number: 20\n",
      "Running iteration number: 30\n",
      "Running iteration number: 40\n",
      "Running iteration number: 50\n",
      "Noise variance: 0.1\n",
      "Uncertainty set size: 0.02\n",
      "Running iteration number: 10\n",
      "Running iteration number: 20\n",
      "Running iteration number: 30\n",
      "Running iteration number: 40\n",
      "Running iteration number: 50\n",
      "Noise variance: 0.1\n",
      "Uncertainty set size: 0.05\n",
      "Running iteration number: 10\n",
      "Running iteration number: 20\n",
      "Running iteration number: 30\n",
      "Running iteration number: 40\n",
      "Running iteration number: 50\n",
      "Noise variance: 0.1\n",
      "Uncertainty set size: 0.1\n",
      "Running iteration number: 10\n",
      "Running iteration number: 20\n",
      "Running iteration number: 30\n",
      "Running iteration number: 40\n",
      "Running iteration number: 50\n",
      "Noise variance: 0.1\n",
      "Uncertainty set size: 0.5\n",
      "Running iteration number: 10\n",
      "Running iteration number: 20\n",
      "Running iteration number: 30\n",
      "Running iteration number: 40\n",
      "Running iteration number: 50\n",
      "Noise variance: 0.2\n",
      "Uncertainty set size: 0.0\n",
      "Running iteration number: 10\n",
      "Running iteration number: 20\n",
      "Running iteration number: 30\n",
      "Running iteration number: 40\n",
      "Running iteration number: 50\n",
      "Noise variance: 0.2\n",
      "Uncertainty set size: 0.01\n",
      "Running iteration number: 10\n",
      "Running iteration number: 20\n",
      "Running iteration number: 30\n",
      "Running iteration number: 40\n",
      "Running iteration number: 50\n",
      "Noise variance: 0.2\n",
      "Uncertainty set size: 0.02\n",
      "Running iteration number: 10\n",
      "Running iteration number: 20\n",
      "Running iteration number: 30\n",
      "Running iteration number: 40\n",
      "Running iteration number: 50\n",
      "Noise variance: 0.2\n",
      "Uncertainty set size: 0.05\n",
      "Running iteration number: 10\n",
      "Running iteration number: 20\n",
      "Running iteration number: 30\n",
      "Running iteration number: 40\n",
      "Running iteration number: 50\n",
      "Noise variance: 0.2\n",
      "Uncertainty set size: 0.1\n",
      "Running iteration number: 10\n",
      "Running iteration number: 20\n",
      "Running iteration number: 30\n",
      "Running iteration number: 40\n",
      "Running iteration number: 50\n",
      "Noise variance: 0.2\n",
      "Uncertainty set size: 0.5\n",
      "Running iteration number: 10\n",
      "Running iteration number: 20\n",
      "Running iteration number: 30\n",
      "Running iteration number: 40\n",
      "Running iteration number: 50\n",
      "Noise variance: 0.30000000000000004\n",
      "Uncertainty set size: 0.0\n",
      "Running iteration number: 10\n",
      "Running iteration number: 20\n",
      "Running iteration number: 30\n",
      "Running iteration number: 40\n",
      "Running iteration number: 50\n",
      "Noise variance: 0.30000000000000004\n",
      "Uncertainty set size: 0.01\n",
      "Running iteration number: 10\n",
      "Running iteration number: 20\n",
      "Running iteration number: 30\n",
      "Running iteration number: 40\n",
      "Running iteration number: 50\n",
      "Noise variance: 0.30000000000000004\n",
      "Uncertainty set size: 0.02\n",
      "Running iteration number: 10\n",
      "Running iteration number: 20\n",
      "Running iteration number: 30\n",
      "Running iteration number: 40\n",
      "Running iteration number: 50\n",
      "Noise variance: 0.30000000000000004\n",
      "Uncertainty set size: 0.05\n",
      "Running iteration number: 10\n",
      "Running iteration number: 20\n",
      "Running iteration number: 30\n",
      "Running iteration number: 40\n",
      "Running iteration number: 50\n",
      "Noise variance: 0.30000000000000004\n",
      "Uncertainty set size: 0.1\n",
      "Running iteration number: 10\n",
      "Running iteration number: 20\n",
      "Running iteration number: 30\n",
      "Running iteration number: 40\n",
      "Running iteration number: 50\n",
      "Noise variance: 0.30000000000000004\n",
      "Uncertainty set size: 0.5\n",
      "Running iteration number: 10\n",
      "Running iteration number: 20\n",
      "Running iteration number: 30\n",
      "Running iteration number: 40\n",
      "Running iteration number: 50\n",
      "Noise variance: 0.4\n",
      "Uncertainty set size: 0.0\n",
      "Running iteration number: 10\n",
      "Running iteration number: 20\n",
      "Running iteration number: 30\n",
      "Running iteration number: 40\n",
      "Running iteration number: 50\n",
      "Noise variance: 0.4\n",
      "Uncertainty set size: 0.01\n",
      "Running iteration number: 10\n",
      "Running iteration number: 20\n",
      "Running iteration number: 30\n",
      "Running iteration number: 40\n",
      "Running iteration number: 50\n",
      "Noise variance: 0.4\n",
      "Uncertainty set size: 0.02\n",
      "Running iteration number: 10\n",
      "Running iteration number: 20\n",
      "Running iteration number: 30\n",
      "Running iteration number: 40\n",
      "Running iteration number: 50\n",
      "Noise variance: 0.4\n",
      "Uncertainty set size: 0.05\n",
      "Running iteration number: 10\n",
      "Running iteration number: 20\n",
      "Running iteration number: 30\n",
      "Running iteration number: 40\n",
      "Running iteration number: 50\n",
      "Noise variance: 0.4\n",
      "Uncertainty set size: 0.1\n",
      "Running iteration number: 10\n",
      "Running iteration number: 20\n",
      "Running iteration number: 30\n",
      "Running iteration number: 40\n",
      "Running iteration number: 50\n",
      "Noise variance: 0.4\n",
      "Uncertainty set size: 0.5\n",
      "Running iteration number: 10\n",
      "Running iteration number: 20\n",
      "Running iteration number: 30\n",
      "Running iteration number: 40\n",
      "Running iteration number: 50\n",
      "Noise variance: 0.5\n",
      "Uncertainty set size: 0.0\n",
      "Running iteration number: 10\n",
      "Running iteration number: 20\n",
      "Running iteration number: 30\n",
      "Running iteration number: 40\n",
      "Running iteration number: 50\n",
      "Noise variance: 0.5\n",
      "Uncertainty set size: 0.01\n",
      "Running iteration number: 10\n",
      "Running iteration number: 20\n",
      "Running iteration number: 30\n",
      "Running iteration number: 40\n",
      "Running iteration number: 50\n",
      "Noise variance: 0.5\n",
      "Uncertainty set size: 0.02\n",
      "Running iteration number: 10\n",
      "Running iteration number: 20\n",
      "Running iteration number: 30\n",
      "Running iteration number: 40\n",
      "Running iteration number: 50\n",
      "Noise variance: 0.5\n",
      "Uncertainty set size: 0.05\n",
      "Running iteration number: 10\n",
      "Running iteration number: 20\n",
      "Running iteration number: 30\n",
      "Running iteration number: 40\n",
      "Running iteration number: 50\n",
      "Noise variance: 0.5\n",
      "Uncertainty set size: 0.1\n",
      "Running iteration number: 10\n",
      "Running iteration number: 20\n",
      "Running iteration number: 30\n",
      "Running iteration number: 40\n",
      "Running iteration number: 50\n",
      "Noise variance: 0.5\n",
      "Uncertainty set size: 0.5\n",
      "Running iteration number: 10\n",
      "Running iteration number: 20\n",
      "Running iteration number: 30\n",
      "Running iteration number: 40\n",
      "Running iteration number: 50\n",
      "Noise variance: 0.6000000000000001\n",
      "Uncertainty set size: 0.0\n",
      "Running iteration number: 10\n",
      "Running iteration number: 20\n",
      "Running iteration number: 30\n",
      "Running iteration number: 40\n",
      "Running iteration number: 50\n",
      "Noise variance: 0.6000000000000001\n",
      "Uncertainty set size: 0.01\n",
      "Running iteration number: 10\n",
      "Running iteration number: 20\n",
      "Running iteration number: 30\n",
      "Running iteration number: 40\n",
      "Running iteration number: 50\n",
      "Noise variance: 0.6000000000000001\n",
      "Uncertainty set size: 0.02\n",
      "Running iteration number: 10\n",
      "Running iteration number: 20\n",
      "Running iteration number: 30\n",
      "Running iteration number: 40\n",
      "Running iteration number: 50\n",
      "Noise variance: 0.6000000000000001\n",
      "Uncertainty set size: 0.05\n",
      "Running iteration number: 10\n",
      "Running iteration number: 20\n",
      "Running iteration number: 30\n",
      "Running iteration number: 40\n",
      "Running iteration number: 50\n",
      "Noise variance: 0.6000000000000001\n",
      "Uncertainty set size: 0.1\n",
      "Running iteration number: 10\n",
      "Running iteration number: 20\n",
      "Running iteration number: 30\n",
      "Running iteration number: 40\n",
      "Running iteration number: 50\n",
      "Noise variance: 0.6000000000000001\n",
      "Uncertainty set size: 0.5\n",
      "Running iteration number: 10\n",
      "Running iteration number: 20\n",
      "Running iteration number: 30\n",
      "Running iteration number: 40\n",
      "Running iteration number: 50\n",
      "Noise variance: 0.7000000000000001\n",
      "Uncertainty set size: 0.0\n",
      "Running iteration number: 10\n",
      "Running iteration number: 20\n",
      "Running iteration number: 30\n",
      "Running iteration number: 40\n",
      "Running iteration number: 50\n",
      "Noise variance: 0.7000000000000001\n",
      "Uncertainty set size: 0.01\n",
      "Running iteration number: 10\n",
      "Running iteration number: 20\n",
      "Running iteration number: 30\n",
      "Running iteration number: 40\n",
      "Running iteration number: 50\n",
      "Noise variance: 0.7000000000000001\n",
      "Uncertainty set size: 0.02\n",
      "Running iteration number: 10\n",
      "Running iteration number: 20\n",
      "Running iteration number: 30\n",
      "Running iteration number: 40\n",
      "Running iteration number: 50\n",
      "Noise variance: 0.7000000000000001\n",
      "Uncertainty set size: 0.05\n",
      "Running iteration number: 10\n",
      "Running iteration number: 20\n",
      "Running iteration number: 30\n",
      "Running iteration number: 40\n",
      "Running iteration number: 50\n",
      "Noise variance: 0.7000000000000001\n",
      "Uncertainty set size: 0.1\n",
      "Running iteration number: 10\n",
      "Running iteration number: 20\n",
      "Running iteration number: 30\n",
      "Running iteration number: 40\n",
      "Running iteration number: 50\n",
      "Noise variance: 0.7000000000000001\n",
      "Uncertainty set size: 0.5\n"
     ]
    },
    {
     "name": "stdout",
     "output_type": "stream",
     "text": [
      "Running iteration number: 10\n",
      "Running iteration number: 20\n",
      "Running iteration number: 30\n",
      "Running iteration number: 40\n",
      "Running iteration number: 50\n",
      "Noise variance: 0.8\n",
      "Uncertainty set size: 0.0\n",
      "Running iteration number: 10\n",
      "Running iteration number: 20\n",
      "Running iteration number: 30\n",
      "Running iteration number: 40\n",
      "Running iteration number: 50\n",
      "Noise variance: 0.8\n",
      "Uncertainty set size: 0.01\n",
      "Running iteration number: 10\n",
      "Running iteration number: 20\n",
      "Running iteration number: 30\n",
      "Running iteration number: 40\n",
      "Running iteration number: 50\n",
      "Noise variance: 0.8\n",
      "Uncertainty set size: 0.02\n",
      "Running iteration number: 10\n",
      "Running iteration number: 20\n",
      "Running iteration number: 30\n",
      "Running iteration number: 40\n",
      "Running iteration number: 50\n",
      "Noise variance: 0.8\n",
      "Uncertainty set size: 0.05\n",
      "Running iteration number: 10\n",
      "Running iteration number: 20\n",
      "Running iteration number: 30\n",
      "Running iteration number: 40\n",
      "Running iteration number: 50\n",
      "Noise variance: 0.8\n",
      "Uncertainty set size: 0.1\n",
      "Running iteration number: 10\n",
      "Running iteration number: 20\n",
      "Running iteration number: 30\n",
      "Running iteration number: 40\n",
      "Running iteration number: 50\n",
      "Noise variance: 0.8\n",
      "Uncertainty set size: 0.5\n",
      "Running iteration number: 10\n",
      "Running iteration number: 20\n",
      "Running iteration number: 30\n",
      "Running iteration number: 40\n",
      "Running iteration number: 50\n",
      "Noise variance: 0.9\n",
      "Uncertainty set size: 0.0\n",
      "Running iteration number: 10\n",
      "Running iteration number: 20\n",
      "Running iteration number: 30\n",
      "Running iteration number: 40\n",
      "Running iteration number: 50\n",
      "Noise variance: 0.9\n",
      "Uncertainty set size: 0.01\n",
      "Running iteration number: 10\n",
      "Running iteration number: 20\n",
      "Running iteration number: 30\n",
      "Running iteration number: 40\n",
      "Running iteration number: 50\n",
      "Noise variance: 0.9\n",
      "Uncertainty set size: 0.02\n",
      "Running iteration number: 10\n",
      "Running iteration number: 20\n",
      "Running iteration number: 30\n",
      "Running iteration number: 40\n",
      "Running iteration number: 50\n",
      "Noise variance: 0.9\n",
      "Uncertainty set size: 0.05\n",
      "Running iteration number: 10\n",
      "Running iteration number: 20\n",
      "Running iteration number: 30\n",
      "Running iteration number: 40\n",
      "Running iteration number: 50\n",
      "Noise variance: 0.9\n",
      "Uncertainty set size: 0.1\n",
      "Running iteration number: 10\n",
      "Running iteration number: 20\n",
      "Running iteration number: 30\n",
      "Running iteration number: 40\n",
      "Running iteration number: 50\n",
      "Noise variance: 0.9\n",
      "Uncertainty set size: 0.5\n",
      "Running iteration number: 10\n",
      "Running iteration number: 20\n",
      "Running iteration number: 30\n",
      "Running iteration number: 40\n",
      "Running iteration number: 50\n",
      "Noise variance: 1.0\n",
      "Uncertainty set size: 0.0\n",
      "Running iteration number: 10\n",
      "Running iteration number: 20\n",
      "Running iteration number: 30\n",
      "Running iteration number: 40\n",
      "Running iteration number: 50\n",
      "Noise variance: 1.0\n",
      "Uncertainty set size: 0.01\n",
      "Running iteration number: 10\n",
      "Running iteration number: 20\n",
      "Running iteration number: 30\n",
      "Running iteration number: 40\n",
      "Running iteration number: 50\n",
      "Noise variance: 1.0\n",
      "Uncertainty set size: 0.02\n",
      "Running iteration number: 10\n",
      "Running iteration number: 20\n",
      "Running iteration number: 30\n",
      "Running iteration number: 40\n",
      "Running iteration number: 50\n",
      "Noise variance: 1.0\n",
      "Uncertainty set size: 0.05\n",
      "Running iteration number: 10\n",
      "Running iteration number: 20\n",
      "Running iteration number: 30\n",
      "Running iteration number: 40\n",
      "Running iteration number: 50\n",
      "Noise variance: 1.0\n",
      "Uncertainty set size: 0.1\n",
      "Running iteration number: 10\n",
      "Running iteration number: 20\n",
      "Running iteration number: 30\n",
      "Running iteration number: 40\n",
      "Running iteration number: 50\n",
      "Noise variance: 1.0\n",
      "Uncertainty set size: 0.5\n",
      "Running iteration number: 10\n",
      "Running iteration number: 20\n",
      "Running iteration number: 30\n",
      "Running iteration number: 40\n",
      "Running iteration number: 50\n"
     ]
    }
   ],
   "source": [
    "for i=1:10\n",
    "    for j=1:size(rs,1)\n",
    "        print(\"Noise variance: \")\n",
    "        println(vars[i]) \n",
    "        print(\"Uncertainty set size: \")\n",
    "        println(rs[j]) \n",
    "        delta_X_initial = zeros(size(X)) ; \n",
    "        Ptemp,Atemp,Ltemp = optimistic_baum_welch(X_noisy[i,:,:], pi_init, A_init, delta_X_initial, emission_dists, num_iterations, rs[j])\n",
    "        A_opt_ests[i,j,:,:] = Atemp ; \n",
    "        pi_opt_ests[i,j,:] = Ptemp ; \n",
    "        ll_opt_ests[i,j,:] = Ltemp ; \n",
    "    end\n",
    "end"
   ]
  },
  {
   "cell_type": "code",
   "execution_count": 210,
   "id": "e147f6f5",
   "metadata": {},
   "outputs": [],
   "source": [
    "opt_param_ests_evals = zeros((10,6)) ; "
   ]
  },
  {
   "cell_type": "code",
   "execution_count": 211,
   "id": "c82f2130",
   "metadata": {},
   "outputs": [
    {
     "name": "stdout",
     "output_type": "stream",
     "text": [
      "A KL divergence for (noise, r) = 0.1  0.0\n",
      "0.01593993470856665\n",
      "A KL divergence for (noise, r) = 0.1  0.01\n",
      "0.0180415641428998\n",
      "A KL divergence for (noise, r) = 0.1  0.02\n",
      "0.02089343479835733\n",
      "A KL divergence for (noise, r) = 0.1  0.05\n",
      "0.03578666359045681\n",
      "A KL divergence for (noise, r) = 0.1  0.1\n",
      "0.09176258752440143\n",
      "A KL divergence for (noise, r) = 0.1  0.5\n",
      "1.4190327401958178\n",
      "A KL divergence for (noise, r) = 0.2  0.0\n",
      "0.014663971565164729\n",
      "A KL divergence for (noise, r) = 0.2  0.01\n",
      "0.016313065896379115\n",
      "A KL divergence for (noise, r) = 0.2  0.02\n",
      "0.01868544545778399\n",
      "A KL divergence for (noise, r) = 0.2  0.05\n",
      "0.03066951656401825\n",
      "A KL divergence for (noise, r) = 0.2  0.1\n",
      "0.07064821705292398\n",
      "A KL divergence for (noise, r) = 0.2  0.5\n",
      "1.3499888280754495\n",
      "A KL divergence for (noise, r) = 0.30000000000000004  0.0\n",
      "0.017340054213081928\n",
      "A KL divergence for (noise, r) = 0.30000000000000004  0.01\n",
      "0.018160262232065013\n",
      "A KL divergence for (noise, r) = 0.30000000000000004  0.02\n",
      "0.019933340090917424\n",
      "A KL divergence for (noise, r) = 0.30000000000000004  0.05\n",
      "0.0315875355853623\n",
      "A KL divergence for (noise, r) = 0.30000000000000004  0.1\n",
      "0.08543446882578651\n",
      "A KL divergence for (noise, r) = 0.30000000000000004  0.5\n",
      "1.1678598898129955\n",
      "A KL divergence for (noise, r) = 0.4  0.0\n",
      "0.014850036015548481\n",
      "A KL divergence for (noise, r) = 0.4  0.01\n",
      "0.015436901166518533\n",
      "A KL divergence for (noise, r) = 0.4  0.02\n",
      "0.01673108679226385\n",
      "A KL divergence for (noise, r) = 0.4  0.05\n",
      "0.025405301711084356\n",
      "A KL divergence for (noise, r) = 0.4  0.1\n",
      "0.05760977782134459\n",
      "A KL divergence for (noise, r) = 0.4  0.5\n",
      "1.236715886410068\n",
      "A KL divergence for (noise, r) = 0.5  0.0\n",
      "0.020977102413381736\n",
      "A KL divergence for (noise, r) = 0.5  0.01\n",
      "0.021978981877446898\n",
      "A KL divergence for (noise, r) = 0.5  0.02\n",
      "0.023633778225517037\n",
      "A KL divergence for (noise, r) = 0.5  0.05\n",
      "0.03339824144555184\n",
      "A KL divergence for (noise, r) = 0.5  0.1\n",
      "0.07071729872072939\n",
      "A KL divergence for (noise, r) = 0.5  0.5\n",
      "1.660632996613725\n",
      "A KL divergence for (noise, r) = 0.6000000000000001  0.0\n",
      "0.03948226919625723\n",
      "A KL divergence for (noise, r) = 0.6000000000000001  0.01\n",
      "0.0389679980042934\n",
      "A KL divergence for (noise, r) = 0.6000000000000001  0.02\n",
      "0.03921634954063275\n",
      "A KL divergence for (noise, r) = 0.6000000000000001  0.05\n",
      "0.045022481477737485\n",
      "A KL divergence for (noise, r) = 0.6000000000000001  0.1\n",
      "0.0714800823358217\n",
      "A KL divergence for (noise, r) = 0.6000000000000001  0.5\n",
      "1.2548273009568136\n",
      "A KL divergence for (noise, r) = 0.7000000000000001  0.0\n",
      "0.0814133654871726\n",
      "A KL divergence for (noise, r) = 0.7000000000000001  0.01\n",
      "0.08540031371586725\n",
      "A KL divergence for (noise, r) = 0.7000000000000001  0.02\n",
      "0.09078841992702572\n",
      "A KL divergence for (noise, r) = 0.7000000000000001  0.05\n",
      "0.11450909796099895\n",
      "A KL divergence for (noise, r) = 0.7000000000000001  0.1\n",
      "0.18199750883433619\n",
      "A KL divergence for (noise, r) = 0.7000000000000001  0.5\n",
      "1.486394732096518\n",
      "A KL divergence for (noise, r) = 0.8  0.0\n",
      "0.09293460487160485\n",
      "A KL divergence for (noise, r) = 0.8  0.01\n",
      "0.09907163603357756\n",
      "A KL divergence for (noise, r) = 0.8  0.02\n",
      "0.1069255845729278\n",
      "A KL divergence for (noise, r) = 0.8  0.05\n",
      "0.1392074268003047\n",
      "A KL divergence for (noise, r) = 0.8  0.1\n",
      "0.21226943632984216\n",
      "A KL divergence for (noise, r) = 0.8  0.5\n",
      "1.4241232284486403\n",
      "A KL divergence for (noise, r) = 0.9  0.0\n",
      "0.056149876525406595\n",
      "A KL divergence for (noise, r) = 0.9  0.01\n",
      "0.05330465657784696\n",
      "A KL divergence for (noise, r) = 0.9  0.02\n",
      "0.050919553293483334\n",
      "A KL divergence for (noise, r) = 0.9  0.05\n",
      "0.047089381788196924\n",
      "A KL divergence for (noise, r) = 0.9  0.1\n",
      "0.07211332857219452\n",
      "A KL divergence for (noise, r) = 0.9  0.5\n",
      "1.1343482203345903\n",
      "A KL divergence for (noise, r) = 1.0  0.0\n",
      "0.08648012228757355\n",
      "A KL divergence for (noise, r) = 1.0  0.01\n",
      "0.08704531409436526\n",
      "A KL divergence for (noise, r) = 1.0  0.02\n",
      "0.08755953086045692\n",
      "A KL divergence for (noise, r) = 1.0  0.05\n",
      "0.09035096858438521\n",
      "A KL divergence for (noise, r) = 1.0  0.1\n",
      "0.11179720364952735\n",
      "A KL divergence for (noise, r) = 1.0  0.5\n",
      "1.3123771284901353\n"
     ]
    }
   ],
   "source": [
    "for i=1:10\n",
    "    for j=1:size(rs,1)\n",
    "        print(\"A KL divergence for (noise, r) = \")\n",
    "        println(vars[i], \"  \" ,rs[j])\n",
    "        println(eval_param_ests(A_true, pi_true, A_opt_ests[i,j,:,:], pi_opt_ests[i,j,:])[3])\n",
    "        opt_param_ests_evals[i,j] = eval_param_ests(A_true, pi_true, A_opt_ests[i,j,:,:], pi_opt_ests[i,j,:])[3]\n",
    "    end\n",
    "end"
   ]
  },
  {
   "cell_type": "code",
   "execution_count": 212,
   "id": "b7f2c5fa",
   "metadata": {},
   "outputs": [
    {
     "data": {
      "text/plain": [
       "10×6 Matrix{Float64}:\n",
       " 0.0159399  0.0180416  0.0208934  0.0357867  0.0917626  1.41903\n",
       " 0.014664   0.0163131  0.0186854  0.0306695  0.0706482  1.34999\n",
       " 0.0173401  0.0181603  0.0199333  0.0315875  0.0854345  1.16786\n",
       " 0.01485    0.0154369  0.0167311  0.0254053  0.0576098  1.23672\n",
       " 0.0209771  0.021979   0.0236338  0.0333982  0.0707173  1.66063\n",
       " 0.0394823  0.038968   0.0392163  0.0450225  0.0714801  1.25483\n",
       " 0.0814134  0.0854003  0.0907884  0.114509   0.181998   1.48639\n",
       " 0.0929346  0.0990716  0.106926   0.139207   0.212269   1.42412\n",
       " 0.0561499  0.0533047  0.0509196  0.0470894  0.0721133  1.13435\n",
       " 0.0864801  0.0870453  0.0875595  0.090351   0.111797   1.31238"
      ]
     },
     "execution_count": 212,
     "metadata": {},
     "output_type": "execute_result"
    }
   ],
   "source": [
    "opt_param_ests_evals"
   ]
  },
  {
   "cell_type": "code",
   "execution_count": 213,
   "id": "fc5d9da9",
   "metadata": {},
   "outputs": [],
   "source": [
    "opt_state_ests_evals = zeros((10,6)) ; "
   ]
  },
  {
   "cell_type": "code",
   "execution_count": 214,
   "id": "888b2483",
   "metadata": {},
   "outputs": [
    {
     "name": "stdout",
     "output_type": "stream",
     "text": [
      "A KL divergence for (noise, r) = 0.1  0.0\n",
      "0.79\n",
      "A KL divergence for (noise, r) = 0.1  0.01\n",
      "0.7898\n",
      "A KL divergence for (noise, r) = 0.1  0.02\n",
      "0.7904\n",
      "A KL divergence for (noise, r) = 0.1  0.05\n",
      "0.7898\n",
      "A KL divergence for (noise, r) = 0.1  0.1\n",
      "0.7862\n",
      "A KL divergence for (noise, r) = 0.1  0.5\n",
      "0.7406\n",
      "A KL divergence for (noise, r) = 0.2  0.0\n",
      "0.7902\n",
      "A KL divergence for (noise, r) = 0.2  0.01\n",
      "0.788\n",
      "A KL divergence for (noise, r) = 0.2  0.02\n",
      "0.7884\n",
      "A KL divergence for (noise, r) = 0.2  0.05\n",
      "0.787\n",
      "A KL divergence for (noise, r) = 0.2  0.1\n",
      "0.7848\n",
      "A KL divergence for (noise, r) = 0.2  0.5\n",
      "0.7502\n",
      "A KL divergence for (noise, r) = 0.30000000000000004  0.0\n",
      "0.7816\n",
      "A KL divergence for (noise, r) = 0.30000000000000004  0.01\n",
      "0.78\n",
      "A KL divergence for (noise, r) = 0.30000000000000004  0.02\n",
      "0.7812\n",
      "A KL divergence for (noise, r) = 0.30000000000000004  0.05\n",
      "0.7814\n",
      "A KL divergence for (noise, r) = 0.30000000000000004  0.1\n",
      "0.7808\n",
      "A KL divergence for (noise, r) = 0.30000000000000004  0.5\n",
      "0.7356\n",
      "A KL divergence for (noise, r) = 0.4  0.0\n",
      "0.7678\n",
      "A KL divergence for (noise, r) = 0.4  0.01\n",
      "0.7664\n",
      "A KL divergence for (noise, r) = 0.4  0.02\n",
      "0.7664\n",
      "A KL divergence for (noise, r) = 0.4  0.05\n",
      "0.765\n",
      "A KL divergence for (noise, r) = 0.4  0.1\n",
      "0.7636\n",
      "A KL divergence for (noise, r) = 0.4  0.5\n",
      "0.736\n",
      "A KL divergence for (noise, r) = 0.5  0.0\n",
      "0.747\n",
      "A KL divergence for (noise, r) = 0.5  0.01\n",
      "0.7472\n",
      "A KL divergence for (noise, r) = 0.5  0.02\n",
      "0.7464\n",
      "A KL divergence for (noise, r) = 0.5  0.05\n",
      "0.7438\n",
      "A KL divergence for (noise, r) = 0.5  0.1\n",
      "0.7418\n",
      "A KL divergence for (noise, r) = 0.5  0.5\n",
      "0.715\n",
      "A KL divergence for (noise, r) = 0.6000000000000001  0.0\n",
      "0.7402\n",
      "A KL divergence for (noise, r) = 0.6000000000000001  0.01\n",
      "0.7426\n",
      "A KL divergence for (noise, r) = 0.6000000000000001  0.02\n",
      "0.7448\n",
      "A KL divergence for (noise, r) = 0.6000000000000001  0.05\n",
      "0.7412\n",
      "A KL divergence for (noise, r) = 0.6000000000000001  0.1\n",
      "0.7388\n",
      "A KL divergence for (noise, r) = 0.6000000000000001  0.5\n",
      "0.704\n",
      "A KL divergence for (noise, r) = 0.7000000000000001  0.0\n",
      "0.7196\n",
      "A KL divergence for (noise, r) = 0.7000000000000001  0.01\n",
      "0.7182\n",
      "A KL divergence for (noise, r) = 0.7000000000000001  0.02\n",
      "0.7194\n",
      "A KL divergence for (noise, r) = 0.7000000000000001  0.05\n",
      "0.7224\n",
      "A KL divergence for (noise, r) = 0.7000000000000001  0.1\n",
      "0.7254\n",
      "A KL divergence for (noise, r) = 0.7000000000000001  0.5\n",
      "0.6988\n",
      "A KL divergence for (noise, r) = 0.8  0.0\n",
      "0.6998\n",
      "A KL divergence for (noise, r) = 0.8  0.01\n",
      "0.7004\n",
      "A KL divergence for (noise, r) = 0.8  0.02\n",
      "0.702\n",
      "A KL divergence for (noise, r) = 0.8  0.05\n",
      "0.7042\n",
      "A KL divergence for (noise, r) = 0.8  0.1\n",
      "0.7078\n",
      "A KL divergence for (noise, r) = 0.8  0.5\n",
      "0.6684\n",
      "A KL divergence for (noise, r) = 0.9  0.0\n",
      "0.6876\n",
      "A KL divergence for (noise, r) = 0.9  0.01\n",
      "0.6876\n",
      "A KL divergence for (noise, r) = 0.9  0.02\n",
      "0.6886\n",
      "A KL divergence for (noise, r) = 0.9  0.05\n",
      "0.6896\n",
      "A KL divergence for (noise, r) = 0.9  0.1\n",
      "0.6884\n",
      "A KL divergence for (noise, r) = 0.9  0.5\n",
      "0.659\n",
      "A KL divergence for (noise, r) = 1.0  0.0\n",
      "0.6496\n",
      "A KL divergence for (noise, r) = 1.0  0.01\n",
      "0.6512\n",
      "A KL divergence for (noise, r) = 1.0  0.02\n",
      "0.6512\n",
      "A KL divergence for (noise, r) = 1.0  0.05\n",
      "0.656\n",
      "A KL divergence for (noise, r) = 1.0  0.1\n",
      "0.6568\n",
      "A KL divergence for (noise, r) = 1.0  0.5\n",
      "0.6264\n"
     ]
    }
   ],
   "source": [
    "for i=1:10\n",
    "    for j=1:size(rs,1)\n",
    "        print(\"A KL divergence for (noise, r) = \")\n",
    "        println(vars[i], \"  \" ,rs[j])\n",
    "        k = eval_state_ests(X_noisy[i,:,:], S, pi_opt_ests[i,j,:], A_opt_ests[i,j,:,:], emission_dists)[2]\n",
    "        println(tr(k)/sum(k))\n",
    "        opt_state_ests_evals[i,j] = tr(k)/sum(k) ; \n",
    "    end\n",
    "end"
   ]
  },
  {
   "cell_type": "code",
   "execution_count": 215,
   "id": "548015bd",
   "metadata": {},
   "outputs": [
    {
     "data": {
      "text/plain": [
       "10×6 Matrix{Float64}:\n",
       " 0.79    0.7898  0.7904  0.7898  0.7862  0.7406\n",
       " 0.7902  0.788   0.7884  0.787   0.7848  0.7502\n",
       " 0.7816  0.78    0.7812  0.7814  0.7808  0.7356\n",
       " 0.7678  0.7664  0.7664  0.765   0.7636  0.736\n",
       " 0.747   0.7472  0.7464  0.7438  0.7418  0.715\n",
       " 0.7402  0.7426  0.7448  0.7412  0.7388  0.704\n",
       " 0.7196  0.7182  0.7194  0.7224  0.7254  0.6988\n",
       " 0.6998  0.7004  0.702   0.7042  0.7078  0.6684\n",
       " 0.6876  0.6876  0.6886  0.6896  0.6884  0.659\n",
       " 0.6496  0.6512  0.6512  0.656   0.6568  0.6264"
      ]
     },
     "execution_count": 215,
     "metadata": {},
     "output_type": "execute_result"
    }
   ],
   "source": [
    "opt_state_ests_evals"
   ]
  },
  {
   "cell_type": "code",
   "execution_count": 242,
   "id": "ca3fedb9",
   "metadata": {},
   "outputs": [],
   "source": [
    "test_opt_state_ests_evals = zeros((10,6)) ; "
   ]
  },
  {
   "cell_type": "code",
   "execution_count": 243,
   "id": "40858442",
   "metadata": {},
   "outputs": [
    {
     "name": "stdout",
     "output_type": "stream",
     "text": [
      "A KL divergence for (noise, r) = 0.1  0.0\n",
      "0.8304\n",
      "A KL divergence for (noise, r) = 0.1  0.01\n",
      "0.83\n",
      "A KL divergence for (noise, r) = 0.1  0.02\n",
      "0.8312\n",
      "A KL divergence for (noise, r) = 0.1  0.05\n",
      "0.828\n",
      "A KL divergence for (noise, r) = 0.1  0.1\n",
      "0.8176\n",
      "A KL divergence for (noise, r) = 0.1  0.5\n",
      "0.7752\n",
      "A KL divergence for (noise, r) = 0.2  0.0\n",
      "0.822\n",
      "A KL divergence for (noise, r) = 0.2  0.01\n",
      "0.8216\n",
      "A KL divergence for (noise, r) = 0.2  0.02\n",
      "0.822\n",
      "A KL divergence for (noise, r) = 0.2  0.05\n",
      "0.8208\n",
      "A KL divergence for (noise, r) = 0.2  0.1\n",
      "0.8212\n",
      "A KL divergence for (noise, r) = 0.2  0.5\n",
      "0.7832\n",
      "A KL divergence for (noise, r) = 0.30000000000000004  0.0\n",
      "0.8152\n",
      "A KL divergence for (noise, r) = 0.30000000000000004  0.01\n",
      "0.816\n",
      "A KL divergence for (noise, r) = 0.30000000000000004  0.02\n",
      "0.8132\n",
      "A KL divergence for (noise, r) = 0.30000000000000004  0.05\n",
      "0.8092\n",
      "A KL divergence for (noise, r) = 0.30000000000000004  0.1\n",
      "0.8076\n",
      "A KL divergence for (noise, r) = 0.30000000000000004  0.5\n",
      "0.7572\n",
      "A KL divergence for (noise, r) = 0.4  0.0\n",
      "0.792\n",
      "A KL divergence for (noise, r) = 0.4  0.01\n",
      "0.7916\n",
      "A KL divergence for (noise, r) = 0.4  0.02\n",
      "0.7916\n",
      "A KL divergence for (noise, r) = 0.4  0.05\n",
      "0.7924\n",
      "A KL divergence for (noise, r) = 0.4  0.1\n",
      "0.7944\n",
      "A KL divergence for (noise, r) = 0.4  0.5\n",
      "0.764\n",
      "A KL divergence for (noise, r) = 0.5  0.0\n",
      "0.7692\n",
      "A KL divergence for (noise, r) = 0.5  0.01\n",
      "0.7696\n",
      "A KL divergence for (noise, r) = 0.5  0.02\n",
      "0.7688\n",
      "A KL divergence for (noise, r) = 0.5  0.05\n",
      "0.77\n",
      "A KL divergence for (noise, r) = 0.5  0.1\n",
      "0.7652\n",
      "A KL divergence for (noise, r) = 0.5  0.5\n",
      "0.7376\n",
      "A KL divergence for (noise, r) = 0.6000000000000001  0.0\n",
      "0.7644\n",
      "A KL divergence for (noise, r) = 0.6000000000000001  0.01\n",
      "0.7648\n",
      "A KL divergence for (noise, r) = 0.6000000000000001  0.02\n",
      "0.7672\n",
      "A KL divergence for (noise, r) = 0.6000000000000001  0.05\n",
      "0.7696\n",
      "A KL divergence for (noise, r) = 0.6000000000000001  0.1\n",
      "0.77\n",
      "A KL divergence for (noise, r) = 0.6000000000000001  0.5\n",
      "0.736\n",
      "A KL divergence for (noise, r) = 0.7000000000000001  0.0\n",
      "0.7376\n",
      "A KL divergence for (noise, r) = 0.7000000000000001  0.01\n",
      "0.7376\n",
      "A KL divergence for (noise, r) = 0.7000000000000001  0.02\n",
      "0.7408\n",
      "A KL divergence for (noise, r) = 0.7000000000000001  0.05\n",
      "0.7484\n",
      "A KL divergence for (noise, r) = 0.7000000000000001  0.1\n",
      "0.7516\n",
      "A KL divergence for (noise, r) = 0.7000000000000001  0.5\n",
      "0.7256\n",
      "A KL divergence for (noise, r) = 0.8  0.0\n",
      "0.73\n",
      "A KL divergence for (noise, r) = 0.8  0.01\n",
      "0.7304\n",
      "A KL divergence for (noise, r) = 0.8  0.02\n",
      "0.7304\n",
      "A KL divergence for (noise, r) = 0.8  0.05\n",
      "0.7352\n",
      "A KL divergence for (noise, r) = 0.8  0.1\n",
      "0.742\n",
      "A KL divergence for (noise, r) = 0.8  0.5\n",
      "0.704\n",
      "A KL divergence for (noise, r) = 0.9  0.0\n",
      "0.6964\n",
      "A KL divergence for (noise, r) = 0.9  0.01\n",
      "0.6968\n",
      "A KL divergence for (noise, r) = 0.9  0.02\n",
      "0.6996\n",
      "A KL divergence for (noise, r) = 0.9  0.05\n",
      "0.6964\n",
      "A KL divergence for (noise, r) = 0.9  0.1\n",
      "0.6912\n",
      "A KL divergence for (noise, r) = 0.9  0.5\n",
      "0.6716\n",
      "A KL divergence for (noise, r) = 1.0  0.0\n",
      "0.6752\n",
      "A KL divergence for (noise, r) = 1.0  0.01\n",
      "0.6792\n",
      "A KL divergence for (noise, r) = 1.0  0.02\n",
      "0.678\n",
      "A KL divergence for (noise, r) = 1.0  0.05\n",
      "0.6816\n",
      "A KL divergence for (noise, r) = 1.0  0.1\n",
      "0.6904\n",
      "A KL divergence for (noise, r) = 1.0  0.5\n",
      "0.6656\n"
     ]
    }
   ],
   "source": [
    "for i=1:10\n",
    "    for j=1:size(rs,1)\n",
    "        print(\"A KL divergence for (noise, r) = \")\n",
    "        println(vars[i], \"  \" ,rs[j])\n",
    "        k = eval_state_ests(X_noisy_test[i,:,:], S_test, pi_opt_ests[i,j,:], A_opt_ests[i,j,:,:], emission_dists)[2]\n",
    "        println(tr(k)/sum(k))\n",
    "        test_opt_state_ests_evals[i,j] = tr(k)/sum(k) ; \n",
    "    end\n",
    "end"
   ]
  },
  {
   "cell_type": "code",
   "execution_count": 244,
   "id": "8067af23",
   "metadata": {},
   "outputs": [
    {
     "data": {
      "text/plain": [
       "10×6 Matrix{Float64}:\n",
       " 0.8304  0.83    0.8312  0.828   0.8176  0.7752\n",
       " 0.822   0.8216  0.822   0.8208  0.8212  0.7832\n",
       " 0.8152  0.816   0.8132  0.8092  0.8076  0.7572\n",
       " 0.792   0.7916  0.7916  0.7924  0.7944  0.764\n",
       " 0.7692  0.7696  0.7688  0.77    0.7652  0.7376\n",
       " 0.7644  0.7648  0.7672  0.7696  0.77    0.736\n",
       " 0.7376  0.7376  0.7408  0.7484  0.7516  0.7256\n",
       " 0.73    0.7304  0.7304  0.7352  0.742   0.704\n",
       " 0.6964  0.6968  0.6996  0.6964  0.6912  0.6716\n",
       " 0.6752  0.6792  0.678   0.6816  0.6904  0.6656"
      ]
     },
     "execution_count": 244,
     "metadata": {},
     "output_type": "execute_result"
    }
   ],
   "source": [
    "test_opt_state_ests_evals"
   ]
  },
  {
   "cell_type": "code",
   "execution_count": null,
   "id": "3600aa97",
   "metadata": {},
   "outputs": [],
   "source": []
  },
  {
   "cell_type": "code",
   "execution_count": null,
   "id": "477166ab",
   "metadata": {},
   "outputs": [],
   "source": []
  },
  {
   "cell_type": "code",
   "execution_count": null,
   "id": "a1387de5",
   "metadata": {},
   "outputs": [],
   "source": []
  },
  {
   "cell_type": "code",
   "execution_count": null,
   "id": "1cbc42da",
   "metadata": {},
   "outputs": [],
   "source": []
  },
  {
   "cell_type": "code",
   "execution_count": 223,
   "id": "de48b620",
   "metadata": {},
   "outputs": [
    {
     "name": "stderr",
     "output_type": "stream",
     "text": [
      "\u001b[32m\u001b[1m   Resolving\u001b[22m\u001b[39m package versions...\n",
      "\u001b[32m\u001b[1m   Installed\u001b[22m\u001b[39m Seaborn ────────── v1.0.0\n",
      "\u001b[32m\u001b[1m   Installed\u001b[22m\u001b[39m Lazy ───────────── v0.15.1\n",
      "\u001b[32m\u001b[1m   Installed\u001b[22m\u001b[39m TableTraitsUtils ─ v1.0.2\n",
      "\u001b[32m\u001b[1m   Installed\u001b[22m\u001b[39m PyPlot ─────────── v2.10.0\n",
      "\u001b[32m\u001b[1m   Installed\u001b[22m\u001b[39m Pandas ─────────── v1.5.2\n",
      "\u001b[32m\u001b[1m   Installed\u001b[22m\u001b[39m DataValues ─────── v0.4.13\n",
      "\u001b[32m\u001b[1m    Updating\u001b[22m\u001b[39m `~/.julia/environments/v1.6/Project.toml`\n",
      " \u001b[90m [d2ef9438] \u001b[39m\u001b[92m+ Seaborn v1.0.0\u001b[39m\n",
      "\u001b[32m\u001b[1m    Updating\u001b[22m\u001b[39m `~/.julia/environments/v1.6/Manifest.toml`\n",
      " \u001b[90m [e7dc6d0d] \u001b[39m\u001b[92m+ DataValues v0.4.13\u001b[39m\n",
      " \u001b[90m [50d2b5c4] \u001b[39m\u001b[92m+ Lazy v0.15.1\u001b[39m\n",
      " \u001b[90m [eadc2687] \u001b[39m\u001b[92m+ Pandas v1.5.2\u001b[39m\n",
      " \u001b[90m [d330b81b] \u001b[39m\u001b[92m+ PyPlot v2.10.0\u001b[39m\n",
      " \u001b[90m [d2ef9438] \u001b[39m\u001b[92m+ Seaborn v1.0.0\u001b[39m\n",
      " \u001b[90m [382cd787] \u001b[39m\u001b[92m+ TableTraitsUtils v1.0.2\u001b[39m\n",
      "\u001b[32m\u001b[1mPrecompiling\u001b[22m\u001b[39m project...\n",
      "\u001b[32m  ✓ \u001b[39m\u001b[90mDataValues\u001b[39m\n",
      "\u001b[32m  ✓ \u001b[39m\u001b[90mLazy\u001b[39m\n",
      "\u001b[32m  ✓ \u001b[39m\u001b[90mPyPlot\u001b[39m\n",
      "\u001b[32m  ✓ \u001b[39m\u001b[90mTableTraitsUtils\u001b[39m\n",
      "\u001b[32m  ✓ \u001b[39m\u001b[90mPandas\u001b[39m\n",
      "\u001b[91m  ✗ \u001b[39mSeaborn\n",
      "  5 dependencies successfully precompiled in 62 seconds (57 already precompiled, 1 skipped during auto due to previous errors)\n",
      "  \u001b[91m1\u001b[39m dependency errored. To see a full report either run `import Pkg; Pkg.precompile()` or load the package\n"
     ]
    }
   ],
   "source": [
    "import Pkg; Pkg.add(\"Seaborn\")"
   ]
  },
  {
   "cell_type": "code",
   "execution_count": 224,
   "id": "f9390270",
   "metadata": {},
   "outputs": [
    {
     "name": "stderr",
     "output_type": "stream",
     "text": [
      "┌ Info: Precompiling Seaborn [d2ef9438-c967-53ab-8060-373fdd9e13eb]\n",
      "└ @ Base loading.jl:1342\n",
      "\u001b[36m\u001b[1m[ \u001b[22m\u001b[39m\u001b[36m\u001b[1mInfo: \u001b[22m\u001b[39mInstalling matplotlib via the Conda matplotlib package...\n",
      "\u001b[36m\u001b[1m[ \u001b[22m\u001b[39m\u001b[36m\u001b[1mInfo: \u001b[22m\u001b[39mRunning `conda install -y matplotlib` in root environment\n"
     ]
    },
    {
     "name": "stdout",
     "output_type": "stream",
     "text": [
      "Collecting package metadata (current_repodata.json): ...working... done\n",
      "Solving environment: ...working... done\n",
      "\n",
      "# All requested packages already installed.\n",
      "\n"
     ]
    },
    {
     "name": "stderr",
     "output_type": "stream",
     "text": [
      "\u001b[91m\u001b[1mERROR: \u001b[22m\u001b[39mLoadError: InitError: PyError (PyImport_ImportModule\n",
      "\n",
      "The Python package matplotlib could not be imported by pyimport. Usually this means\n",
      "that you did not install matplotlib in the Python version being used by PyCall.\n",
      "\n",
      "PyCall is currently configured to use the Julia-specific Python distribution\n",
      "installed by the Conda.jl package.  To install the matplotlib module, you can\n",
      "use `pyimport_conda(\"matplotlib\", PKG)`, where PKG is the Anaconda\n",
      "package the contains the module matplotlib, or alternatively you can use the\n",
      "Conda package directly (via `using Conda` followed by `Conda.add` etcetera).\n",
      "\n",
      "Alternatively, if you want to use a different Python distribution on your\n",
      "system, such as a system-wide Python (as opposed to the Julia-specific Python),\n",
      "you can re-configure PyCall with that Python.   As explained in the PyCall\n",
      "documentation, set ENV[\"PYTHON\"] to the path/name of the python executable\n",
      "you want to use, run Pkg.build(\"PyCall\"), and re-launch Julia.\n",
      "\n",
      ") <class 'ImportError'>\n",
      "ImportError('dlopen(/Users/anirudhasuhasdeshpande/.julia/conda/3/lib/python3.9/site-packages/PIL/_imaging.cpython-39-darwin.so, 2): Library not loaded: @rpath/libjpeg.9.dylib\\n  Referenced from: /Users/anirudhasuhasdeshpande/.julia/conda/3/lib/python3.9/site-packages/PIL/_imaging.cpython-39-darwin.so\\n  Reason: Incompatible library version: _imaging.cpython-39-darwin.so requires version 14.0.0 or later, but libjpeg.9.dylib provides version 12.0.0')\n",
      "  File \"/Users/anirudhasuhasdeshpande/.julia/conda/3/lib/python3.9/site-packages/matplotlib/__init__.py\", line 109, in <module>\n",
      "    from . import _api, _version, cbook, docstring, rcsetup\n",
      "  File \"/Users/anirudhasuhasdeshpande/.julia/conda/3/lib/python3.9/site-packages/matplotlib/rcsetup.py\", line 27, in <module>\n",
      "    from matplotlib.colors import Colormap, is_color_like\n",
      "  File \"/Users/anirudhasuhasdeshpande/.julia/conda/3/lib/python3.9/site-packages/matplotlib/colors.py\", line 51, in <module>\n",
      "    from PIL import Image\n",
      "  File \"/Users/anirudhasuhasdeshpande/.julia/conda/3/lib/python3.9/site-packages/PIL/Image.py\", line 114, in <module>\n",
      "    from . import _imaging as core\n",
      "\n",
      "Stacktrace:\n",
      "  [1] \u001b[0m\u001b[1mpyimport\u001b[22m\u001b[0m\u001b[1m(\u001b[22m\u001b[90mname\u001b[39m::\u001b[0mString\u001b[0m\u001b[1m)\u001b[22m\n",
      "\u001b[90m    @ \u001b[39m\u001b[35mPyCall\u001b[39m \u001b[90m~/.julia/packages/PyCall/BD546/src/\u001b[39m\u001b[90;4mPyCall.jl:550\u001b[0m\n",
      "  [2] \u001b[0m\u001b[1mpyimport_conda\u001b[22m\u001b[0m\u001b[1m(\u001b[22m\u001b[90mmodulename\u001b[39m::\u001b[0mString, \u001b[90mcondapkg\u001b[39m::\u001b[0mString, \u001b[90mchannel\u001b[39m::\u001b[0mString\u001b[0m\u001b[1m)\u001b[22m\n",
      "\u001b[90m    @ \u001b[39m\u001b[35mPyCall\u001b[39m \u001b[90m~/.julia/packages/PyCall/BD546/src/\u001b[39m\u001b[90;4mPyCall.jl:714\u001b[0m\n",
      "  [3] \u001b[0m\u001b[1mpyimport_conda\u001b[22m\n",
      "\u001b[90m    @ \u001b[39m\u001b[90m~/.julia/packages/PyCall/BD546/src/\u001b[39m\u001b[90;4mPyCall.jl:707\u001b[0m\u001b[90m [inlined]\u001b[39m\n",
      "  [4] \u001b[0m\u001b[1m__init__\u001b[22m\u001b[0m\u001b[1m(\u001b[22m\u001b[0m\u001b[1m)\u001b[22m\n",
      "\u001b[90m    @ \u001b[39m\u001b[36mPyPlot\u001b[39m \u001b[90m~/.julia/packages/PyPlot/XaELc/src/\u001b[39m\u001b[90;4minit.jl:185\u001b[0m\n",
      "  [5] \u001b[0m\u001b[1m_include_from_serialized\u001b[22m\u001b[0m\u001b[1m(\u001b[22m\u001b[90mpath\u001b[39m::\u001b[0mString, \u001b[90mdepmods\u001b[39m::\u001b[0mVector\u001b[90m{Any}\u001b[39m\u001b[0m\u001b[1m)\u001b[22m\n",
      "\u001b[90m    @ \u001b[39m\u001b[90mBase\u001b[39m \u001b[90m/Applications/Julia-1.6.app/Contents/Resources/julia/lib/julia/\u001b[39m\u001b[90;4msys.dylib:-1\u001b[0m\n",
      "  [6] \u001b[0m\u001b[1m_require_search_from_serialized\u001b[22m\u001b[0m\u001b[1m(\u001b[22m\u001b[90mpkg\u001b[39m::\u001b[0mBase.PkgId, \u001b[90msourcepath\u001b[39m::\u001b[0mString\u001b[0m\u001b[1m)\u001b[22m\n",
      "\u001b[90m    @ \u001b[39m\u001b[90mBase\u001b[39m \u001b[90m/Applications/Julia-1.6.app/Contents/Resources/julia/lib/julia/\u001b[39m\u001b[90;4msys.dylib:-1\u001b[0m\n",
      "  [7] \u001b[0m\u001b[1m_require\u001b[22m\u001b[0m\u001b[1m(\u001b[22m\u001b[90mpkg\u001b[39m::\u001b[0mBase.PkgId\u001b[0m\u001b[1m)\u001b[22m\n",
      "\u001b[90m    @ \u001b[39m\u001b[90mBase\u001b[39m \u001b[90m/Applications/Julia-1.6.app/Contents/Resources/julia/lib/julia/\u001b[39m\u001b[90;4msys.dylib:-1\u001b[0m\n",
      "  [8] \u001b[0m\u001b[1mrequire\u001b[22m\u001b[0m\u001b[1m(\u001b[22m\u001b[90muuidkey\u001b[39m::\u001b[0mBase.PkgId\u001b[0m\u001b[1m)\u001b[22m\u001b[90m (repeats 2 times)\u001b[39m\n",
      "\u001b[90m    @ \u001b[39m\u001b[90mBase\u001b[39m \u001b[90m/Applications/Julia-1.6.app/Contents/Resources/julia/lib/julia/\u001b[39m\u001b[90;4msys.dylib:-1\u001b[0m\n",
      "  [9] \u001b[0m\u001b[1minclude_string\u001b[22m\u001b[0m\u001b[1m(\u001b[22m\u001b[90mmapexpr\u001b[39m::\u001b[0mtypeof(identity), \u001b[90mmod\u001b[39m::\u001b[0mModule, \u001b[90mcode\u001b[39m::\u001b[0mString, \u001b[90mfilename\u001b[39m::\u001b[0mString\u001b[0m\u001b[1m)\u001b[22m\n",
      "\u001b[90m    @ \u001b[39m\u001b[90mBase\u001b[39m \u001b[90m/Applications/Julia-1.6.app/Contents/Resources/julia/lib/julia/\u001b[39m\u001b[90;4msys.dylib:-1\u001b[0m\n",
      " [10] \u001b[0m\u001b[1m_include\u001b[22m\u001b[0m\u001b[1m(\u001b[22m\u001b[90mmapexpr\u001b[39m::\u001b[0mFunction, \u001b[90mmod\u001b[39m::\u001b[0mModule, \u001b[90m_path\u001b[39m::\u001b[0mString\u001b[0m\u001b[1m)\u001b[22m\n",
      "\u001b[90m    @ \u001b[39m\u001b[90mBase\u001b[39m \u001b[90m/Applications/Julia-1.6.app/Contents/Resources/julia/lib/julia/\u001b[39m\u001b[90;4msys.dylib:-1\u001b[0m\n",
      " [11] \u001b[0m\u001b[1minclude_package_for_output\u001b[22m\u001b[0m\u001b[1m(\u001b[22m\u001b[90mpkg\u001b[39m::\u001b[0mBase.PkgId, \u001b[90minput\u001b[39m::\u001b[0mString, \u001b[90mdepot_path\u001b[39m::\u001b[0mVector\u001b[90m{String}\u001b[39m, \u001b[90mdl_load_path\u001b[39m::\u001b[0mVector\u001b[90m{String}\u001b[39m, \u001b[90mload_path\u001b[39m::\u001b[0mVector\u001b[90m{String}\u001b[39m, \u001b[90mconcrete_deps\u001b[39m::\u001b[0mVector\u001b[90m{Pair{Base.PkgId, UInt64}}\u001b[39m, \u001b[90msource\u001b[39m::\u001b[0mNothing\u001b[0m\u001b[1m)\u001b[22m\n",
      "\u001b[90m    @ \u001b[39m\u001b[90mBase\u001b[39m \u001b[90m/Applications/Julia-1.6.app/Contents/Resources/julia/lib/julia/\u001b[39m\u001b[90;4msys.dylib:-1\u001b[0m\n",
      " [12] top-level scope\u001b[90m (repeats 2 times)\u001b[39m\n",
      "\u001b[90m    @ \u001b[39m\u001b[90;4mnone:1\u001b[0m\n",
      " [13] \u001b[0m\u001b[1mexec_options\u001b[22m\u001b[0m\u001b[1m(\u001b[22m\u001b[90mopts\u001b[39m::\u001b[0mBase.JLOptions\u001b[0m\u001b[1m)\u001b[22m\n",
      "\u001b[90m    @ \u001b[39m\u001b[90mBase\u001b[39m \u001b[90m/Applications/Julia-1.6.app/Contents/Resources/julia/lib/julia/\u001b[39m\u001b[90;4msys.dylib:-1\u001b[0m\n",
      " [14] \u001b[0m\u001b[1m_start\u001b[22m\u001b[0m\u001b[1m(\u001b[22m\u001b[0m\u001b[1m)\u001b[22m\n",
      "\u001b[90m    @ \u001b[39m\u001b[90mBase\u001b[39m \u001b[90m/Applications/Julia-1.6.app/Contents/Resources/julia/lib/julia/\u001b[39m\u001b[90;4msys.dylib:-1\u001b[0m\n",
      "during initialization of module PyPlot\n",
      "in expression starting at /Users/anirudhasuhasdeshpande/.julia/packages/Seaborn/vfmph/src/Seaborn.jl:2\n",
      "\n",
      "\u001b[91mcaused by: \u001b[39mPyError (PyImport_ImportModule\n",
      "\n",
      "The Python package matplotlib could not be imported by pyimport. Usually this means\n",
      "that you did not install matplotlib in the Python version being used by PyCall.\n",
      "\n",
      "PyCall is currently configured to use the Julia-specific Python distribution\n",
      "installed by the Conda.jl package.  To install the matplotlib module, you can\n",
      "use `pyimport_conda(\"matplotlib\", PKG)`, where PKG is the Anaconda\n",
      "package the contains the module matplotlib, or alternatively you can use the\n",
      "Conda package directly (via `using Conda` followed by `Conda.add` etcetera).\n",
      "\n",
      "Alternatively, if you want to use a different Python distribution on your\n",
      "system, such as a system-wide Python (as opposed to the Julia-specific Python),\n",
      "you can re-configure PyCall with that Python.   As explained in the PyCall\n",
      "documentation, set ENV[\"PYTHON\"] to the path/name of the python executable\n",
      "you want to use, run Pkg.build(\"PyCall\"), and re-launch Julia.\n",
      "\n",
      ") <class 'ImportError'>\n",
      "ImportError('dlopen(/Users/anirudhasuhasdeshpande/.julia/conda/3/lib/python3.9/site-packages/PIL/_imaging.cpython-39-darwin.so, 2): Library not loaded: @rpath/libjpeg.9.dylib\\n  Referenced from: /Users/anirudhasuhasdeshpande/.julia/conda/3/lib/python3.9/site-packages/PIL/_imaging.cpython-39-darwin.so\\n  Reason: Incompatible library version: _imaging.cpython-39-darwin.so requires version 14.0.0 or later, but libjpeg.9.dylib provides version 12.0.0')\n",
      "  File \"/Users/anirudhasuhasdeshpande/.julia/conda/3/lib/python3.9/site-packages/matplotlib/__init__.py\", line 109, in <module>\n",
      "    from . import _api, _version, cbook, docstring, rcsetup\n",
      "  File \"/Users/anirudhasuhasdeshpande/.julia/conda/3/lib/python3.9/site-packages/matplotlib/rcsetup.py\", line 27, in <module>\n",
      "    from matplotlib.colors import Colormap, is_color_like\n",
      "  File \"/Users/anirudhasuhasdeshpande/.julia/conda/3/lib/python3.9/site-packages/matplotlib/colors.py\", line 51, in <module>\n",
      "    from PIL import Image\n",
      "  File \"/Users/anirudhasuhasdeshpande/.julia/conda/3/lib/python3.9/site-packages/PIL/Image.py\", line 114, in <module>\n",
      "    from . import _imaging as core\n",
      "\n",
      "Stacktrace:\n",
      "  [1] \u001b[0m\u001b[1mpyimport\u001b[22m\u001b[0m\u001b[1m(\u001b[22m\u001b[90mname\u001b[39m::\u001b[0mString\u001b[0m\u001b[1m)\u001b[22m\n",
      "\u001b[90m    @ \u001b[39m\u001b[35mPyCall\u001b[39m \u001b[90m~/.julia/packages/PyCall/BD546/src/\u001b[39m\u001b[90;4mPyCall.jl:550\u001b[0m\n",
      "  [2] \u001b[0m\u001b[1mpyimport_conda\u001b[22m\u001b[0m\u001b[1m(\u001b[22m\u001b[90mmodulename\u001b[39m::\u001b[0mString, \u001b[90mcondapkg\u001b[39m::\u001b[0mString, \u001b[90mchannel\u001b[39m::\u001b[0mString\u001b[0m\u001b[1m)\u001b[22m\n",
      "\u001b[90m    @ \u001b[39m\u001b[35mPyCall\u001b[39m \u001b[90m~/.julia/packages/PyCall/BD546/src/\u001b[39m\u001b[90;4mPyCall.jl:708\u001b[0m\n",
      "  [3] \u001b[0m\u001b[1mpyimport_conda\u001b[22m\n",
      "\u001b[90m    @ \u001b[39m\u001b[90m~/.julia/packages/PyCall/BD546/src/\u001b[39m\u001b[90;4mPyCall.jl:707\u001b[0m\u001b[90m [inlined]\u001b[39m\n",
      "  [4] \u001b[0m\u001b[1m__init__\u001b[22m\u001b[0m\u001b[1m(\u001b[22m\u001b[0m\u001b[1m)\u001b[22m\n",
      "\u001b[90m    @ \u001b[39m\u001b[36mPyPlot\u001b[39m \u001b[90m~/.julia/packages/PyPlot/XaELc/src/\u001b[39m\u001b[90;4minit.jl:185\u001b[0m\n",
      "  [5] \u001b[0m\u001b[1m_include_from_serialized\u001b[22m\u001b[0m\u001b[1m(\u001b[22m\u001b[90mpath\u001b[39m::\u001b[0mString, \u001b[90mdepmods\u001b[39m::\u001b[0mVector\u001b[90m{Any}\u001b[39m\u001b[0m\u001b[1m)\u001b[22m\n",
      "\u001b[90m    @ \u001b[39m\u001b[90mBase\u001b[39m \u001b[90m/Applications/Julia-1.6.app/Contents/Resources/julia/lib/julia/\u001b[39m\u001b[90;4msys.dylib:-1\u001b[0m\n",
      "  [6] \u001b[0m\u001b[1m_require_search_from_serialized\u001b[22m\u001b[0m\u001b[1m(\u001b[22m\u001b[90mpkg\u001b[39m::\u001b[0mBase.PkgId, \u001b[90msourcepath\u001b[39m::\u001b[0mString\u001b[0m\u001b[1m)\u001b[22m\n",
      "\u001b[90m    @ \u001b[39m\u001b[90mBase\u001b[39m \u001b[90m/Applications/Julia-1.6.app/Contents/Resources/julia/lib/julia/\u001b[39m\u001b[90;4msys.dylib:-1\u001b[0m\n",
      "  [7] \u001b[0m\u001b[1m_require\u001b[22m\u001b[0m\u001b[1m(\u001b[22m\u001b[90mpkg\u001b[39m::\u001b[0mBase.PkgId\u001b[0m\u001b[1m)\u001b[22m\n",
      "\u001b[90m    @ \u001b[39m\u001b[90mBase\u001b[39m \u001b[90m/Applications/Julia-1.6.app/Contents/Resources/julia/lib/julia/\u001b[39m\u001b[90;4msys.dylib:-1\u001b[0m\n",
      "  [8] \u001b[0m\u001b[1mrequire\u001b[22m\u001b[0m\u001b[1m(\u001b[22m\u001b[90muuidkey\u001b[39m::\u001b[0mBase.PkgId\u001b[0m\u001b[1m)\u001b[22m\u001b[90m (repeats 2 times)\u001b[39m\n",
      "\u001b[90m    @ \u001b[39m\u001b[90mBase\u001b[39m \u001b[90m/Applications/Julia-1.6.app/Contents/Resources/julia/lib/julia/\u001b[39m\u001b[90;4msys.dylib:-1\u001b[0m\n",
      "  [9] \u001b[0m\u001b[1minclude_string\u001b[22m\u001b[0m\u001b[1m(\u001b[22m\u001b[90mmapexpr\u001b[39m::\u001b[0mtypeof(identity), \u001b[90mmod\u001b[39m::\u001b[0mModule, \u001b[90mcode\u001b[39m::\u001b[0mString, \u001b[90mfilename\u001b[39m::\u001b[0mString\u001b[0m\u001b[1m)\u001b[22m\n",
      "\u001b[90m    @ \u001b[39m\u001b[90mBase\u001b[39m \u001b[90m/Applications/Julia-1.6.app/Contents/Resources/julia/lib/julia/\u001b[39m\u001b[90;4msys.dylib:-1\u001b[0m\n",
      " [10] \u001b[0m\u001b[1m_include\u001b[22m\u001b[0m\u001b[1m(\u001b[22m\u001b[90mmapexpr\u001b[39m::\u001b[0mFunction, \u001b[90mmod\u001b[39m::\u001b[0mModule, \u001b[90m_path\u001b[39m::\u001b[0mString\u001b[0m\u001b[1m)\u001b[22m\n",
      "\u001b[90m    @ \u001b[39m\u001b[90mBase\u001b[39m \u001b[90m/Applications/Julia-1.6.app/Contents/Resources/julia/lib/julia/\u001b[39m\u001b[90;4msys.dylib:-1\u001b[0m\n",
      " [11] \u001b[0m\u001b[1minclude_package_for_output\u001b[22m\u001b[0m\u001b[1m(\u001b[22m\u001b[90mpkg\u001b[39m::\u001b[0mBase.PkgId, \u001b[90minput\u001b[39m::\u001b[0mString, \u001b[90mdepot_path\u001b[39m::\u001b[0mVector\u001b[90m{String}\u001b[39m, \u001b[90mdl_load_path\u001b[39m::\u001b[0mVector\u001b[90m{String}\u001b[39m, \u001b[90mload_path\u001b[39m::\u001b[0mVector\u001b[90m{String}\u001b[39m, \u001b[90mconcrete_deps\u001b[39m::\u001b[0mVector\u001b[90m{Pair{Base.PkgId, UInt64}}\u001b[39m, \u001b[90msource\u001b[39m::\u001b[0mNothing\u001b[0m\u001b[1m)\u001b[22m\n",
      "\u001b[90m    @ \u001b[39m\u001b[90mBase\u001b[39m \u001b[90m/Applications/Julia-1.6.app/Contents/Resources/julia/lib/julia/\u001b[39m\u001b[90;4msys.dylib:-1\u001b[0m\n",
      " [12] top-level scope\u001b[90m (repeats 2 times)\u001b[39m\n",
      "\u001b[90m    @ \u001b[39m\u001b[90;4mnone:1\u001b[0m\n",
      " [13] \u001b[0m\u001b[1mexec_options\u001b[22m\u001b[0m\u001b[1m(\u001b[22m\u001b[90mopts\u001b[39m::\u001b[0mBase.JLOptions\u001b[0m\u001b[1m)\u001b[22m\n",
      "\u001b[90m    @ \u001b[39m\u001b[90mBase\u001b[39m \u001b[90m/Applications/Julia-1.6.app/Contents/Resources/julia/lib/julia/\u001b[39m\u001b[90;4msys.dylib:-1\u001b[0m\n",
      " [14] \u001b[0m\u001b[1m_start\u001b[22m\u001b[0m\u001b[1m(\u001b[22m\u001b[0m\u001b[1m)\u001b[22m\n",
      "\u001b[90m    @ \u001b[39m\u001b[90mBase\u001b[39m \u001b[90m/Applications/Julia-1.6.app/Contents/Resources/julia/lib/julia/\u001b[39m\u001b[90;4msys.dylib:-1\u001b[0m\n"
     ]
    },
    {
     "ename": "LoadError",
     "evalue": "Failed to precompile Seaborn [d2ef9438-c967-53ab-8060-373fdd9e13eb] to /Users/anirudhasuhasdeshpande/.julia/compiled/v1.6/Seaborn/jl_z4Sxmx.",
     "output_type": "error",
     "traceback": [
      "Failed to precompile Seaborn [d2ef9438-c967-53ab-8060-373fdd9e13eb] to /Users/anirudhasuhasdeshpande/.julia/compiled/v1.6/Seaborn/jl_z4Sxmx.",
      "",
      "Stacktrace:",
      " [1] error(s::String)",
      "   @ Base /Applications/Julia-1.6.app/Contents/Resources/julia/lib/julia/sys.dylib:-1",
      " [2] compilecache(pkg::Base.PkgId, path::String, internal_stderr::IJulia.IJuliaStdio{Base.PipeEndpoint}, internal_stdout::IJulia.IJuliaStdio{Base.PipeEndpoint}, ignore_loaded_modules::Bool)",
      "   @ Base ./loading.jl:1385",
      " [3] compilecache(pkg::Base.PkgId, path::String)",
      "   @ Base ./loading.jl:1329",
      " [4] _require(pkg::Base.PkgId)",
      "   @ Base ./loading.jl:1043",
      " [5] require(uuidkey::Base.PkgId)",
      "   @ Base ./loading.jl:936",
      " [6] require(into::Module, mod::Symbol)",
      "   @ Base ./loading.jl:923",
      " [7] eval",
      "   @ ./boot.jl:360 [inlined]",
      " [8] include_string(mapexpr::typeof(REPL.softscope), mod::Module, code::String, filename::String)",
      "   @ Base ./loading.jl:1116"
     ]
    }
   ],
   "source": [
    "using Seaborn"
   ]
  },
  {
   "cell_type": "code",
   "execution_count": 221,
   "id": "6fb21c1a",
   "metadata": {},
   "outputs": [
    {
     "data": {
      "image/svg+xml": [
       "<?xml version=\"1.0\" encoding=\"utf-8\"?>\n",
       "<svg xmlns=\"http://www.w3.org/2000/svg\" xmlns:xlink=\"http://www.w3.org/1999/xlink\" width=\"500\" height=\"500\" viewBox=\"0 0 2000 2000\">\n",
       "<defs>\n",
       "  <clipPath id=\"clip270\">\n",
       "    <rect x=\"0\" y=\"0\" width=\"2000\" height=\"2000\"/>\n",
       "  </clipPath>\n",
       "</defs>\n",
       "<path clip-path=\"url(#clip270)\" d=\"\n",
       "M0 2000 L2000 2000 L2000 0 L0 0  Z\n",
       "  \" fill=\"#ffffff\" fill-rule=\"evenodd\" fill-opacity=\"1\"/>\n",
       "<defs>\n",
       "  <clipPath id=\"clip271\">\n",
       "    <rect x=\"400\" y=\"200\" width=\"1401\" height=\"1401\"/>\n",
       "  </clipPath>\n",
       "</defs>\n",
       "<path clip-path=\"url(#clip270)\" d=\"\n",
       "M63.8013 1929.53 L1788.19 1929.53 L1788.19 38.428 L63.8013 38.428  Z\n",
       "  \" fill=\"#ffffff\" fill-rule=\"evenodd\" fill-opacity=\"1\"/>\n",
       "<defs>\n",
       "  <clipPath id=\"clip272\">\n",
       "    <rect x=\"63\" y=\"38\" width=\"1725\" height=\"1892\"/>\n",
       "  </clipPath>\n",
       "</defs>\n",
       "<polyline clip-path=\"url(#clip272)\" style=\"stroke:#000000; stroke-width:0.5; stroke-opacity:0.1; fill:none\" points=\"\n",
       "  322.459,1929.53 322.459,38.428 \n",
       "  \"/>\n",
       "<polyline clip-path=\"url(#clip272)\" style=\"stroke:#000000; stroke-width:0.5; stroke-opacity:0.1; fill:none\" points=\"\n",
       "  667.337,1929.53 667.337,38.428 \n",
       "  \"/>\n",
       "<polyline clip-path=\"url(#clip272)\" style=\"stroke:#000000; stroke-width:0.5; stroke-opacity:0.1; fill:none\" points=\"\n",
       "  1012.21,1929.53 1012.21,38.428 \n",
       "  \"/>\n",
       "<polyline clip-path=\"url(#clip272)\" style=\"stroke:#000000; stroke-width:0.5; stroke-opacity:0.1; fill:none\" points=\"\n",
       "  1357.09,1929.53 1357.09,38.428 \n",
       "  \"/>\n",
       "<polyline clip-path=\"url(#clip272)\" style=\"stroke:#000000; stroke-width:0.5; stroke-opacity:0.1; fill:none\" points=\"\n",
       "  1701.97,1929.53 1701.97,38.428 \n",
       "  \"/>\n",
       "<polyline clip-path=\"url(#clip270)\" style=\"stroke:#000000; stroke-width:1; stroke-opacity:1; fill:none\" points=\"\n",
       "  63.8013,1929.53 1788.19,1929.53 \n",
       "  \"/>\n",
       "<polyline clip-path=\"url(#clip270)\" style=\"stroke:#000000; stroke-width:1; stroke-opacity:1; fill:none\" points=\"\n",
       "  322.459,1929.53 322.459,1906.84 \n",
       "  \"/>\n",
       "<polyline clip-path=\"url(#clip270)\" style=\"stroke:#000000; stroke-width:1; stroke-opacity:1; fill:none\" points=\"\n",
       "  667.337,1929.53 667.337,1906.84 \n",
       "  \"/>\n",
       "<polyline clip-path=\"url(#clip270)\" style=\"stroke:#000000; stroke-width:1; stroke-opacity:1; fill:none\" points=\"\n",
       "  1012.21,1929.53 1012.21,1906.84 \n",
       "  \"/>\n",
       "<polyline clip-path=\"url(#clip270)\" style=\"stroke:#000000; stroke-width:1; stroke-opacity:1; fill:none\" points=\"\n",
       "  1357.09,1929.53 1357.09,1906.84 \n",
       "  \"/>\n",
       "<polyline clip-path=\"url(#clip270)\" style=\"stroke:#000000; stroke-width:1; stroke-opacity:1; fill:none\" points=\"\n",
       "  1701.97,1929.53 1701.97,1906.84 \n",
       "  \"/>\n",
       "<path clip-path=\"url(#clip270)\" d=\"M 0 0 M321.123 1954.92 L325.202 1954.92 L325.202 1955.9 L319.716 1955.9 L319.716 1954.92 Q320.382 1954.23 321.528 1953.07 Q322.679 1951.91 322.974 1951.57 Q323.536 1950.94 323.756 1950.51 Q323.981 1950.07 323.981 1949.65 Q323.981 1948.96 323.495 1948.52 Q323.015 1948.09 322.24 1948.09 Q321.69 1948.09 321.076 1948.28 Q320.469 1948.47 319.774 1948.86 L319.774 1947.68 Q320.48 1947.4 321.094 1947.25 Q321.707 1947.11 322.216 1947.11 Q323.559 1947.11 324.358 1947.78 Q325.156 1948.45 325.156 1949.57 Q325.156 1950.1 324.954 1950.58 Q324.757 1951.06 324.23 1951.71 Q324.086 1951.88 323.31 1952.68 Q322.535 1953.48 321.123 1954.92 Z\" fill=\"#000000\" fill-rule=\"evenodd\" fill-opacity=\"1\" /><path clip-path=\"url(#clip270)\" d=\"M 0 0 M668.089 1948.28 L665.138 1952.89 L668.089 1952.89 L668.089 1948.28 M667.783 1947.26 L669.252 1947.26 L669.252 1952.89 L670.485 1952.89 L670.485 1953.87 L669.252 1953.87 L669.252 1955.9 L668.089 1955.9 L668.089 1953.87 L664.189 1953.87 L664.189 1952.74 L667.783 1947.26 Z\" fill=\"#000000\" fill-rule=\"evenodd\" fill-opacity=\"1\" /><path clip-path=\"url(#clip270)\" d=\"M 0 0 M1012.32 1951.12 Q1011.53 1951.12 1011.07 1951.66 Q1010.61 1952.19 1010.61 1953.13 Q1010.61 1954.06 1011.07 1954.61 Q1011.53 1955.14 1012.32 1955.14 Q1013.1 1955.14 1013.56 1954.61 Q1014.02 1954.06 1014.02 1953.13 Q1014.02 1952.19 1013.56 1951.66 Q1013.1 1951.12 1012.32 1951.12 M1014.64 1947.45 L1014.64 1948.52 Q1014.2 1948.31 1013.75 1948.2 Q1013.3 1948.09 1012.86 1948.09 Q1011.7 1948.09 1011.09 1948.87 Q1010.48 1949.65 1010.39 1951.23 Q1010.74 1950.73 1011.25 1950.46 Q1011.77 1950.19 1012.39 1950.19 Q1013.69 1950.19 1014.44 1950.98 Q1015.2 1951.77 1015.2 1953.13 Q1015.2 1954.46 1014.41 1955.27 Q1013.62 1956.07 1012.32 1956.07 Q1010.82 1956.07 1010.02 1954.92 Q1009.23 1953.77 1009.23 1951.59 Q1009.23 1949.54 1010.2 1948.33 Q1011.18 1947.11 1012.81 1947.11 Q1013.25 1947.11 1013.7 1947.19 Q1014.15 1947.28 1014.64 1947.45 Z\" fill=\"#000000\" fill-rule=\"evenodd\" fill-opacity=\"1\" /><path clip-path=\"url(#clip270)\" d=\"M 0 0 M1357.09 1951.8 Q1356.26 1951.8 1355.78 1952.25 Q1355.3 1952.69 1355.3 1953.47 Q1355.3 1954.25 1355.78 1954.7 Q1356.26 1955.14 1357.09 1955.14 Q1357.93 1955.14 1358.41 1954.7 Q1358.89 1954.25 1358.89 1953.47 Q1358.89 1952.69 1358.41 1952.25 Q1357.93 1951.8 1357.09 1951.8 M1355.92 1951.3 Q1355.17 1951.12 1354.75 1950.6 Q1354.33 1950.09 1354.33 1949.35 Q1354.33 1948.31 1355.07 1947.71 Q1355.81 1947.11 1357.09 1947.11 Q1358.38 1947.11 1359.12 1947.71 Q1359.85 1948.31 1359.85 1949.35 Q1359.85 1950.09 1359.43 1950.6 Q1359.01 1951.12 1358.27 1951.3 Q1359.11 1951.5 1359.58 1952.07 Q1360.06 1952.64 1360.06 1953.47 Q1360.06 1954.73 1359.29 1955.4 Q1358.52 1956.07 1357.09 1956.07 Q1355.66 1956.07 1354.89 1955.4 Q1354.13 1954.73 1354.13 1953.47 Q1354.13 1952.64 1354.6 1952.07 Q1355.08 1951.5 1355.92 1951.3 M1355.49 1949.46 Q1355.49 1950.13 1355.91 1950.5 Q1356.33 1950.88 1357.09 1950.88 Q1357.84 1950.88 1358.27 1950.5 Q1358.7 1950.13 1358.7 1949.46 Q1358.7 1948.78 1358.27 1948.41 Q1357.84 1948.03 1357.09 1948.03 Q1356.33 1948.03 1355.91 1948.41 Q1355.49 1948.78 1355.49 1949.46 Z\" fill=\"#000000\" fill-rule=\"evenodd\" fill-opacity=\"1\" /><path clip-path=\"url(#clip270)\" d=\"M 0 0 M1696.19 1954.92 L1698.1 1954.92 L1698.1 1948.33 L1696.02 1948.74 L1696.02 1947.68 L1698.09 1947.26 L1699.26 1947.26 L1699.26 1954.92 L1701.17 1954.92 L1701.17 1955.9 L1696.19 1955.9 L1696.19 1954.92 Z\" fill=\"#000000\" fill-rule=\"evenodd\" fill-opacity=\"1\" /><path clip-path=\"url(#clip270)\" d=\"M 0 0 M1704.93 1948.03 Q1704.03 1948.03 1703.57 1948.92 Q1703.12 1949.81 1703.12 1951.59 Q1703.12 1953.37 1703.57 1954.26 Q1704.03 1955.14 1704.93 1955.14 Q1705.84 1955.14 1706.29 1954.26 Q1706.75 1953.37 1706.75 1951.59 Q1706.75 1949.81 1706.29 1948.92 Q1705.84 1948.03 1704.93 1948.03 M1704.93 1947.11 Q1706.39 1947.11 1707.15 1948.26 Q1707.92 1949.4 1707.92 1951.59 Q1707.92 1953.77 1707.15 1954.92 Q1706.39 1956.07 1704.93 1956.07 Q1703.48 1956.07 1702.71 1954.92 Q1701.95 1953.77 1701.95 1951.59 Q1701.95 1949.4 1702.71 1948.26 Q1703.48 1947.11 1704.93 1947.11 Z\" fill=\"#000000\" fill-rule=\"evenodd\" fill-opacity=\"1\" /><path clip-path=\"url(#clip270)\" d=\"M 0 0 M904.376 1977.84 L901.153 1982.18 L904.543 1986.75 L902.816 1986.75 L900.222 1983.25 L897.628 1986.75 L895.901 1986.75 L899.363 1982.09 L896.196 1977.84 L897.922 1977.84 L900.286 1981.01 L902.649 1977.84 L904.376 1977.84 Z\" fill=\"#000000\" fill-rule=\"evenodd\" fill-opacity=\"1\" /><path clip-path=\"url(#clip270)\" d=\"M 0 0 M910.208 1977.84 L911.76 1977.84 L914.545 1985.32 L917.33 1977.84 L918.881 1977.84 L915.539 1986.75 L913.55 1986.75 L910.208 1977.84 Z\" fill=\"#000000\" fill-rule=\"evenodd\" fill-opacity=\"1\" /><path clip-path=\"url(#clip270)\" d=\"M 0 0 M924.467 1982.27 Q922.693 1982.27 922.009 1982.68 Q921.324 1983.08 921.324 1984.06 Q921.324 1984.84 921.834 1985.3 Q922.351 1985.76 923.234 1985.76 Q924.451 1985.76 925.184 1984.9 Q925.924 1984.03 925.924 1982.6 L925.924 1982.27 L924.467 1982.27 M927.388 1981.67 L927.388 1986.75 L925.924 1986.75 L925.924 1985.4 Q925.422 1986.21 924.674 1986.6 Q923.926 1986.98 922.844 1986.98 Q921.475 1986.98 920.664 1986.22 Q919.86 1985.45 919.86 1984.16 Q919.86 1982.65 920.863 1981.89 Q921.873 1981.13 923.871 1981.13 L925.924 1981.13 L925.924 1980.98 Q925.924 1979.97 925.255 1979.42 Q924.595 1978.87 923.393 1978.87 Q922.629 1978.87 921.905 1979.05 Q921.181 1979.23 920.513 1979.6 L920.513 1978.24 Q921.316 1977.93 922.072 1977.78 Q922.828 1977.62 923.544 1977.62 Q925.478 1977.62 926.433 1978.63 Q927.388 1979.63 927.388 1981.67 Z\" fill=\"#000000\" fill-rule=\"evenodd\" fill-opacity=\"1\" /><path clip-path=\"url(#clip270)\" d=\"M 0 0 M928.923 1974.37 L930.387 1974.37 L930.387 1986.75 L928.923 1986.75 L928.923 1974.37 Z\" fill=\"#000000\" fill-rule=\"evenodd\" fill-opacity=\"1\" /><path clip-path=\"url(#clip270)\" d=\"M 0 0 M931.772 1983.23 L931.772 1977.84 L933.236 1977.84 L933.236 1983.18 Q933.236 1984.44 933.729 1985.08 Q934.223 1985.71 935.209 1985.71 Q936.395 1985.71 937.079 1984.95 Q937.772 1984.2 937.772 1982.89 L937.772 1977.84 L939.236 1977.84 L939.236 1986.75 L937.772 1986.75 L937.772 1985.38 Q937.239 1986.19 936.53 1986.59 Q935.83 1986.98 934.899 1986.98 Q933.363 1986.98 932.568 1986.03 Q931.772 1985.07 931.772 1983.23 M935.456 1977.62 L935.456 1977.62 Z\" fill=\"#000000\" fill-rule=\"evenodd\" fill-opacity=\"1\" /><path clip-path=\"url(#clip270)\" d=\"M 0 0 M948.394 1981.93 L948.394 1982.65 L941.663 1982.65 Q941.758 1984.16 942.57 1984.95 Q943.389 1985.74 944.846 1985.74 Q945.689 1985.74 946.477 1985.53 Q947.273 1985.33 948.052 1984.91 L948.052 1986.3 Q947.265 1986.63 946.437 1986.81 Q945.609 1986.98 944.758 1986.98 Q942.626 1986.98 941.376 1985.74 Q940.135 1984.5 940.135 1982.38 Q940.135 1980.19 941.313 1978.91 Q942.498 1977.62 944.503 1977.62 Q946.302 1977.62 947.344 1978.79 Q948.394 1979.94 948.394 1981.93 M946.93 1981.5 Q946.914 1980.3 946.254 1979.58 Q945.602 1978.87 944.519 1978.87 Q943.294 1978.87 942.554 1979.56 Q941.822 1980.25 941.71 1981.51 L946.93 1981.5 Z\" fill=\"#000000\" fill-rule=\"evenodd\" fill-opacity=\"1\" /><path clip-path=\"url(#clip270)\" d=\"M 0 0 M955.612 1978.1 L955.612 1979.49 Q954.991 1979.17 954.323 1979.01 Q953.654 1978.85 952.938 1978.85 Q951.848 1978.85 951.299 1979.18 Q950.758 1979.52 950.758 1980.19 Q950.758 1980.7 951.148 1980.99 Q951.538 1981.28 952.715 1981.54 L953.216 1981.65 Q954.776 1981.98 955.429 1982.6 Q956.089 1983.2 956.089 1984.29 Q956.089 1985.53 955.102 1986.26 Q954.124 1986.98 952.405 1986.98 Q951.689 1986.98 950.909 1986.84 Q950.137 1986.7 949.278 1986.42 L949.278 1984.91 Q950.089 1985.33 950.877 1985.55 Q951.665 1985.76 952.437 1985.76 Q953.471 1985.76 954.028 1985.41 Q954.585 1985.05 954.585 1984.4 Q954.585 1983.81 954.179 1983.49 Q953.781 1983.17 952.421 1982.88 L951.912 1982.76 Q950.551 1982.47 949.946 1981.88 Q949.341 1981.28 949.341 1980.25 Q949.341 1978.99 950.233 1978.31 Q951.124 1977.62 952.763 1977.62 Q953.575 1977.62 954.291 1977.74 Q955.007 1977.86 955.612 1978.1 Z\" fill=\"#000000\" fill-rule=\"evenodd\" fill-opacity=\"1\" /><polyline clip-path=\"url(#clip272)\" style=\"stroke:#000000; stroke-width:0.5; stroke-opacity:0.1; fill:none\" points=\"\n",
       "  63.8013,1771.94 1788.19,1771.94 \n",
       "  \"/>\n",
       "<polyline clip-path=\"url(#clip272)\" style=\"stroke:#000000; stroke-width:0.5; stroke-opacity:0.1; fill:none\" points=\"\n",
       "  63.8013,1456.76 1788.19,1456.76 \n",
       "  \"/>\n",
       "<polyline clip-path=\"url(#clip272)\" style=\"stroke:#000000; stroke-width:0.5; stroke-opacity:0.1; fill:none\" points=\"\n",
       "  63.8013,1141.57 1788.19,1141.57 \n",
       "  \"/>\n",
       "<polyline clip-path=\"url(#clip272)\" style=\"stroke:#000000; stroke-width:0.5; stroke-opacity:0.1; fill:none\" points=\"\n",
       "  63.8013,826.389 1788.19,826.389 \n",
       "  \"/>\n",
       "<polyline clip-path=\"url(#clip272)\" style=\"stroke:#000000; stroke-width:0.5; stroke-opacity:0.1; fill:none\" points=\"\n",
       "  63.8013,511.205 1788.19,511.205 \n",
       "  \"/>\n",
       "<polyline clip-path=\"url(#clip272)\" style=\"stroke:#000000; stroke-width:0.5; stroke-opacity:0.1; fill:none\" points=\"\n",
       "  63.8013,196.02 1788.19,196.02 \n",
       "  \"/>\n",
       "<polyline clip-path=\"url(#clip270)\" style=\"stroke:#000000; stroke-width:1; stroke-opacity:1; fill:none\" points=\"\n",
       "  63.8013,1929.53 63.8013,38.428 \n",
       "  \"/>\n",
       "<polyline clip-path=\"url(#clip270)\" style=\"stroke:#000000; stroke-width:1; stroke-opacity:1; fill:none\" points=\"\n",
       "  63.8013,1771.94 84.494,1771.94 \n",
       "  \"/>\n",
       "<polyline clip-path=\"url(#clip270)\" style=\"stroke:#000000; stroke-width:1; stroke-opacity:1; fill:none\" points=\"\n",
       "  63.8013,1456.76 84.494,1456.76 \n",
       "  \"/>\n",
       "<polyline clip-path=\"url(#clip270)\" style=\"stroke:#000000; stroke-width:1; stroke-opacity:1; fill:none\" points=\"\n",
       "  63.8013,1141.57 84.494,1141.57 \n",
       "  \"/>\n",
       "<polyline clip-path=\"url(#clip270)\" style=\"stroke:#000000; stroke-width:1; stroke-opacity:1; fill:none\" points=\"\n",
       "  63.8013,826.389 84.494,826.389 \n",
       "  \"/>\n",
       "<polyline clip-path=\"url(#clip270)\" style=\"stroke:#000000; stroke-width:1; stroke-opacity:1; fill:none\" points=\"\n",
       "  63.8013,511.205 84.494,511.205 \n",
       "  \"/>\n",
       "<polyline clip-path=\"url(#clip270)\" style=\"stroke:#000000; stroke-width:1; stroke-opacity:1; fill:none\" points=\"\n",
       "  63.8013,196.02 84.494,196.02 \n",
       "  \"/>\n",
       "<path clip-path=\"url(#clip270)\" d=\"M 0 0 M28.8245 1775.28 L30.7342 1775.28 L30.7342 1768.69 L28.6567 1769.1 L28.6567 1768.04 L30.7226 1767.62 L31.8916 1767.62 L31.8916 1775.28 L33.8013 1775.28 L33.8013 1776.26 L28.8245 1776.26 L28.8245 1775.28 Z\" fill=\"#000000\" fill-rule=\"evenodd\" fill-opacity=\"1\" /><path clip-path=\"url(#clip270)\" d=\"M 0 0 M29.7215 1460.09 L33.8013 1460.09 L33.8013 1461.08 L28.3152 1461.08 L28.3152 1460.09 Q28.9807 1459.41 30.1266 1458.25 Q31.2782 1457.09 31.5733 1456.75 Q32.1346 1456.12 32.3546 1455.68 Q32.5802 1455.24 32.5802 1454.82 Q32.5802 1454.13 32.0941 1453.7 Q31.6138 1453.27 30.8384 1453.27 Q30.2886 1453.27 29.6752 1453.46 Q29.0675 1453.65 28.3731 1454.04 L28.3731 1452.85 Q29.0791 1452.57 29.6925 1452.43 Q30.306 1452.28 30.8152 1452.28 Q32.1578 1452.28 32.9564 1452.95 Q33.755 1453.62 33.755 1454.75 Q33.755 1455.28 33.5525 1455.76 Q33.3557 1456.23 32.8291 1456.88 Q32.6844 1457.05 31.909 1457.85 Q31.1335 1458.65 29.7215 1460.09 Z\" fill=\"#000000\" fill-rule=\"evenodd\" fill-opacity=\"1\" /><path clip-path=\"url(#clip270)\" d=\"M 0 0 M32.0189 1141.24 Q32.858 1141.41 33.3268 1141.98 Q33.8013 1142.55 33.8013 1143.38 Q33.8013 1144.66 32.9217 1145.36 Q32.0421 1146.06 30.4217 1146.06 Q29.8777 1146.06 29.299 1145.95 Q28.7261 1145.85 28.1127 1145.63 L28.1127 1144.5 Q28.5988 1144.79 29.1775 1144.93 Q29.7562 1145.08 30.387 1145.08 Q31.4865 1145.08 32.0594 1144.64 Q32.6381 1144.21 32.6381 1143.38 Q32.6381 1142.62 32.0999 1142.19 Q31.5675 1141.76 30.6127 1141.76 L29.6057 1141.76 L29.6057 1140.8 L30.659 1140.8 Q31.5212 1140.8 31.9784 1140.45 Q32.4356 1140.11 32.4356 1139.46 Q32.4356 1138.79 31.961 1138.44 Q31.4923 1138.08 30.6127 1138.08 Q30.1323 1138.08 29.5826 1138.19 Q29.0328 1138.29 28.3731 1138.51 L28.3731 1137.47 Q29.0386 1137.28 29.6173 1137.19 Q30.2018 1137.1 30.7168 1137.1 Q32.0478 1137.1 32.8233 1137.71 Q33.5988 1138.31 33.5988 1139.34 Q33.5988 1140.05 33.1879 1140.55 Q32.777 1141.04 32.0189 1141.24 Z\" fill=\"#000000\" fill-rule=\"evenodd\" fill-opacity=\"1\" /><path clip-path=\"url(#clip270)\" d=\"M 0 0 M31.4055 823.088 L28.4541 827.7 L31.4055 827.7 L31.4055 823.088 M31.0988 822.069 L32.5687 822.069 L32.5687 827.7 L33.8013 827.7 L33.8013 828.672 L32.5687 828.672 L32.5687 830.709 L31.4055 830.709 L31.4055 828.672 L27.505 828.672 L27.505 827.544 L31.0988 822.069 Z\" fill=\"#000000\" fill-rule=\"evenodd\" fill-opacity=\"1\" /><path clip-path=\"url(#clip270)\" d=\"M 0 0 M28.5756 506.885 L33.1647 506.885 L33.1647 507.869 L29.6462 507.869 L29.6462 509.987 Q29.9009 509.9 30.1555 509.859 Q30.4101 509.813 30.6647 509.813 Q32.1115 509.813 32.9564 510.606 Q33.8013 511.399 33.8013 512.753 Q33.8013 514.147 32.9333 514.923 Q32.0652 515.693 30.4853 515.693 Q29.9414 515.693 29.3742 515.6 Q28.8129 515.507 28.2111 515.322 L28.2111 514.147 Q28.7319 514.431 29.2874 514.57 Q29.843 514.709 30.4622 514.709 Q31.4634 514.709 32.0478 514.182 Q32.6323 513.656 32.6323 512.753 Q32.6323 511.85 32.0478 511.323 Q31.4634 510.797 30.4622 510.797 Q29.9935 510.797 29.5247 510.901 Q29.0617 511.005 28.5756 511.225 L28.5756 506.885 Z\" fill=\"#000000\" fill-rule=\"evenodd\" fill-opacity=\"1\" /><path clip-path=\"url(#clip270)\" d=\"M 0 0 M30.9194 195.554 Q30.1323 195.554 29.6694 196.093 Q29.2122 196.631 29.2122 197.568 Q29.2122 198.5 29.6694 199.044 Q30.1323 199.582 30.9194 199.582 Q31.7064 199.582 32.1636 199.044 Q32.6265 198.5 32.6265 197.568 Q32.6265 196.631 32.1636 196.093 Q31.7064 195.554 30.9194 195.554 M33.24 191.891 L33.24 192.956 Q32.8001 192.748 32.3488 192.638 Q31.9032 192.528 31.4634 192.528 Q30.306 192.528 29.6925 193.309 Q29.0849 194.09 28.9981 195.67 Q29.3395 195.167 29.8546 194.9 Q30.3696 194.629 30.9888 194.629 Q32.2909 194.629 33.0432 195.421 Q33.8013 196.208 33.8013 197.568 Q33.8013 198.899 33.0143 199.704 Q32.2272 200.508 30.9194 200.508 Q29.4205 200.508 28.6277 199.362 Q27.8349 198.211 27.8349 196.029 Q27.8349 193.98 28.8071 192.765 Q29.7793 191.544 31.4171 191.544 Q31.8569 191.544 32.3025 191.631 Q32.7539 191.718 33.24 191.891 Z\" fill=\"#000000\" fill-rule=\"evenodd\" fill-opacity=\"1\" /><path clip-path=\"url(#clip270)\" d=\"M 0 0 M-5.23142 1009.33 Q-3.63999 1009.95 -3.15461 1010.54 Q-2.66922 1011.13 -2.66922 1012.12 L-2.66922 1013.29 L-3.89462 1013.29 L-3.89462 1012.43 Q-3.89462 1011.82 -4.18108 1011.49 Q-4.46753 1011.16 -5.53379 1010.75 L-6.20219 1010.49 L-14.9709 1014.09 L-14.9709 1012.54 L-8.0005 1009.75 L-14.9709 1006.97 L-14.9709 1005.42 L-5.23142 1009.33 Z\" fill=\"#000000\" fill-rule=\"evenodd\" fill-opacity=\"1\" /><path clip-path=\"url(#clip270)\" d=\"M 0 0 M-14.9709 999.753 L-14.9709 998.201 L-7.49124 995.416 L-14.9709 992.631 L-14.9709 991.079 L-6.05896 994.421 L-6.05896 996.411 L-14.9709 999.753 Z\" fill=\"#000000\" fill-rule=\"evenodd\" fill-opacity=\"1\" /><path clip-path=\"url(#clip270)\" d=\"M 0 0 M-10.5388 985.493 Q-10.5388 987.268 -10.133 987.952 Q-9.7272 988.636 -8.74847 988.636 Q-7.96867 988.636 -7.50716 988.127 Q-7.0536 987.61 -7.0536 986.727 Q-7.0536 985.509 -7.91297 984.777 Q-8.7803 984.037 -10.2126 984.037 L-10.5388 984.037 L-10.5388 985.493 M-11.1436 982.573 L-6.05896 982.573 L-6.05896 984.037 L-7.41167 984.037 Q-6.60005 984.538 -6.21015 985.286 Q-5.8282 986.034 -5.8282 987.117 Q-5.8282 988.485 -6.59209 989.297 Q-7.36393 990.101 -8.65299 990.101 Q-10.1569 990.101 -10.9208 989.098 Q-11.6847 988.087 -11.6847 986.09 L-11.6847 984.037 L-11.8279 984.037 Q-12.8384 984.037 -13.3875 984.706 Q-13.9445 985.366 -13.9445 986.568 Q-13.9445 987.331 -13.7615 988.056 Q-13.5785 988.78 -13.2124 989.448 L-14.5651 989.448 Q-14.8755 988.644 -15.0266 987.888 Q-15.1858 987.133 -15.1858 986.416 Q-15.1858 984.483 -14.1832 983.528 Q-13.1806 982.573 -11.1436 982.573 Z\" fill=\"#000000\" fill-rule=\"evenodd\" fill-opacity=\"1\" /><path clip-path=\"url(#clip270)\" d=\"M 0 0 M-18.4403 981.037 L-18.4403 979.573 L-6.05896 979.573 L-6.05896 981.037 L-18.4403 981.037 Z\" fill=\"#000000\" fill-rule=\"evenodd\" fill-opacity=\"1\" /><path clip-path=\"url(#clip270)\" d=\"M 0 0 M-9.57601 978.189 L-14.9709 978.189 L-14.9709 976.725 L-9.63171 976.725 Q-8.36653 976.725 -7.72996 976.231 Q-7.10135 975.738 -7.10135 974.751 Q-7.10135 973.566 -7.85727 972.881 Q-8.6132 972.189 -9.91817 972.189 L-14.9709 972.189 L-14.9709 970.725 L-6.05896 970.725 L-6.05896 972.189 L-7.42759 972.189 Q-6.61596 972.722 -6.2181 973.43 Q-5.8282 974.131 -5.8282 975.062 Q-5.8282 976.597 -6.78306 977.393 Q-7.73792 978.189 -9.57601 978.189 M-15.1858 974.505 L-15.1858 974.505 Z\" fill=\"#000000\" fill-rule=\"evenodd\" fill-opacity=\"1\" /><path clip-path=\"url(#clip270)\" d=\"M 0 0 M-10.881 961.566 L-10.1648 961.566 L-10.1648 968.298 Q-8.65299 968.203 -7.85727 967.391 Q-7.06952 966.571 -7.06952 965.115 Q-7.06952 964.272 -7.2764 963.484 Q-7.48329 962.688 -7.89706 961.908 L-6.51252 961.908 Q-6.17832 962.696 -6.00326 963.524 Q-5.8282 964.351 -5.8282 965.203 Q-5.8282 967.335 -7.06952 968.584 Q-8.31083 969.826 -10.4274 969.826 Q-12.6156 969.826 -13.8967 968.648 Q-15.1858 967.462 -15.1858 965.457 Q-15.1858 963.659 -14.0241 962.617 Q-12.8703 961.566 -10.881 961.566 M-11.3107 963.03 Q-12.5122 963.046 -13.2283 963.707 Q-13.9445 964.359 -13.9445 965.441 Q-13.9445 966.667 -13.2522 967.407 Q-12.5599 968.139 -11.3027 968.25 L-11.3107 963.03 Z\" fill=\"#000000\" fill-rule=\"evenodd\" fill-opacity=\"1\" /><path clip-path=\"url(#clip270)\" d=\"M 0 0 M-14.7084 954.349 L-13.3238 954.349 Q-13.6421 954.97 -13.8013 955.638 Q-13.9604 956.307 -13.9604 957.023 Q-13.9604 958.113 -13.6262 958.662 Q-13.292 959.203 -12.6236 959.203 Q-12.1143 959.203 -11.8199 958.813 Q-11.5335 958.423 -11.2709 957.246 L-11.1595 956.744 Q-10.8253 955.185 -10.2126 954.532 Q-9.60784 953.872 -8.51771 953.872 Q-7.2764 953.872 -6.5523 954.858 Q-5.8282 955.837 -5.8282 957.556 Q-5.8282 958.272 -5.97143 959.052 Q-6.1067 959.824 -6.3852 960.683 L-7.89706 960.683 Q-7.47533 959.871 -7.26049 959.084 Q-7.0536 958.296 -7.0536 957.524 Q-7.0536 956.49 -7.40372 955.933 Q-7.76179 955.376 -8.40631 955.376 Q-9.0031 955.376 -9.32139 955.781 Q-9.63967 956.179 -9.93408 957.54 L-10.0534 958.049 Q-10.3399 959.41 -10.9287 960.015 Q-11.5255 960.619 -12.5599 960.619 Q-13.8172 960.619 -14.5015 959.728 Q-15.1858 958.837 -15.1858 957.198 Q-15.1858 956.386 -15.0664 955.67 Q-14.9471 954.954 -14.7084 954.349 Z\" fill=\"#000000\" fill-rule=\"evenodd\" fill-opacity=\"1\" /><path clip-path=\"url(#clip270)\" d=\"M 0 0 M892.671 3.024 L895.72 3.024 L899.578 13.3133 L903.457 3.024 L906.505 3.024 L906.505 18.144 L904.51 18.144 L904.51 4.86716 L900.611 15.2375 L898.555 15.2375 L894.656 4.86716 L894.656 18.144 L892.671 18.144 L892.671 3.024 Z\" fill=\"#000000\" fill-rule=\"evenodd\" fill-opacity=\"1\" /><path clip-path=\"url(#clip270)\" d=\"M 0 0 M913.179 19.1972 Q912.389 21.2227 911.64 21.8405 Q910.89 22.4582 909.635 22.4582 L908.146 22.4582 L908.146 20.8986 L909.24 20.8986 Q910.009 20.8986 910.435 20.534 Q910.86 20.1695 911.376 18.8124 L911.711 17.9617 L907.123 6.80147 L909.098 6.80147 L912.642 15.6729 L916.187 6.80147 L918.162 6.80147 L913.179 19.1972 Z\" fill=\"#000000\" fill-rule=\"evenodd\" fill-opacity=\"1\" /><path clip-path=\"url(#clip270)\" d=\"M 0 0 M928.552 3.581 L928.552 6.80147 L932.391 6.80147 L932.391 8.24967 L928.552 8.24967 L928.552 14.407 Q928.552 15.7945 928.927 16.1894 Q929.312 16.5844 930.476 16.5844 L932.391 16.5844 L932.391 18.144 L930.476 18.144 Q928.319 18.144 927.499 17.3439 Q926.679 16.5338 926.679 14.407 L926.679 8.24967 L925.312 8.24967 L925.312 6.80147 L926.679 6.80147 L926.679 3.581 L928.552 3.581 Z\" fill=\"#000000\" fill-rule=\"evenodd\" fill-opacity=\"1\" /><path clip-path=\"url(#clip270)\" d=\"M 0 0 M934.345 6.80147 L936.208 6.80147 L936.208 18.144 L934.345 18.144 L934.345 6.80147 M934.345 2.38598 L936.208 2.38598 L936.208 4.74563 L934.345 4.74563 L934.345 2.38598 Z\" fill=\"#000000\" fill-rule=\"evenodd\" fill-opacity=\"1\" /><path clip-path=\"url(#clip270)\" d=\"M 0 0 M940.006 3.581 L940.006 6.80147 L943.844 6.80147 L943.844 8.24967 L940.006 8.24967 L940.006 14.407 Q940.006 15.7945 940.381 16.1894 Q940.766 16.5844 941.93 16.5844 L943.844 16.5844 L943.844 18.144 L941.93 18.144 Q939.773 18.144 938.953 17.3439 Q938.133 16.5338 938.133 14.407 L938.133 8.24967 L936.765 8.24967 L936.765 6.80147 L938.133 6.80147 L938.133 3.581 L940.006 3.581 Z\" fill=\"#000000\" fill-rule=\"evenodd\" fill-opacity=\"1\" /><path clip-path=\"url(#clip270)\" d=\"M 0 0 M945.799 2.38598 L947.662 2.38598 L947.662 18.144 L945.799 18.144 L945.799 2.38598 Z\" fill=\"#000000\" fill-rule=\"evenodd\" fill-opacity=\"1\" /><path clip-path=\"url(#clip270)\" d=\"M 0 0 M959.319 12.0069 L959.319 12.9183 L950.751 12.9183 Q950.873 14.8425 951.906 15.8552 Q952.949 16.8578 954.802 16.8578 Q955.876 16.8578 956.878 16.5945 Q957.891 16.3312 958.883 15.8046 L958.883 17.5667 Q957.881 17.9921 956.828 18.2149 Q955.774 18.4377 954.691 18.4377 Q951.977 18.4377 950.387 16.8578 Q948.807 15.278 948.807 12.5841 Q948.807 9.79914 950.306 8.16865 Q951.815 6.52803 954.367 6.52803 Q956.655 6.52803 957.982 8.00661 Q959.319 9.47506 959.319 12.0069 M957.455 11.46 Q957.435 9.93079 956.595 9.01934 Q955.764 8.10788 954.387 8.10788 Q952.827 8.10788 951.885 8.98896 Q950.954 9.87003 950.812 11.4701 L957.455 11.46 Z\" fill=\"#000000\" fill-rule=\"evenodd\" fill-opacity=\"1\" /><g clip-path=\"url(#clip272)\">\n",
       "<image width=\"1724\" height=\"1891\" xlink:href=\"data:image/png;base64,\n",
       "iVBORw0KGgoAAAANSUhEUgAABrwAAAdjCAYAAAAMM56cAAAgAElEQVR4nOzbIU6DQRRGUYqpAcUO\n",
       "6lkE+2C99SgkAoWAGlLTpGUL8wfxcpNzVvCpSV5uZvf2drvdQcjHx/QCWPf1Nb0Atnl+nl4A615f\n",
       "pxfAuvN5egFsc71OL4B1p9P0AtjmcpleAOsOh+kFsO5+egAAAAAAAAD8h+AFAAAAAABAmuAFAAAA\n",
       "AABAmuAFAAAAAABAmuAFAAAAAABAmuAFAAAAAABAmuAFAAAAAABAmuAFAAAAAABAmuAFAAAAAABA\n",
       "muAFAAAAAABAmuAFAAAAAABAmuAFAAAAAABAmuAFAAAAAABAmuAFAAAAAABAmuAFAAAAAABAmuAF\n",
       "AAAAAABAmuAFAAAAAABAmuAFAAAAAABAmuAFAAAAAABAmuAFAAAAAABAmuAFAAAAAABAmuAFAAAA\n",
       "AABAmuAFAAAAAABAmuAFAAAAAABAmuAFAAAAAABAmuAFAAAAAABAmuAFAAAAAABAmuAFAAAAAABA\n",
       "muAFAAAAAABAmuAFAAAAAABAmuAFAAAAAABAmuAFAAAAAABAmuAFAAAAAABAmuAFAAAAAABAmuAF\n",
       "AAAAAABAmuAFAAAAAABAmuAFAAAAAABAmuAFAAAAAABAmuAFAAAAAABAmuAFAAAAAABAmuAFAAAA\n",
       "AABAmuAFAAAAAABAmuAFAAAAAABAmuAFAAAAAABAmuAFAAAAAABAmuAFAAAAAABAmuAFAAAAAABA\n",
       "muAFAAAAAABAmuAFAAAAAABAmuAFAAAAAABAmuAFAAAAAABAmuAFAAAAAABAmuAFAAAAAABAmuAF\n",
       "AAAAAABAmuAFAAAAAABAmuAFAAAAAABAmuAFAAAAAABAmuAFAAAAAABAmuAFAAAAAABAmuAFAAAA\n",
       "AABAmuAFAAAAAABAmuAFAAAAAABAmuAFAAAAAABAmuAFAAAAAABAmuAFAAAAAABAmuAFAAAAAABA\n",
       "muAFAAAAAABAmuAFAAAAAABAmuAFAAAAAABAmuAFAAAAAABAmuAFAAAAAABAmuAFAAAAAABAmuAF\n",
       "AAAAAABAmuAFAAAAAABAmuAFAAAAAABAmuAFAAAAAABAmuAFAAAAAABAmuAFAAAAAABAmuAFAAAA\n",
       "AABAmuAFAAAAAABAmuAFAAAAAABAmuAFAAAAAABAmuAFAAAAAABAmuAFAAAAAABAmuAFAAAAAABA\n",
       "muAFAAAAAABAmuAFAAAAAABAmuAFAAAAAABAmuAFAAAAAABAmuAFAAAAAABAmuAFAAAAAABAmuAF\n",
       "AAAAAABAmuAFAAAAAABAmuAFAAAAAABAmuAFAAAAAABAmuAFAAAAAABAmuAFAAAAAABAmuAFAAAA\n",
       "AABAmuAFAAAAAABAmuAFAAAAAABAmuAFAAAAAABAmuAFAAAAAABAmuAFAAAAAABAmuAFAAAAAABA\n",
       "muAFAAAAAABAmuAFAAAAAABAmuAFAAAAAABAmuAFAAAAAABAmuAFAAAAAABAmuAFAAAAAABAmuAF\n",
       "AAAAAABAmuAFAAAAAABAmuAFAAAAAABAmuAFAAAAAABAmuAFAAAAAABAmuAFAAAAAABAmuAFAAAA\n",
       "AABAmuAFAAAAAABAmuAFAAAAAABAmuAFAAAAAABAmuAFAAAAAABAmuAFAAAAAABAmuAFAAAAAABA\n",
       "muAFAAAAAABAmuAFAAAAAABAmuAFAAAAAABAmuAFAAAAAABAmuAFAAAAAABAmuAFAAAAAABAmuAF\n",
       "AAAAAABAmuAFAAAAAABAmuAFAAAAAABAmuAFAAAAAABAmuAFAAAAAABAmuAFAAAAAABAmuAFAAAA\n",
       "AABAmuAFAAAAAABAmuAFAAAAAABAmuAFAAAAAABAmuAFAAAAAABAmuAFAAAAAABAmuAFAAAAAABA\n",
       "muAFAAAAAABAmuAFAAAAAABAmuAFAAAAAABAmuAFAAAAAABAmuAFAAAAAABAmuAFAAAAAABAmuAF\n",
       "AAAAAABAmuAFAAAAAABAmuAFAAAAAABAmuAFAAAAAABAmuAFAAAAAABAmuAFAAAAAABAmuAFAAAA\n",
       "AABAmuAFAAAAAABAmuAFAAAAAABAmuAFAAAAAABAmuAFAAAAAABAmuAFAAAAAABAmuAFAAAAAABA\n",
       "muAFAAAAAABAmuAFAAAAAABAmuAFAAAAAABAmuAFAAAAAABAmuAFAAAAAABAmuAFAAAAAABAmuAF\n",
       "AAAAAABAmuAFAAAAAABAmuAFAAAAAABAmuAFAAAAAABAmuAFAAAAAABAmuAFAAAAAABAmuAFAAAA\n",
       "AABAmuAFAAAAAABAmuAFAAAAAABAmuAFAAAAAABAmuAFAAAAAABAmuAFAAAAAABAmuAFAAAAAABA\n",
       "muAFAAAAAABAmuAFAAAAAABAmuAFAAAAAABAmuAFAAAAAABAmuAFAAAAAABAmuAFAAAAAABAmuAF\n",
       "AAAAAABAmuAFAAAAAABAmuAFAAAAAABAmuAFAAAAAABAmuAFAAAAAABAmuAFAAAAAABAmuAFAAAA\n",
       "AABAmuAFAAAAAABAmuAFAAAAAABAmuAFAAAAAABAmuAFAAAAAABAmuAFAAAAAABAmuAFAAAAAABA\n",
       "muAFAAAAAABAmuAFAAAAAABAmuAFAAAAAABAmuAFAAAAAABAmuAFAAAAAABAmuAFAAAAAABAmuAF\n",
       "AAAAAABAmuAFAAAAAABAmuAFAAAAAABAmuAFAAAAAABAmuAFAAAAAABAmuAFAAAAAABAmuAFAAAA\n",
       "AABAmuAFAAAAAABAmuAFAAAAAABAmuAFAAAAAABAmuAFAAAAAABAmuAFAAAAAABAmuAFAAAAAABA\n",
       "muAFAAAAAABAmuAFAAAAAABAmuAFAAAAAABAmuAFAAAAAABAmuAFAAAAAABAmuAFAAAAAABAmuAF\n",
       "AAAAAABAmuAFAAAAAABAmuAFAAAAAABAmuAFAAAAAABAmuAFAAAAAABAmuAFAAAAAABAmuAFAAAA\n",
       "AABAmuAFAAAAAABAmuAFAAAAAABAmuAFAAAAAABAmuAFAAAAAABAmuAFAAAAAABAmuAFAAAAAABA\n",
       "muAFAAAAAABAmuAFAAAAAABAmuAFAAAAAABAmuAFAAAAAABAmuAFAAAAAABAmuAFAAAAAABAmuAF\n",
       "AAAAAABAmuAFAAAAAABAmuAFAAAAAABAmuAFAAAAAABAmuAFAAAAAABAmuAFAAAAAABAmuAFAAAA\n",
       "AABAmuAFAAAAAABAmuAFAAAAAABAmuAFAAAAAABAmuAFAAAAAABAmuAFAAAAAABAmuAFAAAAAABA\n",
       "muAFAAAAAABAmuAFAAAAAABAmuAFAAAAAABAmuAFAAAAAABAmuAFAAAAAABAmuAFAAAAAABAmuAF\n",
       "AAAAAABAmuAFAAAAAABAmuAFAAAAAABAmuAFAAAAAABAmuAFAAAAAABAmuAFAAAAAABAmuAFAAAA\n",
       "AABAmuAFAAAAAABAmuAFAAAAAABAmuAFAAAAAABAmuAFAAAAAABAmuAFAAAAAABAmuAFAAAAAABA\n",
       "muAFAAAAAABAmuAFAAAAAABAmuAFAAAAAABAmuAFAAAAAABAmuAFAAAAAABAmuAFAAAAAABAmuAF\n",
       "AAAAAABAmuAFAAAAAABAmuAFAAAAAABAmuAFAAAAAABAmuAFAAAAAABAmuAFAAAAAABAmuAFAAAA\n",
       "AABAmuAFAAAAAABAmuAFAAAAAABAmuAFAAAAAABAmuAFAAAAAABAmuAFAAAAAABAmuAFAAAAAABA\n",
       "muAFAAAAAABAmuAFAAAAAABAmuAFAAAAAABAmuAFAAAAAABAmuAFAAAAAABAmuAFAAAAAABAmuAF\n",
       "AAAAAABAmuAFAAAAAABAmuAFAAAAAABAmuAFAAAAAABAmuAFAAAAAABAmuAFAAAAAABAmuAFAAAA\n",
       "AABAmuAFAAAAAABAmuAFAAAAAABAmuAFAAAAAABAmuAFAAAAAABAmuAFAAAAAABAmuAFAAAAAABA\n",
       "muAFAAAAAABAmuAFAAAAAABA2u52PN6mR8Am7+/TC2Ddy8v0Atjm4WF6Aazb76cXwLrHx+kFsMn3\n",
       "z256Aix72v9OT4BNPk/uLjp+PbGE+OEFAAAAAABAmuAFAAAAAABAmuAFAAAAAABAmuAFAAAAAABA\n",
       "muAFAAAAAABAmuAFAAAAAABAmuAFAAAAAABAmuAFAAAAAABAmuAFAAAAAABAmuAFAAAAAABAmuAF\n",
       "AAAAAABAmuAFAAAAAABAmuAFAAAAAABAmuAFAAAAAABAmuAFAAAAAABAmuAFAAAAAABAmuAFAAAA\n",
       "AABAmuAFAAAAAABAmuAFAAAAAABAmuAFAAAAAABAmuAFAAAAAABAmuAFAAAAAABAmuAFAAAAAABA\n",
       "muAFAAAAAABAmuAFAAAAAABAmuAFAAAAAABAmuAFAAAAAABAmuAFAAAAAABAmuAFAAAAAABAmuAF\n",
       "AAAAAABAmuAFAAAAAABAmuAFAAAAAABAmuAFAAAAAABAmuAFAAAAAABAmuAFAAAAAABAmuAFAAAA\n",
       "AABAmuAFAAAAAABAmuAFAAAAAABAmuAFAAAAAABAmuAFAAAAAABAmuAFAAAAAABAmuAFAAAAAABA\n",
       "muAFAAAAAABAmuAFAAAAAABAmuAFAAAAAABAmuAFAAAAAABAmuAFAAAAAABAmuAFAAAAAABAmuAF\n",
       "AAAAAABAmuAFAAAAAABAmuAFAAAAAABAmuAFAAAAAABAmuAFAAAAAABAmuAFAAAAAABAmuAFAAAA\n",
       "AABAmuAFAAAAAABAmuAFAAAAAABAmuAFAAAAAABAmuAFAAAAAABAmuAFAAAAAABAmuAFAAAAAABA\n",
       "muAFAAAAAABAmuAFAAAAAABAmuAFAAAAAABAmuAFAAAAAABAmuAFAAAAAABAmuAFAAAAAABAmuAF\n",
       "AAAAAABAmuAFAAAAAABAmuAFAAAAAABAmuAFAAAAAABAmuAFAAAAAABAmuAFAAAAAABAmuAFAAAA\n",
       "AABAmuAFAAAAAABAmuAFAAAAAABAmuAFAAAAAABAmuAFAAAAAABAmuAFAAAAAABAmuAFAAAAAABA\n",
       "muAFAAAAAABAmuAFAAAAAABAmuAFAAAAAABAmuAFAAAAAABAmuAFAAAAAABAmuAFAAAAAABAmuAF\n",
       "AAAAAABAmuAFAAAAAABAmuAFAAAAAABAmuAFAAAAAABAmuAFAAAAAABAmuAFAAAAAABAmuAFAAAA\n",
       "AABAmuAFAAAAAABAmuAFAAAAAABAmuAFAAAAAABAmuAFAAAAAABAmuAFAAAAAABAmuAFAAAAAABA\n",
       "muAFAAAAAABAmuAFAAAAAABAmuAFAAAAAABAmuAFAAAAAABAmuAFAAAAAABAmuAFAAAAAABAmuAF\n",
       "AAAAAABAmuAFAAAAAABAmuAFAAAAAABAmuAFAAAAAABAmuAFAAAAAABAmuAFAAAAAABAmuAFAAAA\n",
       "AABAmuAFAAAAAABAmuAFAAAAAABAmuAFAAAAAABAmuAFAAAAAABAmuAFAAAAAABAmuAFAAAAAABA\n",
       "muAFAAAAAABAmuAFAAAAAABAmuAFAAAAAABAmuAFAAAAAABAmuAFAAAAAABAmuAFAAAAAABAmuAF\n",
       "AAAAAABAmuAFAAAAAABAmuAFAAAAAABAmuAFAAAAAABAmuAFAAAAAABAmuAFAAAAAABAmuAFAAAA\n",
       "AABAmuAFAAAAAABAmuAFAAAAAABAmuAFAAAAAABAmuAFAAAAAABAmuAFAAAAAABAmuAFAAAAAABA\n",
       "muAFAAAAAABAmuAFAAAAAABAmuAFAAAAAABAmuAFAAAAAABAmuAFAAAAAABAmuAFAAAAAABAmuAF\n",
       "AAAAAABAmuAFAAAAAABAmuAFAAAAAABAmuAFAAAAAABAmuAFAAAAAABAmuAFAAAAAABAmuAFAAAA\n",
       "AABAmuAFAAAAAABAmuAFAAAAAABAmuAFAAAAAABAmuAFAAAAAABAmuAFAAAAAABAmuAFAAAAAABA\n",
       "muAFAAAAAABAmuAFAAAAAABAmuAFAAAAAABAmuAFAAAAAABAmuAFAAAAAABAmuAFAAAAAABAmuAF\n",
       "AAAAAABAmuAFAAAAAABAmuAFAAAAAABAmuAFAAAAAABAmuAFAAAAAABAmuAFAAAAAABAmuAFAAAA\n",
       "AABAmuAFAAAAAABAmuAFAAAAAABAmuAFAAAAAABAmuAFAAAAAABAmuAFAAAAAABAmuAFAAAAAABA\n",
       "muAFAAAAAABAmuAFAAAAAABAmuAFAAAAAABAmuAFAAAAAABAmuAFAAAAAABAmuAFAAAAAABAmuAF\n",
       "AAAAAABAmuAFAAAAAABAmuAFAAAAAABAmuAFAAAAAABAmuAFAAAAAABAmuAFAAAAAABAmuAFAAAA\n",
       "AABAmuAFAAAAAABAmuAFAAAAAABAmuAFAAAAAABAmuAFAAAAAABAmuAFAAAAAABAmuAFAAAAAABA\n",
       "muAFAAAAAABAmuAFAAAAAABAmuAFAAAAAABAmuAFAAAAAABAmuAFAAAAAABAmuAFAAAAAABAmuAF\n",
       "AAAAAABAmuAFAAAAAABAmuAFAAAAAABAmuAFAAAAAABAmuAFAAAAAABAmuAFAAAAAABAmuAFAAAA\n",
       "AABAmuAFAAAAAABAmuAFAAAAAABAmuAFAAAAAABAmuAFAAAAAABAmuAFAAAAAABAmuAFAAAAAABA\n",
       "muAFAAAAAABAmuAFAAAAAABAmuAFAAAAAABAmuAFAAAAAABAmuAFAAAAAABAmuAFAAAAAABAmuAF\n",
       "AAAAAABAmuAFAAAAAABAmuAFAAAAAABAmuAFAAAAAABAmuAFAAAAAABAmuAFAAAAAABAmuAFAAAA\n",
       "AABAmuAFAAAAAABAmuAFAAAAAABAmuAFAAAAAABAmuAFAAAAAABAmuAFAAAAAABAmuAFAAAAAABA\n",
       "muAFAAAAAABAmuAFAAAAAABAmuAFAAAAAABAmuAFAAAAAABAmuAFAAAAAABAmuAFAAAAAABAmuAF\n",
       "AAAAAABAmuAFAAAAAABAmuAFAAAAAABAmuAFAAAAAABAmuAFAAAAAABAmuAFAAAAAABAmuAFAAAA\n",
       "AABAmuAFAAAAAABAmuAFAAAAAABAmuAFAAAAAABAmuAFAAAAAABAmuAFAAAAAABAmuAFAAAAAABA\n",
       "muAFAAAAAABAmuAFAAAAAABAmuAFAAAAAABAmuAFAAAAAABAmuAFAAAAAABAmuAFAAAAAABAmuAF\n",
       "AAAAAABAmuAFAAAAAABAmuAFAAAAAABAmuAFAAAAAABAmuAFAAAAAABAmuAFAAAAAABAmuAFAAAA\n",
       "AABAmuAFAAAAAABAmuAFAAAAAABAmuAFAAAAAABAmuAFAAAAAABAmuAFAAAAAABAmuAFAAAAAABA\n",
       "muAFAAAAAABAmuAFAAAAAABAmuAFAAAAAABAmuAFAAAAAABAmuAFAAAAAABAmuAFAAAAAABAmuAF\n",
       "AAAAAABAmuAFAAAAAABAmuAFAAAAAABAmuAFAAAAAABAmuAFAAAAAABAmuAFAAAAAABAmuAFAAAA\n",
       "AABAmuAFAAAAAABAmuAFAAAAAABAmuAFAAAAAABAmuAFAAAAAABAmuDFH/t2bNpAEEVR1DIyCORM\n",
       "GBSqG9Xj8lyPahA40rqFnehzzTkVvHB27iwAAAAAAECa4AUAAAAAAECa4AUAAAAAAECa4AUAAAAA\n",
       "AECa4AUAAAAAAECa4AUAAAAAAECa4AUAAAAAAECa4AUAAAAAAECa4AUAAAAAAECa4AUAAAAAAECa\n",
       "4AUAAAAAAECa4AUAAAAAAECa4AUAAAAAAECa4AUAAAAAAECa4AUAAAAAAECa4AUAAAAAAECa4AUA\n",
       "AAAAAECa4AUAAAAAAECa4AUAAAAAAECa4AUAAAAAAECa4AUAAAAAAECa4AUAAAAAAECa4AUAAAAA\n",
       "AECa4AUAAAAAAECa4AUAAAAAAECa4AUAAAAAAECa4AUAAAAAAEDaYbtctukRAP/W+Ty9ANacTtML\n",
       "YL/rdXoB7Pd8Ti+ANff79ALY7917bmLcFVByu00vgN2cCAAAAAAAAEgTvAAAAAAAAEgTvAAAAAAA\n",
       "AEgTvAAAAAAAAEgTvAAAAAAAAEgTvAAAAAAAAEgTvAAAAAAAAEgTvAAAAAAAAEgTvAAAAAAAAEgT\n",
       "vAAAAAAAAEgTvAAAAAAAAEgTvAAAAAAAAEgTvAAAAAAAAEgTvAAAAAAAAEgTvAAAAAAAAEgTvAAA\n",
       "AAAAAEgTvAAAAAAAAEgTvAAAAAAAAEgTvAAAAAAAAEgTvAAAAAAAAEgTvAAAAAAAAEgTvAAAAAAA\n",
       "AEgTvAAAAAAAAEgTvAAAAAAAAEgTvAAAAAAAAEgTvAAAAAAAAEgTvAAAAAAAAEgTvAAAAAAAAEgT\n",
       "vAAAAAAAAEgTvAAAAAAAAEgTvAAAAAAAAEgTvAAAAAAAAEgTvAAAAAAAAEgTvAAAAAAAAEgTvAAA\n",
       "AAAAAEgTvAAAAAAAAEgTvAAAAAAAAEgTvAAAAAAAAEgTvAAAAAAAAEgTvAAAAAAAAEgTvAAAAAAA\n",
       "AEgTvAAAAAAAAEgTvAAAAAAAAEgTvAAAAAAAAEgTvAAAAAAAAEgTvAAAAAAAAEgTvAAAAAAAAEgT\n",
       "vAAAAAAAAEgTvAAAAAAAAEgTvAAAAAAAAEgTvAAAAAAAAEgTvAAAAAAAAEgTvAAAAAAAAEgTvAAA\n",
       "AAAAAEgTvAAAAAAAAEgTvAAAAAAAAEgTvAAAAAAAAEgTvAAAAAAAAEgTvAAAAAAAAEgTvAAAAAAA\n",
       "AEgTvAAAAAAAAEgTvAAAAAAAAEgTvAAAAAAAAEgTvAAAAAAAAEgTvAAAAAAAAEgTvAAAAAAAAEgT\n",
       "vAAAAAAAAEgTvAAAAAAAAEgTvAAAAAAAAEgTvAAAAAAAAEgTvAAAAAAAAEgTvAAAAAAAAEgTvAAA\n",
       "AAAAAEgTvAAAAAAAAEgTvAAAAAAAAEgTvAAAAAAAAEgTvAAAAAAAAEgTvAAAAAAAAEgTvAAAAAAA\n",
       "AEgTvAAAAAAAAEgTvAAAAAAAAEgTvAAAAAAAAEgTvAAAAAAAAEgTvAAAAAAAAEgTvAAAAAAAAEgT\n",
       "vAAAAAAAAEgTvAAAAAAAAEgTvAAAAAAAAEgTvAAAAAAAAEgTvAAAAAAAAEgTvAAAAAAAAEgTvAAA\n",
       "AAAAAEgTvAAAAAAAAEgTvAAAAAAAAEgTvAAAAAAAAEgTvAAAAAAAAEgTvAAAAAAAAEgTvAAAAAAA\n",
       "AEgTvAAAAAAAAEgTvAAAAAAAAEgTvAAAAAAAAEgTvAAAAAAAAEgTvAAAAAAAAEgTvAAAAAAAAEgT\n",
       "vAAAAAAAAEgTvAAAAAAAAEgTvAAAAAAAAEgTvAAAAAAAAEgTvAAAAAAAAEgTvAAAAAAAAEgTvAAA\n",
       "AAAAAEgTvAAAAAAAAEgTvAAAAAAAAEgTvAAAAAAAAEgTvAAAAAAAAEgTvAAAAAAAAEgTvAAAAAAA\n",
       "AEgTvAAAAAAAAEgTvAAAAAAAAEgTvAAAAAAAAEgTvAAAAAAAAEgTvAAAAAAAAEgTvAAAAAAAAEgT\n",
       "vAAAAAAAAEgTvAAAAAAAAEgTvAAAAAAAAEgTvAAAAAAAAEgTvAAAAAAAAEgTvAAAAAAAAEgTvAAA\n",
       "AAAAAEgTvAAAAAAAAEgTvAAAAAAAAEgTvAAAAAAAAEgTvAAAAAAAAEgTvAAAAAAAAEgTvAAAAAAA\n",
       "AEgTvAAAAAAAAEgTvAAAAAAAAEgTvAAAAAAAAEgTvAAAAAAAAEgTvAAAAAAAAEgTvAAAAAAAAEgT\n",
       "vAAAAAAAAEgTvAAAAAAAAEgTvAAAAAAAAEgTvAAAAAAAAEgTvAAAAAAAAEgTvAAAAAAAAEgTvAAA\n",
       "AAAAAEgTvAAAAAAAAEgTvAAAAAAAAEgTvAAAAAAAAEgTvAAAAAAAAEgTvAAAAAAAAEgTvAAAAAAA\n",
       "AEgTvAAAAAAAAEgTvAAAAAAAAEgTvAAAAAAAAEgTvAAAAAAAAEgTvAAAAAAAAEgTvAAAAAAAAEgT\n",
       "vAAAAAAAAEgTvAAAAAAAAEgTvAAAAAAAAEgTvAAAAAAAAEgTvAAAAAAAAEgTvAAAAAAAAEgTvAAA\n",
       "AAAAAEgTvAAAAAAAAEgTvAAAAAAAAEgTvAAAAAAAAEgTvAAAAAAAAEgTvAAAAAAAAEgTvAAAAAAA\n",
       "AEgTvAAAAAAAAEgTvAAAAAAAAEgTvAAAAAAAAEgTvAAAAAAAAEgTvAAAAAAAAEgTvAAAAAAAAEgT\n",
       "vAAAAAAAAEgTvAAAAAAAAEgTvAAAAAAAAEgTvAAAAAAAAEgTvAAAAAAAAEgTvAAAAAAAAEgTvAAA\n",
       "AAAAAEgTvAAAAAAAAEgTvAAAAAAAAEgTvAAAAAAAAEgTvAAAAAAAAEgTvAAAAAAAAEgTvAAAAAAA\n",
       "AEgTvAAAAAAAAEgTvAAAAAAAAEgTvAAAAAAAAEgTvAAAAAAAAEgTvAAAAAAAAEgTvAAAAAAAAEgT\n",
       "vAAAAAAAAEgTvAAAAAAAAEgTvAAAAAAAAEgTvAAAAAAAAEgTvAAAAAAAAEgTvAAAAAAAAEgTvAAA\n",
       "AAAAAEgTvAAAAAAAAEgTvAAAAAAAAEgTvAAAAAAAAEgTvAAAAAAAAEgTvAAAAAAAAEgTvAAAAAAA\n",
       "AEgTvAAAAAAAAEgTvAAAAAAAAEgTvAAAAAAAAEgTvAAAAAAAAEgTvAAAAAAAAEgTvAAAAAAAAEgT\n",
       "vAAAAAAAAEgTvAAAAAAAAEgTvAAAAAAAAEgTvAAAAAAAAEgTvAAAAAAAAEgTvAAAAAAAAEgTvAAA\n",
       "AAAAAEgTvAAAAAAAAEgTvAAAAAAAAEgTvAAAAAAAAEgTvAAAAAAAAEgTvAAAAAAAAEgTvAAAAAAA\n",
       "AEgTvAAAAAAAAEgTvAAAAAAAAEgTvAAAAAAAAEgTvAAAAAAAAEgTvAAAAAAAAEgTvAAAAAAAAEgT\n",
       "vAAAAAAAAEgTvAAAAAAAAEgTvAAAAAAAAEgTvAAAAAAAAEgTvAAAAAAAAEgTvAAAAAAAAEgTvAAA\n",
       "AAAAAEgTvAAAAAAAAEgTvAAAAAAAAEgTvAAAAAAAAEgTvAAAAAAAAEgTvAAAAAAAAEgTvAAAAAAA\n",
       "AEgTvAAAAAAAAEgTvAAAAAAAAEgTvAAAABNSc/IAACAASURBVAAAAEgTvAAAAAAAAEgTvAAAAAAA\n",
       "AEgTvAAAAAAAAEgTvAAAAAAAAEgTvAAAAAAAAEgTvAAAAAAAAEgTvAAAAAAAAEgTvAAAAAAAAEgT\n",
       "vAAAAAAAAEgTvAAAAAAAAEgTvAAAAAAAAEgTvAAAAAAAAEgTvAAAAAAAAEgTvAAAAAAAAEgTvAAA\n",
       "AAAAAEgTvAAAAAAAAEgTvAAAAAAAAEgTvAAAAAAAAEgTvAAAAAAAAEgTvAAAAAAAAEgTvAAAAAAA\n",
       "AEgTvAAAAAAAAEgTvAAAAAAAAEgTvAAAAAAAAEgTvAAAAAAAAEgTvAAAAAAAAEgTvAAAAAAAAEgT\n",
       "vAAAAAAAAEgTvAAAAAAAAEgTvAAAAAAAAEgTvAAAAAAAAEgTvAAAAAAAAEgTvAAAAAAAAEgTvAAA\n",
       "AAAAAEgTvAAAAAAAAEgTvAAAAAAAAEgTvAAAAAAAAEgTvAAAAAAAAEgTvAAAAAAAAEgTvAAAAAAA\n",
       "AEgTvAAAAAAAAEgTvAAAAAAAAEgTvAAAAAAAAEgTvAAAAAAAAEgTvAAAAAAAAEgTvAAAAAAAAEgT\n",
       "vAAAAAAAAEgTvAAAAAAAAEgTvAAAAAAAAEgTvAAAAAAAAEgTvAAAAAAAAEgTvAAAAAAAAEgTvAAA\n",
       "AAAAAEgTvAAAAAAAAEgTvAAAAAAAAEgTvAAAAAAAAEgTvAAAAAAAAEgTvAAAAAAAAEgTvAAAAAAA\n",
       "AEgTvAAAAAAAAEgTvAAAAAAAAEg7bN9v2/QIWPIxPQAWvKYHwKLH9ABY8DM9ABYcpwfAIjcFlPju\n",
       "ouZ3egAs+PyaXgC7+cMLAAAAAACANMELAAAAAACANMELAAAAAACANMELAAAAAACANMELAAAAAACA\n",
       "NMELAAAAAACANMELAAAAAACANMELAAAAAACANMELAAAAAACANMELAAAAAACANMELAAAAAACANMEL\n",
       "AAAAAACANMELAAAAAACANMELAAAAAACANMELAAAAAACANMELAAAAAACANMELAAAAAACANMELAAAA\n",
       "AACANMELAAAAAACANMELAAAAAACANMELAAAAAACANMELAAAAAACANMELAAAAAACANMELAAAAAACA\n",
       "NMELAAAAAACANMELAAAAAACANMELAAAAAACANMELAAAAAACANMELAAAAAACANMELAAAAAACANMEL\n",
       "AAAAAACANMELAAAAAACANMELAAAAAACANMELAAAAAACANMELAAAAAACANMELAAAAAACANMELAAAA\n",
       "AACANMELAAAAAACANMELAAAAAACANMELAAAAAACANMELAAAAAACANMELAAAAAACANMELAAAAAACA\n",
       "NMELAAAAAACANMELAAAAAACANMELAAAAAACANMELAAAAAACANMELAAAAAACANMELAAAAAACANMEL\n",
       "AAAAAACANMELAAAAAACANMELAAAAAACANMELAAAAAACANMELAAAAAACANMELAAAAAACANMELAAAA\n",
       "AACANMELAAAAAACANMELAAAAAACANMELAAAAAACANMELAAAAAACANMELAAAAAACANMELAAAAAACA\n",
       "NMELAAAAAACANMELAAAAAACANMELAAAAAACANMELAAAAAACANMELAAAAAACANMELAAAAAACANMEL\n",
       "AAAAAACANMELAAAAAACANMELAAAAAACANMELAAAAAACANMELAAAAAACANMELAAAAAACANMELAAAA\n",
       "AACANMELAAAAAACANMELAAAAAACANMELAAAAAACANMELAAAAAACANMELAAAAAACANMELAAAAAACA\n",
       "NMELAAAAAACANMELAAAAAACANMELAAAAAACANMELAAAAAACANMELAAAAAACANMELAAAAAACANMEL\n",
       "AAAAAACANMELAAAAAACANMELAAAAAACANMELAAAAAACANMELAAAAAACANMELAAAAAACANMELAAAA\n",
       "AACANMELAAAAAACANMELAAAAAACANMELAAAAAACANMELAAAAAACANMELAAAAAACANMELAAAAAACA\n",
       "NMELAAAAAACANMELAAAAAACANMELAAAAAACANMELAAAAAACANMELAAAAAACANMELAAAAAACANMEL\n",
       "AAAAAACANMELAAAAAACANMELAAAAAACANMELAAAAAACANMELAAAAAACANMELAAAAAACANMELAAAA\n",
       "AACANMELAAAAAACANMELAAAAAACANMELAAAAAACANMELAAAAAACANMELAAAAAACANMELAAAAAACA\n",
       "NMELAAAAAACANMELAAAAAACANMELAAAAAACANMELAAAAAACANMELAAAAAACANMELAAAAAACANMEL\n",
       "AAAAAACANMELAAAAAACANMELAAAAAACANMELAAAAAACANMELAAAAAACANMELAAAAAACANMELAAAA\n",
       "AACANMELAAAAAACANMELAAAAAACANMELAAAAAACANMELAAAAAACANMELAAAAAACANMELAAAAAACA\n",
       "NMELAAAAAACANMELAAAAAACANMELAAAAAACANMELAAAAAACANMELAAAAAACANMELAAAAAACANMEL\n",
       "AAAAAACANMELAAAAAACANMELAAAAAACANMELAAAAAACANMELAAAAAACANMELAAAAAACANMELAAAA\n",
       "AACANMELAAAAAACANMELAAAAAACANMELAAAAAACANMELAAAAAACANMELAAAAAACANMELAAAAAACA\n",
       "NMELAAAAAACANMELAAAAAACANMELAAAAAACANMELAAAAAACANMELAAAAAACANMELAAAAAACANMEL\n",
       "AAAAAACANMELAAAAAACANMELAAAAAACANMELAAAAAACANMELAAAAAACANMELAAAAAACANMELAAAA\n",
       "AACANMELAAAAAACANMELAAAAAACANMELAAAAAACANMELAAAAAACANMELAAAAAACANMELAAAAAACA\n",
       "NMELAAAAAACANMELAAAAAACANMELAAAAAACANMELAAAAAACANMELAAAAAACANMELAAAAAACANMEL\n",
       "AAAAAACANMELAAAAAACANMELAAAAAACANMELAAAAAACANMELAAAAAACANMELAAAAAACANMELAAAA\n",
       "AACANMELAAAAAACANMELAAAAAACANMELAAAAAACANMELAAAAAACANMELAAAAAACANMELAAAAAACA\n",
       "NMELAAAAAACANMELAAAAAACANMELAAAAAACANMELAAAAAACANMELAAAAAACANMELAAAAAACANMEL\n",
       "AAAAAACANMELAAAAAACANMELAAAAAACANMELAAAAAACANMELAAAAAACANMELAAAAAACANMELAAAA\n",
       "AACANMELAAAAAACANMELAAAAAACANMELAAAAAACANMELAAAAAACANMELAAAAAACANMELAAAAAACA\n",
       "NMELAAAAAACANMELAAAAAACANMELAAAAAACANMELAAAAAACANMELAAAAAACANMELAAAAAACANMEL\n",
       "AAAAAACANMELAAAAAACANMELAAAAAACANMELAAAAAACANMELAAAAAACANMELAAAAAACANMELAAAA\n",
       "AACANMELAAAAAACANMELAAAAAACANMELAAAAAACANMELAAAAAACANMELAAAAAACANMELAAAAAACA\n",
       "NMELAAAAAACANMELAAAAAACANMELAAAAAACANMELAAAAAACANMELAAAAAACANMELAAAAAACANMEL\n",
       "AAAAAACANMELAAAAAACANMELAAAAAACANMELAAAAAACANMELAAAAAACANMELAAAAAACANMELAAAA\n",
       "AACANMELAAAAAACANMELAAAAAACANMELAAAAAACANMELAAAAAACANMELAAAAAACANMELAAAAAACA\n",
       "NMELAAAAAACANMELAAAAAACANMELAAAAAACANMELAAAAAACANMELAAAAAACANMELAAAAAACANMEL\n",
       "AAAAAACANMELAAAAAACANMELAAAAAACANMELAAAAAACAP/bt4KZhIIqiaLylgfRfEhIlsCESFQRw\n",
       "WuCvvq51TgVvZY3mjtMELwAAAAAAANIELwAAAAAAANIELwAAAAAAANIELwAAAAAAANIELwAAAAAA\n",
       "ANIELwAAAAAAANIELwAAAAAAANIELwAAAAAAANIELwAAAAAAANIELwAAAAAAANIELwAAAAAAANIE\n",
       "LwAAAAAAANIELwAAAAAAANIELwAAAAAAANIELwAAAAAAANIELwAAAAAAANIELwAAAAAAANIELwAA\n",
       "AAAAANIELwAAAAAAANIELwAAAAAAANIELwAAAAAAANIELwAAAAAAANIELwAAAAAAANIELwAAAAAA\n",
       "ANIELwAAAAAAANIELwAAAAAAANIELwAAAAAAANIELwAAAAAAANIELwAAAAAAANIELwAAAAAAANIE\n",
       "LwAAAAAAANIELwAAAAAAANIELwAAAAAAANIELwAAAAAAANIELwAAAAAAANIELwAAAAAAANIELwAA\n",
       "AAAAANIELwAAAAAAANIELwAAAAAAANIELwAAAAAAANIELwAAAAAAANIELwAAAAAAANIELwAAAAAA\n",
       "ANIELwAAAAAAANIELwAAAAAAANIELwAAAAAAANIELwAAAAAAANIELwAAAAAAANIELwAAAAAAANIE\n",
       "LwAAAAAAANIELwAAAAAAANIELwAAAAAAANKO8+N2bo+Akcf2AIALO7YHwMBzewAMfG4PgKG37QEA\n",
       "F/a+PQAGfrYHwP/5wwsAAAAAAIA0wQsAAAAAAIA0wQsAAAAAAIA0wQsAAAAAAIA0wQsAAAAAAIA0\n",
       "wQsAAAAAAIA0wQsAAAAAAIA0wQsAAAAAAIA0wQsAAAAAAIA0wQsAAAAAAIA0wQsAAAAAAIA0wQsA\n",
       "AAAAAIA0wQsAAAAAAIA0wQsAAAAAAIA0wQsAAAAAAIA0wQsAAAAAAIA0wQsAAAAAAIA0wQsAAAAA\n",
       "AIA0wQsAAAAAAIA0wQsAAAAAAIA0wQsAAAAAAIA0wQsAAAAAAIA0wQsAAAAAAIA0wQsAAAAAAIA0\n",
       "wQsAAAAAAIA0wQsAAAAAAIA0wQsAAAAAAIA0wQsAAAAAAIA0wQsAAAAAAIA0wQsAAAAAAIA0wQsA\n",
       "AAAAAIA0wQsAAAAAAIA0wQsAAAAAAIA0wQsAAAAAAIA0wQsAAAAAAIA0wQsAAAAAAIA0wQsAAAAA\n",
       "AIA0wQsAAAAAAIA0wQsAAAAAAIA0wQsAAAAAAIA0wQsAAAAAAIA0wQsAAAAAAIA0wQsAAAAAAIA0\n",
       "wQsAAAAAAIA0wQsAAAAAAIA0wQsAAAAAAIA0wQsAAAAAAIA0wQsAAAAAAIA0wQsAAAAAAIA0wQsA\n",
       "AAAAAIA0wQsAAAAAAIA0wQsAAAAAAIA0wQsAAAAAAIA0wQsAAAAAAIA0wQsAAAAAAIA0wQsAAAAA\n",
       "AIA0wQsAAAAAAIA0wQsAAAAAAIA0wQsAAAAAAIA0wQsAAAAAAIA0wQsAAAAAAIA0wQsAAAAAAIA0\n",
       "wQsAAAAAAIA0wQsAAAAAAIA0wQsAAAAAAIA0wQsAAAAAAIA0wQsAAAAAAIA0wQsAAAAAAIA0wQsA\n",
       "AAAAAIA0wQsAAAAAAIA0wQsAAAAAAIA0wQsAAAAAAIA0wQsAAAAAAIA0wQsAAAAAAIA0wQsAAAAA\n",
       "AIA0wQsAAAAAAIA0wQsAAAAAAIA0wQsAAAAAAIA0wQsAAAAAAIA0wQsAAAAAAIA0wQsAAAAAAIA0\n",
       "wQsAAAAAAIA0wQsAAAAAAIA0wQsAAAAAAIA0wQsAAAAAAIA0wQsAAAAAAIA0wQsAAAAAAIA0wQsA\n",
       "AAAAAIA0wQsAAAAAAIA0wQsAAAAAAIA0wQsAAAAAAIA0wQsAAAAAAIA0wQsAAAAAAIA0wQsAAAAA\n",
       "AIA0wQsAAAAAAIA0wQsAAAAAAIA0wQsAAAAAAIA0wQsAAAAAAIA0wQsAAAAAAIA0wQsAAAAAAIA0\n",
       "wQsAAAAAAIA0wQsAAAAAAIA0wQsAAAAAAIA0wQsAAAAAAIA0wQsAAAAAAIA0wQsAAAAAAIA0wQsA\n",
       "AAAAAIA0wQsAAAAAAIA0wQsAAAAAAIA0wQsAAAAAAIA0wQsAAAAAAIA0wQsAAAAAAIA0wQsAAAAA\n",
       "AIA0wQsAAAAAAIA0wQsAAAAAAIA0wQsAAAAAAIA0wQsAAAAAAIA0wQsAAAAAAIA0wQsAAAAAAIA0\n",
       "wQsAAAAAAIA0wQsAAAAAAIA0wQsAAAAAAIA0wQsAAAAAAIA0wQsAAAAAAIA0wQsAAAAAAIA0wQsA\n",
       "AAAAAIA0wQsAAAAAAIA0wQsAAAAAAIA0wQsAAAAAAIA0wQsAAAAAAIA0wQsAAAAAAIA0wQsAAAAA\n",
       "AIA0wQsAAAAAAIA0wQsAAAAAAIA0wQsAAAAAAIA0wQsAAAAAAIA0wQsAAAAAAIA0wQsAAAAAAIA0\n",
       "wQsAAAAAAIA0wQsAAAAAAIA0wQsAAAAAAIA0wQsAAAAAAIA0wQsAAAAAAIA0wQsAAAAAAIA0wQsA\n",
       "AAAAAIA0wQsAAAAAAIA0wQsAAAAAAIA0wQsAAAAAAIA0wQsAAAAAAIA0wQsAAAAAAIA0wQsAAAAA\n",
       "AIA0wQsAAAAAAIA0wQsAAAAAAIA0wQsAAAAAAIA0wQsAAAAAAIA0wQsAAAAAAIA0wQsAAAAAAIA0\n",
       "wQsAAAAAAIA0wQsAAAAAAIA0wQsAAAAAAIA0wQsAAAAAAIA0wQsAAAAAAIA0wQsAAAAAAIA0wQsA\n",
       "AAAAAIA0wQsAAAAAAIA0wQsAAAAAAIA0wQsAAAAAAIA0wQsAAAAAAIA0wQsAAAAAAIA0wQsAAAAA\n",
       "AIA0wQsAAAAAAIA0wQsAAAAAAIA0wQsAAAAAAIA0wQsAAAAAAIA0wQsAAAAAAIA0wQsAAAAAAIA0\n",
       "wQsAAAAAAIA0wQsAAAAAAIA0wQsAAAAAAIA0wQsAAAAAAIA0wQsAAAAAAIA0wQsAAAAAAIA0wQsA\n",
       "AAAAAIA0wQsAAAAAAIA0wQsAAAAAAIA0wQsAAAAAAIA0wQsAAAAAAIA0wQsAAAAAAIA0wQsAAAAA\n",
       "AIA0wQsAAAAAAIA0wQsAAAAAAIA0wQsAAAAAAIA0wQsAAAAAAIA0wQsAAAAAAIA0wQsAAAAAAIA0\n",
       "wQsAAAAAAIA0wQsAAAAAAIA0wQsAAAAAAIA0wQsAAAAAAIA0wQsAAAAAAIA0wQsAAAAAAIA0wQsA\n",
       "AAAAAIA0wQsAAAAAAIA0wQsAAAAAAIA0wQsAAAAAAIA0wQsAAAAAAIA0wQsAAAAAAIA0wQsAAAAA\n",
       "AIA0wQsAAAAAAIA0wQsAAAAAAIA0wQsAAAAAAIA0wQsAAAAAAIA0wQsAAAAAAIA0wQsAAAAAAIA0\n",
       "wQsAAAAAAIA0wQsAAAAAAIA0wQsAAAAAAIA0wQsAAAAAAIA0wQsAAAAAAIA0wQsAAAAAAIA0wQsA\n",
       "AAAAAIA0wQsAAAAAAIA0wQsAAAAAAIA0wQsAAAAAAIA0wQsAAAAAAIA0wQsAAAAAAIA0wQsAAAAA\n",
       "AIA0wQsAAAAAAIA0wQsAAAAAAIA0wQsAAAAAAIA0wQsAAAAAAIA0wQsAAAAAAIA0wQsAAAAAAIA0\n",
       "wQsAAAAAAIA0wQsAAAAAAIA0wQsAAAAAAIA0wQsAAAAAAIA0wQsAAAAAAIA0wQsAAAAAAIA0wQsA\n",
       "AAAAAIA0wQsAAAAAAIA0wQsAAAAAAIA0wQsAAAAAAIA0wQsAAAAAAIA0wQsAAAAAAIA0wQsAAAAA\n",
       "AIA0wQsAAAAAAIA0wQsAAAAAAIA0wQsAAAAAAIA0wQsAAAAAAIA0wQsAAAAAAIA0wQsAAAAAAIA0\n",
       "wQsAAAAAAIA0wQsAAAAAAIA0wQsAAAAAAIA0wQsAAAAAAIA0wQsAAAAAAIA0wQsAAAAAAIA0wQsA\n",
       "AAAAAIA0wQsAAAAAAIA0wQsAAAAAAIA0wQsAAAAAAIA0wQsAAAAAAIA0wQsAAAAAAIA0wQsAAAAA\n",
       "AIA0wQsAAAAAAIA0wQsAAAAAAIA0wQsAAAAAAIA0wQsAAAAAAIA0wQsAAAAAAIA0wQsAAAAAAIA0\n",
       "wQsAAAAAAIA0wQsAAAAAAIA0wQsAAAAAAIA0wQsAAAAAAIA0wQsAAAAAAIA0wQsAAAAAAIA0wQsA\n",
       "AAAAAIA0wQsAAAAAAIA0wQsAAAAAAIA0wQsAAAAAAIA0wQsAAAAAAIA0wQsAAAAAAIA0wQsAAAAA\n",
       "AIA0wQsAAAAAAIA0wQsAAAAAAIA0wQsAAAAAAIA0wQsAAAAAAIA0wQsAAAAAAIA0wQsAAAAAAIA0\n",
       "wQsAAAAAAIA0wQsAAAAAAIA0wQsAAAAAAIA0wQsAAAAAAIA0wQsAAAAAAIA0wQsAAAAAAIA0wQsA\n",
       "AAAAAIA0wQsAAAAAAIA0wQsAAAAAAIA0wQsAAAAAAIA0wQsAAAAAAIA0wQsAAAAAAIA0wQsAAAAA\n",
       "AIA0wQsAAAAAAIA0wQsAAAAAAIA0wQsAAAAAAIA0wQsAAAAAAIA0wQsAAAAAAIA0wQsAAAAAAIA0\n",
       "wQsAAAAAAIA0wQsAAAAAAIA0wQsAAAAAAIA0wQsAAAAAAIA0wQsAAAAAAIC04/y6ndsjAC7LswJq\n",
       "frcHwMB9ewAMfG8PgKG/7QEw8NweAEPuCihxJiDE5xUAAAAAAIA0wQsAAAAAAIA0wQsAAAAAAIA0\n",
       "wQsAAAAAAIA0wQsAAAAAAIA0wQsAAAAAAIA0wQsAAAAAAIA0wQsAAAAAAIA0wQsAAAAAAIA0wQsA\n",
       "AAAAAIA0wQsAAAAAAIA0wQsAAAAAAIA0wQsAAAAAAIA0wQsAAAAAAIA0wQsAAAAAAIA0wQsAAAAA\n",
       "AIA0wQsAAAAAAIA0wQsAAAAAAIA0wQsAAAAAAIA0wQsAAAAAAIA0wQsAAAAAAIA0wQsAAAAAAIA0\n",
       "wQsAAAAAAIA0wQsAAAAAAIA0wQsAAAAAAIA0wQsAAAAAAIA0wQsAAAAAAIA0wQsAAAAAAIA0wQsA\n",
       "AAAAAIA0wQsAAAAAAIA0wQsAAAAAAIA0wQsAAAAAAIA0wQsAAAAAAIA0wQsAAAAAAIA0wQsAAAAA\n",
       "AIA0wQsAAAAAAIA0wQsAAAAAAIA0wQsAAAAAAIA0wQsAAAAAAIA0wQsAAAAAAIA0wQsAAAAAAIA0\n",
       "wQsAAAAAAIA0wQsAAAAAAIA0wQsAAAAAAIA0wQsAAAAAAIA0wQsAAAAAAIA0wQsAAAAAAIA0wQsA\n",
       "AAAAAIA0wQsAAAAAAIA0wQsAAAAAAIA0wQsAAAAAAIA0wQsAAAAAAIA0wQsAAAAAAIA0wQsAAAAA\n",
       "AIA0wQsAAAAAAIA0wQsAAAAAAIA0wQsAAAAAAIA0wQsAAAAAAIA0wQsAAAAAAIA0wQsAAAAAAIA0\n",
       "wQsAAAAAAIA0wQsAAAAAAIA0wQsAAAAAAIA0wQsAAAAAAIA0wQsAAAAAAIA0wQsAAAAAAIA0wQsA\n",
       "AAAAAIA0wQsAAAAAAIA0wQsAAAAAAIA0wQsAAAAAAIA0wQsAAAAAAIA0wQsAAAAAAIA0wQsAAAAA\n",
       "AIA0wQsAAAAAAIA0wQsAAAAAAIA0wQsAAAAAAIA0wQsAAAAAAIA0wQsAAAAAAIA0wQsAAAAAAIA0\n",
       "wQsAAAAAAIA0wQsAAAAAAIA0wQsAAAAAAIA0wQsAAAAAAIA0wQsAAAAAAIA0wQsAAAAAAIA0wQsA\n",
       "AAAAAIA0wQsAAAAAAIA0wQsAAAAAAIA0wQsAAAAAAIA0wQsAAAAAAIA0wQsAAAAAAIA0wQsAAAAA\n",
       "AIA0wQsAAAAAAIA0wQsAAAAAAIA0wQsAAAAAAIA0wQsAAAAAAIA0wQsAAAAAAIA0wQsAAAAAAIA0\n",
       "wQsAAAAAAIA0wQsAAAAAAIA0wQsAAAAAAIA0wQsAAAAAAIA0wQsAAAAAAIA0wQsAAAAAAIA0wQsA\n",
       "AAAAAIA0wQsAAAAAAIA0wQsAAAAAAIA0wQsAAAAAAIA0wQsAAAAAAIA0wQsAAAAAAIA0wQsAAAAA\n",
       "AIA0wQsAAAAAAIA0wQsAAAAAAIA0wQsAAAAAAIA0wQsAAAAAAIA0wQsAAAAAAIA0wQsAAAAAAIA0\n",
       "wQsAAAAAAIA0wQsAAAAAAIA0wQsAAAAAAIA0wQsAAAAAAIA0wQsAAAAAAIA0wQsAAAAAAIA0wQsA\n",
       "AAAAAIA0wQsAAAAAAIA0wQsAAAAAAIA0wQsAAAAAAIA0wQsAAAAAAIA0wQsAAAAAAIA0wQsAAAAA\n",
       "AIA0wQsAAAAAAIA0wQsAAAAAAIA0wQsAAAAAAIA0wQsAAAAAAIA0wQsAAAAAAIA0wQsAAAAAAIA0\n",
       "wQsAAAAAAIA0wQsAAAAAAIA0wQsAAAAAAIA0wQsAAAAAAIA0wQsAAAAAAIA0wQsAAAAAAIA0wQsA\n",
       "AAAAAIA0wQsAAAAAAIA0wQsAAAAAAIA0wQsAAAAAAIA0wQsAAAAAAIA0wQsAAAAAAIA0wQsAAAAA\n",
       "AIA0wQsAAAAAAIA0wQsAAAAAAIA0wQsAAAAAAIA0wQsAAAAAAIA0wQsAAAAAAIA0wQsAAAAAAIA0\n",
       "wQsAAAAAAIA0wQsAAAAAAIA0wQsAAAAAAIA0wQsAAAAAAIA0wQsAAAAAAIA0wQsAAAAAAIA0wQsA\n",
       "AAAAAIA0wQsAAAAAAIA0wQsAAAAAAIA0wQsAAAAAAIA0wQsAAAAAAIA0wQsAAAAAAIA0wQsAAAAA\n",
       "AIA0wQsAAAAAAIA0wQsAAAAAAIA0wQsAAAAAAIA0wQsAAAAAAIA0wQsAAAAAAIA0wQsAAAAAAIA0\n",
       "wQsAAAAAAIA0wQsAAAAAAIA0wQsAAAAAAIA0wQsAAAAAAIA0wQsAAAAAAIA0wQsAAAAAAIA0wQsA\n",
       "AAAAAIA0wQsAAAAAAIA0wQsAAAAAAIA0wQsAAAAAAIA0wQsAAAAAAIA0wQsAAAAAAIA0wQsAAAAA\n",
       "AIA0wQsAAAAAAIA0wQsAAAAAAIA0wQsAAAAAAIA0wQsAAAAAAIA0wQsAAAAAAIA0wQsAAAAAAIA0\n",
       "wQsAAAAAAIA0wQsAAAAAAIA0wQsAAAAAAIA0wQsAAAAAAIA0wQsAAAAAAIA0wQsAAAAAAIA0wQsA\n",
       "AAAAAIA0wQsAAAAAAIA0wQsAAAAAT30QwwAAA/5JREFUAIA0wQsAAAAAAIA0wQsAAAAAAIA0wQsA\n",
       "AAAAAIA0wQsAAAAAAIA0wQsAAAAAAIA0wQsAAAAAAIA0wQsAAAAAAIA0wQsAAAAAAIA0wQsAAAAA\n",
       "AIA0wQsAAAAAAIA0wQsAAAAAAIA0wQsAAAAAAIA0wQsAAAAAAIA0wQsAAAAAAIA0wQsAAAAAAIA0\n",
       "wQsAAAAAAIA0wQsAAAAAAIA0wQsAAAAAAIA0wQsAAAAAAIA0wQsAAAAAAIA0wQsAAAAAAIA0wQsA\n",
       "AAAAAIA0wQsAAAAAAIA0wQsAAAAAAIA0wQsAAAAAAIA0wQsAAAAAAIA0wQsAAAAAAIA0wQsAAAAA\n",
       "AIA0wQsAAAAAAIA0wQsAAAAAAIA0wQsAAAAAAIA0wQsAAAAAAIA0wQsAAAAAAIA0wQsAAAAAAIA0\n",
       "wQsAAAAAAIA0wQsAeLVnByQAAAAAgv6/bkegNwQAAACANeEFAAAAAADAmvACAAAAAABgTXgBAAAA\n",
       "AACwJrwAAAAAAABYE14AAAAAAACsCS8AAAAAAADWhBcAAAAAAABrwgsAAAAAAIA14QUAAAAAAMCa\n",
       "8AIAAAAAAGBNeAEAAAAAALAmvAAAAAAAAFgTXgAAAAAAAKwJLwAAAAAAANaEFwAAAAAAAGvCCwAA\n",
       "AAAAgDXhBQAAAAAAwJrwAgAAAAAAYE14AQAAAAAAsCa8AAAAAAAAWBNeAAAAAAAArAkvAAAAAAAA\n",
       "1oQXAAAAAAAAa8ILAAAAAACANeEFAAAAAADAmvACAAAAAABgTXgBAAAAAACwJrwAAAAAAABYE14A\n",
       "AAAAAACsCS8AAAAAAADWhBcAAAAAAABrwgsAAAAAAIA14QUAAAAAAMCa8AIAAAAAAGBNeAEAAAAA\n",
       "ALAmvAAAAAAAAFgTXgAAAAAAAKwJLwAAAAAAANaEFwAAAAAAAGvCCwAAAAAAgDXhBQAAAAAAwJrw\n",
       "AgAAAAAAYE14AQAAAAAAsCa8AAAAAAAAWBNeAAAAAAAArAkvAAAAAAAA1oQXAAAAAAAAa8ILAAAA\n",
       "AACANeEFAAAAAADAmvACAAAAAABgTXgBAAAAAACwJrwAAAAAAABYE14AAAAAAACsCS8AAAAAAADW\n",
       "hBcAAAAAAABrwgsAAAAAAIA14QUAAAAAAMCa8AIAAAAAAGBNeAEAAAAAALAmvAAAAAAAAFgTXgAA\n",
       "AAAAAKwJLwAAAAAAANaEFwAAAAAAAGvCCwAAAAAAgDXhBQAAAAAAwJrwAgAAAAAAYE14AQAAAAAA\n",
       "sCa8AAAAAAAAWBNeAAAAAAAArAkvAAAAAAAA1oQXAAAAAAAAa8ILAAAAAACANeEFAAAAAADAmvAC\n",
       "AAAAAABgTXgBAAAAAACwJrwAAAAAAABYCxU1SHdH7WEqAAAAAElFTkSuQmCC\n",
       "\" transform=\"translate(64, 38)\"/>\n",
       "</g>\n",
       "<defs>\n",
       "  <clipPath id=\"clip273\">\n",
       "    <rect x=\"1828\" y=\"38\" width=\"61\" height=\"1892\"/>\n",
       "  </clipPath>\n",
       "</defs>\n",
       "<g clip-path=\"url(#clip273)\">\n",
       "<image width=\"60\" height=\"1891\" xlink:href=\"data:image/png;base64,\n",
       "iVBORw0KGgoAAAANSUhEUgAAADwAAAdjCAYAAAACg13eAAAJsklEQVR4nO3d0Y2jQABEQewl/4ht\n",
       "s1mA9LoqAp74aM0enntd13EdQ95PP8DdBNcJrhNcdx7fpx/hXnNvWHCd4Lq5YLNUJ7hOcJ3gOjtc\n",
       "J7hOcN1c8Hl8nn6Ee829YcF1guvmgp2W6gTXCa4TXGeH6wTXCa6bCzZLdYLrBNcJrrPDdYLrBNfN\n",
       "BZulOsF1guvmgs/j9/Qj3GvuDQuuE1wnuM7xsE5wneC6uWA/xasTXCe4TnCd42Gd4DrBdXPBZqlO\n",
       "cJ3gurlgs1QnuE5wneA6O1wnuE5w3VywWaoTXCe4bi7YLNUJrhNcJ7jODtcJrhNcNxfsppY6wXWC\n",
       "6wTXOR7WCa4TXDcXbJbqBNcJrpsLNkt1gusE1wmus8N1gusE180Fm6U6wXWC6wTX2eE6wXWC6+aC\n",
       "zVKd4DrBdXPB/le8OsF1gusE1zke1gmuE1w3F2yW6gTXCa6bC3aBWJ3gOsF1guscD+sE1wmumws2\n",
       "S3WC6wTXCa6zw3WC6wTXzQWbpTrBdYLr5oL9FK9OcJ3gOsF1jod1gusE180Fm6U6wXWC6wTX2eE6\n",
       "wXWC6+aCzVKd4DrBdXPBZqlOcJ3gOsF1bkyrE1wnuG4u2PGwTnCd4DrBdXa4TnCd4Lq5YLNUJ7hO\n",
       "cN1csFmqE1wnuE5wnR2uE1wnuG4u2CzVCa4TXDcXbJbqBNcJrhNcZ4frBNcJrpsLNkt1gusE1wmu\n",
       "898A1gmuE1w3F+wCsTrBdYLr5oL91bJOcJ3gOsF1drhOcJ3gurlgs1QnuE5wneA6O1wnuE5w3Vyw\n",
       "WaoTXCe4bi7YLNUJrhNcJ7jOT/HqBNcJrpsLdjysE1wnuG4u2CzVCa4TXCe4zg7XCa4TXDcX7AKx\n",
       "OsF1gusE1zke1gmuE1w3F2yW6gTXCa6bCzZLdYLrBNcJrvNTvDrBdYLr5oIdD+sE1wmuE1xnh+sE\n",
       "1wmumws2S3WC6wTXzQWbpTrBdYLrBNfZ4TrBdYLr5oLNUp3gOsF1guvcmFYnuE5w3Vyw42Gd4DrB\n",
       "dXPBZqlOcJ3gOsF1drhOcJ3gurlgs1QnuE5w3VywWaoTXCe4TnCdHa4TXCe4bi7YLNUJrhNcJ7jO\n",
       "DtcJrhNcNxf8ut7H9fRD3GnuDQuuE1w3F/y6DrOUJrhOcJ3guvN4bzVv1R6C+wTXzQWfx9/f089w\n",
       "q7k3LLhOcJ3gOjtcJ7hOcN1csFmqE1wnuG4u2CzVCa4TXCe4zg7XCa4TXDcXfB7n+fQz3GruDQuu\n",
       "E1w3F+y0VCe4TnCd4Do7XCe4TnDdXLBZqhNcJ7hOcJ2bWuoE1wmumwt2PKwTXCe4bi7YLNUJrhNc\n",
       "J7jODtcJrhNcNxfsp3h1gusE1wmuczysE1wnuG4u2CzVCa4TXDcXbJbqBNcJrhNcZ4frBNcJrpsL\n",
       "Nkt1gusE180Fm6U6wXWC6wTXuUCsTnCd4Lq5YMfDOsF1gusE19nhOsF1guvmgs1SneA6wXVzwWap\n",
       "TnCd4DrBdXa4TnCd4Lq5YLNUJ7hOcJ3gOjtcJ7hOcN1csFmqE1wnuG4u2P+KVye4TnCd4DrHwzrB\n",
       "dYLr5oJdIFYnuE5wneA6x8M6wXWC6+aCzVKd4DrBdXPBZqlOcJ3gOsF1drhOcJ3gurlgs1QnuE5w\n",
       "3Vywn+LVCa4TXCe4zvGwTnCd4Lq5YLNUJ7hOcJ3gOjtcJ7hOcN1csFmqE1wnuG4u2AVidYLrBNcJ\n",
       "rnM8rBNcJ7huLtgs1QmuE1wnuM4O1wmuE1w3F2yW6gTXCa6bC3ZTS53gOsF1guscD+sE1wmumws2\n",
       "S3WC6wTXzQWbpTrBdYLrBNfZ4TrBdYLr5oLNUp3gOsF1guvcmFYnuE5w3Vyw42Gd4DrBdXPBZqlO\n",
       "cJ3gOsF1drhOcJ3gurlgs1QnuE5wneA6O1wnuE5w3VywizzrBNcJrpsLdlqqE1wnuE5wnR2uE1wn\n",
       "uG4u2CzVCa4TXCe4zg7XCa4TXDcX7AKxOsF1guvmgp2W6gTXCa4TXGeH6wTXCa6bCzZLdYLrBNfN\n",
       "BZulOsF1gusE19nhOsF1guvmgs1SneA6wXWC61zkWSe4TnDdXLDjYZ3gOsF1c8FmqU5wneA6wXVu\n",
       "aqkTXCe4bi7Y8bBOcJ3gOsF1drhOcJ3gurlgs1QnuE5w3VywWaoTXCe4TnCdn+LVCa4TXDcX7HhY\n",
       "J7hOcN1csFmqE1wnuE5wnR2uE1wnuG4u+HVd1/X0Q9xp7g0LrhNcJ7ju/H6ffoR7zb1hwXWC6+aC\n",
       "zVKd4DrBdXPBZqlOcJ3gOsF1drhOcJ3gurlgs1QnuE5wneA6O1wnuE5w3VywWaoTXCe4bi74/Hye\n",
       "foR7zb1hwXWC6wTXOR7WCa4TXDcXfP5+Tz/CvebesOA6wXVzwU5LdYLrBNcJrrPDdYLrBNfNBZul\n",
       "OsF1gusE19nhOsF1guvmgs1SneA6wXVzwWapTnCd4DrBdXa4TnCd4Lq5YLNUJ7hOcJ3gOjtcJ7hO\n",
       "cN1csFmqE1wnuG4u2CzVCa4TXCe4zg7XCa4TXDcXbJbqBNcJrhNcZ4frBNcJrpsLNkt1gusE180F\n",
       "m6U6wXWC6wTX2eE6wXWC6+aCzVKd4DrBdXPB5+fz9CPca+4NC64TXCe4zvGwTnCd4Lq54PP3e/oR\n",
       "7jX3hgXXCa4TXOd4WCe4TnDdXLBZqhNcJ7huLtgs1QmuE1wnuM4O1wmuE1w3F2yW6gTXCa4TXGeH\n",
       "6wTXCa6bCzZLdYLrBNfNBZulOsF1gusE19nhOsF1guvmgl3kWSe4TnDdXLALxOoE1wmuE1znr5Z1\n",
       "gusE180Fm6U6wXWC6wTX2eE6wXWC6+aCzVKd4DrBdXPBvrWsE1wnuE5wnY9L6wTXCa6bC/ZXyzrB\n",
       "dYLrBNfZ4TrBdYLr5oL962Gd4DrBdXPBTkt1gusE1wmu81FLneA6wXVzwY6HdYLrBNcJrrPDdYLr\n",
       "BNfNBZulOsF1guvmgn1rWSe4TnCd4DoftdQJrhNcNxfsr5Z1gusE180Fm6U6wXWC6wTX+dfDOsF1\n",
       "guvmgh0P6wTXCa4TXGeH6wTXCa6bC/atZZ3gOsF1c8FOS3WC6wTXCa6zw3WC6wTXzQX71rJOcJ3g\n",
       "OsF1jod1gusE180F+6ilTnCd4Lq5YKelOsF1gusE19nhOsF1guvmgn3UUie4TnDdXLDTUp3gOsF1\n",
       "guvscJ3gOsF1c8G+tawTXCe4TnCd42Gd4DrBdXPBZqlOcJ3gurlg31rWCa4TXCe4zvGwTnCd4Lq5\n",
       "YB+11AmuE1wnuM7xsE5wneC6uWCzVCe4TnDdXLCPWuoE1wmuE1z3er+v6+mHuNPcGxZcJ7huLvh1\n",
       "HGYpTXCd4Lq54H/ZqBfGCJJd/AAAAABJRU5ErkJggg==\n",
       "\" transform=\"translate(1828, 38)\"/>\n",
       "</g>\n",
       "<path clip-path=\"url(#clip270)\" d=\"M 0 0 M1921.18 1835.26 Q1920.27 1835.26 1919.82 1836.15 Q1919.36 1837.04 1919.36 1838.82 Q1919.36 1840.6 1919.82 1841.49 Q1920.27 1842.37 1921.18 1842.37 Q1922.08 1842.37 1922.54 1841.49 Q1922.99 1840.6 1922.99 1838.82 Q1922.99 1837.04 1922.54 1836.15 Q1922.08 1835.26 1921.18 1835.26 M1921.18 1834.34 Q1922.63 1834.34 1923.39 1835.49 Q1924.16 1836.63 1924.16 1838.82 Q1924.16 1841 1923.39 1842.15 Q1922.63 1843.3 1921.18 1843.3 Q1919.72 1843.3 1918.95 1842.15 Q1918.19 1841 1918.19 1838.82 Q1918.19 1836.63 1918.95 1835.49 Q1919.72 1834.34 1921.18 1834.34 Z\" fill=\"#000000\" fill-rule=\"evenodd\" fill-opacity=\"1\" /><path clip-path=\"url(#clip270)\" d=\"M 0 0 M1925.43 1841.66 L1926.65 1841.66 L1926.65 1843.13 L1925.43 1843.13 L1925.43 1841.66 Z\" fill=\"#000000\" fill-rule=\"evenodd\" fill-opacity=\"1\" /><path clip-path=\"url(#clip270)\" d=\"M 0 0 M1930.56 1838.35 Q1929.77 1838.35 1929.31 1838.88 Q1928.85 1839.42 1928.85 1840.36 Q1928.85 1841.29 1929.31 1841.84 Q1929.77 1842.37 1930.56 1842.37 Q1931.35 1842.37 1931.81 1841.84 Q1932.27 1841.29 1932.27 1840.36 Q1932.27 1839.42 1931.81 1838.88 Q1931.35 1838.35 1930.56 1838.35 M1932.88 1834.68 L1932.88 1835.75 Q1932.44 1835.54 1931.99 1835.43 Q1931.55 1835.32 1931.11 1835.32 Q1929.95 1835.32 1929.33 1836.1 Q1928.73 1836.88 1928.64 1838.46 Q1928.98 1837.96 1929.5 1837.69 Q1930.01 1837.42 1930.63 1837.42 Q1931.93 1837.42 1932.69 1838.21 Q1933.44 1839 1933.44 1840.36 Q1933.44 1841.69 1932.66 1842.5 Q1931.87 1843.3 1930.56 1843.3 Q1929.06 1843.3 1928.27 1842.15 Q1927.48 1841 1927.48 1838.82 Q1927.48 1836.77 1928.45 1835.56 Q1929.42 1834.34 1931.06 1834.34 Q1931.5 1834.34 1931.94 1834.42 Q1932.4 1834.51 1932.88 1834.68 Z\" fill=\"#000000\" fill-rule=\"evenodd\" fill-opacity=\"1\" /><path clip-path=\"url(#clip270)\" d=\"M 0 0 M1934.72 1834.49 L1939.31 1834.49 L1939.31 1835.48 L1935.79 1835.48 L1935.79 1837.59 Q1936.05 1837.51 1936.3 1837.47 Q1936.56 1837.42 1936.81 1837.42 Q1938.26 1837.42 1939.1 1838.21 Q1939.95 1839.01 1939.95 1840.36 Q1939.95 1841.76 1939.08 1842.53 Q1938.21 1843.3 1936.63 1843.3 Q1936.09 1843.3 1935.52 1843.21 Q1934.96 1843.12 1934.36 1842.93 L1934.36 1841.76 Q1934.88 1842.04 1935.43 1842.18 Q1935.99 1842.32 1936.61 1842.32 Q1937.61 1842.32 1938.19 1841.79 Q1938.78 1841.26 1938.78 1840.36 Q1938.78 1839.46 1938.19 1838.93 Q1937.61 1838.4 1936.61 1838.4 Q1936.14 1838.4 1935.67 1838.51 Q1935.21 1838.61 1934.72 1838.83 L1934.72 1834.49 Z\" fill=\"#000000\" fill-rule=\"evenodd\" fill-opacity=\"1\" /><path clip-path=\"url(#clip270)\" d=\"M 0 0 M1943.72 1835.26 Q1942.81 1835.26 1942.36 1836.15 Q1941.9 1837.04 1941.9 1838.82 Q1941.9 1840.6 1942.36 1841.49 Q1942.81 1842.37 1943.72 1842.37 Q1944.62 1842.37 1945.08 1841.49 Q1945.53 1840.6 1945.53 1838.82 Q1945.53 1837.04 1945.08 1836.15 Q1944.62 1835.26 1943.72 1835.26 M1943.72 1834.34 Q1945.17 1834.34 1945.93 1835.49 Q1946.7 1836.63 1946.7 1838.82 Q1946.7 1841 1945.93 1842.15 Q1945.17 1843.3 1943.72 1843.3 Q1942.26 1843.3 1941.49 1842.15 Q1940.73 1841 1940.73 1838.82 Q1940.73 1836.63 1941.49 1835.49 Q1942.26 1834.34 1943.72 1834.34 Z\" fill=\"#000000\" fill-rule=\"evenodd\" fill-opacity=\"1\" /><path clip-path=\"url(#clip270)\" d=\"M 0 0 M1921.18 1523.4 Q1920.27 1523.4 1919.82 1524.3 Q1919.36 1525.18 1919.36 1526.96 Q1919.36 1528.74 1919.82 1529.63 Q1920.27 1530.52 1921.18 1530.52 Q1922.08 1530.52 1922.54 1529.63 Q1922.99 1528.74 1922.99 1526.96 Q1922.99 1525.18 1922.54 1524.3 Q1922.08 1523.4 1921.18 1523.4 M1921.18 1522.48 Q1922.63 1522.48 1923.39 1523.63 Q1924.16 1524.78 1924.16 1526.96 Q1924.16 1529.15 1923.39 1530.3 Q1922.63 1531.44 1921.18 1531.44 Q1919.72 1531.44 1918.95 1530.3 Q1918.19 1529.15 1918.19 1526.96 Q1918.19 1524.78 1918.95 1523.63 Q1919.72 1522.48 1921.18 1522.48 Z\" fill=\"#000000\" fill-rule=\"evenodd\" fill-opacity=\"1\" /><path clip-path=\"url(#clip270)\" d=\"M 0 0 M1925.43 1529.8 L1926.65 1529.8 L1926.65 1531.27 L1925.43 1531.27 L1925.43 1529.8 Z\" fill=\"#000000\" fill-rule=\"evenodd\" fill-opacity=\"1\" /><path clip-path=\"url(#clip270)\" d=\"M 0 0 M1930.56 1526.49 Q1929.77 1526.49 1929.31 1527.03 Q1928.85 1527.57 1928.85 1528.5 Q1928.85 1529.43 1929.31 1529.98 Q1929.77 1530.52 1930.56 1530.52 Q1931.35 1530.52 1931.81 1529.98 Q1932.27 1529.43 1932.27 1528.5 Q1932.27 1527.57 1931.81 1527.03 Q1931.35 1526.49 1930.56 1526.49 M1932.88 1522.83 L1932.88 1523.89 Q1932.44 1523.68 1931.99 1523.57 Q1931.55 1523.46 1931.11 1523.46 Q1929.95 1523.46 1929.33 1524.24 Q1928.73 1525.02 1928.64 1526.6 Q1928.98 1526.1 1929.5 1525.83 Q1930.01 1525.56 1930.63 1525.56 Q1931.93 1525.56 1932.69 1526.36 Q1933.44 1527.14 1933.44 1528.5 Q1933.44 1529.83 1932.66 1530.64 Q1931.87 1531.44 1930.56 1531.44 Q1929.06 1531.44 1928.27 1530.3 Q1927.48 1529.15 1927.48 1526.96 Q1927.48 1524.91 1928.45 1523.7 Q1929.42 1522.48 1931.06 1522.48 Q1931.5 1522.48 1931.94 1522.57 Q1932.4 1522.65 1932.88 1522.83 Z\" fill=\"#000000\" fill-rule=\"evenodd\" fill-opacity=\"1\" /><path clip-path=\"url(#clip270)\" d=\"M 0 0 M1934.42 1522.63 L1939.97 1522.63 L1939.97 1523.13 L1936.83 1531.27 L1935.61 1531.27 L1938.57 1523.62 L1934.42 1523.62 L1934.42 1522.63 Z\" fill=\"#000000\" fill-rule=\"evenodd\" fill-opacity=\"1\" /><path clip-path=\"url(#clip270)\" d=\"M 0 0 M1941.25 1522.63 L1945.84 1522.63 L1945.84 1523.62 L1942.32 1523.62 L1942.32 1525.74 Q1942.58 1525.65 1942.83 1525.61 Q1943.08 1525.56 1943.34 1525.56 Q1944.79 1525.56 1945.63 1526.36 Q1946.48 1527.15 1946.48 1528.5 Q1946.48 1529.9 1945.61 1530.67 Q1944.74 1531.44 1943.16 1531.44 Q1942.62 1531.44 1942.05 1531.35 Q1941.49 1531.26 1940.89 1531.07 L1940.89 1529.9 Q1941.41 1530.18 1941.96 1530.32 Q1942.52 1530.46 1943.14 1530.46 Q1944.14 1530.46 1944.72 1529.93 Q1945.31 1529.41 1945.31 1528.5 Q1945.31 1527.6 1944.72 1527.07 Q1944.14 1526.55 1943.14 1526.55 Q1942.67 1526.55 1942.2 1526.65 Q1941.74 1526.76 1941.25 1526.97 L1941.25 1522.63 Z\" fill=\"#000000\" fill-rule=\"evenodd\" fill-opacity=\"1\" /><path clip-path=\"url(#clip270)\" d=\"M 0 0 M1921.18 1211.55 Q1920.27 1211.55 1919.82 1212.44 Q1919.36 1213.32 1919.36 1215.11 Q1919.36 1216.88 1919.82 1217.77 Q1920.27 1218.66 1921.18 1218.66 Q1922.08 1218.66 1922.54 1217.77 Q1922.99 1216.88 1922.99 1215.11 Q1922.99 1213.32 1922.54 1212.44 Q1922.08 1211.55 1921.18 1211.55 M1921.18 1210.62 Q1922.63 1210.62 1923.39 1211.77 Q1924.16 1212.92 1924.16 1215.11 Q1924.16 1217.29 1923.39 1218.44 Q1922.63 1219.58 1921.18 1219.58 Q1919.72 1219.58 1918.95 1218.44 Q1918.19 1217.29 1918.19 1215.11 Q1918.19 1212.92 1918.95 1211.77 Q1919.72 1210.62 1921.18 1210.62 Z\" fill=\"#000000\" fill-rule=\"evenodd\" fill-opacity=\"1\" /><path clip-path=\"url(#clip270)\" d=\"M 0 0 M1925.43 1217.95 L1926.65 1217.95 L1926.65 1219.42 L1925.43 1219.42 L1925.43 1217.95 Z\" fill=\"#000000\" fill-rule=\"evenodd\" fill-opacity=\"1\" /><path clip-path=\"url(#clip270)\" d=\"M 0 0 M1927.62 1210.78 L1933.18 1210.78 L1933.18 1211.27 L1930.04 1219.42 L1928.82 1219.42 L1931.77 1211.76 L1927.62 1211.76 L1927.62 1210.78 Z\" fill=\"#000000\" fill-rule=\"evenodd\" fill-opacity=\"1\" /><path clip-path=\"url(#clip270)\" d=\"M 0 0 M1936.94 1211.55 Q1936.04 1211.55 1935.58 1212.44 Q1935.13 1213.32 1935.13 1215.11 Q1935.13 1216.88 1935.58 1217.77 Q1936.04 1218.66 1936.94 1218.66 Q1937.85 1218.66 1938.3 1217.77 Q1938.76 1216.88 1938.76 1215.11 Q1938.76 1213.32 1938.3 1212.44 Q1937.85 1211.55 1936.94 1211.55 M1936.94 1210.62 Q1938.4 1210.62 1939.16 1211.77 Q1939.93 1212.92 1939.93 1215.11 Q1939.93 1217.29 1939.16 1218.44 Q1938.4 1219.58 1936.94 1219.58 Q1935.49 1219.58 1934.72 1218.44 Q1933.96 1217.29 1933.96 1215.11 Q1933.96 1212.92 1934.72 1211.77 Q1935.49 1210.62 1936.94 1210.62 Z\" fill=\"#000000\" fill-rule=\"evenodd\" fill-opacity=\"1\" /><path clip-path=\"url(#clip270)\" d=\"M 0 0 M1943.7 1211.55 Q1942.8 1211.55 1942.34 1212.44 Q1941.89 1213.32 1941.89 1215.11 Q1941.89 1216.88 1942.34 1217.77 Q1942.8 1218.66 1943.7 1218.66 Q1944.61 1218.66 1945.06 1217.77 Q1945.52 1216.88 1945.52 1215.11 Q1945.52 1213.32 1945.06 1212.44 Q1944.61 1211.55 1943.7 1211.55 M1943.7 1210.62 Q1945.15 1210.62 1945.91 1211.77 Q1946.68 1212.92 1946.68 1215.11 Q1946.68 1217.29 1945.91 1218.44 Q1945.15 1219.58 1943.7 1219.58 Q1942.25 1219.58 1941.48 1218.44 Q1940.71 1217.29 1940.71 1215.11 Q1940.71 1212.92 1941.48 1211.77 Q1942.25 1210.62 1943.7 1210.62 Z\" fill=\"#000000\" fill-rule=\"evenodd\" fill-opacity=\"1\" /><path clip-path=\"url(#clip270)\" d=\"M 0 0 M1921.18 899.688 Q1920.27 899.688 1919.82 900.58 Q1919.36 901.465 1919.36 903.247 Q1919.36 905.024 1919.82 905.915 Q1920.27 906.801 1921.18 906.801 Q1922.08 906.801 1922.54 905.915 Q1922.99 905.024 1922.99 903.247 Q1922.99 901.465 1922.54 900.58 Q1922.08 899.688 1921.18 899.688 M1921.18 898.762 Q1922.63 898.762 1923.39 899.914 Q1924.16 901.06 1924.16 903.247 Q1924.16 905.429 1923.39 906.581 Q1922.63 907.726 1921.18 907.726 Q1919.72 907.726 1918.95 906.581 Q1918.19 905.429 1918.19 903.247 Q1918.19 901.06 1918.95 899.914 Q1919.72 898.762 1921.18 898.762 Z\" fill=\"#000000\" fill-rule=\"evenodd\" fill-opacity=\"1\" /><path clip-path=\"url(#clip270)\" d=\"M 0 0 M1925.43 906.089 L1926.65 906.089 L1926.65 907.559 L1925.43 907.559 L1925.43 906.089 Z\" fill=\"#000000\" fill-rule=\"evenodd\" fill-opacity=\"1\" /><path clip-path=\"url(#clip270)\" d=\"M 0 0 M1927.62 898.919 L1933.18 898.919 L1933.18 899.416 L1930.04 907.559 L1928.82 907.559 L1931.77 899.902 L1927.62 899.902 L1927.62 898.919 Z\" fill=\"#000000\" fill-rule=\"evenodd\" fill-opacity=\"1\" /><path clip-path=\"url(#clip270)\" d=\"M 0 0 M1935.45 906.575 L1939.53 906.575 L1939.53 907.559 L1934.05 907.559 L1934.05 906.575 Q1934.71 905.886 1935.86 904.729 Q1937.01 903.566 1937.3 903.23 Q1937.86 902.599 1938.08 902.165 Q1938.31 901.725 1938.31 901.303 Q1938.31 900.614 1937.82 900.18 Q1937.34 899.746 1936.57 899.746 Q1936.02 899.746 1935.41 899.937 Q1934.8 900.128 1934.1 900.516 L1934.1 899.335 Q1934.81 899.052 1935.42 898.907 Q1936.04 898.762 1936.55 898.762 Q1937.89 898.762 1938.69 899.434 Q1939.49 900.105 1939.49 901.228 Q1939.49 901.76 1939.28 902.24 Q1939.09 902.715 1938.56 903.363 Q1938.41 903.531 1937.64 904.335 Q1936.86 905.134 1935.45 906.575 Z\" fill=\"#000000\" fill-rule=\"evenodd\" fill-opacity=\"1\" /><path clip-path=\"url(#clip270)\" d=\"M 0 0 M1940.81 898.919 L1945.4 898.919 L1945.4 899.902 L1941.88 899.902 L1941.88 902.02 Q1942.14 901.934 1942.39 901.893 Q1942.64 901.847 1942.9 901.847 Q1944.35 901.847 1945.19 902.64 Q1946.04 903.433 1946.04 904.787 Q1946.04 906.181 1945.17 906.957 Q1944.3 907.726 1942.72 907.726 Q1942.18 907.726 1941.61 907.634 Q1941.05 907.541 1940.45 907.356 L1940.45 906.181 Q1940.97 906.465 1941.52 906.604 Q1942.08 906.743 1942.7 906.743 Q1943.7 906.743 1944.28 906.216 Q1944.87 905.689 1944.87 904.787 Q1944.87 903.884 1944.28 903.357 Q1943.7 902.831 1942.7 902.831 Q1942.23 902.831 1941.76 902.935 Q1941.3 903.039 1940.81 903.259 L1940.81 898.919 Z\" fill=\"#000000\" fill-rule=\"evenodd\" fill-opacity=\"1\" /><path clip-path=\"url(#clip270)\" d=\"M 0 0 M1921.18 587.83 Q1920.27 587.83 1919.82 588.722 Q1919.36 589.607 1919.36 591.389 Q1919.36 593.166 1919.82 594.057 Q1920.27 594.943 1921.18 594.943 Q1922.08 594.943 1922.54 594.057 Q1922.99 593.166 1922.99 591.389 Q1922.99 589.607 1922.54 588.722 Q1922.08 587.83 1921.18 587.83 M1921.18 586.904 Q1922.63 586.904 1923.39 588.056 Q1924.16 589.202 1924.16 591.389 Q1924.16 593.571 1923.39 594.723 Q1922.63 595.868 1921.18 595.868 Q1919.72 595.868 1918.95 594.723 Q1918.19 593.571 1918.19 591.389 Q1918.19 589.202 1918.95 588.056 Q1919.72 586.904 1921.18 586.904 Z\" fill=\"#000000\" fill-rule=\"evenodd\" fill-opacity=\"1\" /><path clip-path=\"url(#clip270)\" d=\"M 0 0 M1925.43 594.231 L1926.65 594.231 L1926.65 595.701 L1925.43 595.701 L1925.43 594.231 Z\" fill=\"#000000\" fill-rule=\"evenodd\" fill-opacity=\"1\" /><path clip-path=\"url(#clip270)\" d=\"M 0 0 M1927.62 587.061 L1933.18 587.061 L1933.18 587.558 L1930.04 595.701 L1928.82 595.701 L1931.77 588.044 L1927.62 588.044 L1927.62 587.061 Z\" fill=\"#000000\" fill-rule=\"evenodd\" fill-opacity=\"1\" /><path clip-path=\"url(#clip270)\" d=\"M 0 0 M1934.46 587.061 L1939.05 587.061 L1939.05 588.044 L1935.53 588.044 L1935.53 590.162 Q1935.78 590.076 1936.04 590.035 Q1936.29 589.989 1936.55 589.989 Q1937.99 589.989 1938.84 590.782 Q1939.68 591.575 1939.68 592.929 Q1939.68 594.323 1938.81 595.099 Q1937.95 595.868 1936.37 595.868 Q1935.82 595.868 1935.25 595.776 Q1934.69 595.683 1934.09 595.498 L1934.09 594.323 Q1934.61 594.607 1935.17 594.746 Q1935.72 594.885 1936.34 594.885 Q1937.34 594.885 1937.93 594.358 Q1938.51 593.831 1938.51 592.929 Q1938.51 592.026 1937.93 591.499 Q1937.34 590.973 1936.34 590.973 Q1935.87 590.973 1935.41 591.077 Q1934.94 591.181 1934.46 591.401 L1934.46 587.061 Z\" fill=\"#000000\" fill-rule=\"evenodd\" fill-opacity=\"1\" /><path clip-path=\"url(#clip270)\" d=\"M 0 0 M1943.45 587.83 Q1942.55 587.83 1942.09 588.722 Q1941.64 589.607 1941.64 591.389 Q1941.64 593.166 1942.09 594.057 Q1942.55 594.943 1943.45 594.943 Q1944.36 594.943 1944.81 594.057 Q1945.27 593.166 1945.27 591.389 Q1945.27 589.607 1944.81 588.722 Q1944.36 587.83 1943.45 587.83 M1943.45 586.904 Q1944.9 586.904 1945.67 588.056 Q1946.44 589.202 1946.44 591.389 Q1946.44 593.571 1945.67 594.723 Q1944.9 595.868 1943.45 595.868 Q1942 595.868 1941.23 594.723 Q1940.46 593.571 1940.46 591.389 Q1940.46 589.202 1941.23 588.056 Q1942 586.904 1943.45 586.904 Z\" fill=\"#000000\" fill-rule=\"evenodd\" fill-opacity=\"1\" /><path clip-path=\"url(#clip270)\" d=\"M 0 0 M1921.18 275.972 Q1920.27 275.972 1919.82 276.864 Q1919.36 277.749 1919.36 279.531 Q1919.36 281.308 1919.82 282.199 Q1920.27 283.085 1921.18 283.085 Q1922.08 283.085 1922.54 282.199 Q1922.99 281.308 1922.99 279.531 Q1922.99 277.749 1922.54 276.864 Q1922.08 275.972 1921.18 275.972 M1921.18 275.046 Q1922.63 275.046 1923.39 276.198 Q1924.16 277.344 1924.16 279.531 Q1924.16 281.713 1923.39 282.865 Q1922.63 284.01 1921.18 284.01 Q1919.72 284.01 1918.95 282.865 Q1918.19 281.713 1918.19 279.531 Q1918.19 277.344 1918.95 276.198 Q1919.72 275.046 1921.18 275.046 Z\" fill=\"#000000\" fill-rule=\"evenodd\" fill-opacity=\"1\" /><path clip-path=\"url(#clip270)\" d=\"M 0 0 M1925.43 282.373 L1926.65 282.373 L1926.65 283.843 L1925.43 283.843 L1925.43 282.373 Z\" fill=\"#000000\" fill-rule=\"evenodd\" fill-opacity=\"1\" /><path clip-path=\"url(#clip270)\" d=\"M 0 0 M1927.62 275.203 L1933.18 275.203 L1933.18 275.7 L1930.04 283.843 L1928.82 283.843 L1931.77 276.186 L1927.62 276.186 L1927.62 275.203 Z\" fill=\"#000000\" fill-rule=\"evenodd\" fill-opacity=\"1\" /><path clip-path=\"url(#clip270)\" d=\"M 0 0 M1934.15 275.203 L1939.71 275.203 L1939.71 275.7 L1936.57 283.843 L1935.35 283.843 L1938.3 276.186 L1934.15 276.186 L1934.15 275.203 Z\" fill=\"#000000\" fill-rule=\"evenodd\" fill-opacity=\"1\" /><path clip-path=\"url(#clip270)\" d=\"M 0 0 M1940.98 275.203 L1945.57 275.203 L1945.57 276.186 L1942.05 276.186 L1942.05 278.304 Q1942.31 278.218 1942.56 278.177 Q1942.82 278.131 1943.07 278.131 Q1944.52 278.131 1945.36 278.924 Q1946.21 279.717 1946.21 281.071 Q1946.21 282.465 1945.34 283.241 Q1944.47 284.01 1942.89 284.01 Q1942.35 284.01 1941.78 283.918 Q1941.22 283.825 1940.62 283.64 L1940.62 282.465 Q1941.14 282.749 1941.7 282.888 Q1942.25 283.027 1942.87 283.027 Q1943.87 283.027 1944.46 282.5 Q1945.04 281.973 1945.04 281.071 Q1945.04 280.168 1944.46 279.641 Q1943.87 279.115 1942.87 279.115 Q1942.4 279.115 1941.93 279.219 Q1941.47 279.323 1940.98 279.543 L1940.98 275.203 Z\" fill=\"#000000\" fill-rule=\"evenodd\" fill-opacity=\"1\" /><polyline clip-path=\"url(#clip270)\" style=\"stroke:#000000; stroke-width:1; stroke-opacity:1; fill:none\" points=\"\n",
       "  1888.19,1929.53 1888.19,1839.72 1908.19,1839.72 1888.19,1839.72 1888.19,1527.86 1908.19,1527.86 1888.19,1527.86 1888.19,1216 1908.19,1216 1888.19,1216 \n",
       "  1888.19,904.146 1908.19,904.146 1888.19,904.146 1888.19,592.288 1908.19,592.288 1888.19,592.288 1888.19,280.43 1908.19,280.43 1888.19,280.43 1888.19,38.428 \n",
       "  \n",
       "  \"/>\n",
       "</svg>\n"
      ]
     },
     "execution_count": 221,
     "metadata": {},
     "output_type": "execute_result"
    }
   ],
   "source": [
    "heatmap(1:size(state_ests_evals,1),\n",
    "    1:size(state_ests_evals,2), state_ests_evals,\n",
    "    c=cgrad([:blue, :white,:red, :yellow]),\n",
    "    xlabel=\"x values\", ylabel=\"y values\",\n",
    "    title=\"My title\", size = (2000, 2000))"
   ]
  },
  {
   "cell_type": "code",
   "execution_count": null,
   "id": "177b73d0",
   "metadata": {},
   "outputs": [],
   "source": []
  },
  {
   "cell_type": "code",
   "execution_count": 226,
   "id": "d07eca9c",
   "metadata": {},
   "outputs": [
    {
     "data": {
      "text/plain": [
       "10×6 Matrix{Float64}:\n",
       " 0.0159399  0.0145682  0.0138362  0.0151126  0.0229177  0.043329\n",
       " 0.014664   0.0137371  0.0134048  0.0154479  0.024515   0.0461377\n",
       " 0.0173401  0.0173092  0.0178504  0.0218103  0.0307618  0.0664146\n",
       " 0.01485    0.0149321  0.0155516  0.0204475  0.0322827  0.0584924\n",
       " 0.0209771  0.0205964  0.0208002  0.0248352  0.0366704  0.0581163\n",
       " 0.0394823  0.0406613  0.0422452  0.0482758  0.0575445  0.070712\n",
       " 0.0814134  0.0784929  0.0763234  0.0749615  0.0779912  0.0790576\n",
       " 0.0929346  0.0884008  0.0851978  0.0819461  0.0821691  0.105035\n",
       " 0.0561499  0.0593053  0.0625183  0.0711034  0.0828078  0.0875128\n",
       " 0.0864801  0.0860742  0.0861271  0.0878322  0.094947   0.091707"
      ]
     },
     "execution_count": 226,
     "metadata": {},
     "output_type": "execute_result"
    }
   ],
   "source": [
    "param_ests_evals"
   ]
  },
  {
   "cell_type": "code",
   "execution_count": 227,
   "id": "3d0140f6",
   "metadata": {},
   "outputs": [
    {
     "data": {
      "text/plain": [
       "10×6 Matrix{Float64}:\n",
       " 0.79    0.79    0.7904  0.7898  0.7944  0.7906\n",
       " 0.7902  0.7892  0.7896  0.7892  0.7858  0.7816\n",
       " 0.7816  0.7818  0.7808  0.7752  0.7772  0.7772\n",
       " 0.7678  0.767   0.7662  0.7672  0.7668  0.7612\n",
       " 0.747   0.7478  0.7476  0.7472  0.7456  0.7398\n",
       " 0.7402  0.7402  0.738   0.7364  0.7316  0.7338\n",
       " 0.7196  0.7192  0.7172  0.7108  0.7046  0.7128\n",
       " 0.6998  0.6974  0.6962  0.6936  0.6896  0.6958\n",
       " 0.6876  0.6852  0.6842  0.6776  0.6732  0.682\n",
       " 0.6496  0.6476  0.6472  0.6438  0.6428  0.6496"
      ]
     },
     "execution_count": 227,
     "metadata": {},
     "output_type": "execute_result"
    }
   ],
   "source": [
    "state_ests_evals"
   ]
  },
  {
   "cell_type": "code",
   "execution_count": 228,
   "id": "ac988fc6",
   "metadata": {},
   "outputs": [
    {
     "data": {
      "text/plain": [
       "10×6 Matrix{Float64}:\n",
       " 0.0159399  0.0180416  0.0208934  0.0357867  0.0917626  1.41903\n",
       " 0.014664   0.0163131  0.0186854  0.0306695  0.0706482  1.34999\n",
       " 0.0173401  0.0181603  0.0199333  0.0315875  0.0854345  1.16786\n",
       " 0.01485    0.0154369  0.0167311  0.0254053  0.0576098  1.23672\n",
       " 0.0209771  0.021979   0.0236338  0.0333982  0.0707173  1.66063\n",
       " 0.0394823  0.038968   0.0392163  0.0450225  0.0714801  1.25483\n",
       " 0.0814134  0.0854003  0.0907884  0.114509   0.181998   1.48639\n",
       " 0.0929346  0.0990716  0.106926   0.139207   0.212269   1.42412\n",
       " 0.0561499  0.0533047  0.0509196  0.0470894  0.0721133  1.13435\n",
       " 0.0864801  0.0870453  0.0875595  0.090351   0.111797   1.31238"
      ]
     },
     "execution_count": 228,
     "metadata": {},
     "output_type": "execute_result"
    }
   ],
   "source": [
    "opt_param_ests_evals"
   ]
  },
  {
   "cell_type": "code",
   "execution_count": 229,
   "id": "55e4afa3",
   "metadata": {},
   "outputs": [
    {
     "data": {
      "text/plain": [
       "10×6 Matrix{Float64}:\n",
       " 0.79    0.7898  0.7904  0.7898  0.7862  0.7406\n",
       " 0.7902  0.788   0.7884  0.787   0.7848  0.7502\n",
       " 0.7816  0.78    0.7812  0.7814  0.7808  0.7356\n",
       " 0.7678  0.7664  0.7664  0.765   0.7636  0.736\n",
       " 0.747   0.7472  0.7464  0.7438  0.7418  0.715\n",
       " 0.7402  0.7426  0.7448  0.7412  0.7388  0.704\n",
       " 0.7196  0.7182  0.7194  0.7224  0.7254  0.6988\n",
       " 0.6998  0.7004  0.702   0.7042  0.7078  0.6684\n",
       " 0.6876  0.6876  0.6886  0.6896  0.6884  0.659\n",
       " 0.6496  0.6512  0.6512  0.656   0.6568  0.6264"
      ]
     },
     "execution_count": 229,
     "metadata": {},
     "output_type": "execute_result"
    }
   ],
   "source": [
    "opt_state_ests_evals"
   ]
  },
  {
   "cell_type": "code",
   "execution_count": 232,
   "id": "b0850e0b",
   "metadata": {},
   "outputs": [
    {
     "data": {
      "text/plain": [
       "10-element Vector{Float64}:\n",
       " 0.0\n",
       " 0.0\n",
       " 0.0\n",
       " 0.0\n",
       " 0.0\n",
       " 0.0\n",
       " 0.0\n",
       " 0.0\n",
       " 0.0\n",
       " 0.0"
      ]
     },
     "execution_count": 232,
     "metadata": {},
     "output_type": "execute_result"
    }
   ],
   "source": [
    "best_acc = zeros(10) ; "
   ]
  },
  {
   "cell_type": "code",
   "execution_count": 233,
   "id": "5facdd97",
   "metadata": {},
   "outputs": [
    {
     "name": "stdout",
     "output_type": "stream",
     "text": [
      "Best state accuracy for noise = 0.1\n",
      "0.7898\n",
      "Best state accuracy for noise = 0.2\n",
      "0.7892\n",
      "Best state accuracy for noise = 0.30000000000000004\n",
      "0.781\n",
      "Best state accuracy for noise = 0.4\n",
      "0.7712\n",
      "Best state accuracy for noise = 0.5\n",
      "0.748\n",
      "Best state accuracy for noise = 0.6000000000000001\n",
      "0.74\n",
      "Best state accuracy for noise = 0.7000000000000001\n",
      "0.7288\n",
      "Best state accuracy for noise = 0.8\n",
      "0.7034\n",
      "Best state accuracy for noise = 0.9\n",
      "0.6944\n",
      "Best state accuracy for noise = 1.0\n",
      "0.6672\n"
     ]
    }
   ],
   "source": [
    "## To get baseline best accuracy\n",
    "\n",
    "for i=1:10\n",
    "    #print(\"A KL divergence for (noise, r) = \")\n",
    "    print(\"Best state accuracy for noise = \")\n",
    "    println(vars[i])\n",
    "    k = eval_state_ests(X_noisy[i,:,:], S, pi_true, A_true, emission_dists)[2]\n",
    "    println(tr(k)/sum(k))\n",
    "    best_acc[i] = tr(k)/sum(k)\n",
    "    #opt_state_ests_evals[i,j] = tr(k)/sum(k) ; \n",
    "end"
   ]
  },
  {
   "cell_type": "code",
   "execution_count": 234,
   "id": "eeaf2b7f",
   "metadata": {},
   "outputs": [
    {
     "data": {
      "text/plain": [
       "10-element Vector{Float64}:\n",
       " 0.7898\n",
       " 0.7892\n",
       " 0.781\n",
       " 0.7712\n",
       " 0.748\n",
       " 0.74\n",
       " 0.7288\n",
       " 0.7034\n",
       " 0.6944\n",
       " 0.6672"
      ]
     },
     "execution_count": 234,
     "metadata": {},
     "output_type": "execute_result"
    }
   ],
   "source": [
    "best_acc"
   ]
  },
  {
   "cell_type": "code",
   "execution_count": 247,
   "id": "3667c600",
   "metadata": {},
   "outputs": [],
   "source": [
    "best_acc_test = zeros(10) ; "
   ]
  },
  {
   "cell_type": "code",
   "execution_count": 248,
   "id": "d9eed1d6",
   "metadata": {},
   "outputs": [
    {
     "name": "stdout",
     "output_type": "stream",
     "text": [
      "Best state accuracy for noise = 0.1\n",
      "0.8292\n",
      "Best state accuracy for noise = 0.2\n",
      "0.8224\n",
      "Best state accuracy for noise = 0.30000000000000004\n",
      "0.8168\n",
      "Best state accuracy for noise = 0.4\n",
      "0.7936\n",
      "Best state accuracy for noise = 0.5\n",
      "0.7716\n",
      "Best state accuracy for noise = 0.6000000000000001\n",
      "0.7744\n",
      "Best state accuracy for noise = 0.7000000000000001\n",
      "0.758\n",
      "Best state accuracy for noise = 0.8\n",
      "0.75\n",
      "Best state accuracy for noise = 0.9\n",
      "0.696\n",
      "Best state accuracy for noise = 1.0\n",
      "0.6912\n"
     ]
    }
   ],
   "source": [
    "## To get baseline best accuracy\n",
    "\n",
    "for i=1:10\n",
    "    #print(\"A KL divergence for (noise, r) = \")\n",
    "    print(\"Best state accuracy for noise = \")\n",
    "    println(vars[i])\n",
    "    k = eval_state_ests(X_noisy_test[i,:,:], S_test, pi_true, A_true, emission_dists)[2]\n",
    "    println(tr(k)/sum(k))\n",
    "    best_acc_test[i] = tr(k)/sum(k)\n",
    "    #opt_state_ests_evals[i,j] = tr(k)/sum(k) ; \n",
    "end"
   ]
  },
  {
   "cell_type": "code",
   "execution_count": 249,
   "id": "aaf98a54",
   "metadata": {},
   "outputs": [
    {
     "data": {
      "text/plain": [
       "10-element Vector{Float64}:\n",
       " 0.8292\n",
       " 0.8224\n",
       " 0.8168\n",
       " 0.7936\n",
       " 0.7716\n",
       " 0.7744\n",
       " 0.758\n",
       " 0.75\n",
       " 0.696\n",
       " 0.6912"
      ]
     },
     "execution_count": 249,
     "metadata": {},
     "output_type": "execute_result"
    }
   ],
   "source": [
    "best_acc_test"
   ]
  },
  {
   "cell_type": "code",
   "execution_count": null,
   "id": "fa340c28",
   "metadata": {},
   "outputs": [],
   "source": []
  },
  {
   "cell_type": "code",
   "execution_count": null,
   "id": "c1186692",
   "metadata": {},
   "outputs": [],
   "source": []
  },
  {
   "cell_type": "code",
   "execution_count": null,
   "id": "c1fdf05c",
   "metadata": {},
   "outputs": [],
   "source": []
  },
  {
   "cell_type": "code",
   "execution_count": null,
   "id": "a781e364",
   "metadata": {},
   "outputs": [],
   "source": []
  },
  {
   "cell_type": "code",
   "execution_count": null,
   "id": "517ab5ea",
   "metadata": {},
   "outputs": [],
   "source": []
  },
  {
   "cell_type": "code",
   "execution_count": 194,
   "id": "8001f2c0",
   "metadata": {},
   "outputs": [
    {
     "ename": "LoadError",
     "evalue": "MethodError: no method matching eval_state_ests(::Matrix{Float64}, ::Vector{Float64}, ::Matrix{Float64}, ::Vector{Float64})\n\u001b[0mClosest candidates are:\n\u001b[0m  eval_state_ests(::Any, ::Any, ::Any, ::Any, \u001b[91m::Any\u001b[39m) at In[36]:7",
     "output_type": "error",
     "traceback": [
      "MethodError: no method matching eval_state_ests(::Matrix{Float64}, ::Vector{Float64}, ::Matrix{Float64}, ::Vector{Float64})\n\u001b[0mClosest candidates are:\n\u001b[0m  eval_state_ests(::Any, ::Any, ::Any, ::Any, \u001b[91m::Any\u001b[39m) at In[36]:7",
      "",
      "Stacktrace:",
      " [1] top-level scope",
      "   @ In[194]:1",
      " [2] eval",
      "   @ ./boot.jl:360 [inlined]",
      " [3] include_string(mapexpr::typeof(REPL.softscope), mod::Module, code::String, filename::String)",
      "   @ Base ./loading.jl:1116"
     ]
    }
   ],
   "source": [
    "eval_state_ests((X_noisy, S, pi_rob1, A_rob1, emission_dists[1:5]))"
   ]
  },
  {
   "cell_type": "code",
   "execution_count": 197,
   "id": "e89d717b",
   "metadata": {},
   "outputs": [],
   "source": [
    "#X_noisy"
   ]
  },
  {
   "cell_type": "code",
   "execution_count": null,
   "id": "d3dd564e",
   "metadata": {},
   "outputs": [],
   "source": []
  },
  {
   "cell_type": "code",
   "execution_count": null,
   "id": "fc44562b",
   "metadata": {},
   "outputs": [],
   "source": []
  },
  {
   "cell_type": "code",
   "execution_count": null,
   "id": "c2b77490",
   "metadata": {},
   "outputs": [],
   "source": []
  },
  {
   "cell_type": "code",
   "execution_count": 173,
   "id": "983f4ea0",
   "metadata": {},
   "outputs": [
    {
     "data": {
      "text/plain": [
       "10-element Vector{Float64}:\n",
       " 0.1\n",
       " 0.2\n",
       " 0.30000000000000004\n",
       " 0.4\n",
       " 0.5\n",
       " 0.6000000000000001\n",
       " 0.7000000000000001\n",
       " 0.8\n",
       " 0.9\n",
       " 1.0"
      ]
     },
     "execution_count": 173,
     "metadata": {},
     "output_type": "execute_result"
    }
   ],
   "source": [
    "vars"
   ]
  },
  {
   "cell_type": "code",
   "execution_count": null,
   "id": "6eb8705b",
   "metadata": {},
   "outputs": [],
   "source": []
  },
  {
   "cell_type": "code",
   "execution_count": null,
   "id": "2a62673c",
   "metadata": {},
   "outputs": [],
   "source": []
  },
  {
   "cell_type": "code",
   "execution_count": null,
   "id": "9721117b",
   "metadata": {},
   "outputs": [],
   "source": []
  },
  {
   "cell_type": "code",
   "execution_count": 157,
   "id": "046f647e",
   "metadata": {},
   "outputs": [
    {
     "data": {
      "text/plain": [
       "10×500 Matrix{Float64}:\n",
       " 0.0  0.0  0.0  0.0  0.0  0.0  0.0  0.0  …  0.0  0.0  0.0  0.0  0.0  0.0  0.0\n",
       " 0.0  0.0  0.0  0.0  0.0  0.0  0.0  0.0     0.0  0.0  0.0  0.0  0.0  0.0  0.0\n",
       " 0.0  0.0  0.0  0.0  0.0  0.0  0.0  0.0     0.0  0.0  0.0  0.0  0.0  0.0  0.0\n",
       " 0.0  0.0  0.0  0.0  0.0  0.0  0.0  0.0     0.0  0.0  0.0  0.0  0.0  0.0  0.0\n",
       " 0.0  0.0  0.0  0.0  0.0  0.0  0.0  0.0     0.0  0.0  0.0  0.0  0.0  0.0  0.0\n",
       " 0.0  0.0  0.0  0.0  0.0  0.0  0.0  0.0  …  0.0  0.0  0.0  0.0  0.0  0.0  0.0\n",
       " 0.0  0.0  0.0  0.0  0.0  0.0  0.0  0.0     0.0  0.0  0.0  0.0  0.0  0.0  0.0\n",
       " 0.0  0.0  0.0  0.0  0.0  0.0  0.0  0.0     0.0  0.0  0.0  0.0  0.0  0.0  0.0\n",
       " 0.0  0.0  0.0  0.0  0.0  0.0  0.0  0.0     0.0  0.0  0.0  0.0  0.0  0.0  0.0\n",
       " 0.0  0.0  0.0  0.0  0.0  0.0  0.0  0.0     0.0  0.0  0.0  0.0  0.0  0.0  0.0"
      ]
     },
     "execution_count": 157,
     "metadata": {},
     "output_type": "execute_result"
    }
   ],
   "source": [
    "delta_X_initial"
   ]
  },
  {
   "cell_type": "code",
   "execution_count": null,
   "id": "901e8afa",
   "metadata": {},
   "outputs": [],
   "source": []
  },
  {
   "cell_type": "code",
   "execution_count": null,
   "id": "f809d2af",
   "metadata": {},
   "outputs": [],
   "source": []
  },
  {
   "cell_type": "code",
   "execution_count": 149,
   "id": "b77c9c5c",
   "metadata": {},
   "outputs": [
    {
     "data": {
      "text/plain": [
       "6"
      ]
     },
     "execution_count": 149,
     "metadata": {},
     "output_type": "execute_result"
    }
   ],
   "source": [
    "size(rs,1)"
   ]
  },
  {
   "cell_type": "code",
   "execution_count": null,
   "id": "c26e346d",
   "metadata": {},
   "outputs": [],
   "source": []
  },
  {
   "cell_type": "code",
   "execution_count": null,
   "id": "c1f0d849",
   "metadata": {},
   "outputs": [],
   "source": []
  },
  {
   "cell_type": "code",
   "execution_count": 148,
   "id": "fbb84f7f",
   "metadata": {},
   "outputs": [
    {
     "data": {
      "text/plain": [
       "10"
      ]
     },
     "execution_count": 148,
     "metadata": {},
     "output_type": "execute_result"
    }
   ],
   "source": [
    "size(vars,1)"
   ]
  },
  {
   "cell_type": "code",
   "execution_count": null,
   "id": "9e1699a3",
   "metadata": {},
   "outputs": [],
   "source": []
  },
  {
   "cell_type": "code",
   "execution_count": null,
   "id": "d43461f1",
   "metadata": {},
   "outputs": [],
   "source": []
  },
  {
   "cell_type": "code",
   "execution_count": null,
   "id": "740cc4f8",
   "metadata": {},
   "outputs": [],
   "source": []
  },
  {
   "cell_type": "code",
   "execution_count": null,
   "id": "a5b672f2",
   "metadata": {},
   "outputs": [],
   "source": []
  },
  {
   "cell_type": "code",
   "execution_count": null,
   "id": "1b6368d0",
   "metadata": {},
   "outputs": [],
   "source": []
  },
  {
   "cell_type": "code",
   "execution_count": null,
   "id": "c2ebfe0a",
   "metadata": {},
   "outputs": [],
   "source": []
  },
  {
   "cell_type": "code",
   "execution_count": null,
   "id": "492750a1",
   "metadata": {},
   "outputs": [],
   "source": []
  },
  {
   "cell_type": "code",
   "execution_count": 94,
   "id": "1e8b0989",
   "metadata": {},
   "outputs": [
    {
     "data": {
      "text/plain": [
       "10-element Vector{Float64}:\n",
       " 0.2\n",
       " 0.4\n",
       " 0.6000000000000001\n",
       " 0.8\n",
       " 1.0\n",
       " 1.2000000000000002\n",
       " 1.4000000000000001\n",
       " 1.6\n",
       " 1.8\n",
       " 2.0"
      ]
     },
     "execution_count": 94,
     "metadata": {},
     "output_type": "execute_result"
    }
   ],
   "source": [
    "vars"
   ]
  },
  {
   "cell_type": "code",
   "execution_count": null,
   "id": "52d77c05",
   "metadata": {},
   "outputs": [],
   "source": []
  },
  {
   "cell_type": "code",
   "execution_count": null,
   "id": "00e618ab",
   "metadata": {},
   "outputs": [],
   "source": []
  },
  {
   "cell_type": "code",
   "execution_count": null,
   "id": "88c5b060",
   "metadata": {},
   "outputs": [],
   "source": []
  },
  {
   "cell_type": "code",
   "execution_count": 74,
   "id": "d084ee69",
   "metadata": {},
   "outputs": [
    {
     "data": {
      "text/plain": [
       "10×10 Matrix{Float64}:\n",
       " 0.0829694   0.125076    0.0374064  …  0.0400239  0.108404   0.11555\n",
       " 0.0664666   0.0351734   0.082449      0.159457   0.176632   0.0926286\n",
       " 0.122447    0.0310558   0.0565831     0.0475749  0.0469444  0.108442\n",
       " 0.00762164  0.127534    0.136699      0.138878   0.118476   0.0461156\n",
       " 0.102447    0.110942    0.0780906     0.10526    0.15475    0.00962583\n",
       " 0.0314577   0.124655    0.129818   …  0.105665   0.112492   0.0202601\n",
       " 0.0955016   0.0876148   0.156077      0.0279359  0.145021   0.0402199\n",
       " 0.168579    0.00800755  0.113444      0.160669   0.0563856  0.0523764\n",
       " 0.148479    0.00795998  0.162788      0.0535303  0.0726333  0.187784\n",
       " 0.117551    0.114637    0.0727653     0.0913067  0.13747    0.147456"
      ]
     },
     "execution_count": 74,
     "metadata": {},
     "output_type": "execute_result"
    }
   ],
   "source": [
    "A1"
   ]
  },
  {
   "cell_type": "code",
   "execution_count": 75,
   "id": "7b468387",
   "metadata": {},
   "outputs": [
    {
     "data": {
      "text/plain": [
       "10×10 Matrix{Float64}:\n",
       " 0.0752931   0.1341      0.0197698  …  0.0199917  0.116939   0.131136\n",
       " 0.0850281   0.00812193  0.110777      0.140611   0.160813   0.102774\n",
       " 0.118604    0.0305247   0.0441062     0.0406136  0.0577275  0.11217\n",
       " 0.00860176  0.133947    0.124884      0.13774    0.108742   0.0446017\n",
       " 0.114674    0.100397    0.0918971     0.131533   0.127359   0.0111749\n",
       " 0.03043     0.148723    0.100613   …  0.0977629  0.14696    0.0136002\n",
       " 0.0678053   0.0963498   0.161962      0.0260425  0.137581   0.0375044\n",
       " 0.184826    0.00294772  0.125397      0.194892   0.0573867  0.0430482\n",
       " 0.135083    0.00606615  0.176531      0.0378103  0.0582549  0.194518\n",
       " 0.105152    0.0999984   0.0828344     0.0766694  0.173632   0.148507"
      ]
     },
     "execution_count": 75,
     "metadata": {},
     "output_type": "execute_result"
    }
   ],
   "source": [
    "A_true"
   ]
  },
  {
   "cell_type": "code",
   "execution_count": 77,
   "id": "f69c08f3",
   "metadata": {},
   "outputs": [
    {
     "data": {
      "text/plain": [
       "10×10 Matrix{Float64}:\n",
       " 0.0887195  0.100965   0.0577848  …  0.0595478  0.102915   0.120092\n",
       " 0.0758773  0.0472307  0.0694771     0.135044   0.144917   0.10327\n",
       " 0.100104   0.0469516  0.0751991     0.0755182  0.0622329  0.100753\n",
       " 0.0374936  0.106118   0.128988      0.123517   0.109938   0.0589358\n",
       " 0.0940789  0.0994974  0.0991351     0.111933   0.130511   0.0235105\n",
       " 0.0524033  0.107267   0.126618   …  0.104305   0.107617   0.0294114\n",
       " 0.104635   0.0900601  0.139976      0.0605155  0.113155   0.0491084\n",
       " 0.148837   0.0358749  0.129247      0.130246   0.0676679  0.0739\n",
       " 0.135124   0.0329733  0.139342      0.0607424  0.0835687  0.165651\n",
       " 0.127547   0.0964253  0.0791961     0.0876115  0.120949   0.149143"
      ]
     },
     "execution_count": 77,
     "metadata": {},
     "output_type": "execute_result"
    }
   ],
   "source": [
    "A2"
   ]
  },
  {
   "cell_type": "code",
   "execution_count": null,
   "id": "c4a01177",
   "metadata": {},
   "outputs": [],
   "source": []
  },
  {
   "cell_type": "code",
   "execution_count": null,
   "id": "2ec91cb8",
   "metadata": {},
   "outputs": [],
   "source": []
  },
  {
   "cell_type": "code",
   "execution_count": 71,
   "id": "5a4751f4",
   "metadata": {},
   "outputs": [
    {
     "data": {
      "text/plain": [
       "10-element Vector{Float64}:\n",
       " 0.0\n",
       " 0.1\n",
       " 0.2\n",
       " 0.30000000000000004\n",
       " 0.4\n",
       " 0.5\n",
       " 0.6000000000000001\n",
       " 0.7000000000000001\n",
       " 0.8\n",
       " 0.9"
      ]
     },
     "execution_count": 71,
     "metadata": {},
     "output_type": "execute_result"
    }
   ],
   "source": [
    "rs"
   ]
  },
  {
   "cell_type": "code",
   "execution_count": null,
   "id": "a125e0ce",
   "metadata": {},
   "outputs": [],
   "source": []
  },
  {
   "cell_type": "code",
   "execution_count": null,
   "id": "6fdb4495",
   "metadata": {},
   "outputs": [],
   "source": []
  },
  {
   "cell_type": "code",
   "execution_count": null,
   "id": "d1e99228",
   "metadata": {},
   "outputs": [],
   "source": []
  },
  {
   "cell_type": "code",
   "execution_count": null,
   "id": "8617c937",
   "metadata": {},
   "outputs": [],
   "source": []
  },
  {
   "cell_type": "code",
   "execution_count": 64,
   "id": "101218ac",
   "metadata": {},
   "outputs": [
    {
     "data": {
      "text/plain": [
       "40"
      ]
     },
     "execution_count": 64,
     "metadata": {},
     "output_type": "execute_result"
    }
   ],
   "source": [
    "num_iters"
   ]
  },
  {
   "cell_type": "code",
   "execution_count": 66,
   "id": "7ff36fdf",
   "metadata": {},
   "outputs": [
    {
     "data": {
      "text/plain": [
       "0.4"
      ]
     },
     "execution_count": 66,
     "metadata": {},
     "output_type": "execute_result"
    }
   ],
   "source": []
  },
  {
   "cell_type": "code",
   "execution_count": null,
   "id": "69cbb4c2",
   "metadata": {},
   "outputs": [],
   "source": []
  },
  {
   "cell_type": "code",
   "execution_count": null,
   "id": "005e26d9",
   "metadata": {},
   "outputs": [],
   "source": []
  },
  {
   "cell_type": "code",
   "execution_count": null,
   "id": "e410b15b",
   "metadata": {},
   "outputs": [],
   "source": []
  },
  {
   "cell_type": "code",
   "execution_count": null,
   "id": "125208a7",
   "metadata": {},
   "outputs": [],
   "source": []
  },
  {
   "cell_type": "code",
   "execution_count": null,
   "id": "dc321302",
   "metadata": {},
   "outputs": [],
   "source": []
  },
  {
   "cell_type": "code",
   "execution_count": null,
   "id": "4f201255",
   "metadata": {},
   "outputs": [],
   "source": []
  },
  {
   "cell_type": "code",
   "execution_count": null,
   "id": "3ce9eaf7",
   "metadata": {},
   "outputs": [],
   "source": []
  },
  {
   "cell_type": "code",
   "execution_count": null,
   "id": "4fe0b733",
   "metadata": {},
   "outputs": [],
   "source": []
  },
  {
   "cell_type": "code",
   "execution_count": null,
   "id": "24bf4a9a",
   "metadata": {},
   "outputs": [],
   "source": []
  },
  {
   "cell_type": "code",
   "execution_count": null,
   "id": "abc7a181",
   "metadata": {},
   "outputs": [],
   "source": []
  },
  {
   "cell_type": "code",
   "execution_count": 46,
   "id": "e176bf3c",
   "metadata": {},
   "outputs": [
    {
     "data": {
      "text/plain": [
       "Normal{Float64}(μ=0.0, σ=1.0)"
      ]
     },
     "execution_count": 46,
     "metadata": {},
     "output_type": "execute_result"
    }
   ],
   "source": [
    "emission_dists[1]"
   ]
  },
  {
   "cell_type": "code",
   "execution_count": null,
   "id": "35a9c120",
   "metadata": {},
   "outputs": [],
   "source": []
  },
  {
   "cell_type": "code",
   "execution_count": null,
   "id": "cd5adfde",
   "metadata": {},
   "outputs": [],
   "source": []
  },
  {
   "cell_type": "code",
   "execution_count": null,
   "id": "f5e5f415",
   "metadata": {},
   "outputs": [],
   "source": []
  },
  {
   "cell_type": "code",
   "execution_count": null,
   "id": "835255e3",
   "metadata": {},
   "outputs": [],
   "source": []
  },
  {
   "cell_type": "code",
   "execution_count": null,
   "id": "3562b30f",
   "metadata": {},
   "outputs": [],
   "source": []
  },
  {
   "cell_type": "code",
   "execution_count": null,
   "id": "151ee7f8",
   "metadata": {},
   "outputs": [],
   "source": []
  },
  {
   "cell_type": "code",
   "execution_count": 50,
   "id": "c5aed274",
   "metadata": {},
   "outputs": [
    {
     "data": {
      "text/plain": [
       "20×1000 Matrix{Float64}:\n",
       " -0.0221935   -0.548499   0.793209   …  -0.619684    0.71986   -0.207491\n",
       "  1.65099     -0.400339   2.13998        0.0314424  -1.22888    0.428426\n",
       " -0.231567    -0.167208  -0.418241       0.147931   -0.419959   1.44388\n",
       "  0.849515     0.486502   0.600834      -0.976467   -0.337392   2.8517\n",
       " -0.925499     0.863419  -1.02804        0.439497    1.23832   -0.819009\n",
       "  0.528921    -0.895293  -0.100872   …   0.82283     0.449653   0.351318\n",
       " -0.00393545  -0.173272   2.58189       -0.78087     0.206083   0.457902\n",
       " -0.0345837    0.226868  -0.301432      -0.442338    1.60951    0.661481\n",
       "  0.450154     0.990216   0.309564      -0.448063    0.295202  -0.484748\n",
       "  1.35256     -0.379159   1.1453        -0.714318    0.237985  -0.916938\n",
       " -0.582046     1.50661    0.787297   …  -0.169835   -0.771688  -0.494973\n",
       "  0.318703     2.24823    0.243438       1.30322     1.43461    0.130618\n",
       " -0.506908     0.662333  -0.794548      -1.64552     0.256457  -2.06454\n",
       "  1.70581     -1.49213   -1.96446        1.53501    -0.754652  -0.0191679\n",
       "  0.507932     0.224166   0.0815161      1.41379    -0.094974  -0.390381\n",
       "  2.46384      0.622224   0.2687     …   0.233577    1.51033   -0.0492272\n",
       " -0.847483     1.05286   -0.345385       0.0133904   0.717861  -1.66337\n",
       "  2.98298      0.66172   -1.15072        2.18104    -0.937013  -0.513406\n",
       " -1.47129     -0.263676  -0.983226      -0.630604   -2.96391   -0.727481\n",
       " -2.43936      0.34281    0.769279      -0.804627   -1.39094    0.643946"
      ]
     },
     "execution_count": 50,
     "metadata": {},
     "output_type": "execute_result"
    }
   ],
   "source": [
    "rand(Normal(0,var[1]) , size(X))  "
   ]
  },
  {
   "cell_type": "code",
   "execution_count": null,
   "id": "dd2f23c1",
   "metadata": {},
   "outputs": [],
   "source": []
  },
  {
   "cell_type": "code",
   "execution_count": null,
   "id": "dfd4ec12",
   "metadata": {},
   "outputs": [],
   "source": []
  },
  {
   "cell_type": "code",
   "execution_count": null,
   "id": "f0382257",
   "metadata": {},
   "outputs": [],
   "source": []
  },
  {
   "cell_type": "code",
   "execution_count": null,
   "id": "66376b16",
   "metadata": {},
   "outputs": [],
   "source": []
  },
  {
   "cell_type": "code",
   "execution_count": null,
   "id": "4c433df7",
   "metadata": {},
   "outputs": [],
   "source": []
  },
  {
   "cell_type": "code",
   "execution_count": null,
   "id": "b9d7517c",
   "metadata": {},
   "outputs": [],
   "source": []
  },
  {
   "cell_type": "code",
   "execution_count": null,
   "id": "eb4e1196",
   "metadata": {},
   "outputs": [],
   "source": []
  },
  {
   "cell_type": "code",
   "execution_count": null,
   "id": "77018640",
   "metadata": {},
   "outputs": [],
   "source": []
  },
  {
   "cell_type": "code",
   "execution_count": null,
   "id": "90521484",
   "metadata": {},
   "outputs": [],
   "source": []
  },
  {
   "cell_type": "code",
   "execution_count": null,
   "id": "059ec31b",
   "metadata": {},
   "outputs": [],
   "source": []
  },
  {
   "cell_type": "code",
   "execution_count": null,
   "id": "71db4b9d",
   "metadata": {},
   "outputs": [],
   "source": []
  },
  {
   "cell_type": "code",
   "execution_count": null,
   "id": "e3363390",
   "metadata": {},
   "outputs": [],
   "source": []
  },
  {
   "cell_type": "code",
   "execution_count": 93,
   "id": "c82043e9",
   "metadata": {},
   "outputs": [
    {
     "data": {
      "text/plain": [
       "3874.0"
      ]
     },
     "execution_count": 93,
     "metadata": {},
     "output_type": "execute_result"
    }
   ],
   "source": [
    "tr(conf_mat_best)"
   ]
  },
  {
   "cell_type": "code",
   "execution_count": 94,
   "id": "104bfbf5",
   "metadata": {},
   "outputs": [
    {
     "data": {
      "text/plain": [
       "3822.0"
      ]
     },
     "execution_count": 94,
     "metadata": {},
     "output_type": "execute_result"
    }
   ],
   "source": [
    "tr(conf_mat_em)"
   ]
  },
  {
   "cell_type": "code",
   "execution_count": 95,
   "id": "58570660",
   "metadata": {},
   "outputs": [
    {
     "data": {
      "text/plain": [
       "3825.0"
      ]
     },
     "execution_count": 95,
     "metadata": {},
     "output_type": "execute_result"
    }
   ],
   "source": [
    "tr(conf_mat_rob1)"
   ]
  },
  {
   "cell_type": "code",
   "execution_count": 96,
   "id": "7335937b",
   "metadata": {},
   "outputs": [
    {
     "data": {
      "text/plain": [
       "3855.0"
      ]
     },
     "execution_count": 96,
     "metadata": {},
     "output_type": "execute_result"
    }
   ],
   "source": [
    "tr(conf_mat_rob2)"
   ]
  },
  {
   "cell_type": "code",
   "execution_count": 97,
   "id": "16424a47",
   "metadata": {},
   "outputs": [
    {
     "data": {
      "text/plain": [
       "3870.0"
      ]
     },
     "execution_count": 97,
     "metadata": {},
     "output_type": "execute_result"
    }
   ],
   "source": [
    "tr(conf_mat_rob3)"
   ]
  },
  {
   "cell_type": "code",
   "execution_count": null,
   "id": "516d4d6c",
   "metadata": {},
   "outputs": [],
   "source": []
  },
  {
   "cell_type": "code",
   "execution_count": null,
   "id": "8e1ba336",
   "metadata": {},
   "outputs": [],
   "source": []
  },
  {
   "cell_type": "code",
   "execution_count": null,
   "id": "11127a06",
   "metadata": {},
   "outputs": [],
   "source": []
  },
  {
   "cell_type": "code",
   "execution_count": 81,
   "id": "bfb0c606",
   "metadata": {},
   "outputs": [
    {
     "data": {
      "text/plain": [
       "0.7754"
      ]
     },
     "execution_count": 81,
     "metadata": {},
     "output_type": "execute_result"
    }
   ],
   "source": [
    "tr(conf_mat_em)/sum(conf_mat_em)"
   ]
  },
  {
   "cell_type": "code",
   "execution_count": null,
   "id": "3b83817d",
   "metadata": {},
   "outputs": [],
   "source": []
  },
  {
   "cell_type": "code",
   "execution_count": null,
   "id": "77c3c5e4",
   "metadata": {},
   "outputs": [],
   "source": []
  },
  {
   "cell_type": "code",
   "execution_count": null,
   "id": "afd4ca70",
   "metadata": {},
   "outputs": [],
   "source": []
  },
  {
   "cell_type": "code",
   "execution_count": null,
   "id": "cf75025c",
   "metadata": {},
   "outputs": [],
   "source": []
  },
  {
   "cell_type": "code",
   "execution_count": 77,
   "id": "091891ca",
   "metadata": {},
   "outputs": [
    {
     "data": {
      "text/plain": [
       "5-element Vector{Normal{Float64}}:\n",
       " Normal{Float64}(μ=0.0, σ=1.0)\n",
       " Normal{Float64}(μ=2.0, σ=1.0)\n",
       " Normal{Float64}(μ=4.0, σ=1.0)\n",
       " Normal{Float64}(μ=6.0, σ=1.0)\n",
       " Normal{Float64}(μ=8.0, σ=1.0)"
      ]
     },
     "execution_count": 77,
     "metadata": {},
     "output_type": "execute_result"
    }
   ],
   "source": [
    "emission_dists[1:5]"
   ]
  },
  {
   "cell_type": "code",
   "execution_count": null,
   "id": "3f091ce1",
   "metadata": {},
   "outputs": [],
   "source": []
  },
  {
   "cell_type": "code",
   "execution_count": null,
   "id": "b72f74b0",
   "metadata": {},
   "outputs": [],
   "source": []
  },
  {
   "cell_type": "code",
   "execution_count": null,
   "id": "eb0cf23a",
   "metadata": {},
   "outputs": [],
   "source": []
  },
  {
   "cell_type": "code",
   "execution_count": null,
   "id": "c636695b",
   "metadata": {},
   "outputs": [],
   "source": []
  },
  {
   "cell_type": "code",
   "execution_count": null,
   "id": "dff3a7b5",
   "metadata": {},
   "outputs": [],
   "source": []
  },
  {
   "cell_type": "code",
   "execution_count": null,
   "id": "a8fb2f3e",
   "metadata": {},
   "outputs": [],
   "source": []
  },
  {
   "cell_type": "code",
   "execution_count": null,
   "id": "ed4f4a99",
   "metadata": {},
   "outputs": [],
   "source": []
  },
  {
   "cell_type": "code",
   "execution_count": null,
   "id": "44cc0e98",
   "metadata": {},
   "outputs": [],
   "source": []
  },
  {
   "cell_type": "code",
   "execution_count": null,
   "id": "4cea0f2e",
   "metadata": {},
   "outputs": [],
   "source": []
  },
  {
   "cell_type": "code",
   "execution_count": 66,
   "id": "8421302a",
   "metadata": {},
   "outputs": [
    {
     "name": "stdout",
     "output_type": "stream",
     "text": [
      "(5.248430558516643, 0.5822538512665225, 0.015141032754393388, 0.01511053453507279)\n"
     ]
    }
   ],
   "source": [
    "println(eval_param_ests(A_true, pi_true, A_em, pi_em)) ; "
   ]
  },
  {
   "cell_type": "code",
   "execution_count": 60,
   "id": "6e346301",
   "metadata": {},
   "outputs": [
    {
     "data": {
      "text/plain": [
       "5.248430558516643"
      ]
     },
     "execution_count": 60,
     "metadata": {},
     "output_type": "execute_result"
    }
   ],
   "source": [
    "kldivergence(pi_true, pi_em)"
   ]
  },
  {
   "cell_type": "code",
   "execution_count": 58,
   "id": "4dbafb55",
   "metadata": {},
   "outputs": [
    {
     "data": {
      "text/plain": [
       "5×5 Matrix{Float64}:\n",
       " 0.297786   0.135445   0.360448  0.132384  0.0739377\n",
       " 0.0569891  0.0932441  0.40251   0.118168  0.329089\n",
       " 0.139272   0.279702   0.197464  0.184547  0.199014\n",
       " 0.216932   0.21829    0.19214   0.244652  0.127986\n",
       " 0.184545   0.0563216  0.264807  0.234137  0.260189"
      ]
     },
     "execution_count": 58,
     "metadata": {},
     "output_type": "execute_result"
    }
   ],
   "source": [
    "A_true"
   ]
  },
  {
   "cell_type": "code",
   "execution_count": 59,
   "id": "e92c3138",
   "metadata": {},
   "outputs": [
    {
     "data": {
      "text/plain": [
       "5×5 Matrix{Float64}:\n",
       " 0.304047   0.0985392  0.352008  0.157189   0.0882165\n",
       " 0.0411539  0.114897   0.42822   0.0930912  0.322638\n",
       " 0.114125   0.302731   0.143974  0.273843   0.165326\n",
       " 0.269708   0.208153   0.217632  0.185234   0.119273\n",
       " 0.200815   0.0406265  0.249331  0.206193   0.303034"
      ]
     },
     "execution_count": 59,
     "metadata": {},
     "output_type": "execute_result"
    }
   ],
   "source": [
    "A_em"
   ]
  },
  {
   "cell_type": "code",
   "execution_count": 52,
   "id": "9d8d9f44",
   "metadata": {},
   "outputs": [
    {
     "data": {
      "text/plain": [
       "5-element Vector{Float64}:\n",
       " 2.1934043809720405e-7\n",
       " 0.686402512031133\n",
       " 0.20083651520834045\n",
       " 0.012233084939112968\n",
       " 0.1005276684809755"
      ]
     },
     "execution_count": 52,
     "metadata": {},
     "output_type": "execute_result"
    }
   ],
   "source": []
  },
  {
   "cell_type": "code",
   "execution_count": null,
   "id": "44743df4",
   "metadata": {},
   "outputs": [],
   "source": []
  },
  {
   "cell_type": "code",
   "execution_count": null,
   "id": "a6d5af89",
   "metadata": {},
   "outputs": [],
   "source": []
  },
  {
   "cell_type": "code",
   "execution_count": 33,
   "id": "e862c627",
   "metadata": {},
   "outputs": [
    {
     "data": {
      "text/plain": [
       "1.0"
      ]
     },
     "execution_count": 33,
     "metadata": {},
     "output_type": "execute_result"
    }
   ],
   "source": [
    "sum(h[5,:])"
   ]
  },
  {
   "cell_type": "code",
   "execution_count": 41,
   "id": "8309a24d",
   "metadata": {},
   "outputs": [],
   "source": [
    "A_rob2 = Matrix(DataFrame(CSV.read(\"Saved_Params/r-0.01_noise-0.1_A.csv\", DataFrame))) ; \n",
    "pi_rob2 = Matrix(DataFrame(CSV.read(\"Saved_Params/r-0.01_noise-0.1_pi.csv\", DataFrame))) ; \n",
    "\n"
   ]
  },
  {
   "cell_type": "code",
   "execution_count": null,
   "id": "c4a3618a",
   "metadata": {},
   "outputs": [],
   "source": []
  },
  {
   "cell_type": "code",
   "execution_count": null,
   "id": "c7ea3058",
   "metadata": {},
   "outputs": [],
   "source": []
  },
  {
   "cell_type": "code",
   "execution_count": null,
   "id": "345bebb1",
   "metadata": {},
   "outputs": [],
   "source": []
  },
  {
   "cell_type": "code",
   "execution_count": null,
   "id": "9dbacbb9",
   "metadata": {},
   "outputs": [],
   "source": []
  },
  {
   "cell_type": "markdown",
   "id": "0f9f07bb",
   "metadata": {},
   "source": [
    "### Things to start putting in report \n",
    "\n",
    "1. Introduction - Set up EM algorithm idea, write up first principles math what kind of estimation it tries to do\n",
    "    2. General Idea of project: Show which part of EM algorithm overall we are trying to modify, show part where we add robustness\n",
    "    \n",
    "2. Context: EM algorithm in the context of Hidden Markov models. Baum-Welch algorithm. What kidn of things it is used to model etc.\n",
    "\n",
    "3. Write-up EM algorithm for HMM all the different terms to be computed, forward-backward algorithm etc -- Do not work out -- Use existing literature - Show math for multiple sequences\n",
    "\n",
    "4. Add robustness to single dimensional Gaussian case - Simplify the equation and show what kind of optimization problem it boils down to\n",
    "\n",
    "----------------------------------------------\n",
    "\n",
    "5. Experiments\n",
    "    1. Data description - \n",
    "    2. Different algorithms we are testing, what we are comparing etc etc etc \n",
    "    3. Performance for different noise levels, different levels of robustness, optimistic algorithm\n",
    "    4. Performance on test data"
   ]
  },
  {
   "cell_type": "code",
   "execution_count": null,
   "id": "b645af13",
   "metadata": {},
   "outputs": [],
   "source": []
  }
 ],
 "metadata": {
  "kernelspec": {
   "display_name": "Julia 1.6.2",
   "language": "julia",
   "name": "julia-1.6"
  },
  "language_info": {
   "file_extension": ".jl",
   "mimetype": "application/julia",
   "name": "julia",
   "version": "1.6.2"
  }
 },
 "nbformat": 4,
 "nbformat_minor": 5
}

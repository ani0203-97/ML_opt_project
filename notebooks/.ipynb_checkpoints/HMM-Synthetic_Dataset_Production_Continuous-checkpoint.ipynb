{
 "cells": [
  {
   "cell_type": "markdown",
   "id": "f22b7306-f387-423a-8c36-c2a587f7a2cc",
   "metadata": {},
   "source": [
    "<img src=\"HMM1-Copy1.png\" caption=\"HMM of crazy soda machine\">"
   ]
  },
  {
   "cell_type": "markdown",
   "id": "4827e2a3-7520-47f6-953f-b5b1a8313ec9",
   "metadata": {},
   "source": []
  },
  {
   "cell_type": "markdown",
   "id": "afbd86c3-6db4-4675-b73c-b9ef54d19ac3",
   "metadata": {},
   "source": [
    "Emmission Matrix"
   ]
  },
  {
   "cell_type": "markdown",
   "id": "a114a27b-7d5a-4310-acf6-a5e7728e5ac7",
   "metadata": {},
   "source": [
    "|                    | cola | iced tea | lemonade\n",
    "| -:                 | :-:  | :-:      | :-:\n",
    "| **Cola Pref.**     | 0.6  | 0.1      | 0.3\n",
    "| **Iced Tea Pref.** | 0.1  | 0.7      | 0.2"
   ]
  },
  {
   "cell_type": "markdown",
   "id": "db2f0c48-ba26-47bd-9a51-08e60866b6a2",
   "metadata": {},
   "source": [
    "State Matrix:"
   ]
  },
  {
   "cell_type": "markdown",
   "id": "1f82653c-b587-4ecb-998e-30dad52093fb",
   "metadata": {},
   "source": [
    "|                    | Cola Pref. | Iced Tea Pref.\n",
    "| -:                 | :-:        | :-:\n",
    "| **Cola Pref.**     | 0.7        | 0.3\n",
    "| **Iced Tea Pref.** | 0.5        | 0.5"
   ]
  },
  {
   "cell_type": "markdown",
   "id": "2b956625-9857-41ca-a6cf-6fbc55491aa6",
   "metadata": {},
   "source": [
    "Known Initial State:"
   ]
  },
  {
   "cell_type": "markdown",
   "id": "25ef3629-7731-41f8-8932-069a66613b9e",
   "metadata": {},
   "source": [
    "| State            | Prob.\n",
    "| -:               | :-:\n",
    "| *Cola Pref.*     | 1.0\n",
    "| *Iced Tea Pref.* | 0.0"
   ]
  },
  {
   "cell_type": "code",
   "execution_count": 53,
   "id": "6c32b86b-65e6-469a-84fa-0021723d2885",
   "metadata": {
    "tags": []
   },
   "outputs": [],
   "source": [
    "import numpy as np\n",
    "import pandas as pd\n",
    "import seaborn as sns\n",
    "import random\n",
    "import matplotlib.pyplot as plt"
   ]
  },
  {
   "cell_type": "code",
   "execution_count": 3,
   "id": "33867fe6-7d49-403d-b6ee-9c3975a3bb3a",
   "metadata": {},
   "outputs": [],
   "source": [
    "stateMatrix = np.matrix(\"0.7 0.3; 0.5 0.5\")\n",
    "emissionMatrix = np.matrix(\"0.6 0.1 0.3; 0.1 0.7 0.2\")\n",
    "initialMatrix = np.matrix(\"1 0\")"
   ]
  },
  {
   "cell_type": "code",
   "execution_count": 29,
   "id": "cbfeee9a-f053-4711-99f7-ab55690ed42e",
   "metadata": {},
   "outputs": [],
   "source": [
    "random.seed(1)\n",
    "current_state = initialMatrix\n",
    "\n",
    "predicted = []\n",
    "\n",
    "for t in range(0, 10000):\n",
    "    past_state = current_state\n",
    "    random_num = random.random()\n",
    "    \n",
    "    if past_state[0,0] == 1:\n",
    "        if random_num >= 0.3:\n",
    "            current_state = past_state\n",
    "        else:\n",
    "            current_state = np.matrix(\"0 1\")\n",
    "            \n",
    "    elif past_state[0,1] == 1:\n",
    "        if random_num >= 0.5:\n",
    "            current_state = past_state\n",
    "        else:\n",
    "            current_state = np.matrix(\"1 0\")\n",
    "    \n",
    "    random_num = random.random()\n",
    "    \n",
    "    if current_state[0,0] == 1:\n",
    "        if random_num < 0.6:\n",
    "            \n",
    "            predicted.append(np.random.normal(3, 2, size=(1))[0])\n",
    "        elif random_num >= 0.6 and random_num < 0.7:\n",
    "            predicted.append(np.random.normal(-5, 1, size=(1))[0])\n",
    "        elif random_num >= 0.7:\n",
    "            predicted.append(np.random.normal(9, 3, size=(1))[0])\n",
    "            \n",
    "    elif current_state[0,1] == 1:\n",
    "        if random_num < 0.1:\n",
    "            predicted.append(np.random.normal(3, 2, size=(1))[0])\n",
    "        elif random_num >= 0.1 and random_num < 0.8:\n",
    "            predicted.append(np.random.normal(-5, 1, size=(1))[0])\n",
    "        elif random_num >= 0.8:\n",
    "            predicted.append(np.random.normal(9, 3, size=(1))[0])\n",
    "    "
   ]
  },
  {
   "cell_type": "markdown",
   "id": "bef9b508-f33b-4792-b9e0-e3b9039bfd91",
   "metadata": {},
   "source": [
    "Emission 1 is dist: normal(3, 2.5)\n",
    "\n",
    "Emission 1 is dist: normal(1,1)\n",
    "Emission 1 is dist: normal(6, 4)"
   ]
  },
  {
   "cell_type": "code",
   "execution_count": 54,
   "id": "a6b90815-7876-453e-b749-c14fa5aff64b",
   "metadata": {},
   "outputs": [
    {
     "data": {
      "text/plain": [
       "(array([  5.,   7.,  33.,  64., 152., 227., 311., 432., 428., 415., 359.,\n",
       "        240., 181.,  84.,  42.,  11.,   6.,   2.,   0.,   1.]),\n",
       " array([-0.9081961 ,  0.22660328,  1.36140266,  2.49620204,  3.63100142,\n",
       "         4.7658008 ,  5.90060018,  7.03539956,  8.17019895,  9.30499833,\n",
       "        10.43979771, 11.57459709, 12.70939647, 13.84419585, 14.97899523,\n",
       "        16.11379461, 17.24859399, 18.38339337, 19.51819275, 20.65299214,\n",
       "        21.78779152]),\n",
       " <BarContainer object of 20 artists>)"
      ]
     },
     "execution_count": 54,
     "metadata": {},
     "output_type": "execute_result"
    },
    {
     "data": {
      "image/png": "[encoded data removed]",
      "text/plain": [
       "<Figure size 432x288 with 1 Axes>"
      ]
     },
     "metadata": {
      "needs_background": "light"
     },
     "output_type": "display_data"
    }
   ],
   "source": [
    "plt.hist(predicted, bins = 20, color = 'pink')\n",
    "\n",
    "\n",
    "\n",
    "plt.hist(np.random.normal(3, 2, size=(8000)),bins = 20, color = \"r\", alpha = 0.5)\n",
    "plt.hist(np.random.normal(-5, 1, size=(10000)),bins = 20, color = \"g\", alpha = 0.5)\n",
    "plt.hist(np.random.normal(9, 3, size=(3000)),bins = 20, color = \"b\", alpha = 0.5)"
   ]
  },
  {
   "cell_type": "code",
   "execution_count": 86,
   "id": "0cc63292-8210-49ae-a589-3d49fee3c918",
   "metadata": {},
   "outputs": [
    {
     "data": {
      "text/plain": [
       "<AxesSubplot:ylabel='Density'>"
      ]
     },
     "execution_count": 86,
     "metadata": {},
     "output_type": "execute_result"
    },
    {
     "data": {
      "image/png": "[encoded data removed]",
      "text/plain": [
       "<Figure size 432x288 with 1 Axes>"
      ]
     },
     "metadata": {
      "needs_background": "light"
     },
     "output_type": "display_data"
    }
   ],
   "source": [
    "sns.kdeplot(predicted,color = 'grey',alpha=0.1)\n",
    "\n",
    "\n",
    "sns.kdeplot(np.random.normal(3, 2, size=(10000)), color = \"r\", alpha = 0.6)\n",
    "sns.kdeplot(np.random.normal(-5, 1, size=(10000)),color = 'g', alpha = 0.6)\n",
    "sns.kdeplot(np.random.normal(9, 3, size=(10000)),color = 'b', alpha = 0.6)"
   ]
  },
  {
   "cell_type": "markdown",
   "id": "4f52e660-1cdf-4193-bfb9-2d58bbf29972",
   "metadata": {},
   "source": [
    "## Same but with added noise (normal(0,0.5))"
   ]
  },
  {
   "cell_type": "code",
   "execution_count": 87,
   "id": "def1a3ec-1ccd-43da-9299-2264e8f2dbcc",
   "metadata": {},
   "outputs": [],
   "source": [
    "random.seed(1)\n",
    "current_state = initialMatrix\n",
    "\n",
    "predicted = []\n",
    "\n",
    "for t in range(0, 10000):\n",
    "    past_state = current_state\n",
    "    random_num = random.random()\n",
    "    \n",
    "    if past_state[0,0] == 1:\n",
    "        if random_num >= 0.3:\n",
    "            current_state = past_state\n",
    "        else:\n",
    "            current_state = np.matrix(\"0 1\")\n",
    "            \n",
    "    elif past_state[0,1] == 1:\n",
    "        if random_num >= 0.5:\n",
    "            current_state = past_state\n",
    "        else:\n",
    "            current_state = np.matrix(\"1 0\")\n",
    "    \n",
    "    random_num = random.random()\n",
    "    \n",
    "    if current_state[0,0] == 1:\n",
    "        if random_num < 0.6:\n",
    "            \n",
    "            predicted.append(np.random.normal(3, 2, size=(1))[0] + np.random.normal(0, 0.5, size=(1))[0])\n",
    "        elif random_num >= 0.6 and random_num < 0.7:\n",
    "            predicted.append(np.random.normal(-5, 1, size=(1))[0]+ np.random.normal(0, 0.5, size=(1))[0])\n",
    "        elif random_num >= 0.7:\n",
    "            predicted.append(np.random.normal(9, 3, size=(1))[0]+ np.random.normal(0, 0.5, size=(1))[0])\n",
    "            \n",
    "    elif current_state[0,1] == 1:\n",
    "        if random_num < 0.1:\n",
    "            predicted.append(np.random.normal(3, 2, size=(1))[0]+ np.random.normal(0, 0.5, size=(1))[0])\n",
    "        elif random_num >= 0.1 and random_num < 0.8:\n",
    "            predicted.append(np.random.normal(-5, 1, size=(1))[0]+ np.random.normal(0, 0.5, size=(1))[0])\n",
    "        elif random_num >= 0.8:\n",
    "            predicted.append(np.random.normal(9, 3, size=(1))[0]+ np.random.normal(0, 0.5, size=(1))[0])\n",
    "    "
   ]
  },
  {
   "cell_type": "code",
   "execution_count": 96,
   "id": "e86652b8-15e7-4952-986b-1d2c31fd991f",
   "metadata": {},
   "outputs": [
    {
     "data": {
      "text/plain": [
       "(array([  10.,  280., 1316., 1333.,  297.,  148.,  488., 1026., 1229.,\n",
       "        1028.,  717.,  560.,  519.,  470.,  279.,  183.,   82.,   25.,\n",
       "           7.,    3.]),\n",
       " array([-9.43538175, -7.95853864, -6.48169552, -5.0048524 , -3.52800929,\n",
       "        -2.05116617, -0.57432306,  0.90252006,  2.37936318,  3.85620629,\n",
       "         5.33304941,  6.80989253,  8.28673564,  9.76357876, 11.24042188,\n",
       "        12.71726499, 14.19410811, 15.67095122, 17.14779434, 18.62463746,\n",
       "        20.10148057]),\n",
       " <BarContainer object of 20 artists>)"
      ]
     },
     "execution_count": 96,
     "metadata": {},
     "output_type": "execute_result"
    },
    {
     "data": {
      "image/png": "[encoded data removed]",
      "text/plain": [
       "<Figure size 432x288 with 1 Axes>"
      ]
     },
     "metadata": {
      "needs_background": "light"
     },
     "output_type": "display_data"
    }
   ],
   "source": [
    "\n",
    "plt.hist(np.random.normal(3, 2, size=(8000)),bins = 20, color = \"r\", alpha = 0.5)\n",
    "plt.hist(np.random.normal(-5, 1, size=(10000)),bins = 20, color = \"g\", alpha = 0.5)\n",
    "plt.hist(np.random.normal(9, 3, size=(3000)),bins = 20, color = \"b\", alpha = 0.5)\n",
    "plt.hist(predicted, bins = 20, color = 'orange',alpha= 0.6)"
   ]
  },
  {
   "cell_type": "markdown",
   "id": "73a4a062-1970-4442-960d-aa015be89979",
   "metadata": {},
   "source": [
    "\n",
    "##  \n",
    "## Questions:\n",
    "\n",
    "This is for discrete outputs, how would I change this for continuous?\n",
    "\n",
    "Do we want it in discrete/ continuous?\n",
    "\n",
    "This is completely hardcoded, how to I make it generalizable for an inputted HMM?\n",
    "\n"
   ]
  },
  {
   "cell_type": "code",
   "execution_count": null,
   "id": "7a748cf0-4757-4b3d-b49f-a1280b39dc7f",
   "metadata": {},
   "outputs": [],
   "source": []
  }
 ],
 "metadata": {
  "kernelspec": {
   "display_name": "Python 3",
   "language": "python",
   "name": "python3"
  },
  "language_info": {
   "codemirror_mode": {
    "name": "ipython",
    "version": 3
   },
   "file_extension": ".py",
   "mimetype": "text/x-python",
   "name": "python",
   "nbconvert_exporter": "python",
   "pygments_lexer": "ipython3",
   "version": "3.8.2"
  }
 },
 "nbformat": 4,
 "nbformat_minor": 5
}

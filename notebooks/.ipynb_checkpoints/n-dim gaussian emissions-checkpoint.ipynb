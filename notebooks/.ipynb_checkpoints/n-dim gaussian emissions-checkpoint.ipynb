{
 "cells": [
  {
   "cell_type": "code",
   "execution_count": 1,
   "id": "cd81eeb2",
   "metadata": {},
   "outputs": [],
   "source": [
    "using Random\n",
    "using Statistics\n",
    "using DataFrames\n",
    "using CSV\n",
    "using Plots\n",
    "using JuMP, Gurobi\n",
    "using GLMNet\n",
    "using MLBase\n",
    "using Pkg\n",
    "using Distributions\n",
    "using HMMBase\n",
    "using BenchmarkTools\n",
    "using Distances\n",
    "using EvalMetrics\n",
    "using LinearAlgebra"
   ]
  },
  {
   "cell_type": "code",
   "execution_count": 2,
   "id": "13c3a8ff",
   "metadata": {},
   "outputs": [
    {
     "name": "stdout",
     "output_type": "stream",
     "text": [
      "Academic license - for non-commercial use only - expires 2022-09-11\n"
     ]
    }
   ],
   "source": [
    "gurobi_env = Gurobi.Env() ; "
   ]
  },
  {
   "cell_type": "code",
   "execution_count": 3,
   "id": "ec2eaf71",
   "metadata": {},
   "outputs": [
    {
     "data": {
      "text/plain": [
       "MersenneTwister(15095)"
      ]
     },
     "execution_count": 3,
     "metadata": {},
     "output_type": "execute_result"
    }
   ],
   "source": [
    "Random.seed!(15095)"
   ]
  },
  {
   "cell_type": "code",
   "execution_count": 4,
   "id": "e79394d5",
   "metadata": {},
   "outputs": [],
   "source": [
    "## Define size of problem \n",
    "m = 10 ; #Number of states\n",
    "n = 3 ; #Numer of dimensions"
   ]
  },
  {
   "cell_type": "markdown",
   "id": "2c4d8291",
   "metadata": {},
   "source": [
    "### Define True HMM parameters and emission distributions"
   ]
  },
  {
   "cell_type": "code",
   "execution_count": 5,
   "id": "d48f77b2",
   "metadata": {},
   "outputs": [],
   "source": [
    "# Define True probabilities matrix\n",
    "pi_true = rand(Float64, m) ; \n",
    "pi_true = (pi_true)./(sum(pi_true)) ;  # So that initial probabilities sum to 1\n",
    "\n",
    "#Define State transition probabilities\n",
    "\n",
    "A_true = rand(Float64, (m,m)) ; \n",
    "for i =1:m\n",
    "   A_true[i,:]  = A_true[i,:]/(sum(A_true[i,:])) ;\n",
    "end"
   ]
  },
  {
   "cell_type": "code",
   "execution_count": 6,
   "id": "d7ef8c6f",
   "metadata": {},
   "outputs": [
    {
     "name": "stdout",
     "output_type": "stream",
     "text": [
      "True probabilities: \n"
     ]
    },
    {
     "data": {
      "text/plain": [
       "10-element Vector{Float64}:\n",
       " 0.07486090994046252\n",
       " 0.06630907995099644\n",
       " 0.04635497490858906\n",
       " 0.12989977210234596\n",
       " 0.07946431674890926\n",
       " 0.007701590683127249\n",
       " 0.03216603198044118\n",
       " 0.22843504422317773\n",
       " 0.2659854323941368\n",
       " 0.06882284706781369"
      ]
     },
     "execution_count": 6,
     "metadata": {},
     "output_type": "execute_result"
    }
   ],
   "source": [
    "println(\"True probabilities: \")\n",
    "pi_true"
   ]
  },
  {
   "cell_type": "code",
   "execution_count": 7,
   "id": "78dae22b",
   "metadata": {},
   "outputs": [
    {
     "name": "stdout",
     "output_type": "stream",
     "text": [
      "State transition probabilities: \n"
     ]
    },
    {
     "data": {
      "text/plain": [
       "10×10 Matrix{Float64}:\n",
       " 0.0752931   0.1341      0.0197698  …  0.0199917  0.116939   0.131136\n",
       " 0.0850281   0.00812193  0.110777      0.140611   0.160813   0.102774\n",
       " 0.118604    0.0305247   0.0441062     0.0406136  0.0577275  0.11217\n",
       " 0.00860176  0.133947    0.124884      0.13774    0.108742   0.0446017\n",
       " 0.114674    0.100397    0.0918971     0.131533   0.127359   0.0111749\n",
       " 0.03043     0.148723    0.100613   …  0.0977629  0.14696    0.0136002\n",
       " 0.0678053   0.0963498   0.161962      0.0260425  0.137581   0.0375044\n",
       " 0.184826    0.00294772  0.125397      0.194892   0.0573867  0.0430482\n",
       " 0.135083    0.00606615  0.176531      0.0378103  0.0582549  0.194518\n",
       " 0.105152    0.0999984   0.0828344     0.0766694  0.173632   0.148507"
      ]
     },
     "execution_count": 7,
     "metadata": {},
     "output_type": "execute_result"
    }
   ],
   "source": [
    "println(\"State transition probabilities: \")\n",
    "A_true"
   ]
  },
  {
   "cell_type": "code",
   "execution_count": 12,
   "id": "3bdf5243",
   "metadata": {},
   "outputs": [
    {
     "ename": "LoadError",
     "evalue": "MethodError: no method matching (Matrix{T} where T)(::Vector{Vector{Int64}})\n\u001b[0mClosest candidates are:\n\u001b[0m  (Array{T, N} where T)(::AbstractArray{S, N}) where {S, N} at boot.jl:470\n\u001b[0m  (Matrix{T} where T)(\u001b[91m::Union{QR, LinearAlgebra.QRCompactWY}\u001b[39m) at /Users/julia/buildbot/worker/package_macos64/build/usr/share/julia/stdlib/v1.6/LinearAlgebra/src/qr.jl:434\n\u001b[0m  (Matrix{T} where T)(\u001b[91m::CholeskyPivoted\u001b[39m) at /Users/julia/buildbot/worker/package_macos64/build/usr/share/julia/stdlib/v1.6/LinearAlgebra/src/cholesky.jl:436\n\u001b[0m  ...",
     "output_type": "error",
     "traceback": [
      "MethodError: no method matching (Matrix{T} where T)(::Vector{Vector{Int64}})\n\u001b[0mClosest candidates are:\n\u001b[0m  (Array{T, N} where T)(::AbstractArray{S, N}) where {S, N} at boot.jl:470\n\u001b[0m  (Matrix{T} where T)(\u001b[91m::Union{QR, LinearAlgebra.QRCompactWY}\u001b[39m) at /Users/julia/buildbot/worker/package_macos64/build/usr/share/julia/stdlib/v1.6/LinearAlgebra/src/qr.jl:434\n\u001b[0m  (Matrix{T} where T)(\u001b[91m::CholeskyPivoted\u001b[39m) at /Users/julia/buildbot/worker/package_macos64/build/usr/share/julia/stdlib/v1.6/LinearAlgebra/src/cholesky.jl:436\n\u001b[0m  ...",
      "",
      "Stacktrace:",
      " [1] top-level scope",
      "   @ In[12]:3",
      " [2] eval",
      "   @ ./boot.jl:360 [inlined]",
      " [3] include_string(mapexpr::typeof(REPL.softscope), mod::Module, code::String, filename::String)",
      "   @ Base ./loading.jl:1116"
     ]
    }
   ],
   "source": [
    "mu = [0 , 0] ; \n",
    "\n",
    "sigma = Matrix([[1,0], [1,0]]) "
   ]
  },
  {
   "cell_type": "code",
   "execution_count": 21,
   "id": "0cb32d42",
   "metadata": {},
   "outputs": [
    {
     "data": {
      "text/plain": [
       "IsoNormal(\n",
       "dim: 2\n",
       "μ: [0.0, 0.0]\n",
       "Σ: [1.0 0.0; 0.0 1.0]\n",
       ")\n"
      ]
     },
     "execution_count": 21,
     "metadata": {},
     "output_type": "execute_result"
    }
   ],
   "source": [
    "MvNormal(mu, I)"
   ]
  },
  {
   "cell_type": "code",
   "execution_count": 22,
   "id": "6364fa61",
   "metadata": {},
   "outputs": [],
   "source": [
    "k = 2\n",
    "\n",
    "mu0 = zeros(n) ; \n",
    "mu1 = ones(n)\n",
    "\n",
    "emission_dists = [MvNormal(mu0,I) , MvNormal(1*mu0,I) , MvNormal(2*mu0,I), MvNormal(3*mu0,I), MvNormal(4*mu0,I)\n",
    "                , MvNormal(5*mu0,I), MvNormal(6*mu0,I), MvNormal(7*mu0,I), MvNormal(8*mu0,I), MvNormal(9*mu0,I) ] ; "
   ]
  },
  {
   "cell_type": "code",
   "execution_count": 24,
   "id": "982076c7",
   "metadata": {},
   "outputs": [],
   "source": [
    "hmm = HMM(pi_true , A_true, emission_dists) ; "
   ]
  },
  {
   "cell_type": "markdown",
   "id": "d8d89b36",
   "metadata": {},
   "source": [
    "### Generate multiple sequences"
   ]
  },
  {
   "cell_type": "code",
   "execution_count": 37,
   "id": "8213ffb4",
   "metadata": {},
   "outputs": [],
   "source": [
    "## Generate one sequence of 1000 timesteps\n",
    "seq_length = 1000 ; \n",
    "num_sequences = 20 ; \n",
    "\n",
    "\n",
    "S = zeros((num_sequences, seq_length)) ; \n",
    "X = zeros((num_sequences, seq_length, n)) ; \n",
    "\n",
    "for i =1:num_sequences\n",
    "    S[i,:] , X[i,:,:] = rand(hmm, seq_length, seq = true) ;  ##n X indexed as X[seq_no, t, dim]\n",
    "end"
   ]
  },
  {
   "cell_type": "markdown",
   "id": "49344465",
   "metadata": {},
   "source": [
    "### Define EM algorithm initializations and hyperparameters\n"
   ]
  },
  {
   "cell_type": "code",
   "execution_count": 41,
   "id": "d5a4c9c9",
   "metadata": {},
   "outputs": [],
   "source": [
    "## Initialize guesses\n",
    "\n",
    "pi_init = rand(Float64, m) ;  \n",
    "pi_init = (pi_init)./(sum(pi_init)) ;  # So that initial probabilities sum to 1\n",
    "\n",
    "\n",
    "#Define State transition probabilities\n",
    "\n",
    "A_init = rand(Float64, (m,m)) ; \n",
    "for i =1:m\n",
    "   A_init[i,:]  = A_init[i,:]/(sum(A_init[i,:])) ;\n",
    "end\n",
    "\n",
    "\n",
    "#Initial guess for robust delta(X)\n",
    "delta_X_init = zeros(size(X)) ; "
   ]
  },
  {
   "cell_type": "code",
   "execution_count": 42,
   "id": "34815391",
   "metadata": {},
   "outputs": [
    {
     "name": "stdout",
     "output_type": "stream",
     "text": [
      "Initial probabilities: \n"
     ]
    },
    {
     "data": {
      "text/plain": [
       "10-element Vector{Float64}:\n",
       " 0.06713076288971047\n",
       " 0.10851807778313978\n",
       " 0.1968365783236022\n",
       " 0.0615606287869154\n",
       " 0.18798436062584714\n",
       " 0.1529691011067217\n",
       " 0.05283013411804542\n",
       " 0.048451908283447455\n",
       " 0.05947160380218959\n",
       " 0.06424684428038077"
      ]
     },
     "execution_count": 42,
     "metadata": {},
     "output_type": "execute_result"
    }
   ],
   "source": [
    "println(\"Initial probabilities: \")\n",
    "pi_init"
   ]
  },
  {
   "cell_type": "code",
   "execution_count": 43,
   "id": "c41c0c16",
   "metadata": {},
   "outputs": [
    {
     "name": "stdout",
     "output_type": "stream",
     "text": [
      "State transition probabilities: \n"
     ]
    },
    {
     "data": {
      "text/plain": [
       "10×10 Matrix{Float64}:\n",
       " 0.00573198  0.186403   0.00263689  …  0.0153757  0.128563   0.171763\n",
       " 0.129469    0.158604   0.148135       0.0245766  0.0242169  0.0783025\n",
       " 0.135211    0.117138   0.088965       0.0366593  0.129683   0.130604\n",
       " 0.0929352   0.0374825  0.178185       0.0802427  0.0753409  0.0411325\n",
       " 0.196129    0.0200382  0.193525       0.0112273  0.0315208  0.0781749\n",
       " 0.0770809   0.131317   0.13766     …  0.118862   0.10325    0.107342\n",
       " 0.0463679   0.059366   0.161278       0.12611    0.171274   0.162303\n",
       " 0.101065    0.177218   0.0753524      0.0191318  0.0255331  0.159262\n",
       " 0.0169185   0.0277842  0.256388       0.0450338  0.25131    0.120905\n",
       " 0.0947898   0.0194591  0.0283839      0.0404334  0.0810131  0.0781245"
      ]
     },
     "execution_count": 43,
     "metadata": {},
     "output_type": "execute_result"
    }
   ],
   "source": [
    "println(\"State transition probabilities: \")\n",
    "A_init"
   ]
  },
  {
   "cell_type": "code",
   "execution_count": 44,
   "id": "fb50c887",
   "metadata": {},
   "outputs": [],
   "source": [
    "## Define hyperparameters for algo\n",
    "\n",
    "r = 0.05 ; # Radius of uncertainty set to be used\n",
    "num_iters = 100 ; "
   ]
  },
  {
   "cell_type": "code",
   "execution_count": 47,
   "id": "4962d4ec",
   "metadata": {},
   "outputs": [
    {
     "data": {
      "text/plain": [
       "1000×10 Matrix{Float64}:\n",
       " 0.0748609  0.0663091  0.046355   …  0.228435   0.265985   0.0688228\n",
       " 0.114806   0.0507837  0.12168       0.102492   0.0924506  0.101618\n",
       " 0.0909965  0.0814772  0.0995179     0.0900172  0.110811   0.0826933\n",
       " 0.0911079  0.0782948  0.105113      0.0916442  0.112642   0.0809339\n",
       " 0.0913769  0.0778004  0.10516       0.0909226  0.111817   0.0814304\n",
       " 0.0912193  0.0780328  0.105063   …  0.0908558  0.111927   0.0813372\n",
       " 0.0912203  0.0780074  0.105091      0.0908726  0.111937   0.0813341\n",
       " 0.0912238  0.0780045  0.105091      0.0908692  0.111932   0.0813366\n",
       " 0.0912229  0.0780059  0.10509       0.0908688  0.111933   0.0813362\n",
       " 0.0912229  0.0780057  0.10509       0.0908689  0.111933   0.0813362\n",
       " 0.0912229  0.0780057  0.10509    …  0.0908689  0.111933   0.0813362\n",
       " 0.0912229  0.0780057  0.10509       0.0908689  0.111933   0.0813362\n",
       " 0.0912229  0.0780057  0.10509       0.0908689  0.111933   0.0813362\n",
       " ⋮                                ⋱                        \n",
       " 0.0912229  0.0780057  0.10509       0.0908689  0.111933   0.0813362\n",
       " 0.0912229  0.0780057  0.10509       0.0908689  0.111933   0.0813362\n",
       " 0.0912229  0.0780057  0.10509    …  0.0908689  0.111933   0.0813362\n",
       " 0.0912229  0.0780057  0.10509       0.0908689  0.111933   0.0813362\n",
       " 0.0912229  0.0780057  0.10509       0.0908689  0.111933   0.0813362\n",
       " 0.0912229  0.0780057  0.10509       0.0908689  0.111933   0.0813362\n",
       " 0.0912229  0.0780057  0.10509       0.0908689  0.111933   0.0813362\n",
       " 0.0912229  0.0780057  0.10509    …  0.0908689  0.111933   0.0813362\n",
       " 0.0912229  0.0780057  0.10509       0.0908689  0.111933   0.0813362\n",
       " 0.0912229  0.0780057  0.10509       0.0908689  0.111933   0.0813362\n",
       " 0.0912229  0.0780057  0.10509       0.0908689  0.111933   0.0813362\n",
       " 0.0912229  0.0780057  0.10509       0.0908689  0.111933   0.0813362"
      ]
     },
     "execution_count": 47,
     "metadata": {},
     "output_type": "execute_result"
    }
   ],
   "source": [
    "forward_backward(hmm, X[1,:,:])"
   ]
  },
  {
   "cell_type": "markdown",
   "id": "4060a3d1",
   "metadata": {},
   "source": [
    "## Robust Baum Welch"
   ]
  },
  {
   "cell_type": "code",
   "execution_count": 257,
   "id": "122e4983",
   "metadata": {},
   "outputs": [
    {
     "data": {
      "text/plain": [
       "robust_baum_welch_ndim (generic function with 1 method)"
      ]
     },
     "execution_count": 257,
     "metadata": {},
     "output_type": "execute_result"
    }
   ],
   "source": [
    "## Start EM algorithm for multiple sequence training\n",
    "\n",
    "function robust_baum_welch_ndim(X, pi_init, A_init, delta_X_init, emission_dists, num_iters, r)\n",
    "\n",
    "    pi_current = pi_init ; \n",
    "    A_current = A_init ; \n",
    "    delta_X_current = delta_X_init ; \n",
    "    \n",
    "    ll_tracker = [] ; \n",
    "    \n",
    "    \n",
    "    ll_last = -1e+10 ; \n",
    "\n",
    "    for iter=1:num_iters\n",
    "        \n",
    "        println(A_current[1,:]) ; \n",
    "\n",
    "        if (iter%10==0)\n",
    "            print(\"Running iteration number: \") ; \n",
    "            println(iter) ; \n",
    "        end\n",
    "\n",
    "        ## E-step - Compute α and β given current pi, A and delta_X\n",
    "\n",
    "        # For current iteration define HMM with current guesses of pi, A and delta_X \n",
    "\n",
    "        # Emission distribution is assumed to be known\n",
    "        hmm_current = HMM(pi_current , A_current, emission_dists) ; \n",
    "\n",
    "        # Using current estimate of worst possible delta_X to get α and β\n",
    "\n",
    "        alpha_current = zeros((size(X,1) , size(X,2), m)) ;  #alpha indexed as alpha[seq_num,t,i]\n",
    "        beta_current = zeros((size(X,1) , size(X,2), m)) ;  #beta[seq_num,t,i]\n",
    "\n",
    "\n",
    "        # Run forward-backward algorithm on all the sequences\n",
    "        for seq_num=1:size(X,1)    \n",
    "            alpha_current[seq_num,:,:], ll = forward(hmm_current, (X[seq_num,:,:]+delta_X_current[seq_num,:,:])) ;\n",
    "            beta_current[seq_num,:,:], ll = backward(hmm_current, (X[seq_num,:,:]+delta_X_current[seq_num,:,:])) ;\n",
    "        end\n",
    "        \n",
    "        println(\"Forward backward done\")\n",
    "        \n",
    "        \n",
    "\n",
    "\n",
    "        ## Multiply in  -1/2 for ease in later computations\n",
    "\n",
    "        alpha_half_current = zeros(size(alpha_current)) ; \n",
    "        for i=1:m\n",
    "             alpha_half_current[:,:,i] = -(alpha_current[:,:,i])/(2) ; \n",
    "        end\n",
    "\n",
    "\n",
    "        ##Track log-likelihood - of current parameters guess with the actual data \n",
    "\n",
    "        ll_tr = 0 \n",
    "        for seq_num=1:size(X,1)\n",
    "            alp_discard, ll_temp = forward(hmm_current, (X[seq_num,:,:]) ) ;\n",
    "            ll_tr = ll_tr + ll_temp\n",
    "        end\n",
    "\n",
    "        ll_tr = (1/size(X,1))*ll_tr ; \n",
    "    \n",
    "        \n",
    "        append!(ll_tracker, ll_tr) ; \n",
    "        print(\"Current log-likelihood: \") ; \n",
    "        println(ll_tr) ; \n",
    "        #print(ll_last) ; \n",
    "    \n",
    "        \n",
    "#         if ((ll_tr - ll_last) < 1e-3)\n",
    "#              return pi_current, A_current\n",
    "#         end\n",
    "\n",
    "\n",
    "        \n",
    "        ll_last = ll_tr ; \n",
    "        \n",
    "        #println(delta_X_current[1,1,1]) ; \n",
    "    \n",
    "        println(\"Begin model optim\") ;\n",
    "        \n",
    "        ## M-step 1: Solve inner minimization problem to get best value of delta_X\n",
    "        ## Do this by solving minimization problem for each sequence one after another - It's the same thing for \n",
    "        ## Each sequence and they do no interact in any way!\n",
    "        for seq_num=1:size(X,1)\n",
    "\n",
    "            # Build model\n",
    "            model = Model(with_optimizer(Gurobi.Optimizer, gurobi_env, NonConvex = 2)) ; \n",
    "#            model = Model(with_optimizer(Gurobi.Optimizer, gurobi_env)) ; \n",
    "            set_optimizer_attribute(model, \"OutputFlag\", 0) ;\n",
    "\n",
    "            # Insert variables\n",
    "\n",
    "            #delta_x variables\n",
    "            @variable(model,delta_X[t=1:size(X,2), n=1:size(X,3)]) ; # If multivariate change this line\n",
    "            @variable(model,diff[t=1:size(X,2), i=1:m, n=1:size(X,3)]) ;  # If multivariate change this line\n",
    "            @variable(model,diff_sig[t=1:size(X,2), i=1:m])\n",
    "            \n",
    "            \n",
    "            #Insert constraints - For 1-D it is the same to use 1-norm or 2-norm will use linear constraints\n",
    "\n",
    "           @constraint(model,[i=1:size(X,2)], sum(delta_X[i,:].^2) <= r^2 ) ;\n",
    "            \n",
    "            #@constraint(model,[i=1:size(X,2)], [r^2;delta_X[i,:]]  in SecondOrderCone()) ;\n",
    "            \n",
    "            \n",
    "#             @constraint(model, norm(x) <= t)` \n",
    "#             should now be written as `@constraint(model, [t; x] in SecondOrderCone())\n",
    "            \n",
    "            \n",
    "            \n",
    "            \n",
    "            \n",
    "#             @constraint(model,[i=1:size(X,2)], delta_X[i] >= -r ) ;\n",
    "            @constraint(model,[t=1:size(X,2), i=1:m], diff[t,i,:] .== (X[seq_num, t, :] + delta_X[t, :] - emission_dists[i].μ )) ; \n",
    "           # @constraint(model, [t=1:size(X,2), i=1:m], diff_sig[t,i] == transpose(diff[t,i,:])*inv(emission_dists[i].Σ)*diff[t,i,:] ) ;    \n",
    "            \n",
    "            \n",
    "            #*inv( emission_dists[i].Σ)*(X[seq_num, t, :] + delta_X[t, :] - emission_dists[i].μ )) ;\n",
    "\n",
    "\n",
    "            #Objective\n",
    "#             @objective(model,Max, sum(alpha_half_current[seq_num,:,:].*beta_current[seq_num,:,:]\n",
    "#                         .*(diff_sig))) ;\n",
    "\n",
    "            \n",
    "            @objective(model,Max, sum([alpha_half_current[seq_num,t,i]*beta_current[seq_num,t,i]*(transpose(diff[t,i,:])*inv(emission_dists[1].Σ)*diff[t,i,:]) for t=1:size(X,2) for i=1:m])) ;\n",
    "\n",
    "\n",
    "            \n",
    "            # Optimize\n",
    "            optimize!(model)\n",
    "\n",
    "            delta_X_current[seq_num, :, :] = value.(delta_X) ;       \n",
    "        end\n",
    "\n",
    "        println(\"Model optimization done!\")\n",
    "        \n",
    "        #println(delta_X_current[1,1,1]) ; \n",
    "\n",
    "\n",
    "        ## M-step 2: Replace X by X+delta_X_current - Solve for pi_new, A_new\n",
    "\n",
    "        ## Re-compute α and β based on new delta? Not sure if to do or not - Can try both and \n",
    "        #see which gives good results\n",
    "\n",
    "        alpha_current = zeros((size(X,1) , size(X,2), m)) ;  #alpha indexed as alpha[seq_num,t,i]\n",
    "        beta_current = zeros((size(X,1) , size(X,2), m)) ;  #beta[seq_num,t,i]\n",
    "\n",
    "        # Run forward-backward algorithm on all the sequences\n",
    "        for seq_num=1:size(X,1)    \n",
    "            alpha_current[seq_num,:,:], ll = forward(hmm_current, (X[seq_num,:, :]+delta_X_current[seq_num,:, :])) ;\n",
    "            beta_current[seq_num,:,:], ll = backward(hmm_current, (X[seq_num,:, :]+delta_X_current[seq_num,:, :])) ;\n",
    "        end\n",
    "        \n",
    "        println(\"FB run again done\")\n",
    "\n",
    "\n",
    "        ## Define new quantities γ_ij(t) and ξ_ij(t) for each sequence\n",
    "\n",
    "        gamma_current = zeros((size(X,1), size(X,2) , m)) ; ## Indexed as γ[seq_num,t,i]\n",
    "        eta_current = zeros((size(X,1) , size(X,2)-1, m, m)) ;  # Indexed as ξ[seq_num,t,i,j]\n",
    "\n",
    "        # Fill in gamma vals\n",
    "        gamma_current = alpha_current.*beta_current ; \n",
    "\n",
    "        for seq_num=1:size(X,1)\n",
    "            for t=1:size(X,2)        \n",
    "                gamma_current[seq_num, t, :] = gamma_current[seq_num, t, :]./(sum(gamma_current[seq_num, t, :])) ;             \n",
    "            end\n",
    "        end\n",
    "\n",
    "        ## FIll in eta vals\n",
    "\n",
    "        for seq_num=1:size(X,1)\n",
    "            for i=1:m\n",
    "                for j=1:m\n",
    "                    for t=1:size(X,2)-1\n",
    "                        eta_current[seq_num,t,i,j] = alpha_current[seq_num,t,i]*A_current[i,j]*(pdf( emission_dists[j], (X[seq_num,t+1,:]+delta_X_current[seq_num,t+1,:]) ))*beta_current[seq_num, t+1,j]\n",
    "                    end\n",
    "                end\n",
    "            end\n",
    "        end\n",
    "\n",
    "        for seq_num=1:size(X,1)\n",
    "            for t=1:size(X,2)-1\n",
    "                 eta_current[seq_num,t,:,:] = eta_current[seq_num, t,:,:]/sum(eta_current[seq_num,t,:,:])  ;  \n",
    "            end\n",
    "        end\n",
    "        \n",
    "        return eta_current, gamma_current\n",
    "        \n",
    "            \n",
    "        \n",
    "#         println(\"Gammaa\") ; \n",
    "#         println(gamma_current[1,1,1]) ; \n",
    "        \n",
    "    #     println(\"Computed necessary vals\")\n",
    "    #     println(size(eta_current))\n",
    "\n",
    "        ## Update parameter values \n",
    "\n",
    "        pi_next = zeros(size(pi_init)) ; \n",
    "        A_next = zeros(size(A_init)) ; \n",
    "        \n",
    "        println(\"Updated A - BEFORE\")\n",
    "        println(A_next[1,:])\n",
    "\n",
    "\n",
    "\n",
    "        for seq_num=1:size(X,1)\n",
    "            pi_next = pi_next + gamma_current[seq_num, 1, :]\n",
    "        end\n",
    "        pi_next = pi_next./(size(X,1)) ; \n",
    "\n",
    "        for i=1:m\n",
    "            for j=1:m        \n",
    "                A_next[i,j] = sum(eta_current[:,:,i,j])/sum(gamma_current[:,1:size(X,2)-1,i]) ;                      \n",
    "            end\n",
    "        end\n",
    "        \n",
    "        println(\"HII\") ; \n",
    "        println(eta_current[1,1,1,1]) ; \n",
    "        \n",
    "        println(\"Updated A\")\n",
    "        println(A_next[1,:])\n",
    "\n",
    "        pi_current = pi_next ; \n",
    "        A_current = A_next ; \n",
    "\n",
    "    #     println(\"One loop over\")\n",
    "\n",
    "    end\n",
    "    return pi_current, A_current, ll_tracker\n",
    "end\n",
    "\n"
   ]
  },
  {
   "cell_type": "code",
   "execution_count": null,
   "id": "54c71d02",
   "metadata": {},
   "outputs": [],
   "source": []
  },
  {
   "cell_type": "code",
   "execution_count": null,
   "id": "150efa16",
   "metadata": {},
   "outputs": [],
   "source": []
  },
  {
   "cell_type": "code",
   "execution_count": null,
   "id": "b79833be",
   "metadata": {},
   "outputs": [],
   "source": []
  },
  {
   "cell_type": "code",
   "execution_count": null,
   "id": "4d90b291",
   "metadata": {},
   "outputs": [],
   "source": []
  },
  {
   "cell_type": "code",
   "execution_count": null,
   "id": "e494f412",
   "metadata": {},
   "outputs": [],
   "source": []
  },
  {
   "cell_type": "code",
   "execution_count": null,
   "id": "bee1bcaf",
   "metadata": {},
   "outputs": [],
   "source": []
  },
  {
   "cell_type": "code",
   "execution_count": null,
   "id": "fb52afec",
   "metadata": {},
   "outputs": [],
   "source": []
  },
  {
   "cell_type": "code",
   "execution_count": null,
   "id": "2d190afb",
   "metadata": {},
   "outputs": [],
   "source": []
  },
  {
   "cell_type": "code",
   "execution_count": null,
   "id": "4bafc8a9",
   "metadata": {},
   "outputs": [],
   "source": []
  },
  {
   "cell_type": "code",
   "execution_count": null,
   "id": "903f694f",
   "metadata": {},
   "outputs": [],
   "source": []
  },
  {
   "cell_type": "code",
   "execution_count": null,
   "id": "3c3fdf32",
   "metadata": {},
   "outputs": [],
   "source": []
  },
  {
   "cell_type": "code",
   "execution_count": null,
   "id": "1b50cd9c",
   "metadata": {},
   "outputs": [],
   "source": []
  },
  {
   "cell_type": "code",
   "execution_count": null,
   "id": "214beee1",
   "metadata": {},
   "outputs": [],
   "source": []
  },
  {
   "cell_type": "code",
   "execution_count": null,
   "id": "e999911e",
   "metadata": {},
   "outputs": [],
   "source": []
  },
  {
   "cell_type": "code",
   "execution_count": null,
   "id": "6ba54363",
   "metadata": {},
   "outputs": [],
   "source": []
  },
  {
   "cell_type": "code",
   "execution_count": null,
   "id": "da40c5a0",
   "metadata": {},
   "outputs": [],
   "source": []
  },
  {
   "cell_type": "code",
   "execution_count": null,
   "id": "2cb2f94b",
   "metadata": {},
   "outputs": [],
   "source": []
  },
  {
   "cell_type": "code",
   "execution_count": null,
   "id": "757562a4",
   "metadata": {},
   "outputs": [],
   "source": []
  },
  {
   "cell_type": "code",
   "execution_count": null,
   "id": "c907786e",
   "metadata": {},
   "outputs": [],
   "source": []
  },
  {
   "cell_type": "code",
   "execution_count": null,
   "id": "dfe8f1c7",
   "metadata": {},
   "outputs": [],
   "source": []
  },
  {
   "cell_type": "code",
   "execution_count": null,
   "id": "e74c1466",
   "metadata": {},
   "outputs": [],
   "source": []
  },
  {
   "cell_type": "code",
   "execution_count": 258,
   "id": "b6d829a2",
   "metadata": {},
   "outputs": [
    {
     "data": {
      "text/plain": [
       "10×10 Matrix{Float64}:\n",
       " 0.00573198  0.186403   0.00263689  …  0.0153757  0.128563   0.171763\n",
       " 0.129469    0.158604   0.148135       0.0245766  0.0242169  0.0783025\n",
       " 0.135211    0.117138   0.088965       0.0366593  0.129683   0.130604\n",
       " 0.0929352   0.0374825  0.178185       0.0802427  0.0753409  0.0411325\n",
       " 0.196129    0.0200382  0.193525       0.0112273  0.0315208  0.0781749\n",
       " 0.0770809   0.131317   0.13766     …  0.118862   0.10325    0.107342\n",
       " 0.0463679   0.059366   0.161278       0.12611    0.171274   0.162303\n",
       " 0.101065    0.177218   0.0753524      0.0191318  0.0255331  0.159262\n",
       " 0.0169185   0.0277842  0.256388       0.0450338  0.25131    0.120905\n",
       " 0.0947898   0.0194591  0.0283839      0.0404334  0.0810131  0.0781245"
      ]
     },
     "execution_count": 258,
     "metadata": {},
     "output_type": "execute_result"
    }
   ],
   "source": [
    "A_init"
   ]
  },
  {
   "cell_type": "code",
   "execution_count": null,
   "id": "c4176fc7",
   "metadata": {},
   "outputs": [],
   "source": []
  },
  {
   "cell_type": "code",
   "execution_count": null,
   "id": "af63e5f9",
   "metadata": {},
   "outputs": [],
   "source": []
  },
  {
   "cell_type": "code",
   "execution_count": null,
   "id": "f92a5c7b",
   "metadata": {},
   "outputs": [],
   "source": []
  },
  {
   "cell_type": "code",
   "execution_count": 253,
   "id": "7938568b",
   "metadata": {},
   "outputs": [
    {
     "data": {
      "text/plain": [
       "25"
      ]
     },
     "execution_count": 253,
     "metadata": {},
     "output_type": "execute_result"
    }
   ],
   "source": [
    "num_iters = 25"
   ]
  },
  {
   "cell_type": "code",
   "execution_count": 254,
   "id": "f853349a",
   "metadata": {},
   "outputs": [],
   "source": [
    "delta_X_init = zeros(size(X)) ; "
   ]
  },
  {
   "cell_type": "code",
   "execution_count": 255,
   "id": "05430ad4",
   "metadata": {},
   "outputs": [],
   "source": [
    "r=0.1 ; \n"
   ]
  },
  {
   "cell_type": "code",
   "execution_count": 259,
   "id": "c901e12e",
   "metadata": {},
   "outputs": [
    {
     "name": "stdout",
     "output_type": "stream",
     "text": [
      "[0.005731982379661205, 0.18640254054641925, 0.0026368940937286514, 0.06431681767614554, 0.18644711276326892, 0.13422864586371736, 0.10453448480750317, 0.015375680205471226, 0.12856280415430646, 0.17176303750977812]\n",
      "Forward backward done\n",
      "Current log-likelihood: -4264.9614040421\n",
      "Begin model optim\n",
      "Model optimization done!\n",
      "FB run again done\n"
     ]
    },
    {
     "data": {
      "text/plain": [
       "([0.0003847923500170348 0.0006297896669170185 … 0.0005364285831988514 0.0005364285831988512; 0.00038479235001703484 0.0006297896669170185 … 0.0005364285831988512 0.0005364285831988511; … ; 0.0003847923500170348 0.0006297896669170185 … 0.000536428583198851 0.0005364285831988513; 0.00038479235001703463 0.0006297896669170185 … 0.0005364285831988512 0.0005364285831988512]\n",
       "\n",
       "[0.014049757975826175 0.012114311124622395 … 0.01122924995788238 0.01122924995788238; 0.014049757975826176 0.012114311124622395 … 0.011229249957882376 0.011229249957882378; … ; 0.014049757975826176 0.012114311124622395 … 0.011229249957882376 0.011229249957882378; 0.014049757975826171 0.012114311124622398 … 0.011229249957882374 0.011229249957882378]\n",
       "\n",
       "[0.02661451338676736 0.01776856802079206 … 0.017550724456812952 0.017550724456812956; 0.02661451338676736 0.017768568020792058 … 0.017550724456812952 0.017550724456812952; … ; 0.02661451338676736 0.01776856802079206 … 0.017550724456812952 0.017550724456812952; 0.02661451338676735 0.017768568020792064 … 0.017550724456812952 0.017550724456812952]\n",
       "\n",
       "[0.005721151911300844 0.007712783960035012 … 0.007151431574060149 0.007151431574060146; 0.005721151911300843 0.0077127839600350115 … 0.007151431574060144 0.007151431574060146; … ; 0.005721151911300845 0.0077127839600350115 … 0.0071514315740601455 0.007151431574060144; 0.005721151911300841 0.0077127839600350115 … 0.007151431574060145 0.007151431574060147]\n",
       "\n",
       "[0.036869217019976676 0.023525677097362023 … 0.026430345300836322 0.026430345300836322; 0.03686921701997667 0.023525677097362016 … 0.02643034530083632 0.026430345300836315; … ; 0.03686921701997668 0.023525677097362013 … 0.02643034530083631 0.026430345300836322; 0.03686921701997667 0.02352567709736202 … 0.026430345300836315 0.026430345300836315]\n",
       "\n",
       "[0.011790989071374084 0.009080219979664031 … 0.008607950125229082 0.00860795012522908; 0.011790989071374084 0.009080219979664027 … 0.008607950125229078 0.00860795012522908; … ; 0.011790989071374084 0.009080219979664027 … 0.008607950125229078 0.008607950125229078; 0.011790989071374079 0.009080219979664031 … 0.008607950125229078 0.008607950125229078]\n",
       "\n",
       "[0.0024496205922089056 0.0043551900970508735 … 0.004513647921790001 0.004513647921790001; 0.0024496205922089056 0.0043551900970508735 … 0.004513647921789999 0.00451364792179; … ; 0.002449620592208905 0.004355190097050873 … 0.004513647921789999 0.004513647921790001; 0.0024496205922089043 0.0043551900970508735 … 0.004513647921789999 0.00451364792179]\n",
       "\n",
       "[0.004896768319262616 0.00495347337875533 … 0.005238567308485992 0.005238567308485991; 0.004896768319262616 0.004953473378755328 … 0.0052385673084859915 0.005238567308485991; … ; 0.004896768319262616 0.004953473378755328 … 0.005238567308485989 0.00523856730848599; 0.004896768319262613 0.00495347337875533 … 0.00523856730848599 0.0052385673084859915]\n",
       "\n",
       "[0.0010061683508782173 0.0015832082580963438 … 0.0017973111319745238 0.0017973111319745235; 0.001006168350878217 0.0015832082580963434 … 0.0017973111319745231 0.0017973111319745231; … ; 0.0010061683508782175 0.0015832082580963431 … 0.0017973111319745227 0.0017973111319745233; 0.001006168350878217 0.001583208258096344 … 0.001797311131974523 0.0017973111319745235]\n",
       "\n",
       "[0.006089945466765574 0.010226299493351361 … 0.010529520227547077 0.010529520227547079; 0.006089945466765575 0.010226299493351361 … 0.010529520227547075 0.010529520227547079; … ; 0.006089945466765575 0.01022629949335136 … 0.010529520227547075 0.010529520227547077; 0.006089945466765573 0.010226299493351361 … 0.010529520227547077 0.010529520227547075]\n",
       "\n",
       "[0.012513344751461312 0.02048059225369674 … 0.01744451467345443 0.017444514673454422; 0.012513344751461314 0.02048059225369673 … 0.017444514673454425 0.01744451467345442; … ; 0.012513344751461318 0.020480592253696736 … 0.01744451467345442 0.017444514673454425; 0.012513344751461312 0.02048059225369673 … 0.017444514673454425 0.017444514673454422]\n",
       "\n",
       "[0.01721142092693137 0.014840434145871662 … 0.013756204772450896 0.013756204772450892; 0.017211420926931374 0.014840434145871658 … 0.01375620477245089 0.01375620477245089; … ; 0.017211420926931377 0.014840434145871662 … 0.01375620477245089 0.01375620477245089; 0.017211420926931374 0.014840434145871662 … 0.013756204772450894 0.01375620477245089]\n",
       "\n",
       "[0.023057095091879858 0.015393539477811203 … 0.015204813886746379 0.015204813886746382; 0.023057095091879858 0.015393539477811202 … 0.01520481388674638 0.015204813886746379; … ; 0.023057095091879865 0.015393539477811207 … 0.01520481388674638 0.015204813886746377; 0.023057095091879858 0.015393539477811205 … 0.015204813886746382 0.015204813886746377]\n",
       "\n",
       "[0.0023074463431530874 0.0031107083713262274 … 0.0028843045753215437 0.002884304575321543; 0.002307446343153088 0.0031107083713262274 … 0.002884304575321543 0.002884304575321543; … ; 0.0023074463431530883 0.003110708371326228 … 0.002884304575321543 0.002884304575321542; 0.002307446343153088 0.0031107083713262265 … 0.0028843045753215433 0.002884304575321543]\n",
       "\n",
       "[0.0037668646983552642 0.0024035780991753216 … 0.0027003430700770345 0.0027003430700770345; 0.0037668646983552634 0.0024035780991753216 … 0.0027003430700770345 0.002700343070077034; … ; 0.0037668646983552647 0.0024035780991753207 … 0.002700343070077034 0.0027003430700770345; 0.0037668646983552642 0.002403578099175321 … 0.002700343070077035 0.002700343070077034]\n",
       "\n",
       "[0.020087381641534945 0.015469257330025328 … 0.01466468828612226 0.014664688286122256; 0.020087381641534948 0.015469257330025327 … 0.014664688286122255 0.014664688286122255; … ; 0.020087381641534955 0.01546925733002533 … 0.014664688286122255 0.014664688286122253; 0.020087381641534945 0.01546925733002533 … 0.014664688286122258 0.014664688286122253]\n",
       "\n",
       "[0.0031363147493139584 0.00557606634304529 … 0.005778944133366848 0.005778944133366847; 0.003136314749313959 0.00557606634304529 … 0.005778944133366846 0.0057789441333668465; … ; 0.00313631474931396 0.0055760663430452885 … 0.005778944133366846 0.005778944133366847; 0.003136314749313959 0.0055760663430452885 … 0.005778944133366848 0.005778944133366847]\n",
       "\n",
       "[0.008586571526738137 0.008686004870837101 … 0.009185922216291543 0.00918592221629154; 0.008586571526738137 0.008686004870837098 … 0.009185922216291543 0.00918592221629154; … ; 0.008586571526738139 0.0086860048708371 … 0.00918592221629154 0.00918592221629154; 0.008586571526738137 0.0086860048708371 … 0.009185922216291545 0.009185922216291541]\n",
       "\n",
       "[0.0016523700203444215 0.002600008099396826 … 0.0029516164259329354 0.0029516164259329345; 0.0016523700203444217 0.002600008099396825 … 0.0029516164259329337 0.0029516164259329337; … ; 0.0016523700203444221 0.002600008099396825 … 0.0029516164259329337 0.0029516164259329337; 0.0016523700203444217 0.0026000080993968254 … 0.002951616425932934 0.0029516164259329345]\n",
       "\n",
       "[0.0012501868958419333 0.0020993267820398065 … 0.0021615740698862746 0.0021615740698862746; 0.0012501868958419335 0.0020993267820398056 … 0.002161574069886274 0.0021615740698862746; … ; 0.001250186895841934 0.0020993267820398056 … 0.002161574069886274 0.002161574069886274; 0.0012501868958419333 0.0020993267820398056 … 0.002161574069886275 0.0021615740698862737]\n",
       "\n",
       "[0.00017701671217137607 0.0002897232655280734 … 0.0002467741994049684 0.00024677419940496835; 0.0001770167121713761 0.0002897232655280733 … 0.0002467741994049684 0.0002467741994049683; … ; 0.00017701671217137613 0.00028972326552807336 … 0.00024677419940496835 0.0002467741994049684; 0.00017701671217137607 0.0002897232655280733 … 0.00024677419940496835 0.00024677419940496835]\n",
       "\n",
       "[0.016075369135870207 0.013860880983868512 … 0.012848216923202862 0.012848216923202862; 0.016075369135870207 0.013860880983868512 … 0.012848216923202859 0.01284821692320286; … ; 0.016075369135870213 0.013860880983868513 … 0.01284821692320286 0.01284821692320286; 0.01607536913587021 0.013860880983868513 … 0.012848216923202862 0.012848216923202859]\n",
       "\n",
       "[0.01751157053263278 0.011691197492067951 … 0.011547862805453054 0.011547862805453054; 0.017511570532632782 0.01169119749206795 … 0.011547862805453054 0.011547862805453052; … ; 0.017511570532632786 0.011691197492067951 … 0.011547862805453054 0.011547862805453052; 0.017511570532632775 0.011691197492067953 … 0.011547862805453054 0.011547862805453052]\n",
       "\n",
       "[0.010969196270054998 0.014787763436073407 … 0.013711479395046801 0.013711479395046798; 0.010969196270055001 0.014787763436073407 … 0.013711479395046798 0.013711479395046798; … ; 0.010969196270055003 0.014787763436073405 … 0.013711479395046796 0.013711479395046793; 0.010969196270055 0.014787763436073404 … 0.013711479395046801 0.013711479395046798]\n",
       "\n",
       "[0.03637976494027242 0.023213365296015233 … 0.026079472987280364 0.02607947298728036; 0.03637976494027242 0.023213365296015233 … 0.026079472987280358 0.026079472987280358; … ; 0.03637976494027244 0.02321336529601523 … 0.02607947298728036 0.02607947298728036; 0.03637976494027242 0.023213365296015233 … 0.026079472987280364 0.026079472987280358]\n",
       "\n",
       "[0.021057795969558216 0.016216571700052328 … 0.015373134209179885 0.015373134209179885; 0.02105779596955822 0.016216571700052324 … 0.015373134209179885 0.015373134209179884; … ; 0.021057795969558223 0.016216571700052324 … 0.015373134209179882 0.01537313420917988; 0.02105779596955822 0.016216571700052328 … 0.015373134209179884 0.015373134209179884]\n",
       "\n",
       "[0.008520346888576854 0.015148358284785179 … 0.015699511242218977 0.015699511242218977; 0.008520346888576854 0.015148358284785177 … 0.015699511242218977 0.015699511242218977; … ; 0.008520346888576858 0.015148358284785175 … 0.015699511242218973 0.015699511242218977; 0.008520346888576854 0.015148358284785179 … 0.01569951124221898 0.015699511242218977]\n",
       "\n",
       "[0.0036509659040163227 0.0036932444488228496 … 0.003905806724394304 0.003905806724394303; 0.0036509659040163235 0.0036932444488228487 … 0.0039058067243943045 0.0039058067243943036; … ; 0.0036509659040163244 0.0036932444488228487 … 0.0039058067243943027 0.0039058067243943027; 0.0036509659040163235 0.003693244448822849 … 0.003905806724394304 0.003905806724394304]\n",
       "\n",
       "[0.01524781664724794 0.02399247522821727 … 0.027237062837928788 0.02723706283792878; 0.015247816647247944 0.02399247522821727 … 0.027237062837928785 0.027237062837928778; … ; 0.015247816647247949 0.023992475228217264 … 0.027237062837928774 0.027237062837928778; 0.015247816647247944 0.02399247522821727 … 0.02723706283792878 0.027237062837928785]\n",
       "\n",
       "[0.001823573435077935 0.003062163396535444 … 0.0031529598213740078 0.0031529598213740078; 0.001823573435077936 0.003062163396535443 … 0.0031529598213740078 0.0031529598213740078; … ; 0.0018235734350779361 0.003062163396535443 … 0.0031529598213740073 0.003152959821374007; 0.0018235734350779353 0.003062163396535443 … 0.0031529598213740078 0.003152959821374007]\n",
       "\n",
       "[0.004317637037238065 0.007066676849033944 … 0.006019100739788533 0.00601910073978853; 0.004317637037238067 0.0070666768490339395 … 0.006019100739788532 0.006019100739788529; … ; 0.004317637037238068 0.007066676849033941 … 0.006019100739788531 0.006019100739788531; 0.004317637037238065 0.00706667684903394 … 0.006019100739788534 0.00601910073978853]\n",
       "\n",
       "[0.0005678474055882289 0.0004896226792263256 … 0.0004538512667802933 0.00045385126678029324; 0.000567847405588229 0.0004896226792263254 … 0.00045385126678029324 0.00045385126678029313; … ; 0.0005678474055882291 0.0004896226792263256 … 0.00045385126678029324 0.0004538512667802931; 0.0005678474055882288 0.0004896226792263256 … 0.00045385126678029324 0.0004538512667802932]\n",
       "\n",
       "[0.01706911897266954 0.01139580487959129 … 0.011256091721700577 0.011256091721700579; 0.01706911897266954 0.011395804879591282 … 0.01125609172170058 0.011256091721700575; … ; 0.017069118972669547 0.011395804879591286 … 0.011256091721700579 0.011256091721700575; 0.01706911897266954 0.011395804879591286 … 0.01125609172170058 0.011256091721700577]\n",
       "\n",
       "[0.0013347849764582039 0.0017994467401201645 … 0.0016684792806094017 0.0016684792806094008; 0.0013347849764582043 0.0017994467401201638 … 0.0016684792806094012 0.0016684792806094008; … ; 0.0013347849764582048 0.0017994467401201647 … 0.0016684792806094012 0.0016684792806094001; 0.001334784976458204 0.001799446740120164 … 0.0016684792806094014 0.001668479280609401]\n",
       "\n",
       "[0.02078134070493195 0.013260252063655139 … 0.01489746881112433 0.014897468811124324; 0.020781340704931952 0.013260252063655132 … 0.014897468811124328 0.014897468811124323; … ; 0.020781340704931955 0.013260252063655132 … 0.01489746881112433 0.014897468811124326; 0.020781340704931955 0.013260252063655133 … 0.01489746881112433 0.014897468811124324]\n",
       "\n",
       "[0.019753889945941065 0.015212435960837966 … 0.014421224411677702 0.014421224411677699; 0.01975388994594107 0.015212435960837958 … 0.014421224411677702 0.014421224411677699; … ; 0.019753889945941076 0.015212435960837963 … 0.0144212244116777 0.014421224411677695; 0.01975388994594107 0.015212435960837966 … 0.014421224411677702 0.014421224411677697]\n",
       "\n",
       "[0.0004879562176517861 0.000867539280846406 … 0.0008991035488244566 0.0008991035488244565; 0.00048795621765178624 0.0008675392808464056 … 0.0008991035488244566 0.0008991035488244564; … ; 0.00048795621765178635 0.0008675392808464054 … 0.0008991035488244566 0.0008991035488244565; 0.00048795621765178614 0.0008675392808464056 … 0.0008991035488244569 0.0008991035488244565]\n",
       "\n",
       "[0.007862362794991374 0.007953409730638607 … 0.008411163040586863 0.00841116304058686; 0.007862362794991376 0.0079534097306386 … 0.008411163040586865 0.00841116304058686; … ; 0.007862362794991376 0.007953409730638602 … 0.008411163040586861 0.00841116304058686; 0.007862362794991373 0.007953409730638603 … 0.008411163040586865 0.008411163040586861]\n",
       "\n",
       "[0.003897960489805196 0.006133449965710368 … 0.006962898181212726 0.006962898181212723; 0.0038979604898051975 0.006133449965710364 … 0.006962898181212725 0.006962898181212722; … ; 0.003897960489805198 0.006133449965710364 … 0.006962898181212724 0.006962898181212722; 0.003897960489805197 0.006133449965710367 … 0.006962898181212725 0.006962898181212724]\n",
       "\n",
       "[0.006918051116369304 0.011616863075767436 … 0.01196131550972709 0.01196131550972709; 0.006918051116369307 0.011616863075767429 … 0.01196131550972709 0.01196131550972709; … ; 0.006918051116369308 0.011616863075767429 … 0.011961315509727092 0.011961315509727087; 0.006918051116369306 0.011616863075767432 … 0.011961315509727092 0.011961315509727087]\n",
       "\n",
       "[0.012516336918382118 0.020485489533510974 … 0.01744868597223921 0.017448685972239208; 0.012516336918382116 0.02048548953351097 … 0.017448685972239208 0.017448685972239208; … ; 0.012516336918382122 0.02048548953351097 … 0.01744868597223921 0.01744868597223921; 0.012516336918382115 0.02048548953351097 … 0.01744868597223921 0.017448685972239208]\n",
       "\n",
       "[0.012610287596484308 0.010873137286608279 … 0.01007875521452741 0.010078755214527408; 0.012610287596484308 0.01087313728660828 … 0.010078755214527405 0.010078755214527406; … ; 0.01261028759648431 0.010873137286608279 … 0.010078755214527408 0.010078755214527406; 0.012610287596484306 0.010873137286608282 … 0.01007875521452741 0.010078755214527406]\n",
       "\n",
       "[0.012923117450354902 0.008627822275776976 … 0.008522044727933263 0.008522044727933265; 0.012923117450354902 0.008627822275776978 … 0.008522044727933263 0.008522044727933263; … ; 0.012923117450354906 0.008627822275776978 … 0.008522044727933265 0.008522044727933263; 0.0129231174503549 0.008627822275776978 … 0.008522044727933265 0.008522044727933263]\n",
       "\n",
       "[0.01048023325876275 0.01412858393358615 … 0.013100276341585516 0.013100276341585513; 0.010480233258762748 0.014128583933586151 … 0.01310027634158551 0.013100276341585513; … ; 0.010480233258762751 0.01412858393358615 … 0.013100276341585513 0.013100276341585507; 0.010480233258762748 0.014128583933586148 … 0.013100276341585514 0.013100276341585513]\n",
       "\n",
       "[0.02186509720497143 0.013951780323077664 … 0.015674378678848105 0.015674378678848105; 0.02186509720497143 0.013951780323077667 … 0.015674378678848102 0.015674378678848102; … ; 0.021865097204971432 0.013951780323077659 … 0.015674378678848105 0.015674378678848105; 0.021865097204971432 0.013951780323077666 … 0.015674378678848105 0.015674378678848105]\n",
       "\n",
       "[0.012891025973887074 0.009927356466696846 … 0.009411026333291397 0.009411026333291397; 0.012891025973887072 0.009927356466696848 … 0.009411026333291396 0.009411026333291396; … ; 0.012891025973887076 0.009927356466696846 … 0.009411026333291396 0.009411026333291394; 0.012891025973887074 0.00992735646669685 … 0.009411026333291397 0.009411026333291396]\n",
       "\n",
       "[0.0023037972729520115 0.004095930243518197 … 0.00424495524178649 0.00424495524178649; 0.0023037972729520115 0.004095930243518196 … 0.004244955241786488 0.004244955241786489; … ; 0.0023037972729520123 0.0040959302435181946 … 0.004244955241786489 0.00424495524178649; 0.0023037972729520115 0.004095930243518196 … 0.00424495524178649 0.00424495524178649]\n",
       "\n",
       "[0.005701977612431341 0.005768007074856008 … 0.006099980960238663 0.006099980960238663; 0.005701977612431341 0.005768007074856008 … 0.006099980960238662 0.0060999809602386625; … ; 0.005701977612431342 0.005768007074856006 … 0.006099980960238662 0.006099980960238662; 0.005701977612431341 0.005768007074856008 … 0.0060999809602386625 0.0060999809602386625]\n",
       "\n",
       "[0.010996545323995134 0.01730308983808123 … 0.019643048111012428 0.019643048111012418; 0.010996545323995134 0.01730308983808123 … 0.019643048111012418 0.019643048111012414; … ; 0.01099654532399514 0.017303089838081227 … 0.019643048111012418 0.019643048111012414; 0.010996545323995134 0.01730308983808123 … 0.019643048111012418 0.01964304811101242]\n",
       "\n",
       "[0.017661494211843914 0.029657363977403886 … 0.030536736587739095 0.030536736587739102; 0.017661494211843917 0.029657363977403893 … 0.030536736587739092 0.030536736587739095; … ; 0.01766149421184392 0.029657363977403883 … 0.030536736587739095 0.030536736587739092; 0.017661494211843914 0.02965736397740389 … 0.0305367365877391 0.030536736587739092]\n",
       "\n",
       "[0.009010871398484126 0.014748093865255319 … 0.012561811526299585 0.012561811526299583; 0.009010871398484128 0.014748093865255316 … 0.012561811526299585 0.012561811526299581; … ; 0.009010871398484128 0.014748093865255319 … 0.012561811526299583 0.012561811526299585; 0.009010871398484126 0.014748093865255317 … 0.012561811526299585 0.012561811526299583]\n",
       "\n",
       "[0.02241327466254242 0.019325698211373532 … 0.017913779297366206 0.01791377929736621; 0.02241327466254242 0.019325698211373532 … 0.017913779297366202 0.017913779297366206; … ; 0.022413274662542428 0.019325698211373532 … 0.017913779297366202 0.017913779297366206; 0.02241327466254242 0.019325698211373542 … 0.017913779297366202 0.01791377929736621]\n",
       "\n",
       "[0.021310885488751166 0.014227722779949676 … 0.014053290161965817 0.014053290161965822; 0.021310885488751166 0.014227722779949674 … 0.01405329016196582 0.014053290161965819; … ; 0.02131088548875117 0.014227722779949678 … 0.014053290161965819 0.014053290161965817; 0.021310885488751163 0.014227722779949681 … 0.01405329016196582 0.014053290161965819]\n",
       "\n",
       "[0.009026906398100257 0.012169328826679366 … 0.011283619878008364 0.011283619878008362; 0.009026906398100257 0.012169328826679362 … 0.01128361987800836 0.011283619878008362; … ; 0.00902690639810026 0.012169328826679364 … 0.011283619878008362 0.011283619878008357; 0.009026906398100259 0.012169328826679366 … 0.011283619878008364 0.011283619878008362]\n",
       "\n",
       "[0.03626085872835595 0.023137493081400482 … 0.025994232982382397 0.025994232982382404; 0.03626085872835595 0.023137493081400482 … 0.025994232982382404 0.025994232982382397; … ; 0.03626085872835595 0.02313749308140048 … 0.0259942329823824 0.025994232982382404; 0.036260858728355945 0.023137493081400482 … 0.0259942329823824 0.025994232982382397]\n",
       "\n",
       "[0.0010560720445141176 0.0008132792270872844 … 0.0007709798925941026 0.0007709798925941027; 0.0010560720445141176 0.0008132792270872843 … 0.0007709798925941027 0.0007709798925941026; … ; 0.001056072044514118 0.0008132792270872843 … 0.0007709798925941027 0.0007709798925941026; 0.0010560720445141176 0.0008132792270872846 … 0.0007709798925941028 0.0007709798925941025]\n",
       "\n",
       "[0.007299542341597031 0.012977885073402336 … 0.013450068237080592 0.013450068237080597; 0.007299542341597032 0.012977885073402334 … 0.013450068237080592 0.013450068237080594; … ; 0.007299542341597032 0.012977885073402333 … 0.013450068237080594 0.013450068237080596; 0.00729954234159703 0.012977885073402334 … 0.013450068237080596 0.013450068237080596]\n",
       "\n",
       "[0.00625913133475534 0.006331612692166888 … 0.006696024531278448 0.006696024531278448; 0.00625913133475534 0.006331612692166888 … 0.00669602453127845 0.006696024531278449; … ; 0.006259131334755342 0.006331612692166887 … 0.006696024531278448 0.006696024531278448; 0.00625913133475534 0.006331612692166889 … 0.006696024531278449 0.00669602453127845]\n",
       "\n",
       "[0.00039199681390734265 0.0006168079053409594 … 0.0007002210283391108 0.0007002210283391108; 0.00039199681390734265 0.0006168079053409592 … 0.0007002210283391107 0.0007002210283391107; … ; 0.00039199681390734276 0.0006168079053409591 … 0.0007002210283391106 0.0007002210283391107; 0.00039199681390734265 0.0006168079053409594 … 0.0007002210283391109 0.0007002210283391108]\n",
       "\n",
       "[0.004771696947600027 0.008012682928601796 … 0.00825026756046865 0.008250267560468653; 0.004771696947600029 0.008012682928601793 … 0.008250267560468651 0.008250267560468653; … ; 0.004771696947600028 0.008012682928601793 … 0.008250267560468651 0.008250267560468651; 0.004771696947600027 0.008012682928601796 … 0.008250267560468653 0.008250267560468651]\n",
       "\n",
       "[0.007017479713410538 0.011485509551086723 … 0.009782878220226695 0.009782878220226691; 0.007017479713410539 0.011485509551086721 … 0.009782878220226695 0.00978287822022669; … ; 0.007017479713410539 0.011485509551086721 … 0.009782878220226691 0.009782878220226693; 0.007017479713410537 0.011485509551086723 … 0.009782878220226693 0.009782878220226691]\n",
       "\n",
       "[0.011797920131769798 0.010172678799564941 … 0.009429471622978991 0.009429471622978991; 0.011797920131769798 0.010172678799564941 … 0.009429471622978991 0.00942947162297899; … ; 0.011797920131769802 0.010172678799564941 … 0.00942947162297899 0.00942947162297899; 0.011797920131769796 0.010172678799564945 … 0.009429471622978991 0.00942947162297899]\n",
       "\n",
       "[0.01990027806988846 0.013285963165244195 … 0.013123076568900292 0.013123076568900296; 0.019900278069888463 0.013285963165244196 … 0.013123076568900296 0.01312307656890029; … ; 0.019900278069888467 0.013285963165244198 … 0.013123076568900292 0.01312307656890029; 0.019900278069888457 0.0132859631652442 … 0.013123076568900294 0.01312307656890029]\n",
       "\n",
       "[0.009610938829565086 0.012956673060739032 … 0.01201365956851241 0.012013659568512407; 0.009610938829565084 0.012956673060739032 … 0.012013659568512408 0.012013659568512407; … ; 0.009610938829565088 0.012956673060739034 … 0.012013659568512405 0.012013659568512402; 0.009610938829565083 0.012956673060739034 … 0.01201365956851241 0.012013659568512407]\n",
       "\n",
       "[0.009329565566735885 0.005953051480935263 … 0.006688062816794209 0.006688062816794209; 0.009329565566735887 0.005953051480935265 … 0.006688062816794209 0.006688062816794207; … ; 0.009329565566735889 0.005953051480935262 … 0.006688062816794208 0.0066880628167942085; 0.009329565566735884 0.005953051480935264 … 0.0066880628167942085 0.006688062816794208]\n",
       "\n",
       "[0.015935658710176673 0.012272022790738671 … 0.011633744595938926 0.011633744595938925; 0.015935658710176673 0.012272022790738671 … 0.011633744595938928 0.011633744595938923; … ; 0.015935658710176676 0.01227202279073867 … 0.011633744595938923 0.011633744595938923; 0.01593565871017667 0.012272022790738673 … 0.011633744595938925 0.011633744595938925]\n",
       "\n",
       "[0.004347193574757435 0.007728892575022966 … 0.008010098097121724 0.008010098097121722; 0.004347193574757434 0.007728892575022966 … 0.008010098097121722 0.00801009809712172; … ; 0.004347193574757436 0.007728892575022965 … 0.00801009809712172 0.008010098097121722; 0.004347193574757435 0.007728892575022966 … 0.008010098097121722 0.008010098097121722]\n",
       "\n",
       "[0.0016134884654653142 0.0016321728208319158 … 0.0017261114630554206 0.0017261114630554202; 0.0016134884654653145 0.0016321728208319162 … 0.0017261114630554208 0.0017261114630554202; … ; 0.0016134884654653149 0.001632172820831916 … 0.00172611146305542 0.0017261114630554198; 0.0016134884654653145 0.0016321728208319164 … 0.0017261114630554202 0.0017261114630554204]\n",
       "\n",
       "[0.0014642927929635887 0.0023040681413477584 … 0.0026156554566305044 0.002615655456630503; 0.0014642927929635892 0.002304068141347759 … 0.002615655456630504 0.002615655456630503; … ; 0.0014642927929635894 0.002304068141347758 … 0.002615655456630503 0.002615655456630503; 0.0014642927929635887 0.0023040681413477593 … 0.0026156554566305035 0.0026156554566305035]\n",
       "\n",
       "[0.012910087629249327 0.021678752839839867 … 0.02232155108340954 0.02232155108340954; 0.01291008762924933 0.021678752839839863 … 0.02232155108340954 0.02232155108340954; … ; 0.012910087629249332 0.021678752839839863 … 0.022321551083409535 0.022321551083409535; 0.012910087629249329 0.02167875283983987 … 0.02232155108340954 0.022321551083409535]\n",
       "\n",
       "[0.001032181142141504 0.0016893709494966507 … 0.0014389357471868325 0.0014389357471868318; 0.001032181142141504 0.0016893709494966503 … 0.0014389357471868323 0.0014389357471868316; … ; 0.0010321811421415041 0.0016893709494966503 … 0.0014389357471868318 0.001438935747186832; 0.001032181142141504 0.0016893709494966507 … 0.001438935747186832 0.0014389357471868318]\n",
       "\n",
       "[0.002667000132867944 0.002299603269647901 … 0.0021315962297150243 0.002131596229715024; 0.0026670001328679437 0.0022996032696479007 … 0.002131596229715024 0.0021315962297150234; … ; 0.0026670001328679446 0.0022996032696479003 … 0.0021315962297150234 0.0021315962297150234; 0.002667000132867944 0.0022996032696479016 … 0.0021315962297150234 0.0021315962297150234]\n",
       "\n",
       "[0.007215886625656093 0.004817520819375286 … 0.004758457764681839 0.004758457764681839; 0.007215886625656095 0.004817520819375285 … 0.00475845776468184 0.0047584577646818385; … ; 0.007215886625656096 0.004817520819375287 … 0.004758457764681839 0.0047584577646818385; 0.007215886625656093 0.004817520819375287 … 0.004758457764681839 0.0047584577646818385]\n",
       "\n",
       "[0.004939793075237898 0.006659420583000047 … 0.006174734164600713 0.006174734164600711; 0.004939793075237898 0.006659420583000047 … 0.006174734164600713 0.006174734164600711; … ; 0.0049397930752379 0.006659420583000048 … 0.006174734164600709 0.006174734164600708; 0.004939793075237899 0.006659420583000046 … 0.006174734164600712 0.00617473416460071]\n",
       "\n",
       "[0.0021105656202031857 0.0013467192765930116 … 0.0015129960067179983 0.0015129960067179979; 0.0021105656202031853 0.001346719276593012 … 0.001512996006717998 0.0015129960067179974; … ; 0.0021105656202031857 0.0013467192765930116 … 0.0015129960067179974 0.0015129960067179979; 0.002110565620203185 0.0013467192765930119 … 0.0015129960067179976 0.0015129960067179976]\n",
       "\n",
       "[0.018182222319015996 0.014002097481087926 … 0.013273836651065388 0.013273836651065385; 0.018182222319016 0.014002097481087925 … 0.013273836651065388 0.013273836651065383; … ; 0.018182222319016 0.014002097481087928 … 0.013273836651065381 0.013273836651065381; 0.018182222319015992 0.014002097481087931 … 0.013273836651065385 0.013273836651065383]\n",
       "\n",
       "[0.006662410206755423 0.011845125341956374 … 0.01227609454275422 0.012276094542754218; 0.006662410206755422 0.011845125341956373 … 0.012276094542754221 0.012276094542754216; … ; 0.006662410206755425 0.011845125341956371 … 0.012276094542754214 0.012276094542754218; 0.0066624102067554215 0.011845125341956374 … 0.01227609454275422 0.012276094542754218]\n",
       "\n",
       "[0.000926973926309781 0.0009377083756879187 … 0.0009916775696908139 0.0009916775696908137; 0.0009269739263097811 0.0009377083756879184 … 0.0009916775696908143 0.0009916775696908137; … ; 0.0009269739263097814 0.0009377083756879184 … 0.0009916775696908137 0.0009916775696908135; 0.000926973926309781 0.0009377083756879186 … 0.0009916775696908137 0.0009916775696908137]\n",
       "\n",
       "[0.0026782332161183185 0.0042142062420920555 … 0.004784108314629354 0.004784108314629352; 0.002678233216118319 0.004214206242092054 … 0.0047841083146293525 0.004784108314629352; … ; 0.0026782332161183193 0.004214206242092054 … 0.004784108314629351 0.004784108314629352; 0.002678233216118319 0.0042142062420920555 … 0.0047841083146293525 0.0047841083146293525]\n",
       "\n",
       "[0.002597719889813816 0.004362118140144978 … 0.004491459615618403 0.004491459615618403; 0.0025977198898138164 0.004362118140144977 … 0.004491459615618403 0.004491459615618403; … ; 0.0025977198898138164 0.004362118140144975 … 0.004491459615618402 0.0044914596156184015; 0.0025977198898138156 0.004362118140144978 … 0.004491459615618402 0.0044914596156184015]\n",
       "\n",
       "[0.00863051912211903 0.014125571267203412 … 0.012031572729405743 0.012031572729405743; 0.008630519122119032 0.014125571267203409 … 0.012031572729405745 0.012031572729405741; … ; 0.008630519122119033 0.014125571267203412 … 0.01203157272940574 0.012031572729405745; 0.008630519122119028 0.014125571267203405 … 0.01203157272940574 0.012031572729405743]\n",
       "\n",
       "[0.002627967034992118 0.0022659472385163195 … 0.0021003990793134098 0.00210039907931341; 0.0026279670349921183 0.0022659472385163195 … 0.0021003990793134098 0.0021003990793134098; … ; 0.002627967034992119 0.00226594723851632 … 0.0021003990793134093 0.0021003990793134098; 0.0026279670349921187 0.00226594723851632 … 0.002100399079313409 0.0021003990793134098]\n",
       "\n",
       "[0.025526413487751254 0.01704212313757668 … 0.0168331858254806 0.016833185825480608; 0.025526413487751257 0.017042123137576675 … 0.016833185825480608 0.016833185825480605; … ; 0.025526413487751264 0.017042123137576675 … 0.016833185825480605 0.016833185825480605; 0.025526413487751254 0.017042123137576675 … 0.0168331858254806 0.016833185825480605]\n",
       "\n",
       "[0.0046380359101930715 0.006252616523526266 … 0.005797538146865574 0.005797538146865576; 0.004638035910193072 0.006252616523526264 … 0.005797538146865576 0.005797538146865576; … ; 0.004638035910193075 0.006252616523526265 … 0.005797538146865574 0.005797538146865573; 0.004638035910193072 0.006252616523526263 … 0.005797538146865574 0.005797538146865576]\n",
       "\n",
       "[0.005925426050945606 0.003780922710219561 … 0.0042477456599148145 0.004247745659914816; 0.005925426050945608 0.003780922710219561 … 0.004247745659914816 0.004247745659914815; … ; 0.00592542605094561 0.00378092271021956 … 0.0042477456599148145 0.004247745659914816; 0.005925426050945608 0.0037809227102195606 … 0.0042477456599148145 0.004247745659914815]\n",
       "\n",
       "[0.01579411927495214 0.012163023520206201 … 0.01153041446885707 0.011530414468857074; 0.015794119274952143 0.012163023520206198 … 0.011530414468857074 0.011530414468857072; … ; 0.01579411927495215 0.012163023520206201 … 0.011530414468857072 0.011530414468857072; 0.01579411927495214 0.0121630235202062 … 0.011530414468857069 0.011530414468857072]\n",
       "\n",
       "[0.009048446524639436 0.016087268707301657 … 0.016672582677196793 0.016672582677196797; 0.009048446524639438 0.016087268707301657 … 0.016672582677196797 0.016672582677196797; … ; 0.00904844652463944 0.016087268707301657 … 0.016672582677196793 0.016672582677196797; 0.009048446524639436 0.016087268707301653 … 0.016672582677196793 0.016672582677196797]\n",
       "\n",
       "[0.0012371250377548645 0.0012514510675549395 … 0.001323477517569801 0.001323477517569801; 0.0012371250377548647 0.0012514510675549393 … 0.0013234775175698012 0.001323477517569801; … ; 0.0012371250377548651 0.001251451067554939 … 0.0013234775175698008 0.0013234775175698008; 0.0012371250377548645 0.0012514510675549393 … 0.0013234775175698006 0.0013234775175698012]\n",
       "\n",
       "[0.014945817730317518 0.0235172792246826 … 0.02669760439166625 0.026697604391666255; 0.014945817730317522 0.023517279224682597 … 0.02669760439166625 0.02669760439166625; … ; 0.014945817730317527 0.023517279224682594 … 0.026697604391666244 0.02669760439166625; 0.014945817730317518 0.0235172792246826 … 0.026697604391666248 0.026697604391666255]\n",
       "\n",
       "[0.005204837782789763 0.008740017504522572 … 0.008999168385672466 0.00899916838567247; 0.005204837782789765 0.00874001750452257 … 0.008999168385672468 0.00899916838567247; … ; 0.0052048377827897665 0.008740017504522569 … 0.008999168385672468 0.008999168385672468; 0.005204837782789764 0.00874001750452257 … 0.008999168385672466 0.008999168385672466]\n",
       "\n",
       "[0.011530583744285363 0.01887210724264863 … 0.016074474196612478 0.016074474196612475; 0.011530583744285361 0.018872107242648622 … 0.016074474196612475 0.01607447419661247; … ; 0.011530583744285363 0.018872107242648626 … 0.01607447419661247 0.016074474196612478; 0.01153058374428536 0.018872107242648622 … 0.016074474196612475 0.016074474196612475]\n",
       "\n",
       "[0.008497232780267228 0.007326682906254422 … 0.006791401745432677 0.006791401745432676; 0.008497232780267226 0.007326682906254422 … 0.006791401745432675 0.0067914017454326755; … ; 0.008497232780267231 0.007326682906254422 … 0.006791401745432675 0.0067914017454326755; 0.008497232780267228 0.007326682906254423 … 0.006791401745432674 0.006791401745432675]\n",
       "\n",
       "[0.02570769921725082 0.01716315438729373 … 0.016952733225809213 0.016952733225809216; 0.02570769921725082 0.01716315438729373 … 0.016952733225809213 0.016952733225809213; … ; 0.025707699217250825 0.017163154387293735 … 0.016952733225809213 0.016952733225809213; 0.025707699217250815 0.017163154387293735 … 0.016952733225809213 0.016952733225809213]\n",
       "\n",
       "[0.0025321418140892156 0.0034136242265590646 … 0.0031651735874215167 0.003165173587421516; 0.0025321418140892148 0.003413624226559065 … 0.0031651735874215154 0.003165173587421516; … ; 0.0025321418140892156 0.003413624226559065 … 0.0031651735874215154 0.0031651735874215145; 0.002532141814089215 0.0034136242265590646 … 0.003165173587421516 0.003165173587421516]\n",
       "\n",
       "[0.014695660091098786 0.009377073395631293 … 0.010534841855225989 0.010534841855225989; 0.014695660091098784 0.009377073395631293 … 0.010534841855225989 0.010534841855225987; … ; 0.014695660091098791 0.009377073395631291 … 0.010534841855225989 0.010534841855225989; 0.014695660091098788 0.009377073395631291 … 0.010534841855225987 0.010534841855225987]\n",
       "\n",
       "[0.0164199461557674 0.012644971702211192 … 0.011987296121827482 0.01198729612182748; 0.016419946155767393 0.012644971702211193 … 0.01198729612182748 0.011987296121827478; … ; 0.0164199461557674 0.012644971702211192 … 0.011987296121827478 0.011987296121827477; 0.016419946155767397 0.012644971702211195 … 0.011987296121827475 0.011987296121827478]\n",
       "\n",
       "[0.008574505749592584 0.01524464753705284 … 0.015799303851428605 0.015799303851428605; 0.008574505749592586 0.01524464753705284 … 0.015799303851428605 0.015799303851428605; … ; 0.008574505749592587 0.015244647537052835 … 0.015799303851428602 0.015799303851428605; 0.008574505749592584 0.015244647537052836 … 0.015799303851428605 0.015799303851428605]\n",
       "\n",
       "[0.007716543361722376 0.007805901693968422 … 0.008255165275068733 0.008255165275068733; 0.007716543361722375 0.0078059016939684206 … 0.008255165275068735 0.008255165275068733; … ; 0.007716543361722377 0.007805901693968418 … 0.008255165275068733 0.008255165275068732; 0.007716543361722375 0.00780590169396842 … 0.00825516527506873 0.008255165275068733]\n",
       "\n",
       "[0.007190402416611898 0.011314115053489419 … 0.012844163002615927 0.012844163002615925; 0.007190402416611897 0.011314115053489419 … 0.012844163002615922 0.012844163002615922; … ; 0.007190402416611899 0.011314115053489414 … 0.012844163002615922 0.012844163002615922; 0.007190402416611897 0.011314115053489417 … 0.012844163002615918 0.012844163002615925]\n",
       "\n",
       "[0.005019250905029167 0.00842837809750768 … 0.00867828853641737 0.00867828853641737; 0.005019250905029169 0.008428378097507681 … 0.00867828853641737 0.00867828853641737; … ; 0.00501925090502917 0.00842837809750768 … 0.008678288536417368 0.008678288536417368; 0.005019250905029168 0.008428378097507678 … 0.008678288536417366 0.008678288536417368], [0.06713076288971047 0.1098729244443775 … 0.0935851765878173 0.09358517658781731; 0.06713076288971047 0.10987292444437749 … 0.0935851765878173 0.09358517658781733; … ; 0.06713076288971044 0.10987292444437746 … 0.09358517658781731 0.09358517658781733; 0.06713076288971047 0.10987292444437743 … 0.0935851765878173 0.09358517658781733]\n",
       "\n",
       "[0.10851807778313981 0.09356899664555428 … 0.08673292610965014 0.08673292610965012; 0.10851807778313981 0.09356899664555429 … 0.08673292610965012 0.08673292610965014; … ; 0.10851807778313981 0.09356899664555429 … 0.08673292610965014 0.08673292610965014; 0.10851807778313981 0.0935689966455543 … 0.08673292610965015 0.08673292610965014]\n",
       "\n",
       "[0.1968365783236022 0.13141341643547905 … 0.129802281145484 0.12980228114548398; 0.1968365783236022 0.13141341643547905 … 0.129802281145484 0.129802281145484; … ; 0.1968365783236022 0.13141341643547905 … 0.129802281145484 0.129802281145484; 0.1968365783236022 0.13141341643547905 … 0.129802281145484 0.129802281145484]\n",
       "\n",
       "[0.06156062878691541 0.08299094966164473 … 0.07695069651203196 0.07695069651203196; 0.0615606287869154 0.08299094966164475 … 0.076950696512032 0.07695069651203196; … ; 0.0615606287869154 0.08299094966164475 … 0.07695069651203197 0.07695069651203197; 0.061560628786915414 0.08299094966164472 … 0.07695069651203199 0.07695069651203197]\n",
       "\n",
       "[0.18798436062584714 0.119949912824065 … 0.13475988816920156 0.13475988816920156; 0.18798436062584717 0.119949912824065 … 0.13475988816920154 0.13475988816920156; … ; 0.18798436062584709 0.11994991282406497 … 0.1347598881692016 0.13475988816920156; 0.18798436062584717 0.11994991282406497 … 0.13475988816920156 0.13475988816920156]\n",
       "\n",
       "[0.1529691011067217 0.11780123615860778 … 0.11167429509578326 0.11167429509578328; 0.15296910110672168 0.11780123615860778 … 0.11167429509578329 0.11167429509578328; … ; 0.1529691011067217 0.11780123615860777 … 0.11167429509578328 0.11167429509578329; 0.15296910110672168 0.11780123615860778 … 0.11167429509578328 0.1116742950957833]\n",
       "\n",
       "[0.05283013411804542 0.09392690348398212 … 0.0973443094935687 0.09734430949356868; 0.052830134118045415 0.09392690348398212 … 0.09734430949356872 0.0973443094935687; … ; 0.05283013411804542 0.0939269034839821 … 0.0973443094935687 0.0973443094935687; 0.05283013411804543 0.0939269034839821 … 0.09734430949356872 0.0973443094935687]\n",
       "\n",
       "[0.04845190828344747 0.049012986154119975 … 0.051833896606660566 0.05183389660666056; 0.04845190828344746 0.049012986154119975 … 0.05183389660666059 0.05183389660666058; … ; 0.04845190828344746 0.04901298615411996 … 0.051833896606660566 0.051833896606660566; 0.04845190828344746 0.04901298615411996 … 0.05183389660666058 0.05183389660666057]\n",
       "\n",
       "[0.05947160380218958 0.09357870795645482 … 0.1062336888819425 0.10623368888194253; 0.05947160380218958 0.09357870795645484 … 0.10623368888194254 0.10623368888194255; … ; 0.05947160380218957 0.0935787079564548 … 0.10623368888194253 0.10623368888194255; 0.059471603802189583 0.09357870795645482 … 0.10623368888194251 0.10623368888194254]\n",
       "\n",
       "[0.06424684428038076 0.10788396623571485 … 0.11108284139785998 0.11108284139785998; 0.06424684428038076 0.10788396623571482 … 0.11108284139786001 0.11108284139785998; … ; 0.06424684428038074 0.1078839662357148 … 0.11108284139785998 0.11108284139786; 0.06424684428038077 0.10788396623571482 … 0.11108284139785994 0.11108284139786002])"
      ]
     },
     "execution_count": 259,
     "metadata": {},
     "output_type": "execute_result"
    }
   ],
   "source": [
    "e, g =  robust_baum_welch_ndim(X, pi_init, A_init, delta_X_init, emission_dists, num_iters, r)"
   ]
  },
  {
   "cell_type": "code",
   "execution_count": 260,
   "id": "cb44371a",
   "metadata": {},
   "outputs": [
    {
     "data": {
      "text/plain": [
       "(20, 999, 10, 10)"
      ]
     },
     "execution_count": 260,
     "metadata": {},
     "output_type": "execute_result"
    }
   ],
   "source": [
    "size(e)"
   ]
  },
  {
   "cell_type": "code",
   "execution_count": 261,
   "id": "1a9981ab",
   "metadata": {},
   "outputs": [
    {
     "data": {
      "text/plain": [
       "(20, 1000, 10)"
      ]
     },
     "execution_count": 261,
     "metadata": {},
     "output_type": "execute_result"
    }
   ],
   "source": [
    "size(g)"
   ]
  },
  {
   "cell_type": "code",
   "execution_count": 267,
   "id": "48b2213e",
   "metadata": {},
   "outputs": [],
   "source": [
    "pi_next = zeros(size(pi_init)) ; \n",
    "A_next = zeros(size(A_init)) ; \n",
    "\n"
   ]
  },
  {
   "cell_type": "code",
   "execution_count": 264,
   "id": "d42fa1ce",
   "metadata": {},
   "outputs": [],
   "source": [
    "for seq_num=1:size(X,1)\n",
    "    pi_next = pi_next + g[seq_num, 1, :]\n",
    "end\n",
    "pi_next = pi_next./(size(X,1)) ; \n",
    "\n"
   ]
  },
  {
   "cell_type": "code",
   "execution_count": 265,
   "id": "e51a64f2",
   "metadata": {},
   "outputs": [
    {
     "data": {
      "text/plain": [
       "10-element Vector{Float64}:\n",
       " 0.06713076288971047\n",
       " 0.10851807778313978\n",
       " 0.1968365783236022\n",
       " 0.0615606287869154\n",
       " 0.18798436062584714\n",
       " 0.1529691011067217\n",
       " 0.05283013411804542\n",
       " 0.048451908283447455\n",
       " 0.05947160380218959\n",
       " 0.06424684428038077"
      ]
     },
     "execution_count": 265,
     "metadata": {},
     "output_type": "execute_result"
    }
   ],
   "source": [
    "pi_init"
   ]
  },
  {
   "cell_type": "code",
   "execution_count": 268,
   "id": "04c338ac",
   "metadata": {},
   "outputs": [
    {
     "data": {
      "text/plain": [
       "10-element Vector{Float64}:\n",
       " 0.0\n",
       " 0.0\n",
       " 0.0\n",
       " 0.0\n",
       " 0.0\n",
       " 0.0\n",
       " 0.0\n",
       " 0.0\n",
       " 0.0\n",
       " 0.0"
      ]
     },
     "execution_count": 268,
     "metadata": {},
     "output_type": "execute_result"
    }
   ],
   "source": [
    "pi_next"
   ]
  },
  {
   "cell_type": "code",
   "execution_count": null,
   "id": "8c839165",
   "metadata": {},
   "outputs": [],
   "source": []
  },
  {
   "cell_type": "code",
   "execution_count": null,
   "id": "4e092c7b",
   "metadata": {},
   "outputs": [],
   "source": []
  },
  {
   "cell_type": "code",
   "execution_count": null,
   "id": "98ab6ab3",
   "metadata": {},
   "outputs": [],
   "source": []
  },
  {
   "cell_type": "code",
   "execution_count": null,
   "id": "2e0a2a9a",
   "metadata": {},
   "outputs": [],
   "source": []
  },
  {
   "cell_type": "code",
   "execution_count": null,
   "id": "4fba9712",
   "metadata": {},
   "outputs": [],
   "source": []
  },
  {
   "cell_type": "code",
   "execution_count": 256,
   "id": "884d2829",
   "metadata": {},
   "outputs": [
    {
     "name": "stdout",
     "output_type": "stream",
     "text": [
      "[0.005731982379661205, 0.18640254054641925, 0.0026368940937286514, 0.06431681767614554, 0.18644711276326892, 0.13422864586371736, 0.10453448480750317, 0.015375680205471226, 0.12856280415430646, 0.17176303750977812]\n",
      "Forward backward done\n",
      "Current log-likelihood: -4264.9614040421\n",
      "Begin model optim\n",
      "Model optimization done!\n",
      "FB run again done\n",
      "Updated A - BEFORE\n",
      "[0.0, 0.0, 0.0, 0.0, 0.0, 0.0, 0.0, 0.0, 0.0, 0.0]\n",
      "HII\n",
      "0.00038479235001703463\n",
      "Updated A\n",
      "[0.0057319823796612105, 0.18640254054641955, 0.0026368940937286527, 0.06431681767614568, 0.18644711276326903, 0.13422864586371747, 0.10453448480750324, 0.01537568020547123, 0.12856280415430651, 0.17176303750977812]\n",
      "[0.0057319823796612105, 0.18640254054641955, 0.0026368940937286527, 0.06431681767614568, 0.18644711276326903, 0.13422864586371747, 0.10453448480750324, 0.01537568020547123, 0.12856280415430651, 0.17176303750977812]\n",
      "Forward backward done\n",
      "Current log-likelihood: -4264.9614040421\n",
      "Begin model optim\n",
      "Model optimization done!\n",
      "FB run again done\n",
      "Updated A - BEFORE\n",
      "[0.0, 0.0, 0.0, 0.0, 0.0, 0.0, 0.0, 0.0, 0.0, 0.0]\n",
      "HII\n",
      "0.00038479235001703506\n",
      "Updated A\n",
      "[0.005731982379661217, 0.1864025405464196, 0.0026368940937286514, 0.06431681767614572, 0.18644711276326906, 0.13422864586371747, 0.10453448480750316, 0.015375680205471236, 0.12856280415430651, 0.17176303750977798]\n",
      "[0.005731982379661217, 0.1864025405464196, 0.0026368940937286514, 0.06431681767614572, 0.18644711276326906, 0.13422864586371747, 0.10453448480750316, 0.015375680205471236, 0.12856280415430651, 0.17176303750977798]\n",
      "Forward backward done\n",
      "Current log-likelihood: -4264.9614040421\n",
      "Begin model optim\n",
      "Model optimization done!\n",
      "FB run again done\n",
      "Updated A - BEFORE\n",
      "[0.0, 0.0, 0.0, 0.0, 0.0, 0.0, 0.0, 0.0, 0.0, 0.0]\n",
      "HII\n",
      "0.0003847923500170357\n",
      "Updated A\n",
      "[0.005731982379661221, 0.1864025405464198, 0.002636894093728651, 0.06431681767614585, 0.18644711276326909, 0.13422864586371747, 0.1045344848075031, 0.015375680205471245, 0.1285628041543065, 0.17176303750977795]\n",
      "[0.005731982379661221, 0.1864025405464198, 0.002636894093728651, 0.06431681767614585, 0.18644711276326909, 0.13422864586371747, 0.1045344848075031, 0.015375680205471245, 0.1285628041543065, 0.17176303750977795]\n",
      "Forward backward done\n",
      "Current log-likelihood: -4264.9614040421\n",
      "Begin model optim\n",
      "Model optimization done!\n",
      "FB run again done\n",
      "Updated A - BEFORE\n",
      "[0.0, 0.0, 0.0, 0.0, 0.0, 0.0, 0.0, 0.0, 0.0, 0.0]\n",
      "HII\n",
      "0.00038479235001703625\n",
      "Updated A\n",
      "[0.0057319823796612235, 0.18640254054641983, 0.00263689409372865, 0.06431681767614592, 0.18644711276326922, 0.1342286458637174, 0.10453448480750302, 0.015375680205471249, 0.12856280415430646, 0.17176303750977787]\n",
      "[0.0057319823796612235, 0.18640254054641983, 0.00263689409372865, 0.06431681767614592, 0.18644711276326922, 0.1342286458637174, 0.10453448480750302, 0.015375680205471249, 0.12856280415430646, 0.17176303750977787]\n",
      "Forward backward done\n",
      "Current log-likelihood: -4264.9614040421\n",
      "Begin model optim\n",
      "Model optimization done!\n",
      "FB run again done\n",
      "Updated A - BEFORE\n",
      "[0.0, 0.0, 0.0, 0.0, 0.0, 0.0, 0.0, 0.0, 0.0, 0.0]\n",
      "HII\n",
      "0.0003847923500170368\n",
      "Updated A\n",
      "[0.005731982379661229, 0.18640254054642008, 0.00263689409372865, 0.06431681767614597, 0.18644711276326928, 0.13422864586371744, 0.10453448480750291, 0.015375680205471247, 0.1285628041543064, 0.17176303750977778]\n",
      "[0.005731982379661229, 0.18640254054642008, 0.00263689409372865, 0.06431681767614597, 0.18644711276326928, 0.13422864586371744, 0.10453448480750291, 0.015375680205471247, 0.1285628041543064, 0.17176303750977778]\n",
      "Forward backward done\n",
      "Current log-likelihood: -4264.9614040421\n",
      "Begin model optim\n",
      "Model optimization done!\n",
      "FB run again done\n",
      "Updated A - BEFORE\n",
      "[0.0, 0.0, 0.0, 0.0, 0.0, 0.0, 0.0, 0.0, 0.0, 0.0]\n",
      "HII\n",
      "0.0003847923500170375\n",
      "Updated A\n",
      "[0.00573198237966123, 0.18640254054642003, 0.002636894093728645, 0.064316817676146, 0.18644711276326897, 0.1342286458637172, 0.10453448480750269, 0.01537568020547122, 0.12856280415430615, 0.17176303750977753]\n",
      "[0.00573198237966123, 0.18640254054642003, 0.002636894093728645, 0.064316817676146, 0.18644711276326897, 0.1342286458637172, 0.10453448480750269, 0.01537568020547122, 0.12856280415430615, 0.17176303750977753]\n",
      "Forward backward done\n",
      "Current log-likelihood: -4264.9614040421\n",
      "Begin model optim\n"
     ]
    },
    {
     "ename": "LoadError",
     "evalue": "InterruptException:",
     "output_type": "error",
     "traceback": [
      "InterruptException:",
      "",
      "Stacktrace:",
      "  [1] Array",
      "    @ ./boot.jl:448 [inlined]",
      "  [2] Array",
      "    @ ./boot.jl:457 [inlined]",
      "  [3] zeros",
      "    @ ./array.jl:503 [inlined]",
      "  [4] zeros",
      "    @ ./array.jl:499 [inlined]",
      "  [5] rehash!(h::OrderedCollections.OrderedDict{UnorderedPair{VariableRef}, Float64}, newsz::Int64)",
      "    @ OrderedCollections /Users/iai/builds/InterpretableAI/SystemImage/SysImgBuilder/.julia/packages/OrderedCollections/PRayh/src/ordered_dict.jl:133",
      "  [6] _setindex!(h::OrderedCollections.OrderedDict{UnorderedPair{VariableRef}, Float64}, v::Float64, key::UnorderedPair{VariableRef}, index::Int64)",
      "    @ OrderedCollections /Users/iai/builds/InterpretableAI/SystemImage/SysImgBuilder/.julia/packages/OrderedCollections/PRayh/src/ordered_dict.jl:316",
      "  [7] get!",
      "    @ /Users/iai/builds/InterpretableAI/SystemImage/SysImgBuilder/.julia/packages/OrderedCollections/PRayh/src/ordered_dict.jl:350 [inlined]",
      "  [8] _add_or_set!(dict::OrderedCollections.OrderedDict{UnorderedPair{VariableRef}, Float64}, k::UnorderedPair{VariableRef}, v::Float64)",
      "    @ JuMP /Users/iai/builds/InterpretableAI/SystemImage/SysImgBuilder/.julia/packages/JuMP/qhoVb/src/aff_expr.jl:26",
      "  [9] add_to_expression!(quad::QuadExpr, var::VariableRef, aff::AffExpr)",
      "    @ JuMP /Users/iai/builds/InterpretableAI/SystemImage/SysImgBuilder/.julia/packages/JuMP/qhoVb/src/quad_expr.jl:222",
      " [10] add_to_expression!",
      "    @ /Users/iai/builds/InterpretableAI/SystemImage/SysImgBuilder/.julia/packages/JuMP/qhoVb/src/quad_expr.jl:230 [inlined]",
      " [11] mutable_operate!",
      "    @ /Users/iai/builds/InterpretableAI/SystemImage/SysImgBuilder/.julia/packages/JuMP/qhoVb/src/mutable_arithmetics.jl:139 [inlined]",
      " [12] mutable_buffered_operate_fallback",
      "    @ /Users/iai/builds/InterpretableAI/SystemImage/SysImgBuilder/.julia/packages/MutableArithmetics/6pKCK/src/interface.jl:356 [inlined]",
      " [13] mutable_buffered_operate!",
      "    @ /Users/iai/builds/InterpretableAI/SystemImage/SysImgBuilder/.julia/packages/MutableArithmetics/6pKCK/src/interface.jl:368 [inlined]",
      " [14] buffered_operate_fallback!",
      "    @ /Users/iai/builds/InterpretableAI/SystemImage/SysImgBuilder/.julia/packages/MutableArithmetics/6pKCK/src/interface.jl:470 [inlined]",
      " [15] buffered_operate!",
      "    @ /Users/iai/builds/InterpretableAI/SystemImage/SysImgBuilder/.julia/packages/MutableArithmetics/6pKCK/src/interface.jl:453 [inlined]",
      " [16] fused_map_reduce(::typeof(MutableArithmetics.add_mul), ::Transpose{AffExpr, Vector{AffExpr}}, ::Vector{VariableRef})",
      "    @ MutableArithmetics /Users/iai/builds/InterpretableAI/SystemImage/SysImgBuilder/.julia/packages/MutableArithmetics/6pKCK/src/reduce.jl:34",
      " [17] _dot_nonrecursive",
      "    @ /Users/iai/builds/InterpretableAI/SystemImage/SysImgBuilder/.julia/packages/MutableArithmetics/6pKCK/src/dispatch.jl:33 [inlined]",
      " [18] *",
      "    @ /Users/julia/buildbot/worker/package_macos64/build/usr/share/julia/stdlib/v1.6/LinearAlgebra/src/adjtrans.jl:298 [inlined]",
      " [19] *",
      "    @ ./operators.jl:560 [inlined]",
      " [20] (::var\"#346#354\"{Int64, Vector{IsoNormal}, Array{Float64, 3}, Array{VariableRef, 3}, Int64})(i::Int64)",
      "    @ Main ./none:0",
      " [21] iterate",
      "    @ ./generator.jl:47 [inlined]",
      " [22] iterate(f::Base.Iterators.Flatten{Base.Generator{UnitRange{Int64}, var\"#347#353\"{Vector{IsoNormal}, Array{Float64, 3}, Array{VariableRef, 3}, Int64}}}, state::Tuple{Int64, Base.Generator{UnitRange{Int64}, var\"#346#354\"{Int64, Vector{IsoNormal}, Array{Float64, 3}, Array{VariableRef, 3}, Int64}}, Int64})",
      "    @ Base.Iterators ./iterators.jl:1090",
      " [23] grow_to!(dest::Vector{QuadExpr}, itr::Base.Iterators.Flatten{Base.Generator{UnitRange{Int64}, var\"#347#353\"{Vector{IsoNormal}, Array{Float64, 3}, Array{VariableRef, 3}, Int64}}}, st::Tuple{Int64, Base.Generator{UnitRange{Int64}, var\"#346#354\"{Int64, Vector{IsoNormal}, Array{Float64, 3}, Array{VariableRef, 3}, Int64}}, Int64})",
      "    @ Base ./array.jl:770",
      " [24] grow_to!(dest::Vector{Any}, itr::Base.Iterators.Flatten{Base.Generator{UnitRange{Int64}, var\"#347#353\"{Vector{IsoNormal}, Array{Float64, 3}, Array{VariableRef, 3}, Int64}}})",
      "    @ Base ./array.jl:743",
      " [25] _collect",
      "    @ ./array.jl:652 [inlined]",
      " [26] collect(itr::Base.Iterators.Flatten{Base.Generator{UnitRange{Int64}, var\"#347#353\"{Vector{IsoNormal}, Array{Float64, 3}, Array{VariableRef, 3}, Int64}}})",
      "    @ Base ./array.jl:602",
      " [27] macro expansion",
      "    @ /Users/iai/builds/InterpretableAI/SystemImage/SysImgBuilder/.julia/packages/MutableArithmetics/6pKCK/src/rewrite.jl:279 [inlined]",
      " [28] macro expansion",
      "    @ /Users/iai/builds/InterpretableAI/SystemImage/SysImgBuilder/.julia/packages/JuMP/qhoVb/src/macros.jl:830 [inlined]",
      " [29] robust_baum_welch_ndim(X::Array{Float64, 3}, pi_init::Vector{Float64}, A_init::Matrix{Float64}, delta_X_init::Array{Float64, 3}, emission_dists::Vector{IsoNormal}, num_iters::Int64, r::Float64)",
      "    @ Main ./In[251]:129",
      " [30] top-level scope",
      "    @ In[256]:1",
      " [31] eval",
      "    @ ./boot.jl:360 [inlined]",
      " [32] include_string(mapexpr::typeof(REPL.softscope), mod::Module, code::String, filename::String)",
      "    @ Base ./loading.jl:1116"
     ]
    }
   ],
   "source": [
    "Pr,Ar,Lr = robust_baum_welch_ndim(X, pi_init, A_init, delta_X_init, emission_dists, num_iters, r)"
   ]
  },
  {
   "cell_type": "code",
   "execution_count": null,
   "id": "3bc6a3a0",
   "metadata": {},
   "outputs": [],
   "source": []
  },
  {
   "cell_type": "code",
   "execution_count": null,
   "id": "75f36f7e",
   "metadata": {},
   "outputs": [],
   "source": []
  },
  {
   "cell_type": "code",
   "execution_count": null,
   "id": "60ea8f53",
   "metadata": {},
   "outputs": [],
   "source": []
  },
  {
   "cell_type": "code",
   "execution_count": 51,
   "id": "dd32a526",
   "metadata": {},
   "outputs": [
    {
     "ename": "LoadError",
     "evalue": "UndefVarError: trace not defined",
     "output_type": "error",
     "traceback": [
      "UndefVarError: trace not defined",
      "",
      "Stacktrace:",
      " [1] top-level scope",
      "   @ In[51]:1",
      " [2] eval",
      "   @ ./boot.jl:360 [inlined]",
      " [3] include_string(mapexpr::typeof(REPL.softscope), mod::Module, code::String, filename::String)",
      "   @ Base ./loading.jl:1116"
     ]
    }
   ],
   "source": [
    "trace(I)"
   ]
  },
  {
   "cell_type": "code",
   "execution_count": 49,
   "id": "46296b52",
   "metadata": {},
   "outputs": [
    {
     "ename": "LoadError",
     "evalue": "ArgumentError: Determinant of UniformScaling is only well-defined when λ = 0 or 1.",
     "output_type": "error",
     "traceback": [
      "ArgumentError: Determinant of UniformScaling is only well-defined when λ = 0 or 1.",
      "",
      "Stacktrace:",
      " [1] det(J::UniformScaling{Int64})",
      "   @ LinearAlgebra /Users/julia/buildbot/worker/package_macos64/build/usr/share/julia/stdlib/v1.6/LinearAlgebra/src/uniformscaling.jl:246",
      " [2] top-level scope",
      "   @ In[49]:1",
      " [3] eval",
      "   @ ./boot.jl:360 [inlined]",
      " [4] include_string(mapexpr::typeof(REPL.softscope), mod::Module, code::String, filename::String)",
      "   @ Base ./loading.jl:1116"
     ]
    }
   ],
   "source": [
    "det(2*I)"
   ]
  },
  {
   "cell_type": "code",
   "execution_count": 108,
   "id": "7d2ebe58",
   "metadata": {},
   "outputs": [
    {
     "data": {
      "text/plain": [
       "1×3 transpose(::Vector{Float64}) with eltype Float64:\n",
       " 0.0  0.0  0.0"
      ]
     },
     "execution_count": 108,
     "metadata": {},
     "output_type": "execute_result"
    }
   ],
   "source": [
    "transpose(emission_dists[1].μ)*inv(emission_dists[1].Σ)"
   ]
  },
  {
   "cell_type": "code",
   "execution_count": 62,
   "id": "0613fb12",
   "metadata": {},
   "outputs": [
    {
     "data": {
      "text/plain": [
       "(1000, 3)"
      ]
     },
     "execution_count": 62,
     "metadata": {},
     "output_type": "execute_result"
    }
   ],
   "source": [
    "size(X)[2:3]"
   ]
  },
  {
   "cell_type": "code",
   "execution_count": 65,
   "id": "4c7b2072",
   "metadata": {},
   "outputs": [],
   "source": [
    "u = X[1,:,:] ;"
   ]
  },
  {
   "cell_type": "code",
   "execution_count": 67,
   "id": "1acd2a64",
   "metadata": {},
   "outputs": [
    {
     "data": {
      "text/plain": [
       "3-element Vector{Float64}:\n",
       "  0.7425321519376099\n",
       "  1.648948159295813\n",
       " -0.43472772996005504"
      ]
     },
     "execution_count": 67,
     "metadata": {},
     "output_type": "execute_result"
    }
   ],
   "source": [
    "u[1,:]"
   ]
  },
  {
   "cell_type": "code",
   "execution_count": 71,
   "id": "b803e9f6",
   "metadata": {},
   "outputs": [
    {
     "data": {
      "text/plain": [
       "3.4593722279023704"
      ]
     },
     "execution_count": 71,
     "metadata": {},
     "output_type": "execute_result"
    }
   ],
   "source": [
    "norm(u[1,:], 2)^2"
   ]
  },
  {
   "cell_type": "code",
   "execution_count": 26,
   "id": "b14bdfeb",
   "metadata": {},
   "outputs": [],
   "source": [
    "## Generate one sequence of 1000 timesteps\n",
    "seq_length = 1000 ; \n",
    "num_sequences = 20 ; "
   ]
  },
  {
   "cell_type": "code",
   "execution_count": 31,
   "id": "391e850f",
   "metadata": {},
   "outputs": [],
   "source": [
    "s,x = rand(hmm, seq_length, seq = true) ;"
   ]
  },
  {
   "cell_type": "code",
   "execution_count": 35,
   "id": "0122aea7",
   "metadata": {},
   "outputs": [
    {
     "data": {
      "text/plain": [
       "1000×3 Matrix{Float64}:\n",
       "  0.0246219  -0.0410029   1.99978\n",
       "  1.48096    -0.141245    1.63028\n",
       "  0.201126   -0.764587   -0.544744\n",
       "  0.334778    0.0294533   1.05326\n",
       " -0.52362    -0.727942   -0.0200151\n",
       "  0.228437   -0.311071    0.0935617\n",
       "  0.33808     1.08787    -0.000316027\n",
       "  0.964487   -0.404965   -0.0944125\n",
       " -0.0780092  -0.0862497  -0.139523\n",
       " -0.222118   -1.0021     -0.159288\n",
       " -0.135179   -0.089117    0.117415\n",
       " -0.613601    0.596678    0.765797\n",
       " -0.8501      0.550711    1.71316\n",
       "  ⋮                      \n",
       " -0.314742    2.57044     2.03102\n",
       " -0.479169   -0.56626     1.38726\n",
       " -0.372939   -0.219043    1.56455\n",
       " -0.953225    0.731408    0.525932\n",
       " -0.985582    0.30214     1.37618\n",
       " -0.696925    1.47246     0.147839\n",
       "  1.78996    -0.773076    0.0747903\n",
       " -0.692385    0.0726283  -1.6835\n",
       "  0.929946   -0.302633   -0.481467\n",
       " -0.818804   -1.30909     0.144131\n",
       "  0.0253339  -0.165985   -1.41855\n",
       "  0.0993988   3.14447    -1.94995"
      ]
     },
     "execution_count": 35,
     "metadata": {},
     "output_type": "execute_result"
    }
   ],
   "source": [
    "x"
   ]
  },
  {
   "cell_type": "code",
   "execution_count": 157,
   "id": "fb8d2f5e",
   "metadata": {},
   "outputs": [
    {
     "data": {
      "text/plain": [
       "25-element Vector{Int64}:\n",
       "  2\n",
       "  3\n",
       "  4\n",
       "  5\n",
       "  6\n",
       "  3\n",
       "  4\n",
       "  5\n",
       "  6\n",
       "  7\n",
       "  4\n",
       "  5\n",
       "  6\n",
       "  7\n",
       "  8\n",
       "  5\n",
       "  6\n",
       "  7\n",
       "  8\n",
       "  9\n",
       "  6\n",
       "  7\n",
       "  8\n",
       "  9\n",
       " 10"
      ]
     },
     "execution_count": 157,
     "metadata": {},
     "output_type": "execute_result"
    }
   ],
   "source": [
    "[i+j for i=1:5 for j=1:5]"
   ]
  },
  {
   "cell_type": "code",
   "execution_count": 176,
   "id": "3c25123f",
   "metadata": {},
   "outputs": [],
   "source": [
    "h = X[1,:,:] ;"
   ]
  },
  {
   "cell_type": "code",
   "execution_count": 181,
   "id": "39fbc6ed",
   "metadata": {},
   "outputs": [],
   "source": [
    "h = ones((1000, m,n)) ; "
   ]
  },
  {
   "cell_type": "code",
   "execution_count": null,
   "id": "d2c53bfd",
   "metadata": {},
   "outputs": [],
   "source": [
    "(alpha_half_current[seq_num,t,i]*beta_current[seq_num,t,i]*(transpose(diff[t,i,:])*inv(emission_dists[i].Σ)*diff[t,i,:])) for t=1:size(size(X,2)) for i=1:m]"
   ]
  },
  {
   "cell_type": "code",
   "execution_count": 171,
   "id": "ec6b576a",
   "metadata": {},
   "outputs": [],
   "source": [
    "delta_X_current = zeros(size(X));"
   ]
  },
  {
   "cell_type": "code",
   "execution_count": 170,
   "id": "81087cae",
   "metadata": {},
   "outputs": [],
   "source": [
    "alpha_current = zeros((size(X,1) , size(X,2), m)) ;  #alpha indexed as alpha[seq_num,t,i]\n",
    "beta_current = zeros((size(X,1) , size(X,2), m)) ;  #beta[seq_num,t,i]\n",
    "\n",
    "\n",
    "# Run forward-backward algorithm on all the sequences\n",
    "for seq_num=1:size(X,1)    \n",
    "    alpha_current[seq_num,:,:], ll = forward(hmm, (X[seq_num,:,:]+delta_X_current[seq_num,:,:])) ;\n",
    "    beta_current[seq_num,:,:], ll = backward(hmm, (X[seq_num,:,:]+delta_X_current[seq_num,:,:])) ;\n",
    "end\n",
    "\n"
   ]
  },
  {
   "cell_type": "code",
   "execution_count": 174,
   "id": "dbffe39f",
   "metadata": {},
   "outputs": [],
   "source": [
    "seq_num = 1 ; "
   ]
  },
  {
   "cell_type": "code",
   "execution_count": null,
   "id": "be624079",
   "metadata": {},
   "outputs": [],
   "source": []
  },
  {
   "cell_type": "code",
   "execution_count": null,
   "id": "479fd2ba",
   "metadata": {},
   "outputs": [],
   "source": []
  },
  {
   "cell_type": "code",
   "execution_count": 182,
   "id": "ebedb712",
   "metadata": {},
   "outputs": [
    {
     "data": {
      "text/plain": [
       "10000-element Vector{Float64}:\n",
       " 0.014972181988092503\n",
       " 0.013261815990199287\n",
       " 0.009270994981717809\n",
       " 0.025979954420469194\n",
       " 0.015892863349781843\n",
       " 0.0015403181366254492\n",
       " 0.006433206396088235\n",
       " 0.04568700884463553\n",
       " 0.05319708647882735\n",
       " 0.013764569413562737\n",
       " 0.0229611171056891\n",
       " 0.010156733450823853\n",
       " 0.024336044625454894\n",
       " ⋮\n",
       " 0.022386534981319706\n",
       " 0.016267234771067476\n",
       " 0.18244577614328575\n",
       " 0.15601143441960236\n",
       " 0.21018090899105327\n",
       " 0.24883061736264483\n",
       " 0.25061612697357233\n",
       " 0.19565560191562817\n",
       " 0.1879841240561336\n",
       " 0.181737712614208\n",
       " 0.22386534981319706\n",
       " 0.16267234771067476"
      ]
     },
     "execution_count": 182,
     "metadata": {},
     "output_type": "execute_result"
    }
   ],
   "source": [
    "[alpha_current[seq_num,t,i]*beta_current[seq_num,t,i]*(transpose(h[t,i,:])*inv(emission_dists[1].Σ)*h[t,i,:]) for t=1:size(X,2) for i=1:m]"
   ]
  },
  {
   "cell_type": "code",
   "execution_count": null,
   "id": "fe42058e",
   "metadata": {},
   "outputs": [],
   "source": []
  },
  {
   "cell_type": "code",
   "execution_count": null,
   "id": "e4b7c581",
   "metadata": {},
   "outputs": [],
   "source": []
  },
  {
   "cell_type": "code",
   "execution_count": null,
   "id": "704e9766",
   "metadata": {},
   "outputs": [],
   "source": []
  },
  {
   "cell_type": "code",
   "execution_count": null,
   "id": "327ddabc",
   "metadata": {},
   "outputs": [],
   "source": []
  },
  {
   "cell_type": "code",
   "execution_count": null,
   "id": "ebab0943",
   "metadata": {},
   "outputs": [],
   "source": []
  },
  {
   "cell_type": "code",
   "execution_count": 144,
   "id": "b6ec7e0b",
   "metadata": {},
   "outputs": [
    {
     "data": {
      "text/plain": [
       "20×1000×3 Array{Float64, 3}:\n",
       "[:, :, 1] =\n",
       "  0.742532  -1.00302    -0.572823   …  -0.13167     -0.320232  -0.265798\n",
       " -1.99921   -1.05023    -0.336079       0.0651552   -0.437036  -1.12099\n",
       "  1.41401    0.328875    0.0793479      1.74794      1.83906    0.958324\n",
       "  0.393962  -0.755595    0.0964813      0.701131     1.15727    0.366434\n",
       "  1.26838   -1.27887     1.66532        0.16423      0.653526   1.10484\n",
       " -0.789669  -0.630657    0.678604   …  -0.018806     0.422562   0.322423\n",
       " -0.851912   2.06731    -1.00969       -0.508921     1.88905    0.384148\n",
       " -0.41489    0.936814   -1.46444        0.25425      1.00549   -1.50591\n",
       " -1.63868    0.0167095   0.0702795     -0.635849    -0.820002   1.37481\n",
       " -0.172184   0.850276   -0.592796       1.35256     -0.506908   2.46384\n",
       "  1.86638    0.187303   -1.59953    …  -1.27856      0.644456   1.26978\n",
       "  0.930849   1.14642    -0.503961      -1.35314      0.456268   1.58343\n",
       " -0.194104   2.0996     -1.72355       -0.173945     0.146781  -0.422132\n",
       "  0.935858  -1.01588    -2.09473        0.531345    -1.72551    0.681297\n",
       "  1.20105    0.114335   -0.688046       1.64637      0.436674  -0.0662605\n",
       "  1.06491    2.06236     0.453638   …   0.516292    -0.306679  -1.49506\n",
       " -1.92463    0.237022    1.62592        0.318335     0.184065   0.974163\n",
       " -1.99039    0.431995   -0.0349715     -1.26497      1.7791     0.263582\n",
       " -1.27846    0.826962   -0.225589       0.216766    -0.128067   1.10859\n",
       "  0.538313   0.834043    0.690109      -0.00389458  -0.119271   0.626141\n",
       "\n",
       "[:, :, 2] =\n",
       "  1.64895   -0.844451  -0.0696373    0.831676   …  -0.448979     0.764756\n",
       " -0.852355  -1.00379    1.12072     -0.946886      -0.0870212   -2.12378\n",
       " -0.814519  -0.709718   0.950088     0.372025      -0.79319     -0.515002\n",
       " -0.412836  -0.291722  -0.00714047   0.223849       0.510959     0.577601\n",
       " -0.536341   0.539446  -1.10114     -1.71859        0.331067     0.523313\n",
       " -0.840535   2.43179   -1.11955     -0.78112    …  -0.872315     0.966903\n",
       "  2.42432   -0.781564  -1.08759     -0.455539       0.209779     1.10772\n",
       "  1.26147   -1.47117   -1.3303       0.455022       0.33107      0.636248\n",
       "  1.49218    0.7248    -1.99288      1.31486        2.19023     -1.6286\n",
       " -0.664184   1.04761   -0.484249     1.77331        1.70581     -0.847483\n",
       " -0.301458   1.12954   -0.908757     0.284569   …   0.00491927  -2.00788\n",
       " -0.720701  -0.802867   0.340075     0.824294      -2.49946      1.8046\n",
       "  0.582813   0.133551  -1.77979      0.222083      -0.266705    -0.22166\n",
       "  1.04365   -0.922771   0.394975     0.0130312     -1.30898      0.292152\n",
       " -0.577943  -1.34045   -0.0236364   -1.45383       -0.244348    -0.809406\n",
       "  0.320372   2.24445    0.313824     0.545467   …   1.40586     -0.0907503\n",
       "  0.525171   0.539027  -0.49901      0.943816       0.0720398    1.55969\n",
       "  0.319881   1.21702   -0.930273    -1.24245        0.26085     -0.679986\n",
       " -0.256153   1.24401    0.55791     -0.101908      -2.12705     -0.00891679\n",
       " -0.774466   0.778021   1.42402      1.87777        0.356116    -0.452932\n",
       "\n",
       "[:, :, 3] =\n",
       " -0.434728  -0.283023   0.586707   …   0.843256   -0.213218   0.417267\n",
       "  0.282809   0.779283  -1.34778       -1.17208     0.632423   0.275765\n",
       "  1.43227   -0.961169  -0.760875      -0.149601    1.26693    1.26159\n",
       " -0.73598    0.308033  -1.74573       -1.50636    -0.253594  -0.458012\n",
       "  0.521584  -0.35022    0.590483       1.0778     -0.848502  -0.261283\n",
       "  0.156368   0.435914  -0.0192574  …  -1.04881     0.692873   0.475826\n",
       " -1.34758    0.923066   0.728788       0.313581   -0.411687   1.69777\n",
       " -1.22021   -1.3439    -0.402362       0.315812   -1.24647   -1.07167\n",
       " -0.70558   -0.253389   0.62975       -0.477629   -0.554926   0.600324\n",
       " -0.953412  -0.415966   0.0997761      0.318703    0.507932   2.98298\n",
       " -0.517933  -0.30311   -0.264263   …   1.21569    -0.322829  -1.52596\n",
       "  1.57842    0.856292  -0.395998      -0.0436327  -0.196659   1.90122\n",
       "  0.984234   0.875595   0.12161        0.276294   -0.193306   0.206308\n",
       "  0.795853  -1.19613   -0.354616       0.186525    1.42842    1.54386\n",
       " -0.317219  -0.410409   0.0701952      1.03013    -0.188575  -2.23496\n",
       " -0.285608   0.93805    0.766633   …   1.01238     1.60045   -0.612911\n",
       "  0.608508  -1.09801   -0.426623       1.6675     -0.201447   1.52466\n",
       " -0.385216  -0.991304   0.0307599     -1.50213    -1.75207   -0.0727433\n",
       "  1.19914    0.25325    0.379195      -0.772452    0.291775   0.454194\n",
       " -0.177484  -0.304247  -0.202586      -0.497128   -0.460544  -0.611567"
      ]
     },
     "execution_count": 144,
     "metadata": {},
     "output_type": "execute_result"
    }
   ],
   "source": [
    "X"
   ]
  },
  {
   "cell_type": "code",
   "execution_count": null,
   "id": "9832808c",
   "metadata": {},
   "outputs": [],
   "source": []
  },
  {
   "cell_type": "code",
   "execution_count": null,
   "id": "df16b8f9",
   "metadata": {},
   "outputs": [],
   "source": []
  },
  {
   "cell_type": "code",
   "execution_count": null,
   "id": "8167541d",
   "metadata": {},
   "outputs": [],
   "source": []
  },
  {
   "cell_type": "code",
   "execution_count": null,
   "id": "904e10f8",
   "metadata": {},
   "outputs": [],
   "source": []
  },
  {
   "cell_type": "code",
   "execution_count": 19,
   "id": "753ff62f",
   "metadata": {},
   "outputs": [
    {
     "ename": "LoadError",
     "evalue": "MethodError: no method matching Normal(::Vector{Float64}, ::UniformScaling{Bool})",
     "output_type": "error",
     "traceback": [
      "MethodError: no method matching Normal(::Vector{Float64}, ::UniformScaling{Bool})",
      "",
      "Stacktrace:",
      " [1] top-level scope",
      "   @ In[19]:1",
      " [2] eval",
      "   @ ./boot.jl:360 [inlined]",
      " [3] include_string(mapexpr::typeof(REPL.softscope), mod::Module, code::String, filename::String)",
      "   @ Base ./loading.jl:1116"
     ]
    }
   ],
   "source": [
    "Normal(mu0,I)"
   ]
  },
  {
   "cell_type": "code",
   "execution_count": 15,
   "id": "7a8e70e8",
   "metadata": {},
   "outputs": [
    {
     "data": {
      "text/plain": [
       "3"
      ]
     },
     "execution_count": 15,
     "metadata": {},
     "output_type": "execute_result"
    }
   ],
   "source": []
  },
  {
   "cell_type": "code",
   "execution_count": null,
   "id": "e6962afe",
   "metadata": {},
   "outputs": [],
   "source": []
  }
 ],
 "metadata": {
  "kernelspec": {
   "display_name": "Julia 1.6.2",
   "language": "julia",
   "name": "julia-1.6"
  },
  "language_info": {
   "file_extension": ".jl",
   "mimetype": "application/julia",
   "name": "julia",
   "version": "1.6.2"
  }
 },
 "nbformat": 4,
 "nbformat_minor": 5
}

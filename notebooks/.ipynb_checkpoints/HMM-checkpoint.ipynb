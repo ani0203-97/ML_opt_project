{
 "cells": [
  {
   "cell_type": "code",
   "execution_count": 1,
   "id": "2a23ff01",
   "metadata": {},
   "outputs": [],
   "source": [
    "using Random\n",
    "using Statistics\n",
    "using DataFrames\n",
    "using CSV\n",
    "using Plots\n",
    "using JuMP, Gurobi\n",
    "using GLMNet\n",
    "using MLBase\n",
    "using Pkg\n",
    "using Distributions\n",
    "using HMMBase\n",
    "using BenchmarkTools\n",
    "using Distances\n",
    "using EvalMetrics\n",
    "using LinearAlgebra"
   ]
  },
  {
   "cell_type": "code",
   "execution_count": 2,
   "id": "bc633441",
   "metadata": {},
   "outputs": [
    {
     "name": "stderr",
     "output_type": "stream",
     "text": [
      "\u001b[32m\u001b[1m    Updating\u001b[22m\u001b[39m registry at `~/.julia/registries/General`\n",
      "\u001b[32m\u001b[1m   Resolving\u001b[22m\u001b[39m package versions...\n",
      "\u001b[32m\u001b[1m  No Changes\u001b[22m\u001b[39m to `~/.julia/environments/v1.6/Project.toml`\n",
      "\u001b[32m\u001b[1m  No Changes\u001b[22m\u001b[39m to `~/.julia/environments/v1.6/Manifest.toml`\n"
     ]
    }
   ],
   "source": [
    "using Pkg\n",
    "Pkg.add(\"EvalMetrics\")"
   ]
  },
  {
   "cell_type": "code",
   "execution_count": 3,
   "id": "0dd3d563",
   "metadata": {},
   "outputs": [
    {
     "name": "stdout",
     "output_type": "stream",
     "text": [
      "Academic license - for non-commercial use only - expires 2022-09-11\n"
     ]
    }
   ],
   "source": [
    "gurobi_env = Gurobi.Env() ; "
   ]
  },
  {
   "cell_type": "code",
   "execution_count": 4,
   "id": "74e9da50",
   "metadata": {},
   "outputs": [
    {
     "data": {
      "text/latex": [
       "$$ \\begin{alignat*}{1}\\text{feasibility}\\\\\n",
       "\\text{Subject to} \\quad\\end{alignat*}\n",
       " $$"
      ],
      "text/plain": [
       "A JuMP Model\n",
       "Feasibility problem with:\n",
       "Variables: 0\n",
       "Model mode: AUTOMATIC\n",
       "CachingOptimizer state: EMPTY_OPTIMIZER\n",
       "Solver name: Gurobi"
      ]
     },
     "execution_count": 4,
     "metadata": {},
     "output_type": "execute_result"
    }
   ],
   "source": [
    "model = Model(with_optimizer(Gurobi.Optimizer, gurobi_env))"
   ]
  },
  {
   "cell_type": "code",
   "execution_count": 5,
   "id": "2e4b9d36",
   "metadata": {},
   "outputs": [
    {
     "data": {
      "text/plain": [
       "MersenneTwister(15095)"
      ]
     },
     "execution_count": 5,
     "metadata": {},
     "output_type": "execute_result"
    }
   ],
   "source": [
    "Random.seed!(15095)"
   ]
  },
  {
   "cell_type": "code",
   "execution_count": 6,
   "id": "2b92c045",
   "metadata": {},
   "outputs": [],
   "source": [
    "## Define size of problem \n",
    "m = 10 ; #Number of states"
   ]
  },
  {
   "cell_type": "markdown",
   "id": "4c9d990b",
   "metadata": {},
   "source": [
    "### Define True HMM parameters and emission distributions"
   ]
  },
  {
   "cell_type": "code",
   "execution_count": 7,
   "id": "ce87e46d",
   "metadata": {},
   "outputs": [],
   "source": [
    "# Define True probabilities matrix\n",
    "pi_true = rand(Float64, m) ; \n",
    "pi_true = (pi_true)./(sum(pi_true)) ;  # So that initial probabilities sum to 1\n",
    "\n",
    "#Define State transition probabilities\n",
    "\n",
    "A_true = rand(Float64, (m,m)) ; \n",
    "for i =1:m\n",
    "   A_true[i,:]  = A_true[i,:]/(sum(A_true[i,:])) ;\n",
    "end"
   ]
  },
  {
   "cell_type": "code",
   "execution_count": 8,
   "id": "76b65758",
   "metadata": {},
   "outputs": [
    {
     "name": "stdout",
     "output_type": "stream",
     "text": [
      "True probabilities: \n"
     ]
    },
    {
     "data": {
      "text/plain": [
       "10-element Vector{Float64}:\n",
       " 0.07486090994046252\n",
       " 0.06630907995099644\n",
       " 0.04635497490858906\n",
       " 0.12989977210234596\n",
       " 0.07946431674890926\n",
       " 0.007701590683127249\n",
       " 0.03216603198044118\n",
       " 0.22843504422317773\n",
       " 0.2659854323941368\n",
       " 0.06882284706781369"
      ]
     },
     "execution_count": 8,
     "metadata": {},
     "output_type": "execute_result"
    }
   ],
   "source": [
    "println(\"True probabilities: \")\n",
    "pi_true"
   ]
  },
  {
   "cell_type": "code",
   "execution_count": 9,
   "id": "b3a1559b",
   "metadata": {},
   "outputs": [
    {
     "name": "stdout",
     "output_type": "stream",
     "text": [
      "State transition probabilities: \n"
     ]
    },
    {
     "data": {
      "text/plain": [
       "10×10 Matrix{Float64}:\n",
       " 0.0752931   0.1341      0.0197698  …  0.0199917  0.116939   0.131136\n",
       " 0.0850281   0.00812193  0.110777      0.140611   0.160813   0.102774\n",
       " 0.118604    0.0305247   0.0441062     0.0406136  0.0577275  0.11217\n",
       " 0.00860176  0.133947    0.124884      0.13774    0.108742   0.0446017\n",
       " 0.114674    0.100397    0.0918971     0.131533   0.127359   0.0111749\n",
       " 0.03043     0.148723    0.100613   …  0.0977629  0.14696    0.0136002\n",
       " 0.0678053   0.0963498   0.161962      0.0260425  0.137581   0.0375044\n",
       " 0.184826    0.00294772  0.125397      0.194892   0.0573867  0.0430482\n",
       " 0.135083    0.00606615  0.176531      0.0378103  0.0582549  0.194518\n",
       " 0.105152    0.0999984   0.0828344     0.0766694  0.173632   0.148507"
      ]
     },
     "execution_count": 9,
     "metadata": {},
     "output_type": "execute_result"
    }
   ],
   "source": [
    "println(\"State transition probabilities: \")\n",
    "A_true"
   ]
  },
  {
   "cell_type": "code",
   "execution_count": 10,
   "id": "0490a6c7",
   "metadata": {},
   "outputs": [],
   "source": [
    "k = 2 ;\n",
    "\n",
    "emission_dists = [Normal(0,1) , Normal(1*k,1) , Normal(2*k,1), Normal(3*k,1), Normal(4*k,1)\n",
    "                , Normal(5*k,1), Normal(6*k,1), Normal(7*k,1), Normal(8*k,1), Normal(9*k,1) ] ; "
   ]
  },
  {
   "cell_type": "code",
   "execution_count": 11,
   "id": "a8d646a4",
   "metadata": {},
   "outputs": [],
   "source": [
    "hmm = HMM(pi_true , A_true, emission_dists) ; "
   ]
  },
  {
   "cell_type": "markdown",
   "id": "3eadec28",
   "metadata": {},
   "source": [
    "#### Generate multiple sequences"
   ]
  },
  {
   "cell_type": "code",
   "execution_count": 12,
   "id": "4cdf55c4",
   "metadata": {},
   "outputs": [],
   "source": [
    "## Generate one sequence of 1000 timesteps\n",
    "seq_length = 1000 ; \n",
    "num_sequences = 20 ; \n",
    "\n",
    "\n",
    "S = zeros((num_sequences, seq_length)) ; \n",
    "X = zeros((num_sequences, seq_length)) ; \n",
    "\n",
    "for i =1:num_sequences\n",
    "    S[i,:] , X[i,:] = rand(hmm, seq_length, seq = true) ; \n",
    "end\n"
   ]
  },
  {
   "cell_type": "markdown",
   "id": "8d0d598d",
   "metadata": {},
   "source": [
    "### Define EM algorithm initializations and hyperparameters"
   ]
  },
  {
   "cell_type": "code",
   "execution_count": 13,
   "id": "ef59cc92",
   "metadata": {},
   "outputs": [],
   "source": [
    "## Initialize guesses\n",
    "\n",
    "pi_init = rand(Float64, m) ;  \n",
    "pi_init = (pi_init)./(sum(pi_init)) ;  # So that initial probabilities sum to 1\n",
    "\n",
    "\n",
    "#Define State transition probabilities\n",
    "\n",
    "A_init = rand(Float64, (m,m)) ; \n",
    "for i =1:m\n",
    "   A_init[i,:]  = A_init[i,:]/(sum(A_init[i,:])) ;\n",
    "end\n",
    "\n",
    "\n",
    "#Initial guess for robust delta(X)\n",
    "delta_X_init = zeros(size(X)) ; "
   ]
  },
  {
   "cell_type": "code",
   "execution_count": 14,
   "id": "2a28383a",
   "metadata": {},
   "outputs": [
    {
     "name": "stdout",
     "output_type": "stream",
     "text": [
      "Initial probabilities: \n"
     ]
    },
    {
     "data": {
      "text/plain": [
       "10-element Vector{Float64}:\n",
       " 0.09337126311566676\n",
       " 0.13008960499648123\n",
       " 0.0903743031576442\n",
       " 0.0368527173717776\n",
       " 0.13669754313436053\n",
       " 0.12923806151185907\n",
       " 0.11316055276641604\n",
       " 0.056188388928618625\n",
       " 0.07585790846187433\n",
       " 0.1381696565553015"
      ]
     },
     "execution_count": 14,
     "metadata": {},
     "output_type": "execute_result"
    }
   ],
   "source": [
    "println(\"Initial probabilities: \")\n",
    "pi_init"
   ]
  },
  {
   "cell_type": "code",
   "execution_count": 15,
   "id": "dc68d176",
   "metadata": {},
   "outputs": [
    {
     "name": "stdout",
     "output_type": "stream",
     "text": [
      "State transition probabilities: \n"
     ]
    },
    {
     "data": {
      "text/plain": [
       "10×10 Matrix{Float64}:\n",
       " 0.119182   0.0916132  0.145215    …  0.0452275   0.151424    0.120948\n",
       " 0.192092   0.0640587  0.00398755     0.036053    0.125179    0.0894101\n",
       " 0.140599   0.0378444  0.203763       0.199694    0.00892771  0.142407\n",
       " 0.0438746  0.0858752  0.15924        0.0845655   0.0858255   0.131774\n",
       " 0.110856   0.135899   0.160083       0.0711038   0.0407293   0.150869\n",
       " 0.115175   0.0554857  0.0432153   …  0.149235    0.089961    0.116349\n",
       " 0.185008   0.125405   0.0715968      0.151615    0.0904685   0.00362629\n",
       " 0.106545   0.0842589  0.117221       0.123764    0.121444    0.108599\n",
       " 0.120168   0.0522632  0.146165       0.00783045  0.106014    0.14683\n",
       " 0.16063    0.0921704  0.0609777      0.136268    0.024164    0.0335079"
      ]
     },
     "execution_count": 15,
     "metadata": {},
     "output_type": "execute_result"
    }
   ],
   "source": [
    "println(\"State transition probabilities: \")\n",
    "A_init"
   ]
  },
  {
   "cell_type": "code",
   "execution_count": 16,
   "id": "a43e5d0d",
   "metadata": {},
   "outputs": [],
   "source": [
    "## Define hyperparameters for algo\n",
    "\n",
    "r = 0.05 ; # Radius of uncertainty set to be used\n",
    "num_iters = 100 ; "
   ]
  },
  {
   "cell_type": "markdown",
   "id": "f66bd2a3",
   "metadata": {},
   "source": [
    "### Define EM algorithm functions"
   ]
  },
  {
   "cell_type": "code",
   "execution_count": 17,
   "id": "bb0f2206",
   "metadata": {},
   "outputs": [
    {
     "data": {
      "text/plain": [
       "baum_welch (generic function with 1 method)"
      ]
     },
     "execution_count": 17,
     "metadata": {},
     "output_type": "execute_result"
    }
   ],
   "source": [
    "## Start EM algorithm for multiple sequence training\n",
    "\n",
    "function baum_welch(X, pi_init, A_init, delta_X_init, emission_dists, num_iters)\n",
    "\n",
    "    pi_current = pi_init ; \n",
    "    A_current = A_init ; \n",
    "    delta_X_current = delta_X_init ; \n",
    "\n",
    "\n",
    "    ll_tracker = [] ; \n",
    "    ll_last = -1e+8 ;\n",
    "\n",
    "    for iter=1:num_iters\n",
    "\n",
    "        if (iter%10==0)\n",
    "            print(\"Running iteration number: \") ; \n",
    "            println(iter) ; \n",
    "        end\n",
    "\n",
    "        ## E-step - Compute α and β given current pi, A and delta_X\n",
    "\n",
    "        # For current iteration define HMM with current guesses of pi, A and delta_X \n",
    "\n",
    "        # Emission distribution is assumed to be known\n",
    "        hmm_current = HMM(pi_current , A_current, emission_dists) ; \n",
    "\n",
    "        # Using current estimate of worst possible delta_X to get α and β\n",
    "\n",
    "        alpha_current = zeros((size(X,1) , size(X,2), m)) ;  #alpha indexed as alpha[seq_num,t,i]\n",
    "        beta_current = zeros((size(X,1) , size(X,2), m)) ;  #beta[seq_num,t,i]\n",
    "\n",
    "\n",
    "        # Run forward-backward algorithm on all the sequences\n",
    "        for seq_num=1:size(X,1)    \n",
    "            alpha_current[seq_num,:,:], ll = forward(hmm_current, (X[seq_num,:]+delta_X_current[seq_num,:])) ;\n",
    "            beta_current[seq_num,:,:], ll = backward(hmm_current, (X[seq_num,:]+delta_X_current[seq_num,:])) ;\n",
    "        end\n",
    "\n",
    "\n",
    "        ## Multiply in sigma and -1 for ease in later computations\n",
    "\n",
    "        alpha_sigma_current = zeros(size(alpha_current)) ; \n",
    "        for i=1:m\n",
    "             alpha_sigma_current[:,:,i] = -(alpha_current[:,:,i])/(2*(emission_dists[i].σ)^2) ; \n",
    "        end\n",
    "\n",
    "\n",
    "        ##Track log-likelihood - of current parameters guess with the actual data \n",
    "\n",
    "        ll_tr = 0 \n",
    "        for seq_num=1:size(X,1)\n",
    "            alp_discard, ll_temp = forward(hmm_current, (X[seq_num,:]) ) ;\n",
    "            ll_tr = ll_tr + ll_temp\n",
    "        end\n",
    "\n",
    "        ll_tr = (1/size(X,1))*ll_tr ; \n",
    "\n",
    "        append!(ll_tracker, ll_tr) ; \n",
    "        print(\"Current log-likelihood: \") ; \n",
    "        println(ll_tr) ; \n",
    "\n",
    "#         if ((ll_tr - ll_last) < 1e-3)\n",
    "#              return pi_current, A_current\n",
    "#         end\n",
    "        \n",
    "        ll_last = ll_tr ; \n",
    "        \n",
    "        ## Define new quantities γ_ij(t) and ξ_ij(t) for each sequence\n",
    "\n",
    "        gamma_current = zeros((size(X,1), size(X,2) , m)) ; ## Indexed as γ[seq_num,t,i]\n",
    "        eta_current = zeros((size(X,1) , size(X,2)-1, m, m)) ;  # Indexed as ξ[seq_num,t,i,j]\n",
    "\n",
    "        # Fill in gamma vals\n",
    "        gamma_current = alpha_current.*beta_current ; \n",
    "\n",
    "        for seq_num=1:size(X,1)\n",
    "            for t=1:size(X,2)        \n",
    "                gamma_current[seq_num, t, :] = gamma_current[seq_num, t, :]./(sum(gamma_current[seq_num, t, :])) ;             \n",
    "            end\n",
    "        end\n",
    "\n",
    "        ## FIll in eta vals\n",
    "\n",
    "        for seq_num=1:size(X,1)\n",
    "            for i=1:m\n",
    "                for j=1:m\n",
    "                    for t=1:size(X,2)-1\n",
    "                        eta_current[seq_num,t,i,j] = alpha_current[seq_num,t,i]*A_current[i,j]*(pdf( emission_dists[j], (X[seq_num,t+1]+delta_X_current[seq_num,t+1]) ))*beta_current[seq_num, t+1,j]\n",
    "                    end\n",
    "                end\n",
    "            end\n",
    "        end\n",
    "\n",
    "        for seq_num=1:size(X,1)\n",
    "            for t=1:size(X,2)-1\n",
    "                 eta_current[seq_num,t,:,:] = eta_current[seq_num, t,:,:]/sum(eta_current[seq_num,t,:,:])  ;  \n",
    "            end\n",
    "        end\n",
    "\n",
    "    #     println(\"Computed necessary vals\")\n",
    "    #     println(size(eta_current))\n",
    "\n",
    "        ## Update parameter values \n",
    "\n",
    "        pi_next = zeros(size(pi_init)) ; \n",
    "        A_next = zeros(size(A_init)) ; \n",
    "\n",
    "        for seq_num=1:size(X,1)\n",
    "            pi_next = pi_next + gamma_current[seq_num, 1, :]\n",
    "        end\n",
    "        pi_next = pi_next./(size(X,1)) ; \n",
    "\n",
    "        for i=1:m\n",
    "            for j=1:m        \n",
    "                A_next[i,j] = sum(eta_current[:,:,i,j])/sum(gamma_current[:,1:size(X,2)-1,i]) ;                      \n",
    "            end\n",
    "        end\n",
    "\n",
    "\n",
    "        pi_current = pi_next ; \n",
    "        A_current = A_next ; \n",
    "\n",
    "    #     println(\"One loop over\")\n",
    "\n",
    "    end\n",
    "    return pi_current, A_current, ll_tracker\n",
    "end"
   ]
  },
  {
   "cell_type": "code",
   "execution_count": 18,
   "id": "2316e751",
   "metadata": {},
   "outputs": [
    {
     "data": {
      "text/plain": [
       "robust_baum_welch (generic function with 1 method)"
      ]
     },
     "execution_count": 18,
     "metadata": {},
     "output_type": "execute_result"
    }
   ],
   "source": [
    "## Start EM algorithm for multiple sequence training\n",
    "\n",
    "function robust_baum_welch(X, pi_init, A_init, delta_X_init, emission_dists, num_iters, r)\n",
    "\n",
    "    pi_current = pi_init ; \n",
    "    A_current = A_init ; \n",
    "    delta_X_current = delta_X_init ; \n",
    "\n",
    "\n",
    "    ll_tracker = [] ; \n",
    "    \n",
    "    \n",
    "    ll_last = -1e+8 ; \n",
    "\n",
    "    for iter=1:num_iters\n",
    "\n",
    "        if (iter%10==0)\n",
    "            print(\"Running iteration number: \") ; \n",
    "            println(iter) ; \n",
    "        end\n",
    "\n",
    "        ## E-step - Compute α and β given current pi, A and delta_X\n",
    "\n",
    "        # For current iteration define HMM with current guesses of pi, A and delta_X \n",
    "\n",
    "        # Emission distribution is assumed to be known\n",
    "        hmm_current = HMM(pi_current , A_current, emission_dists) ; \n",
    "\n",
    "        # Using current estimate of worst possible delta_X to get α and β\n",
    "\n",
    "        alpha_current = zeros((size(X,1) , size(X,2), m)) ;  #alpha indexed as alpha[seq_num,t,i]\n",
    "        beta_current = zeros((size(X,1) , size(X,2), m)) ;  #beta[seq_num,t,i]\n",
    "\n",
    "\n",
    "        # Run forward-backward algorithm on all the sequences\n",
    "        for seq_num=1:size(X,1)    \n",
    "            alpha_current[seq_num,:,:], ll = forward(hmm_current, (X[seq_num,:]+delta_X_current[seq_num,:])) ;\n",
    "            beta_current[seq_num,:,:], ll = backward(hmm_current, (X[seq_num,:]+delta_X_current[seq_num,:])) ;\n",
    "        end\n",
    "\n",
    "\n",
    "        ## Multiply in sigma and -1 for ease in later computations\n",
    "\n",
    "        alpha_sigma_current = zeros(size(alpha_current)) ; \n",
    "        for i=1:m\n",
    "             alpha_sigma_current[:,:,i] = -(alpha_current[:,:,i])/(2*(emission_dists[i].σ)^2) ; \n",
    "        end\n",
    "\n",
    "\n",
    "        ##Track log-likelihood - of current parameters guess with the actual data \n",
    "\n",
    "        ll_tr = 0 \n",
    "        for seq_num=1:size(X,1)\n",
    "            alp_discard, ll_temp = forward(hmm_current, (X[seq_num,:]) ) ;\n",
    "            ll_tr = ll_tr + ll_temp\n",
    "        end\n",
    "\n",
    "        ll_tr = (1/size(X,1))*ll_tr ; \n",
    "    \n",
    "        \n",
    "        append!(ll_tracker, ll_tr) ; \n",
    "        print(\"Current log-likelihood: \") ; \n",
    "        println(ll_tr) ; \n",
    "        #print(ll_last) ; \n",
    "    \n",
    "        \n",
    "#         if ((ll_tr - ll_last) < 1e-3)\n",
    "#              return pi_current, A_current\n",
    "#         end\n",
    "\n",
    "\n",
    "        \n",
    "        ll_last = ll_tr ; \n",
    "\n",
    "        ## M-step 1: Solve inner minimization problem to get best value of delta_X\n",
    "        ## Do this by solving minimization problem for each sequence one after another - It's the same thing for \n",
    "        ## Each sequence and they do no interact in any way!\n",
    "        for seq_num=1:size(X,1)\n",
    "\n",
    "            # Build model\n",
    "            model = Model(with_optimizer(Gurobi.Optimizer, gurobi_env, NonConvex = 2)) ; \n",
    "            set_optimizer_attribute(model, \"OutputFlag\", 0) ;\n",
    "\n",
    "            # Insert variables\n",
    "\n",
    "            #delta_x variables\n",
    "            @variable(model,delta_X[t=1:size(X,2)]) ; # If multivariate change this line\n",
    "            @variable(model,diff[t=1:size(X,2), i=1:m]) ;  # If multivariate change this line\n",
    "\n",
    "            #Insert constraints - For 1-D it is the same to use 1-norm or 2-norm will use linear constraints\n",
    "\n",
    "            @constraint(model,[i=1:size(X,2)], delta_X[i] <= r ) ;\n",
    "            @constraint(model,[i=1:size(X,2)], delta_X[i] >= -r ) ;\n",
    "            @constraint(model,[t=1:size(X,2), i=1:m], diff[t,i] == (X[seq_num, t] + delta_X[t] - emission_dists[i].μ )) ;\n",
    "\n",
    "\n",
    "            #Objective\n",
    "            @objective(model,Min, sum(alpha_sigma_current[seq_num,:,:].*beta_current[seq_num,:,:].*(diff.^2))) ;\n",
    "\n",
    "            # Optimize\n",
    "            optimize!(model)\n",
    "\n",
    "            delta_X_current[seq_num, :] = value.(delta_X) ;       \n",
    "        end\n",
    "\n",
    "        #println(\"Model optimization done!\")\n",
    "\n",
    "\n",
    "\n",
    "        ## M-step 2: Replace X by X+delta_X_current - Solve for pi_new, A_new\n",
    "\n",
    "        ## Re-compute α and β based on new delta? Not sure if to do or not - Can try both and \n",
    "        #see which gives good results\n",
    "\n",
    "        alpha_current = zeros((size(X,1) , size(X,2), m)) ;  #alpha indexed as alpha[seq_num,t,i]\n",
    "        beta_current = zeros((size(X,1) , size(X,2), m)) ;  #beta[seq_num,t,i]\n",
    "\n",
    "        # Run forward-backward algorithm on all the sequences\n",
    "        for seq_num=1:size(X,1)    \n",
    "            alpha_current[seq_num,:,:], ll = forward(hmm_current, (X[seq_num,:]+delta_X_current[seq_num,:])) ;\n",
    "            beta_current[seq_num,:,:], ll = backward(hmm_current, (X[seq_num,:]+delta_X_current[seq_num,:])) ;\n",
    "        end\n",
    "\n",
    "\n",
    "        ## Define new quantities γ_ij(t) and ξ_ij(t) for each sequence\n",
    "\n",
    "        gamma_current = zeros((size(X,1), size(X,2) , m)) ; ## Indexed as γ[seq_num,t,i]\n",
    "        eta_current = zeros((size(X,1) , size(X,2)-1, m, m)) ;  # Indexed as ξ[seq_num,t,i,j]\n",
    "\n",
    "        # Fill in gamma vals\n",
    "        gamma_current = alpha_current.*beta_current ; \n",
    "\n",
    "        for seq_num=1:size(X,1)\n",
    "            for t=1:size(X,2)        \n",
    "                gamma_current[seq_num, t, :] = gamma_current[seq_num, t, :]./(sum(gamma_current[seq_num, t, :])) ;             \n",
    "            end\n",
    "        end\n",
    "\n",
    "        ## FIll in eta vals\n",
    "\n",
    "        for seq_num=1:size(X,1)\n",
    "            for i=1:m\n",
    "                for j=1:m\n",
    "                    for t=1:size(X,2)-1\n",
    "                        eta_current[seq_num,t,i,j] = alpha_current[seq_num,t,i]*A_current[i,j]*(pdf( emission_dists[j], (X[seq_num,t+1]+delta_X_current[seq_num,t+1]) ))*beta_current[seq_num, t+1,j]\n",
    "                    end\n",
    "                end\n",
    "            end\n",
    "        end\n",
    "\n",
    "        for seq_num=1:size(X,1)\n",
    "            for t=1:size(X,2)-1\n",
    "                 eta_current[seq_num,t,:,:] = eta_current[seq_num, t,:,:]/sum(eta_current[seq_num,t,:,:])  ;  \n",
    "            end\n",
    "        end\n",
    "\n",
    "    #     println(\"Computed necessary vals\")\n",
    "    #     println(size(eta_current))\n",
    "\n",
    "        ## Update parameter values \n",
    "\n",
    "        pi_next = zeros(size(pi_init)) ; \n",
    "        A_next = zeros(size(A_init)) ; \n",
    "\n",
    "        for seq_num=1:size(X,1)\n",
    "            pi_next = pi_next + gamma_current[seq_num, 1, :]\n",
    "        end\n",
    "        pi_next = pi_next./(size(X,1)) ; \n",
    "\n",
    "        for i=1:m\n",
    "            for j=1:m        \n",
    "                A_next[i,j] = sum(eta_current[:,:,i,j])/sum(gamma_current[:,1:size(X,2)-1,i]) ;                      \n",
    "            end\n",
    "        end\n",
    "\n",
    "\n",
    "        pi_current = pi_next ; \n",
    "        A_current = A_next ; \n",
    "\n",
    "    #     println(\"One loop over\")\n",
    "\n",
    "    end\n",
    "    return pi_current, A_current, ll_tracker\n",
    "end\n",
    "\n"
   ]
  },
  {
   "cell_type": "code",
   "execution_count": 19,
   "id": "174d5643",
   "metadata": {},
   "outputs": [
    {
     "data": {
      "text/plain": [
       "optimistic_baum_welch (generic function with 1 method)"
      ]
     },
     "execution_count": 19,
     "metadata": {},
     "output_type": "execute_result"
    }
   ],
   "source": [
    "## Start EM algorithm for multiple sequence training\n",
    "\n",
    "function optimistic_baum_welch(X, pi_init, A_init, delta_X_init, emission_dists, num_iters, r)\n",
    "\n",
    "    pi_current = pi_init ; \n",
    "    A_current = A_init ; \n",
    "    delta_X_current = delta_X_init ; \n",
    "\n",
    "\n",
    "    ll_tracker = [] ; \n",
    "    \n",
    "    \n",
    "    ll_last = -1e+8 ; \n",
    "\n",
    "    for iter=1:num_iters\n",
    "\n",
    "        if (iter%10==0)\n",
    "            print(\"Running iteration number: \") ; \n",
    "            println(iter) ; \n",
    "        end\n",
    "\n",
    "        ## E-step - Compute α and β given current pi, A and delta_X\n",
    "\n",
    "        # For current iteration define HMM with current guesses of pi, A and delta_X \n",
    "\n",
    "        # Emission distribution is assumed to be known\n",
    "        hmm_current = HMM(pi_current , A_current, emission_dists) ; \n",
    "\n",
    "        # Using current estimate of worst possible delta_X to get α and β\n",
    "\n",
    "        alpha_current = zeros((size(X,1) , size(X,2), m)) ;  #alpha indexed as alpha[seq_num,t,i]\n",
    "        beta_current = zeros((size(X,1) , size(X,2), m)) ;  #beta[seq_num,t,i]\n",
    "\n",
    "\n",
    "        # Run forward-backward algorithm on all the sequences\n",
    "        for seq_num=1:size(X,1)    \n",
    "            alpha_current[seq_num,:,:], ll = forward(hmm_current, (X[seq_num,:]+delta_X_current[seq_num,:])) ;\n",
    "            beta_current[seq_num,:,:], ll = backward(hmm_current, (X[seq_num,:]+delta_X_current[seq_num,:])) ;\n",
    "        end\n",
    "\n",
    "\n",
    "        ## Multiply in sigma and -1 for ease in later computations\n",
    "\n",
    "        alpha_sigma_current = zeros(size(alpha_current)) ; \n",
    "        for i=1:m\n",
    "             alpha_sigma_current[:,:,i] = -(alpha_current[:,:,i])/(2*(emission_dists[i].σ)^2) ; \n",
    "        end\n",
    "\n",
    "\n",
    "        ##Track log-likelihood - of current parameters guess with the actual data \n",
    "\n",
    "        ll_tr = 0 \n",
    "        for seq_num=1:size(X,1)\n",
    "            alp_discard, ll_temp = forward(hmm_current, (X[seq_num,:]) ) ;\n",
    "            ll_tr = ll_tr + ll_temp\n",
    "        end\n",
    "\n",
    "        ll_tr = (1/size(X,1))*ll_tr ; \n",
    "    \n",
    "        \n",
    "        append!(ll_tracker, ll_tr) ; \n",
    "        print(\"Current log-likelihood: \") ; \n",
    "        println(ll_tr) ; \n",
    "        #print(ll_last) ; \n",
    "    \n",
    "        \n",
    "#         if ((ll_tr - ll_last) < 1e-3)\n",
    "#              return pi_current, A_current\n",
    "#         end\n",
    "\n",
    "\n",
    "        \n",
    "        ll_last = ll_tr ; \n",
    "\n",
    "        ## M-step 1: Solve inner minimization problem to get best value of delta_X\n",
    "        ## Do this by solving minimization problem for each sequence one after another - It's the same thing for \n",
    "        ## Each sequence and they do no interact in any way!\n",
    "        for seq_num=1:size(X,1)\n",
    "\n",
    "            # Build model\n",
    "            model = Model(with_optimizer(Gurobi.Optimizer, gurobi_env)) ; \n",
    "            set_optimizer_attribute(model, \"OutputFlag\", 0) ;\n",
    "\n",
    "            # Insert variables\n",
    "\n",
    "            #delta_x variables\n",
    "            @variable(model,delta_X[t=1:size(X,2)]) ; # If multivariate change this line\n",
    "            @variable(model,diff[t=1:size(X,2), i=1:m]) ;  # If multivariate change this line\n",
    "\n",
    "            #Insert constraints - For 1-D it is the same to use 1-norm or 2-norm will use linear constraints\n",
    "\n",
    "            @constraint(model,[i=1:size(X,2)], delta_X[i] <= r ) ;\n",
    "            @constraint(model,[i=1:size(X,2)], delta_X[i] >= -r ) ;\n",
    "            @constraint(model,[t=1:size(X,2), i=1:m], diff[t,i] == (X[seq_num, t] + delta_X[t] - emission_dists[i].μ )) ;\n",
    "\n",
    "\n",
    "            #Objective\n",
    "            @objective(model,Max, sum(alpha_sigma_current[seq_num,:,:].*beta_current[seq_num,:,:].*(diff.^2))) ;\n",
    "\n",
    "            # Optimize\n",
    "            optimize!(model)\n",
    "\n",
    "            delta_X_current[seq_num, :] = value.(delta_X) ;       \n",
    "        end\n",
    "\n",
    "        #println(\"Model optimization done!\")\n",
    "\n",
    "\n",
    "\n",
    "        ## M-step 2: Replace X by X+delta_X_current - Solve for pi_new, A_new\n",
    "\n",
    "        ## Re-compute α and β based on new delta? Not sure if to do or not - Can try both and \n",
    "        #see which gives good results\n",
    "\n",
    "        alpha_current = zeros((size(X,1) , size(X,2), m)) ;  #alpha indexed as alpha[seq_num,t,i]\n",
    "        beta_current = zeros((size(X,1) , size(X,2), m)) ;  #beta[seq_num,t,i]\n",
    "\n",
    "        # Run forward-backward algorithm on all the sequences\n",
    "        for seq_num=1:size(X,1)    \n",
    "            alpha_current[seq_num,:,:], ll = forward(hmm_current, (X[seq_num,:]+delta_X_current[seq_num,:])) ;\n",
    "            beta_current[seq_num,:,:], ll = backward(hmm_current, (X[seq_num,:]+delta_X_current[seq_num,:])) ;\n",
    "        end\n",
    "\n",
    "\n",
    "        ## Define new quantities γ_ij(t) and ξ_ij(t) for each sequence\n",
    "\n",
    "        gamma_current = zeros((size(X,1), size(X,2) , m)) ; ## Indexed as γ[seq_num,t,i]\n",
    "        eta_current = zeros((size(X,1) , size(X,2)-1, m, m)) ;  # Indexed as ξ[seq_num,t,i,j]\n",
    "\n",
    "        # Fill in gamma vals\n",
    "        gamma_current = alpha_current.*beta_current ; \n",
    "\n",
    "        for seq_num=1:size(X,1)\n",
    "            for t=1:size(X,2)        \n",
    "                gamma_current[seq_num, t, :] = gamma_current[seq_num, t, :]./(sum(gamma_current[seq_num, t, :])) ;             \n",
    "            end\n",
    "        end\n",
    "\n",
    "        ## FIll in eta vals\n",
    "\n",
    "        for seq_num=1:size(X,1)\n",
    "            for i=1:m\n",
    "                for j=1:m\n",
    "                    for t=1:size(X,2)-1\n",
    "                        eta_current[seq_num,t,i,j] = alpha_current[seq_num,t,i]*A_current[i,j]*(pdf( emission_dists[j], (X[seq_num,t+1]+delta_X_current[seq_num,t+1]) ))*beta_current[seq_num, t+1,j]\n",
    "                    end\n",
    "                end\n",
    "            end\n",
    "        end\n",
    "\n",
    "        for seq_num=1:size(X,1)\n",
    "            for t=1:size(X,2)-1\n",
    "                 eta_current[seq_num,t,:,:] = eta_current[seq_num, t,:,:]/sum(eta_current[seq_num,t,:,:])  ;  \n",
    "            end\n",
    "        end\n",
    "\n",
    "    #     println(\"Computed necessary vals\")\n",
    "    #     println(size(eta_current))\n",
    "\n",
    "        ## Update parameter values \n",
    "\n",
    "        pi_next = zeros(size(pi_init)) ; \n",
    "        A_next = zeros(size(A_init)) ; \n",
    "\n",
    "        for seq_num=1:size(X,1)\n",
    "            pi_next = pi_next + gamma_current[seq_num, 1, :]\n",
    "        end\n",
    "        pi_next = pi_next./(size(X,1)) ; \n",
    "\n",
    "        for i=1:m\n",
    "            for j=1:m        \n",
    "                A_next[i,j] = sum(eta_current[:,:,i,j])/sum(gamma_current[:,1:size(X,2)-1,i]) ;                      \n",
    "            end\n",
    "        end\n",
    "\n",
    "\n",
    "        pi_current = pi_next ; \n",
    "        A_current = A_next ; \n",
    "\n",
    "    #     println(\"One loop over\")\n",
    "\n",
    "    end\n",
    "    return pi_current, A_current, ll_tracker\n",
    "end\n",
    "\n",
    "\n"
   ]
  },
  {
   "cell_type": "code",
   "execution_count": 20,
   "id": "862d2243",
   "metadata": {},
   "outputs": [
    {
     "data": {
      "text/plain": [
       "25"
      ]
     },
     "execution_count": 20,
     "metadata": {},
     "output_type": "execute_result"
    }
   ],
   "source": [
    "num_iters = 25"
   ]
  },
  {
   "cell_type": "code",
   "execution_count": 45,
   "id": "b6318695",
   "metadata": {
    "scrolled": true
   },
   "outputs": [
    {
     "name": "stdout",
     "output_type": "stream",
     "text": [
      "Current log-likelihood: -3119.846310717446\n",
      "Current log-likelihood: -3043.3314971862455\n",
      "Current log-likelihood: -3025.0196638652615\n",
      "Current log-likelihood: -3016.5316267114526\n",
      "Current log-likelihood: -3011.9098513592953\n",
      "Current log-likelihood: -3009.1290409987164\n",
      "Current log-likelihood: -3007.3017245468673\n",
      "Current log-likelihood: -3006.0266230853003\n",
      "Current log-likelihood: -3005.0815573690506\n",
      "Running iteration number: 10\n",
      "Current log-likelihood: -3004.376257969454\n",
      "Current log-likelihood: -3003.818543147768\n",
      "Current log-likelihood: -3003.380147009155\n",
      "Current log-likelihood: -3003.0298696746904\n",
      "Current log-likelihood: -3002.748430705276\n",
      "Current log-likelihood: -3002.518165037167\n",
      "Current log-likelihood: -3002.331453969042\n",
      "Current log-likelihood: -3002.175789068484\n",
      "Current log-likelihood: -3002.0478157174216\n",
      "Current log-likelihood: -3001.9395792967134\n",
      "Running iteration number: 20\n",
      "Current log-likelihood: -3001.849907739719\n",
      "Current log-likelihood: -3001.7728359445555\n",
      "Current log-likelihood: -3001.708456885841\n",
      "Current log-likelihood: -3001.651657194934\n",
      "Current log-likelihood: -3001.605054400899\n",
      "Current log-likelihood: -3001.562948143986\n"
     ]
    },
    {
     "data": {
      "text/plain": [
       "([0.04999926679916111, 1.638469724915356e-6, 4.149325203445562e-7, 0.13163449017264878, 0.0974023009864676, 0.06817860224822266, 0.017047836274403073, 0.1824371890449663, 0.31681750153453236, 0.13648075953735286], [0.07924420129100972 0.12405305958230471 … 0.11197431683084959 0.11055682481982165; 0.07554368413800505 0.03773410407278053 … 0.17932643427374376 0.09160622481802054; … ; 0.14232834957099583 0.010064460574151293 … 0.06962234954508903 0.1861526097799557; 0.11383566714179431 0.11567120183719239 … 0.14267012356907194 0.14716774330895901], Any[-3119.846310717446, -3043.3314971862455, -3025.0196638652615, -3016.5316267114526, -3011.9098513592953, -3009.1290409987164, -3007.3017245468673, -3006.0266230853003, -3005.0815573690506, -3004.376257969454  …  -3002.331453969042, -3002.175789068484, -3002.0478157174216, -3001.9395792967134, -3001.849907739719, -3001.7728359445555, -3001.708456885841, -3001.651657194934, -3001.605054400899, -3001.562948143986])"
      ]
     },
     "execution_count": 45,
     "metadata": {},
     "output_type": "execute_result"
    }
   ],
   "source": [
    "Pr,Ar,Lr = robust_baum_welch(X, pi_init, A_init, delta_X_init, emission_dists, num_iters, r)"
   ]
  },
  {
   "cell_type": "code",
   "execution_count": 46,
   "id": "c915e94c",
   "metadata": {
    "scrolled": true
   },
   "outputs": [
    {
     "name": "stdout",
     "output_type": "stream",
     "text": [
      "Current log-likelihood: -3119.846310717446\n",
      "Current log-likelihood: -3047.894016980942\n",
      "Current log-likelihood: -3029.25027010739\n",
      "Current log-likelihood: -3020.324945560498\n",
      "Current log-likelihood: -3015.160878736591\n",
      "Current log-likelihood: -3011.882997815117\n",
      "Current log-likelihood: -3009.6588408221232\n",
      "Current log-likelihood: -3008.065868850079\n",
      "Current log-likelihood: -3006.8743527316974\n",
      "Running iteration number: 10\n",
      "Current log-likelihood: -3005.9520269675154\n",
      "Current log-likelihood: -3005.2187617283316\n",
      "Current log-likelihood: -3004.623895794936\n",
      "Current log-likelihood: -3004.134118142398\n",
      "Current log-likelihood: -3003.7265822860045\n",
      "Current log-likelihood: -3003.384885109477\n",
      "Current log-likelihood: -3003.0967261835995\n",
      "Current log-likelihood: -3002.8525571407245\n",
      "Current log-likelihood: -3002.6447909444246\n",
      "Current log-likelihood: -3002.467313329636\n",
      "Running iteration number: 20\n",
      "Current log-likelihood: -3002.315155035734\n",
      "Current log-likelihood: -3002.1842538731266\n",
      "Current log-likelihood: -3002.0712727861487\n",
      "Current log-likelihood: -3001.973457269165\n",
      "Current log-likelihood: -3001.888522719645\n",
      "Current log-likelihood: -3001.814565308771\n"
     ]
    },
    {
     "data": {
      "text/plain": [
       "([0.04999568205446603, 5.286763677615778e-6, 5.360940410866922e-7, 0.13305117573763853, 0.09602068838515536, 0.0669978338047627, 0.02097302831809614, 0.17812519281428124, 0.31889572770933056, 0.1359348483185508], [0.07999749828001716 0.12218553443337389 … 0.11075978758026889 0.11063944276004924; 0.07392344615715823 0.041387711275657144 … 0.18276442502275636 0.09164884762105018; … ; 0.14332905543699068 0.01051383121211251 … 0.07099195319506556 0.18557077434923727; 0.113233334691821 0.11604489026739885 … 0.14195992133856497 0.1474178744668163], Any[-3119.846310717446, -3047.894016980942, -3029.25027010739, -3020.324945560498, -3015.160878736591, -3011.882997815117, -3009.6588408221232, -3008.065868850079, -3006.8743527316974, -3005.9520269675154  …  -3003.0967261835995, -3002.8525571407245, -3002.6447909444246, -3002.467313329636, -3002.315155035734, -3002.1842538731266, -3002.0712727861487, -3001.973457269165, -3001.888522719645, -3001.814565308771])"
      ]
     },
     "execution_count": 46,
     "metadata": {},
     "output_type": "execute_result"
    }
   ],
   "source": [
    "P,A,L = baum_welch(X, pi_init, A_init, delta_X_init, emission_dists, num_iters)"
   ]
  },
  {
   "cell_type": "code",
   "execution_count": 47,
   "id": "cd03da7c",
   "metadata": {
    "scrolled": true
   },
   "outputs": [
    {
     "name": "stdout",
     "output_type": "stream",
     "text": [
      "Current log-likelihood: -3119.846310717446\n",
      "Current log-likelihood: -3048.536195394002\n",
      "Current log-likelihood: -3029.4149217472714\n",
      "Current log-likelihood: -3020.051303970967\n",
      "Current log-likelihood: -3014.522335898313\n",
      "Current log-likelihood: -3010.918399674008\n",
      "Current log-likelihood: -3008.44131758833\n",
      "Current log-likelihood: -3006.6732154123747\n",
      "Current log-likelihood: -3005.371496093181\n",
      "Running iteration number: 10\n",
      "Current log-likelihood: -3004.3934167182615\n",
      "Current log-likelihood: -3003.6475495874042\n",
      "Current log-likelihood: -3003.0727021066004\n",
      "Current log-likelihood: -3002.627431644043\n",
      "Current log-likelihood: -3002.2805359241534\n",
      "Current log-likelihood: -3002.011750265858\n",
      "Current log-likelihood: -3001.804883890498\n",
      "Current log-likelihood: -3001.6459663011988\n",
      "Current log-likelihood: -3001.524572911736\n",
      "Current log-likelihood: -3001.432212243448\n",
      "Running iteration number: 20\n",
      "Current log-likelihood: -3001.3615659647003\n",
      "Current log-likelihood: -3001.3070841624312\n",
      "Current log-likelihood: -3001.264209243957\n",
      "Current log-likelihood: -3001.2300269257707\n",
      "Current log-likelihood: -3001.2022754823383\n",
      "Current log-likelihood: -3001.1792665017924\n"
     ]
    },
    {
     "data": {
      "text/plain": [
       "([0.05000034812586559, 5.81007040338891e-8, 1.3125983261493437e-10, 0.15533826592949765, 0.07214781758980288, 0.07308367266561888, 0.0011789360424729251, 0.17820890863501918, 0.3402449772105788, 0.12979701556918033], [0.07071251355629296 0.1440277046509251 … 0.1195081280033512 0.10922514214934044; 0.07915598796593278 0.0296665173330697 … 0.20589755047607586 0.07784980948879335; … ; 0.1416347071165104 0.0025983971483578895 … 0.06294684562227956 0.1996155705111687; 0.10850290386265489 0.12756822903906695 … 0.1557850160158796 0.1418984028238894], Any[-3119.846310717446, -3048.536195394002, -3029.4149217472714, -3020.051303970967, -3014.522335898313, -3010.918399674008, -3008.44131758833, -3006.6732154123747, -3005.371496093181, -3004.3934167182615  …  -3001.804883890498, -3001.6459663011988, -3001.524572911736, -3001.432212243448, -3001.3615659647003, -3001.3070841624312, -3001.264209243957, -3001.2300269257707, -3001.2022754823383, -3001.1792665017924])"
      ]
     },
     "execution_count": 47,
     "metadata": {},
     "output_type": "execute_result"
    }
   ],
   "source": [
    "Po,Ao,Lo = optimistic_baum_welch(X, pi_init, A_init, delta_X_init, emission_dists, num_iters, r)"
   ]
  },
  {
   "cell_type": "code",
   "execution_count": 61,
   "id": "8b7f8019",
   "metadata": {},
   "outputs": [
    {
     "data": {
      "text/plain": [
       "eval_param_ests (generic function with 1 method)"
      ]
     },
     "execution_count": 61,
     "metadata": {},
     "output_type": "execute_result"
    }
   ],
   "source": [
    "## Get KL divergence between pi_true and pi_est\n",
    "## Get KL divergence between each row of A_true with corresponding row of A_est\n",
    "## Get average KL divergence across all rows of A_true with A_est\n",
    "\n",
    "# D(true||estimate)\n",
    "\n",
    "function eval_param_ests(A_true, pi_true, A_est, pi_est)\n",
    "    pi_kl1 = kldivergence(pi_true , pi_est) ; \n",
    "    pi_kl2 = kldivergence(pi_est, pi_true) ; \n",
    "    \n",
    "    A_kl1 = zeros(size(A_true, 1)) ; \n",
    "    A_kl2 = zeros(size(A_true, 1)) ; \n",
    "    \n",
    "    for i=1:size(A_true, 1)\n",
    "        A_kl1[i] = kldivergence(A_true[i,:], A_est[i,:])\n",
    "        A_kl2[i] = kldivergence(A_est[i,:], A_true[i,:])\n",
    "    end\n",
    "    \n",
    "    return pi_kl1, pi_kl2, sum(A_kl1)/size(A_true,1), sum(A_kl2)/size(A_true,1)\n",
    "    \n",
    "    \n",
    "end\n",
    "\n",
    "\n"
   ]
  },
  {
   "cell_type": "code",
   "execution_count": 62,
   "id": "9b951317",
   "metadata": {},
   "outputs": [
    {
     "data": {
      "text/plain": [
       "conf_matrix (generic function with 1 method)"
      ]
     },
     "execution_count": 62,
     "metadata": {},
     "output_type": "execute_result"
    }
   ],
   "source": [
    "function conf_matrix(target_vec, pred_vec, m)\n",
    "    conf_mat = zeros((m,m))\n",
    "    for i=1:size(target_vec,1)\n",
    "         conf_mat[Int(target_vec[i]), Int(pred_vec[i])] = conf_mat[Int(target_vec[i]), Int(pred_vec[i])] + 1 ;\n",
    "    end\n",
    "    return conf_mat\n",
    "end"
   ]
  },
  {
   "cell_type": "code",
   "execution_count": null,
   "id": "812ceb38",
   "metadata": {},
   "outputs": [],
   "source": [
    "## Write function to --> \n",
    "#Inputs - X, S_true, pi, A \n",
    "# Estimate S given pi, A --> \n",
    "# Output confusion matrix based on true states and guessed states\n",
    "## Output Estimated state matrix and confusion matrix\n",
    "\n",
    "function eval_state_ests(X, S_true, pi, A, emission_dists)\n",
    "    hmm_est = HMM(pi , A, emission_dists)\n",
    "    S_est = zeros(size(S_true)) ; \n",
    "    conf_mat = zeros(size(A)) ; \n",
    "    \n",
    "    for i=1:size(X,1)\n",
    "        S_est[i,:] = viterbi(hmm_est, X[i,:]) ;\n",
    "        conf_mat = conf_mat + conf_matrix(S_true[i,:] , S_est[i,:] , size(A,1))\n",
    "    end\n",
    "    \n",
    "    return S_est, conf_mat\n",
    "\n",
    "end\n",
    "\n"
   ]
  },
  {
   "cell_type": "markdown",
   "id": "b195065c",
   "metadata": {},
   "source": [
    "1. We have\n",
    "    1. Evaluate parameter estimates against true parameters\n",
    "    2. Decode HMM using all sets of parameters - and get accuracy of decoded states with respect to the true states\n",
    "    \n",
    "2. Data we have\n",
    "    1. Train data - 10 sequences \n",
    "        1. S_true, X_orig = Generated using pi_true and A_true\n",
    "        2. X_orig + Noise (zero mean variance = [0,0.01, 0.1, 1])\n",
    "    2. Test data - 1 sequence\n",
    "        1. X_orig_test = Generated using pi_true and A_true\n",
    "        2. X_orig + Noise (zero mean variance = [0,0.01, 0.1, 1])\n",
    "        \n",
    "3. Experiments to do - For each train data set of sequences\n",
    "    1. Do parameter estimation using\n",
    "        1. Regular EM\n",
    "        2. Robust EM with varying r\n",
    "        3. Optimistic EM with varying r\n",
    "        \n",
    "    2. Evaluation:\n",
    "        1. Compare estimated paramaters wrt true parameters\n",
    "        2. Decode train sequence - with true parameters\n",
    "        3. Decode train sequence with all the estimated parameters\n",
    "            1. Compare each with true sequence\n",
    "        4. Decode test sequence - with true parameters\n",
    "        5. Decode test sequence with all the estimated parameters\n",
    "            1. Compare each with test sequence\n",
    "\n"
   ]
  },
  {
   "cell_type": "markdown",
   "id": "956821d6",
   "metadata": {},
   "source": [
    "## Some preliminary tests"
   ]
  },
  {
   "cell_type": "code",
   "execution_count": 39,
   "id": "909b4216",
   "metadata": {},
   "outputs": [],
   "source": [
    "A_true = [0.29778560911054225 0.13544487012366083 0.3604481008164021 0.13238372924911454 0.07393769070028032; 0.056989124095932445 0.09324406686115916 0.40251043012728044 0.11816783668377405 0.3290885422318539; 0.13927226693759806 0.27970224273576827 0.19746392245773273 0.1845472458602735 0.19901432200862743; 0.21693169962458078 0.2182901076722709 0.1921400612288617 0.24465165790282975 0.1279864735714569; 0.18454532108327124 0.05632159948828856 0.26480731721188605 0.23413707374892295 0.2601886884676312]\n",
    "pi_true = [0.20787184793908514, 0.23893628208513792, 0.26064943402664353, 0.022544860169927333, 0.2699975757792061] ; "
   ]
  },
  {
   "cell_type": "markdown",
   "id": "a371ee40",
   "metadata": {},
   "source": [
    "### Noise = 0.1"
   ]
  },
  {
   "cell_type": "code",
   "execution_count": 98,
   "id": "58a271a1",
   "metadata": {},
   "outputs": [],
   "source": [
    "## Read in some data\n",
    "X_noisy = Matrix(DataFrame(CSV.read(\"Saved_Params/r-0.0_noise-0.1_X.csv\", DataFrame))) ; \n",
    "\n",
    "A_em = Matrix(DataFrame(CSV.read(\"Saved_Params/r-0.0_noise-0.1_A.csv\", DataFrame))) ; \n",
    "pi_em = Matrix(DataFrame(CSV.read(\"Saved_Params/r-0.0_noise-0.1_pi.csv\", DataFrame)))[:,1] ; \n",
    "\n",
    "\n",
    "A_rob1 = Matrix(DataFrame(CSV.read(\"Saved_Params/r-0.01_noise-0.1_A.csv\", DataFrame))) ; \n",
    "pi_rob1 = Matrix(DataFrame(CSV.read(\"Saved_Params/r-0.01_noise-0.1_pi.csv\", DataFrame)))[:,1] ; \n",
    "\n",
    "\n",
    "A_rob2 = Matrix(DataFrame(CSV.read(\"Saved_Params/r-0.1_noise-0.1_A.csv\", DataFrame))) ; \n",
    "pi_rob2 = Matrix(DataFrame(CSV.read(\"Saved_Params/r-0.1_noise-0.1_pi.csv\", DataFrame)))[:,1] ; \n",
    "\n",
    "A_rob3 = Matrix(DataFrame(CSV.read(\"Saved_Params/r-0.5_noise-0.1_A.csv\", DataFrame))) ; \n",
    "pi_rob3 = Matrix(DataFrame(CSV.read(\"Saved_Params/r-0.5_noise-0.1_pi.csv\", DataFrame)))[:,1] ; \n",
    "\n",
    "#### Optimitic #######\n",
    "\n",
    "A_opt1 = Matrix(DataFrame(CSV.read(\"Optimistic/r-0.01_noise-0.1_A.csv\", DataFrame))) ; \n",
    "pi_opt1 = Matrix(DataFrame(CSV.read(\"Optimistic/r-0.01_noise-0.1_pi.csv\", DataFrame)))[:,1] ; \n",
    "\n",
    "A_opt2 = Matrix(DataFrame(CSV.read(\"Optimistic/r-0.1_noise-0.1_A.csv\", DataFrame))) ; \n",
    "pi_opt2 = Matrix(DataFrame(CSV.read(\"Optimistic/r-0.1_noise-0.1_pi.csv\", DataFrame)))[:,1] ; \n",
    "\n",
    "A_opt3 = Matrix(DataFrame(CSV.read(\"Optimistic/r-0.5_noise-0.1_A.csv\", DataFrame))) ; \n",
    "pi_opt3 = Matrix(DataFrame(CSV.read(\"Optimistic/r-0.5_noise-0.1_pi.csv\", DataFrame)))[:,1] ; \n",
    "\n",
    "\n",
    "\n",
    "\n"
   ]
  },
  {
   "cell_type": "code",
   "execution_count": 101,
   "id": "5a6ea47e",
   "metadata": {},
   "outputs": [
    {
     "name": "stdout",
     "output_type": "stream",
     "text": [
      "kl(pi_true||pi_est) , kl(pi_est||pi_true) , mean(kl(A_true[r]||A_est[r])) , mean(kl(A_est[r]||A_true[r]))\n",
      "Regular EM\n",
      "(5.248430558516643, 0.5822538512665225, 0.015141032754393388, 0.01511053453507279)\n",
      "Robust EM, r=0.01\n",
      "(2.9570333914737774, 0.5651818326443931, 0.012450430298211147, 0.012568038257414215)\n",
      "Robust EM, r=0.1\n",
      "(1.9788317340361168, 0.5676172007577037, 0.012758425144230173, 0.01329178164587209)\n",
      "Robust EM, r=0.5\n",
      "(0.1605903982100942, 0.14818417872220918, 0.020720844893010737, 0.021705775092624176)\n",
      "Optimistic EM, r=0.01\n",
      "(5.35685835657805, 0.5871680727324844, 0.014687989404237883, 0.014674302668690308)\n",
      "Optimistic EM, r=0.1\n",
      "(1.508149698351731, 0.5376516037304485, 0.012689297647659682, 0.013298266673163186)\n",
      "Optimistic EM, r=0.5\n",
      "(0.17666814281593385, 0.168000051495044, 0.02451128515187821, 0.025160254889958607)\n"
     ]
    }
   ],
   "source": [
    "println(\"kl(pi_true||pi_est) , kl(pi_est||pi_true) , mean(kl(A_true[r]||A_est[r])) , mean(kl(A_est[r]||A_true[r]))\")\n",
    "\n",
    "println(\"Regular EM\")\n",
    "println(eval_param_ests(A_true, pi_true, A_em, pi_em)) ; \n",
    "\n",
    "println(\"Robust EM, r=0.01\")\n",
    "println(eval_param_ests(A_true, pi_true, A_rob1, pi_rob1)) ; \n",
    "\n",
    "println(\"Robust EM, r=0.1\")\n",
    "println(eval_param_ests(A_true, pi_true, A_rob2, pi_rob2)) ; \n",
    "\n",
    "println(\"Robust EM, r=0.5\")\n",
    "println(eval_param_ests(A_true, pi_true, A_rob3, pi_rob3)) ; \n",
    "\n",
    "\n",
    "println(\"Optimistic EM, r=0.01\")\n",
    "println(eval_param_ests(A_true, pi_true, A_opt1, pi_opt1)) ; \n",
    "println(\"Optimistic EM, r=0.1\")\n",
    "println(eval_param_ests(A_true, pi_true, A_opt2, pi_opt2)) ; \n",
    "println(\"Optimistic EM, r=0.5\")\n",
    "println(eval_param_ests(A_true, pi_true, A_opt3, pi_opt3)) ; \n"
   ]
  },
  {
   "cell_type": "code",
   "execution_count": 102,
   "id": "deab67f3",
   "metadata": {},
   "outputs": [],
   "source": [
    "S = Matrix(DataFrame(CSV.read(\"Saved_Params/true_s.csv\", DataFrame))) ; "
   ]
  },
  {
   "cell_type": "code",
   "execution_count": 103,
   "id": "125a322c",
   "metadata": {},
   "outputs": [],
   "source": [
    "S_best, conf_mat_best = eval_state_ests(X_noisy, S, pi_true, A_true, emission_dists[1:5]) ; \n",
    "\n",
    "S_em, conf_mat_em = eval_state_ests(X_noisy, S, pi_em, A_em, emission_dists[1:5]) ; \n",
    "\n",
    "S_rob1, conf_mat_rob1 = eval_state_ests(X_noisy, S, pi_rob1, A_rob1, emission_dists[1:5]) ; \n",
    "S_rob2, conf_mat_rob2 = eval_state_ests(X_noisy, S, pi_rob1, A_rob2, emission_dists[1:5]) ; \n",
    "S_rob3, conf_mat_rob3 = eval_state_ests(X_noisy, S, pi_rob1, A_rob3, emission_dists[1:5]) ; \n",
    "\n",
    "S_opt1, conf_mat_opt1 = eval_state_ests(X_noisy, S, pi_opt1, A_opt1, emission_dists[1:5]) ; \n",
    "S_opt2, conf_mat_opt2 = eval_state_ests(X_noisy, S, pi_opt1, A_opt2, emission_dists[1:5]) ; \n",
    "S_opt3, conf_mat_opt3 = eval_state_ests(X_noisy, S, pi_opt1, A_opt3, emission_dists[1:5]) ; \n"
   ]
  },
  {
   "cell_type": "code",
   "execution_count": 105,
   "id": "7e731957",
   "metadata": {},
   "outputs": [
    {
     "name": "stdout",
     "output_type": "stream",
     "text": [
      "State decoding accuracy: True parameters\n",
      "0.7754\n",
      "State decoding accuracy: EM parameters\n",
      "0.7654\n",
      "State decoding accuracy: Robust EM parameters: r=0.01\n",
      "0.7656\n",
      "State decoding accuracy: Robust EM parameters: r=0.1\n",
      "0.7698\n",
      "State decoding accuracy: Robust EM parameters: r=0.5\n",
      "0.7716\n",
      "State decoding accuracy: Optimistic EM parameters: r=0.01\n",
      "0.7664\n",
      "State decoding accuracy: Optimistic EM parameters: r=0.1\n",
      "0.7702\n",
      "State decoding accuracy: Optimistic EM parameters: r=0.5\n",
      "0.7736\n"
     ]
    }
   ],
   "source": [
    "println(\"State decoding accuracy: True parameters\")\n",
    "println(tr(conf_mat_best)/sum(conf_mat_best)) ; \n",
    "\n",
    "println(\"State decoding accuracy: EM parameters\")\n",
    "println(tr(conf_mat_em)/sum(conf_mat_em)) ; \n",
    "\n",
    "println(\"State decoding accuracy: Robust EM parameters: r=0.01\")\n",
    "println(tr(conf_mat_rob1)/sum(conf_mat_rob1)) ; \n",
    "\n",
    "println(\"State decoding accuracy: Robust EM parameters: r=0.1\")\n",
    "println(tr(conf_mat_rob2)/sum(conf_mat_rob2)) ;\n",
    "\n",
    "println(\"State decoding accuracy: Robust EM parameters: r=0.5\")\n",
    "println(tr(conf_mat_rob3)/sum(conf_mat_rob3)) ;\n",
    "\n",
    "\n",
    "\n",
    "\n",
    "\n",
    "\n",
    "println(\"State decoding accuracy: Optimistic EM parameters: r=0.01\")\n",
    "println(tr(conf_mat_opt1)/sum(conf_mat_opt1)) ;\n",
    "\n",
    "println(\"State decoding accuracy: Optimistic EM parameters: r=0.1\")\n",
    "println(tr(conf_mat_opt2)/sum(conf_mat_opt2)) ;\n",
    "\n",
    "println(\"State decoding accuracy: Optimistic EM parameters: r=0.5\")\n",
    "println(tr(conf_mat_opt3)/sum(conf_mat_opt3)) ;\n",
    "\n",
    "\n"
   ]
  },
  {
   "cell_type": "markdown",
   "id": "1850cd63",
   "metadata": {},
   "source": [
    "## Noise = 0.7"
   ]
  },
  {
   "cell_type": "code",
   "execution_count": 107,
   "id": "96aed68b",
   "metadata": {},
   "outputs": [],
   "source": [
    "## Read in some data\n",
    "X_noisy = Matrix(DataFrame(CSV.read(\"Saved_Params/r-0.0_noise-0.7_X.csv\", DataFrame))) ; \n",
    "\n",
    "A_em = Matrix(DataFrame(CSV.read(\"Saved_Params/r-0.0_noise-0.7_A.csv\", DataFrame))) ; \n",
    "pi_em = Matrix(DataFrame(CSV.read(\"Saved_Params/r-0.0_noise-0.7_pi.csv\", DataFrame)))[:,1] ; \n",
    "\n",
    "A_rob1 = Matrix(DataFrame(CSV.read(\"Saved_Params/r-0.01_noise-0.7_A.csv\", DataFrame))) ; \n",
    "pi_rob1 = Matrix(DataFrame(CSV.read(\"Saved_Params/r-0.01_noise-0.7_pi.csv\", DataFrame)))[:,1] ; \n",
    "\n",
    "# A_rob2 = Matrix(DataFrame(CSV.read(\"Saved_Params/r-0.05_noise-0.1_A.csv\", DataFrame))) ; \n",
    "# pi_rob2 = Matrix(DataFrame(CSV.read(\"Saved_Params/r-0.05_noise-0.1_pi.csv\", DataFrame))) ; \n",
    "\n",
    "A_rob2 = Matrix(DataFrame(CSV.read(\"Saved_Params/r-0.1_noise-0.7_A.csv\", DataFrame))) ; \n",
    "pi_rob2 = Matrix(DataFrame(CSV.read(\"Saved_Params/r-0.1_noise-0.7_pi.csv\", DataFrame)))[:,1] ; \n",
    "\n",
    "A_rob3 = Matrix(DataFrame(CSV.read(\"Saved_Params/r-0.5_noise-0.7_A.csv\", DataFrame))) ; \n",
    "pi_rob3 = Matrix(DataFrame(CSV.read(\"Saved_Params/r-0.5_noise-0.7_pi.csv\", DataFrame)))[:,1] ; \n",
    "\n",
    "\n",
    "#### Optimitic #######\n",
    "\n",
    "# A_opt1 = Matrix(DataFrame(CSV.read(\"Optimistic/r-0.01_noise-0.7_A.csv\", DataFrame))) ; \n",
    "# pi_opt1 = Matrix(DataFrame(CSV.read(\"Optimistic/r-0.01_noise-0.7_pi.csv\", DataFrame)))[:,1] ; \n",
    "\n",
    "# A_opt2 = Matrix(DataFrame(CSV.read(\"Optimistic/r-0.1_noise-0.7_A.csv\", DataFrame))) ; \n",
    "# pi_opt2 = Matrix(DataFrame(CSV.read(\"Optimistic/r-0.1_noise-0.7_pi.csv\", DataFrame)))[:,1] ; \n",
    "\n",
    "# A_opt3 = Matrix(DataFrame(CSV.read(\"Optimistic/r-0.5_noise-0.7_A.csv\", DataFrame))) ; \n",
    "# pi_opt3 = Matrix(DataFrame(CSV.read(\"Optimistic/r-0.5_noise-0.7_pi.csv\", DataFrame)))[:,1] ; "
   ]
  },
  {
   "cell_type": "code",
   "execution_count": 108,
   "id": "524c810d",
   "metadata": {},
   "outputs": [
    {
     "name": "stdout",
     "output_type": "stream",
     "text": [
      "(5.423886309162033, 0.5919909946242267, 0.015600450758373952, 0.015475872467457191)\n",
      "(5.559623317582888, 0.5831380010542034, 0.014329824729135448, 0.014369921399612831)\n",
      "(2.2625889560819163, 0.5671114254546932, 0.013023400559441723, 0.01373907429779827)\n",
      "(0.1808608921462077, 0.17200390792376674, 0.022539224086353834, 0.023463808153433154)\n"
     ]
    }
   ],
   "source": [
    "println(eval_param_ests(A_true, pi_true, A_em, pi_em)) ; \n",
    "println(eval_param_ests(A_true, pi_true, A_rob1, pi_rob1)) ; \n",
    "println(eval_param_ests(A_true, pi_true, A_rob2, pi_rob2)) ; \n",
    "println(eval_param_ests(A_true, pi_true, A_rob3, pi_rob3)) ; "
   ]
  },
  {
   "cell_type": "code",
   "execution_count": 109,
   "id": "486a85ba",
   "metadata": {},
   "outputs": [],
   "source": [
    "S = Matrix(DataFrame(CSV.read(\"Saved_Params/true_s.csv\", DataFrame))) ; "
   ]
  },
  {
   "cell_type": "code",
   "execution_count": 110,
   "id": "b0fe2dc8",
   "metadata": {},
   "outputs": [],
   "source": [
    "S_best, conf_mat_best = eval_state_ests(X_noisy, S, pi_true, A_true, emission_dists[1:5]) ; \n",
    "S_em, conf_mat_em = eval_state_ests(X_noisy, S, pi_em, A_em, emission_dists[1:5]) ; \n",
    "S_rob1, conf_mat_rob1 = eval_state_ests(X_noisy, S, pi_rob1, A_rob1, emission_dists[1:5]) ; \n",
    "S_rob2, conf_mat_rob2 = eval_state_ests(X_noisy, S, pi_rob1, A_rob2, emission_dists[1:5]) ; \n",
    "S_rob3, conf_mat_rob3 = eval_state_ests(X_noisy, S, pi_rob1, A_rob3, emission_dists[1:5]) ; "
   ]
  },
  {
   "cell_type": "code",
   "execution_count": 111,
   "id": "2add88e9",
   "metadata": {},
   "outputs": [
    {
     "name": "stdout",
     "output_type": "stream",
     "text": [
      "0.7748\n",
      "0.7644\n",
      "0.765\n",
      "0.771\n",
      "0.774\n"
     ]
    }
   ],
   "source": [
    "println(tr(conf_mat_best)/sum(conf_mat_best)) ; \n",
    "println(tr(conf_mat_em)/sum(conf_mat_em)) ; \n",
    "println(tr(conf_mat_rob1)/sum(conf_mat_rob1)) ; \n",
    "println(tr(conf_mat_rob2)/sum(conf_mat_rob2)) ;\n",
    "println(tr(conf_mat_rob3)/sum(conf_mat_rob3)) ;"
   ]
  },
  {
   "cell_type": "code",
   "execution_count": null,
   "id": "90521484",
   "metadata": {},
   "outputs": [],
   "source": []
  },
  {
   "cell_type": "code",
   "execution_count": null,
   "id": "059ec31b",
   "metadata": {},
   "outputs": [],
   "source": []
  },
  {
   "cell_type": "code",
   "execution_count": null,
   "id": "71db4b9d",
   "metadata": {},
   "outputs": [],
   "source": []
  },
  {
   "cell_type": "code",
   "execution_count": null,
   "id": "e3363390",
   "metadata": {},
   "outputs": [],
   "source": []
  },
  {
   "cell_type": "code",
   "execution_count": 93,
   "id": "c82043e9",
   "metadata": {},
   "outputs": [
    {
     "data": {
      "text/plain": [
       "3874.0"
      ]
     },
     "execution_count": 93,
     "metadata": {},
     "output_type": "execute_result"
    }
   ],
   "source": [
    "tr(conf_mat_best)"
   ]
  },
  {
   "cell_type": "code",
   "execution_count": 94,
   "id": "104bfbf5",
   "metadata": {},
   "outputs": [
    {
     "data": {
      "text/plain": [
       "3822.0"
      ]
     },
     "execution_count": 94,
     "metadata": {},
     "output_type": "execute_result"
    }
   ],
   "source": [
    "tr(conf_mat_em)"
   ]
  },
  {
   "cell_type": "code",
   "execution_count": 95,
   "id": "58570660",
   "metadata": {},
   "outputs": [
    {
     "data": {
      "text/plain": [
       "3825.0"
      ]
     },
     "execution_count": 95,
     "metadata": {},
     "output_type": "execute_result"
    }
   ],
   "source": [
    "tr(conf_mat_rob1)"
   ]
  },
  {
   "cell_type": "code",
   "execution_count": 96,
   "id": "7335937b",
   "metadata": {},
   "outputs": [
    {
     "data": {
      "text/plain": [
       "3855.0"
      ]
     },
     "execution_count": 96,
     "metadata": {},
     "output_type": "execute_result"
    }
   ],
   "source": [
    "tr(conf_mat_rob2)"
   ]
  },
  {
   "cell_type": "code",
   "execution_count": 97,
   "id": "16424a47",
   "metadata": {},
   "outputs": [
    {
     "data": {
      "text/plain": [
       "3870.0"
      ]
     },
     "execution_count": 97,
     "metadata": {},
     "output_type": "execute_result"
    }
   ],
   "source": [
    "tr(conf_mat_rob3)"
   ]
  },
  {
   "cell_type": "code",
   "execution_count": null,
   "id": "516d4d6c",
   "metadata": {},
   "outputs": [],
   "source": []
  },
  {
   "cell_type": "code",
   "execution_count": null,
   "id": "8e1ba336",
   "metadata": {},
   "outputs": [],
   "source": []
  },
  {
   "cell_type": "code",
   "execution_count": null,
   "id": "11127a06",
   "metadata": {},
   "outputs": [],
   "source": []
  },
  {
   "cell_type": "code",
   "execution_count": 81,
   "id": "bfb0c606",
   "metadata": {},
   "outputs": [
    {
     "data": {
      "text/plain": [
       "0.7754"
      ]
     },
     "execution_count": 81,
     "metadata": {},
     "output_type": "execute_result"
    }
   ],
   "source": [
    "tr(conf_mat_em)/sum(conf_mat_em)"
   ]
  },
  {
   "cell_type": "code",
   "execution_count": null,
   "id": "3b83817d",
   "metadata": {},
   "outputs": [],
   "source": []
  },
  {
   "cell_type": "code",
   "execution_count": null,
   "id": "77c3c5e4",
   "metadata": {},
   "outputs": [],
   "source": []
  },
  {
   "cell_type": "code",
   "execution_count": null,
   "id": "afd4ca70",
   "metadata": {},
   "outputs": [],
   "source": []
  },
  {
   "cell_type": "code",
   "execution_count": null,
   "id": "cf75025c",
   "metadata": {},
   "outputs": [],
   "source": []
  },
  {
   "cell_type": "code",
   "execution_count": 77,
   "id": "091891ca",
   "metadata": {},
   "outputs": [
    {
     "data": {
      "text/plain": [
       "5-element Vector{Normal{Float64}}:\n",
       " Normal{Float64}(μ=0.0, σ=1.0)\n",
       " Normal{Float64}(μ=2.0, σ=1.0)\n",
       " Normal{Float64}(μ=4.0, σ=1.0)\n",
       " Normal{Float64}(μ=6.0, σ=1.0)\n",
       " Normal{Float64}(μ=8.0, σ=1.0)"
      ]
     },
     "execution_count": 77,
     "metadata": {},
     "output_type": "execute_result"
    }
   ],
   "source": [
    "emission_dists[1:5]"
   ]
  },
  {
   "cell_type": "code",
   "execution_count": null,
   "id": "3f091ce1",
   "metadata": {},
   "outputs": [],
   "source": []
  },
  {
   "cell_type": "code",
   "execution_count": null,
   "id": "b72f74b0",
   "metadata": {},
   "outputs": [],
   "source": []
  },
  {
   "cell_type": "code",
   "execution_count": null,
   "id": "eb0cf23a",
   "metadata": {},
   "outputs": [],
   "source": []
  },
  {
   "cell_type": "code",
   "execution_count": null,
   "id": "c636695b",
   "metadata": {},
   "outputs": [],
   "source": []
  },
  {
   "cell_type": "code",
   "execution_count": null,
   "id": "dff3a7b5",
   "metadata": {},
   "outputs": [],
   "source": []
  },
  {
   "cell_type": "code",
   "execution_count": null,
   "id": "a8fb2f3e",
   "metadata": {},
   "outputs": [],
   "source": []
  },
  {
   "cell_type": "code",
   "execution_count": null,
   "id": "ed4f4a99",
   "metadata": {},
   "outputs": [],
   "source": []
  },
  {
   "cell_type": "code",
   "execution_count": null,
   "id": "44cc0e98",
   "metadata": {},
   "outputs": [],
   "source": []
  },
  {
   "cell_type": "code",
   "execution_count": null,
   "id": "4cea0f2e",
   "metadata": {},
   "outputs": [],
   "source": []
  },
  {
   "cell_type": "code",
   "execution_count": 66,
   "id": "8421302a",
   "metadata": {},
   "outputs": [
    {
     "name": "stdout",
     "output_type": "stream",
     "text": [
      "(5.248430558516643, 0.5822538512665225, 0.015141032754393388, 0.01511053453507279)\n"
     ]
    }
   ],
   "source": [
    "println(eval_param_ests(A_true, pi_true, A_em, pi_em)) ; "
   ]
  },
  {
   "cell_type": "code",
   "execution_count": 60,
   "id": "6e346301",
   "metadata": {},
   "outputs": [
    {
     "data": {
      "text/plain": [
       "5.248430558516643"
      ]
     },
     "execution_count": 60,
     "metadata": {},
     "output_type": "execute_result"
    }
   ],
   "source": [
    "kldivergence(pi_true, pi_em)"
   ]
  },
  {
   "cell_type": "code",
   "execution_count": 58,
   "id": "4dbafb55",
   "metadata": {},
   "outputs": [
    {
     "data": {
      "text/plain": [
       "5×5 Matrix{Float64}:\n",
       " 0.297786   0.135445   0.360448  0.132384  0.0739377\n",
       " 0.0569891  0.0932441  0.40251   0.118168  0.329089\n",
       " 0.139272   0.279702   0.197464  0.184547  0.199014\n",
       " 0.216932   0.21829    0.19214   0.244652  0.127986\n",
       " 0.184545   0.0563216  0.264807  0.234137  0.260189"
      ]
     },
     "execution_count": 58,
     "metadata": {},
     "output_type": "execute_result"
    }
   ],
   "source": [
    "A_true"
   ]
  },
  {
   "cell_type": "code",
   "execution_count": 59,
   "id": "e92c3138",
   "metadata": {},
   "outputs": [
    {
     "data": {
      "text/plain": [
       "5×5 Matrix{Float64}:\n",
       " 0.304047   0.0985392  0.352008  0.157189   0.0882165\n",
       " 0.0411539  0.114897   0.42822   0.0930912  0.322638\n",
       " 0.114125   0.302731   0.143974  0.273843   0.165326\n",
       " 0.269708   0.208153   0.217632  0.185234   0.119273\n",
       " 0.200815   0.0406265  0.249331  0.206193   0.303034"
      ]
     },
     "execution_count": 59,
     "metadata": {},
     "output_type": "execute_result"
    }
   ],
   "source": [
    "A_em"
   ]
  },
  {
   "cell_type": "code",
   "execution_count": 52,
   "id": "9d8d9f44",
   "metadata": {},
   "outputs": [
    {
     "data": {
      "text/plain": [
       "5-element Vector{Float64}:\n",
       " 2.1934043809720405e-7\n",
       " 0.686402512031133\n",
       " 0.20083651520834045\n",
       " 0.012233084939112968\n",
       " 0.1005276684809755"
      ]
     },
     "execution_count": 52,
     "metadata": {},
     "output_type": "execute_result"
    }
   ],
   "source": []
  },
  {
   "cell_type": "code",
   "execution_count": null,
   "id": "44743df4",
   "metadata": {},
   "outputs": [],
   "source": []
  },
  {
   "cell_type": "code",
   "execution_count": null,
   "id": "a6d5af89",
   "metadata": {},
   "outputs": [],
   "source": []
  },
  {
   "cell_type": "code",
   "execution_count": 33,
   "id": "e862c627",
   "metadata": {},
   "outputs": [
    {
     "data": {
      "text/plain": [
       "1.0"
      ]
     },
     "execution_count": 33,
     "metadata": {},
     "output_type": "execute_result"
    }
   ],
   "source": [
    "sum(h[5,:])"
   ]
  },
  {
   "cell_type": "code",
   "execution_count": 41,
   "id": "8309a24d",
   "metadata": {},
   "outputs": [],
   "source": [
    "A_rob2 = Matrix(DataFrame(CSV.read(\"Saved_Params/r-0.01_noise-0.1_A.csv\", DataFrame))) ; \n",
    "pi_rob2 = Matrix(DataFrame(CSV.read(\"Saved_Params/r-0.01_noise-0.1_pi.csv\", DataFrame))) ; \n",
    "\n"
   ]
  },
  {
   "cell_type": "code",
   "execution_count": null,
   "id": "c4a3618a",
   "metadata": {},
   "outputs": [],
   "source": []
  },
  {
   "cell_type": "code",
   "execution_count": null,
   "id": "c7ea3058",
   "metadata": {},
   "outputs": [],
   "source": []
  },
  {
   "cell_type": "code",
   "execution_count": null,
   "id": "345bebb1",
   "metadata": {},
   "outputs": [],
   "source": []
  },
  {
   "cell_type": "code",
   "execution_count": null,
   "id": "9dbacbb9",
   "metadata": {},
   "outputs": [],
   "source": []
  },
  {
   "cell_type": "markdown",
   "id": "0f9f07bb",
   "metadata": {},
   "source": [
    "### Things to start putting in report \n",
    "\n",
    "1. Introduction - Set up EM algorithm idea, write up first principles math what kind of estimation it tries to do\n",
    "    2. General Idea of project: Show which part of EM algorithm overall we are trying to modify, show part where we add robustness\n",
    "    \n",
    "2. Context: EM algorithm in the context of Hidden Markov models. Baum-Welch algorithm. What kidn of things it is used to model etc.\n",
    "\n",
    "3. Write-up EM algorithm for HMM all the different terms to be computed, forward-backward algorithm etc -- Do not work out -- Use existing literature - Show math for multiple sequences\n",
    "\n",
    "4. Add robustness to single dimensional Gaussian case - Simplify the equation and show what kind of optimization problem it boils down to\n",
    "\n",
    "----------------------------------------------\n",
    "\n",
    "5. Experiments\n",
    "    1. Data description - \n",
    "    2. Different algorithms we are testing, what we are comparing etc etc etc \n",
    "    3. Performance for different noise levels, different levels of robustness, optimistic algorithm\n",
    "    4. Performance on test data"
   ]
  },
  {
   "cell_type": "code",
   "execution_count": null,
   "id": "b645af13",
   "metadata": {},
   "outputs": [],
   "source": []
  }
 ],
 "metadata": {
  "kernelspec": {
   "display_name": "Julia 1.6.2",
   "language": "julia",
   "name": "julia-1.6"
  },
  "language_info": {
   "file_extension": ".jl",
   "mimetype": "application/julia",
   "name": "julia",
   "version": "1.6.2"
  }
 },
 "nbformat": 4,
 "nbformat_minor": 5
}

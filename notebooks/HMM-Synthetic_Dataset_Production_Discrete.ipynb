{
 "cells": [
  {
   "cell_type": "markdown",
   "id": "f22b7306-f387-423a-8c36-c2a587f7a2cc",
   "metadata": {},
   "source": [
    "<img src=\"HMM1-Copy1.png\" caption=\"HMM of crazy soda machine\">"
   ]
  },
  {
   "cell_type": "markdown",
   "id": "4827e2a3-7520-47f6-953f-b5b1a8313ec9",
   "metadata": {},
   "source": [
    "<img src=\"HMM2-Copy1.png\" caption=\"HMM of crazy soda machine emission for Cola Pref.\">"
   ]
  },
  {
   "cell_type": "markdown",
   "id": "afbd86c3-6db4-4675-b73c-b9ef54d19ac3",
   "metadata": {},
   "source": [
    "Emmission Matrix"
   ]
  },
  {
   "cell_type": "markdown",
   "id": "a114a27b-7d5a-4310-acf6-a5e7728e5ac7",
   "metadata": {},
   "source": [
    "|                    | cola | iced tea | lemonade\n",
    "| -:                 | :-:  | :-:      | :-:\n",
    "| **Cola Pref.**     | 0.6  | 0.1      | 0.3\n",
    "| **Iced Tea Pref.** | 0.1  | 0.7      | 0.2"
   ]
  },
  {
   "cell_type": "markdown",
   "id": "db2f0c48-ba26-47bd-9a51-08e60866b6a2",
   "metadata": {},
   "source": [
    "State Matrix:"
   ]
  },
  {
   "cell_type": "markdown",
   "id": "1f82653c-b587-4ecb-998e-30dad52093fb",
   "metadata": {},
   "source": [
    "|                    | Cola Pref. | Iced Tea Pref.\n",
    "| -:                 | :-:        | :-:\n",
    "| **Cola Pref.**     | 0.7        | 0.3\n",
    "| **Iced Tea Pref.** | 0.5        | 0.5"
   ]
  },
  {
   "cell_type": "markdown",
   "id": "2b956625-9857-41ca-a6cf-6fbc55491aa6",
   "metadata": {},
   "source": [
    "Known Initial State:"
   ]
  },
  {
   "cell_type": "markdown",
   "id": "25ef3629-7731-41f8-8932-069a66613b9e",
   "metadata": {},
   "source": [
    "| State            | Prob.\n",
    "| -:               | :-:\n",
    "| *Cola Pref.*     | 1.0\n",
    "| *Iced Tea Pref.* | 0.0"
   ]
  },
  {
   "cell_type": "code",
   "execution_count": 36,
   "id": "6c32b86b-65e6-469a-84fa-0021723d2885",
   "metadata": {
    "tags": []
   },
   "outputs": [],
   "source": [
    "import numpy as np\n",
    "import random\n",
    "import matplotlib.pyplot as plt"
   ]
  },
  {
   "cell_type": "code",
   "execution_count": 17,
   "id": "33867fe6-7d49-403d-b6ee-9c3975a3bb3a",
   "metadata": {},
   "outputs": [],
   "source": [
    "stateMatrix = np.matrix(\"0.7 0.3; 0.5 0.5\")\n",
    "emissionMatrix = np.matrix(\"0.6 0.1 0.3; 0.1 0.7 0.2\")\n",
    "initialMatrix = np.matrix(\"1 0\")"
   ]
  },
  {
   "cell_type": "code",
   "execution_count": 34,
   "id": "cbfeee9a-f053-4711-99f7-ab55690ed42e",
   "metadata": {},
   "outputs": [],
   "source": [
    "random.seed(1)\n",
    "current_state = initialMatrix\n",
    "\n",
    "predicted = []\n",
    "\n",
    "for t in range(0, 100):\n",
    "    past_state = current_state\n",
    "    random_num = random.random()\n",
    "    \n",
    "    if past_state[0,0] == 1:\n",
    "        if random_num >= 0.3:\n",
    "            current_state = past_state\n",
    "        else:\n",
    "            current_state = np.matrix(\"0 1\")\n",
    "            \n",
    "    elif past_state[0,1] == 1:\n",
    "        if random_num >= 0.5:\n",
    "            current_state = past_state\n",
    "        else:\n",
    "            current_state = np.matrix(\"1 0\")\n",
    "    \n",
    "    random_num = random.random()\n",
    "    \n",
    "    if current_state[0,0] == 1:\n",
    "        if random_num < 0.6:\n",
    "            predicted.append(1)\n",
    "        elif random_num >= 0.6 and random_num < 0.7:\n",
    "            predicted.append(2)\n",
    "        elif random_num >= 0.7:\n",
    "            predicted.append(3)\n",
    "            \n",
    "    elif current_state[0,1] == 1:\n",
    "        if random_num < 0.1:\n",
    "            predicted.append(1)\n",
    "        elif random_num >= 0.1 and random_num < 0.8:\n",
    "            predicted.append(2)\n",
    "        elif random_num >= 0.8:\n",
    "            predicted.append(3)\n",
    "    "
   ]
  },
  {
   "cell_type": "code",
   "execution_count": 35,
   "id": "c794b60b-a449-4096-aa9d-c1f49934883f",
   "metadata": {},
   "outputs": [
    {
     "name": "stdout",
     "output_type": "stream",
     "text": [
      "[3, 2, 1, 3, 1, 2, 1, 3, 3, 1, 1, 1, 2, 1, 1, 2, 1, 1, 2, 2, 3, 1, 3, 1, 2, 1, 3, 1, 2, 2, 1, 2, 1, 3, 1, 1, 2, 2, 1, 3, 1, 1, 3, 1, 2, 1, 3, 2, 2, 2, 3, 1, 1, 1, 2, 1, 2, 1, 3, 3, 3, 1, 1, 1, 2, 1, 2, 1, 1, 1, 2, 1, 3, 2, 3, 1, 2, 3, 1, 3, 2, 2, 1, 2, 2, 3, 3, 3, 1, 1, 1, 3, 2, 3, 2, 1, 2, 1, 2, 1]\n"
     ]
    }
   ],
   "source": [
    "print(predicted)"
   ]
  },
  {
   "cell_type": "code",
   "execution_count": 37,
   "id": "a6b90815-7876-453e-b749-c14fa5aff64b",
   "metadata": {},
   "outputs": [
    {
     "data": {
      "text/plain": [
       "(array([45.,  0.,  0.,  0.,  0., 31.,  0.,  0.,  0., 24.]),\n",
       " array([1. , 1.2, 1.4, 1.6, 1.8, 2. , 2.2, 2.4, 2.6, 2.8, 3. ]),\n",
       " <BarContainer object of 10 artists>)"
      ]
     },
     "execution_count": 37,
     "metadata": {},
     "output_type": "execute_result"
    },
    {
     "data": {
      "image/png": "[encoded data removed]",
      "text/plain": [
       "<Figure size 432x288 with 1 Axes>"
      ]
     },
     "metadata": {
      "needs_background": "light"
     },
     "output_type": "display_data"
    }
   ],
   "source": [
    "plt.hist(predicted)"
   ]
  },
  {
   "cell_type": "markdown",
   "id": "73a4a062-1970-4442-960d-aa015be89979",
   "metadata": {},
   "source": [
    "\n",
    "##  \n",
    "## Questions:\n",
    "\n",
    "This is for discrete outputs, how would I change this for continuous?\n",
    "\n",
    "Do we want it in discrete/ continuous?\n",
    "\n",
    "This is completely hardcoded, how to I make it generalizable for an inputted HMM?\n",
    "\n"
   ]
  },
  {
   "cell_type": "code",
   "execution_count": null,
   "id": "7a748cf0-4757-4b3d-b49f-a1280b39dc7f",
   "metadata": {},
   "outputs": [],
   "source": []
  }
 ],
 "metadata": {
  "kernelspec": {
   "display_name": "Python 3",
   "language": "python",
   "name": "python3"
  },
  "language_info": {
   "codemirror_mode": {
    "name": "ipython",
    "version": 3
   },
   "file_extension": ".py",
   "mimetype": "text/x-python",
   "name": "python",
   "nbconvert_exporter": "python",
   "pygments_lexer": "ipython3",
   "version": "3.8.2"
  }
 },
 "nbformat": 4,
 "nbformat_minor": 5
}
